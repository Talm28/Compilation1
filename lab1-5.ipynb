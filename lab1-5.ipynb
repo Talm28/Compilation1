{
  "cells": [
    {
      "cell_type": "code",
      "execution_count": 1,
      "id": "13cc8345",
      "metadata": {
        "deletable": false,
        "editable": false,
        "tags": [],
        "id": "13cc8345",
        "outputId": "75e415fc-386d-4776-f3ab-d2ed4b4e35b8",
        "colab": {
          "base_uri": "https://localhost:8080/",
          "height": 0
        }
      },
      "outputs": [
        {
          "output_type": "stream",
          "name": "stdout",
          "text": [
            "     ━━━━━━━━━━━━━━━━━━━━━━━━━━━━━━━━━━━━━━━ 164.0/164.0 kB 4.7 MB/s eta 0:00:00\n",
            "     ━━━━━━━━━━━━━━━━━━━━━━━━━━━━━━━━━━━━━━ 474.6/474.6 kB 18.7 MB/s eta 0:00:00\n",
            "     ━━━━━━━━━━━━━━━━━━━━━━━━━━━━━━━━━━━━━━━━ 7.8/7.8 MB 83.9 MB/s eta 0:00:00\n",
            "     ━━━━━━━━━━━━━━━━━━━━━━━━━━━━━━━━━━━━━━ 232.6/232.6 kB 21.7 MB/s eta 0:00:00\n",
            "     ━━━━━━━━━━━━━━━━━━━━━━━━━━━━━━━━━━━━━━ 110.5/110.5 kB 11.2 MB/s eta 0:00:00\n",
            "     ━━━━━━━━━━━━━━━━━━━━━━━━━━━━━━━━━━━━━━ 147.5/147.5 kB 14.3 MB/s eta 0:00:00\n",
            "     ━━━━━━━━━━━━━━━━━━━━━━━━━━━━━━━━━━━━━━ 134.3/134.3 kB 13.2 MB/s eta 0:00:00\n",
            "     ━━━━━━━━━━━━━━━━━━━━━━━━━━━━━━━━━━━━━━━━ 1.0/1.0 MB 58.8 MB/s eta 0:00:00\n",
            "     ━━━━━━━━━━━━━━━━━━━━━━━━━━━━━━━━━━━━━━ 212.5/212.5 kB 22.1 MB/s eta 0:00:00\n",
            "     ━━━━━━━━━━━━━━━━━━━━━━━━━━━━━━━━━━━━━━ 224.5/224.5 kB 20.6 MB/s eta 0:00:00\n",
            "     ━━━━━━━━━━━━━━━━━━━━━━━━━━━━━━━━━━━━━━ 149.6/149.6 kB 12.9 MB/s eta 0:00:00\n",
            "     ━━━━━━━━━━━━━━━━━━━━━━━━━━━━━━━━━━━━━━ 268.8/268.8 kB 22.0 MB/s eta 0:00:00\n",
            "     ━━━━━━━━━━━━━━━━━━━━━━━━━━━━━━━━━━━━━━ 114.5/114.5 kB 10.9 MB/s eta 0:00:00\n",
            "     ━━━━━━━━━━━━━━━━━━━━━━━━━━━━━━━━━━━━━━━━ 1.6/1.6 MB 53.6 MB/s eta 0:00:00\n"
          ]
        }
      ],
      "source": [
        "# Please do not change this cell because some hidden tests might depend on it.\n",
        "import os\n",
        "\n",
        "# Otter grader does not handle ! commands well, so we define and use our\n",
        "# own function to execute shell commands.\n",
        "def shell(commands, warn=True):\n",
        "    \"\"\"Executes the string `commands` as a sequence of shell commands.\n",
        "     \n",
        "       Prints the result to stdout and returns the exit status. \n",
        "       Provides a printed warning on non-zero exit status unless `warn` \n",
        "       flag is unset.\n",
        "    \"\"\"\n",
        "    file = os.popen(commands)\n",
        "    print (file.read().rstrip('\\n'))\n",
        "    exit_status = file.close()\n",
        "    if warn and exit_status != None:\n",
        "        print(f\"Completed with errors. Exit status: {exit_status}\\n\")\n",
        "    return exit_status\n",
        "\n",
        "shell(\"\"\"\n",
        "ls requirements.txt >/dev/null 2>&1\n",
        "if [ ! $? = 0 ]; then\n",
        " rm -rf .tmp\n",
        " git clone https://github.com/cs236299-2023-spring/lab1-5.git .tmp\n",
        " mv .tmp/tests ./\n",
        " mv .tmp/requirements.txt ./\n",
        " rm -rf .tmp\n",
        "fi\n",
        "pip install -q -r requirements.txt\n",
        "\"\"\")"
      ]
    },
    {
      "cell_type": "code",
      "execution_count": 2,
      "id": "60feb290",
      "metadata": {
        "deletable": false,
        "editable": false,
        "id": "60feb290"
      },
      "outputs": [],
      "source": [
        "# Initialize Otter\n",
        "import otter\n",
        "grader = otter.Notebook()"
      ]
    },
    {
      "cell_type": "raw",
      "id": "242c48b7",
      "metadata": {
        "id": "242c48b7"
      },
      "source": [
        "%%latex\n",
        "\\newcommand{\\vect}[1]{\\mathbf{#1}}\n",
        "\\newcommand{\\cnt}[1]{\\sharp(#1)}\n",
        "\\newcommand{\\argmax}[1]{\\underset{#1}{\\operatorname{argmax}}}\n",
        "\\newcommand{\\softmax}{\\operatorname{softmax}}\n",
        "\\newcommand{\\Prob}{\\Pr}\n",
        "\\newcommand{\\given}{\\,|\\,}"
      ]
    },
    {
      "cell_type": "markdown",
      "id": "195e1ba3",
      "metadata": {
        "id": "195e1ba3"
      },
      "source": [
        "$$\n",
        "\\renewcommand{\\vect}[1]{\\mathbf{#1}}\n",
        "\\renewcommand{\\cnt}[1]{\\sharp(#1)}\n",
        "\\renewcommand{\\argmax}[1]{\\underset{#1}{\\operatorname{argmax}}}\n",
        "\\renewcommand{\\softmax}{\\operatorname{softmax}}\n",
        "\\renewcommand{\\Prob}{\\Pr}\n",
        "\\renewcommand{\\given}{\\,|\\,}\n",
        "$$"
      ]
    },
    {
      "cell_type": "markdown",
      "id": "e6362ab1",
      "metadata": {
        "tags": [
          "remove_for_latex"
        ],
        "id": "e6362ab1"
      },
      "source": [
        "# Course 236299\n",
        "## Lab 1-5 – Scaling up: Huggingface Datasets, Tokenizers, and PyTorch"
      ]
    },
    {
      "cell_type": "markdown",
      "id": "8048f316",
      "metadata": {
        "id": "8048f316"
      },
      "source": [
        "As you've seen, a typical pipeline for NLP applications based on supervised machine learning involves several standard components:\n",
        "\n",
        "1. Loading of annotated textual corpora.\n",
        "2. Tokenization and normalization of the text.\n",
        "3. Distributing instances into subcorpora, for instance, training, development, and test corpora.\n",
        "4. Training of models on training data, using development data for model selection.\n",
        "5. Evaluation of the models on test data.\n",
        "\n",
        "Rather than recapitulate all of these component tasks for each application, standard packages have been developed to facilitate them. In order to facilitate your own experimentation, it's time to make use of some of these packages to scale up your ability to build and test models. That is the subject of this lab.\n",
        "\n",
        "Huggingface's `datasets` and `tokenizers` libraries provide a uniform system for establishing dataset objects that contain multiple examples, each of which may have multiple features. These libraries provide functions to preprocess, tokenize, or postprocess the data. Dataset objects can be easily split into parts (training and test, for instance), or turned into a sequence of small batches for processing by models. Most importantly, as you will see in future labs, these data loading libraries can be easily integrated with Huggingface's `transformers` library which is widely used in NLP applications these days. \n",
        "\n",
        "This lab provides an introduction to using `datasets`, `tokenizers`, and PyTorch in preparation for its appearance in later labs and homework problem sets.\n",
        "\n",
        "After this lab, you should be able to\n",
        "\n",
        "* Read data loading code implemented using `datasets` and `tokenizers` and understand what it is intending to accomplish.\n",
        "* Run experiments training and testing simple feed-forward neural networks using PyTorch."
      ]
    },
    {
      "cell_type": "markdown",
      "id": "4677a315",
      "metadata": {
        "id": "4677a315"
      },
      "source": [
        "New bits of Python used for the first time in the *distribution version* of this lab include:\n",
        "\n",
        "* Datasets\n",
        "    * [`datasets.load_dataset`](https://huggingface.co/docs/datasets/loading)\n",
        "\n",
        "    * [`datasets.Dataset`](https://huggingface.co/docs/datasets/package_reference/main_classes#datasets.Dataset)\n",
        "    * `datasets.Dataset.shuffle`\n",
        "    * `datasets.Dataset.train_test_split`\n",
        "    * `datasets.Dataset.add_column`\n",
        "    * `datasets.Dataset.map`\n",
        "    * `datasets.Dataset.class_encode_column`\n",
        "    * `datasets.Dataset.align_labels_with_mapping`\n",
        "   \n",
        "* Tokenizers\n",
        "    * [`tokenizers.Tokenizer`](https://huggingface.co/docs/tokenizers/pipeline)\n",
        "    * `tokenizer.Tokenizer.encode`\n",
        "    * `tokenizer.Tokenizer.decode`\n",
        "    * `tokenizer.Tokenizer.get_vocab`\n",
        "    * `tokenizer.Tokenizer.train_from_iterator`\n",
        "    * `tokenizer.processors.TemplateProcessing`\n",
        "\n",
        "* Transformers\n",
        "    * `transformers.PreTrainedTokenizerFast`\n",
        "* Torch\n",
        "    * [`torch.utils.data.DataLoader`](https://pytorch.org/docs/stable/data.html)\n",
        "    * [`torch.nn.Module.eval`](https://pytorch.org/docs/stable/generated/torch.nn.Module.html#torch.nn.Module.eval)\n",
        "    * `torch.nn.Linear`\n",
        "    * `torch.nn.Sigmoid`\n",
        "    * `torch.distributions.normal.Normal`\n",
        "    * `torch.distributions.uniform.Uniform`\n",
        "\n",
        "\n",
        "* `tqdm.tqdm` (for generating progress bars)\n",
        "\n",
        "New bits of Python used for the first time in the *solution set* for this lab, and which you may therefore find useful:\n",
        "\n",
        "* [`torch.Tensor.backward`](https://pytorch.org/docs/stable/autograd.html#torch.Tensor.backward)\n",
        "* [`torch.optim.Optimizer.step`](https://pytorch.org/docs/stable/generated/torch.optim.Optimizer.step.html#torch.optim.Optimizer.step)"
      ]
    },
    {
      "cell_type": "markdown",
      "id": "1f62ceac",
      "metadata": {
        "id": "1f62ceac"
      },
      "source": [
        "# Preparation – Loading packages and data"
      ]
    },
    {
      "cell_type": "code",
      "execution_count": 4,
      "id": "de34aab5",
      "metadata": {
        "deletable": false,
        "editable": false,
        "id": "de34aab5"
      },
      "outputs": [],
      "source": [
        "import copy\n",
        "import math\n",
        "import random\n",
        "import matplotlib.pyplot as plt\n",
        "import os\n",
        "from copy import deepcopy\n",
        "import re\n",
        "import sys\n",
        "import warnings\n",
        "import wget\n",
        "import csv\n",
        "\n",
        "import torch\n",
        "import torch.distributions as ds\n",
        "import torch.nn as nn\n",
        "import torch.nn.functional as F\n",
        "import datasets\n",
        "\n",
        "from datasets import load_dataset\n",
        "from tokenizers import Tokenizer\n",
        "from tokenizers.pre_tokenizers import Whitespace\n",
        "from tokenizers.processors import TemplateProcessing\n",
        "from tokenizers import normalizers\n",
        "from tokenizers.models import WordLevel\n",
        "from tokenizers.trainers import WordLevelTrainer\n",
        "\n",
        "from transformers import PreTrainedTokenizerFast\n",
        "\n",
        "from torch import optim\n",
        "from tqdm import tqdm"
      ]
    },
    {
      "cell_type": "code",
      "execution_count": 5,
      "id": "fa47e1ed",
      "metadata": {
        "id": "fa47e1ed",
        "outputId": "72b84fbf-b3ce-4627-b49b-27b4bf8b4470",
        "colab": {
          "base_uri": "https://localhost:8080/",
          "height": 0
        }
      },
      "outputs": [
        {
          "output_type": "stream",
          "name": "stdout",
          "text": [
            "cpu\n"
          ]
        }
      ],
      "source": [
        "# Set up plotting\n",
        "plt.style.use('tableau-colorblind10')\n",
        "\n",
        "# Fix random seed for replicability\n",
        "random_seed = 1234\n",
        "random.seed(random_seed)\n",
        "torch.manual_seed(random_seed)\n",
        "\n",
        "## GPU check\n",
        "device = torch.device(\"cuda\" if torch.cuda.is_available() else \"cpu\")\n",
        "print(device)"
      ]
    },
    {
      "cell_type": "markdown",
      "id": "63f0f1e2",
      "metadata": {
        "tags": [],
        "id": "63f0f1e2"
      },
      "source": [
        "# Manipulating text corpora with `datasets`"
      ]
    },
    {
      "cell_type": "markdown",
      "id": "a20d1410",
      "metadata": {
        "id": "a20d1410"
      },
      "source": [
        "You'll use Huggingface's `datasets` to load the _Green Eggs and Ham_ (GEaH) dataset.\n",
        "\n",
        "We start with reading in the data and performing some ad hoc cleaning (removing comment lines and blank lines)."
      ]
    },
    {
      "cell_type": "code",
      "execution_count": 6,
      "id": "91819d92",
      "metadata": {
        "id": "91819d92"
      },
      "outputs": [],
      "source": [
        "def strip_file(text):\n",
        "    \"\"\"strip #comments and empty lines from `text` string\"\"\"\n",
        "    result = \"\"\n",
        "    for line in text.split(\"\\n\"):\n",
        "        line = line.strip()              # trim whitespace\n",
        "        line = re.sub('#.*$', '', line)  # trim comments\n",
        "        if line != '':                   # drop blank lines\n",
        "            result += line + '\\n'\n",
        "    return result\n",
        "\n",
        "# Read the GEaH data and write out a corresponding CSV file\n",
        "os.makedirs('data', exist_ok=True)\n",
        "wget.download(\"https://github.com/nlp-236299/data/raw/master/Seuss/seuss - 1960 - green eggs and ham.txt\", out=\"data/\")\n",
        "with open('data/seuss - 1960 - green eggs and ham.txt', 'r') as fin:\n",
        "    with open('data/geah.csv', 'w') as fout:\n",
        "        writer = csv.writer(fout)\n",
        "        writer.writerow(('label','text'))\n",
        "        text = strip_file(fin.read())\n",
        "        for line in text.strip().split('\\n'):\n",
        "            label, text = line.split('\\t')\n",
        "            writer.writerow((label, text))"
      ]
    },
    {
      "cell_type": "markdown",
      "id": "e82b0ff0",
      "metadata": {
        "id": "e82b0ff0"
      },
      "source": [
        "## Constructing training and test datasets\n",
        "\n",
        "Take a look at the file `geah.csv`, which we've just processed and placed into the sibling `data` folder. "
      ]
    },
    {
      "cell_type": "code",
      "execution_count": 7,
      "id": "8d318429",
      "metadata": {
        "id": "8d318429",
        "outputId": "1ccdfe13-2794-4bad-80d9-511324396a88",
        "colab": {
          "base_uri": "https://localhost:8080/",
          "height": 0
        }
      },
      "outputs": [
        {
          "output_type": "stream",
          "name": "stdout",
          "text": [
            "label,text\n",
            "SAM,I am Sam.\n",
            "SAM,I am Sam.\n",
            "SAM,Sam I am.\n",
            "GUY,That Sam-I-am!\n",
            "GUY,That Sam-I-am!\n",
            "GUY,I do not like that Sam-I-am!\n",
            "SAM,Do you like green eggs and ham?\n",
            "GUY,\"I do not like them, Sam-I-am.\"\n",
            "GUY,I do not like green eggs and ham.\n"
          ]
        }
      ],
      "source": [
        "shell('head \"data/geah.csv\"')"
      ]
    },
    {
      "cell_type": "markdown",
      "id": "2b3fb563",
      "metadata": {
        "id": "2b3fb563"
      },
      "source": [
        "Notice the structure of this corpus. Each line contains a sentence from the book, preceded by a label that provides the speaker of that sentence. The speaker and sentence are separated by a comma. The data is thus set up properly for using Huggingface's [`datasets.load_dataset`](https://huggingface.co/docs/datasets/loading) using its `\"CSV\"` (comma-separated values) format."
      ]
    },
    {
      "cell_type": "markdown",
      "id": "18ddd6f6",
      "metadata": {
        "deletable": false,
        "editable": false,
        "id": "18ddd6f6"
      },
      "source": [
        "Now, you can set up the dataset using [`load_dataset`](https://huggingface.co/docs/datasets/loading). It should look for the CSV data in the file `data/geah.csv`, and should pass the argument `split='all'` such that a `dataset.Dataset` object instead of `dataset.DatasetDict` is returned.\n",
        "\n",
        "<!--\n",
        "BEGIN QUESTION\n",
        "name: dataset_setup\n",
        "-->"
      ]
    },
    {
      "cell_type": "code",
      "execution_count": 8,
      "id": "ee130dae",
      "metadata": {
        "id": "ee130dae",
        "outputId": "7a082f1e-41be-47c9-d905-4099303180b4",
        "colab": {
          "base_uri": "https://localhost:8080/",
          "height": 136,
          "referenced_widgets": [
            "b975e7d90e4c49459080b9fc50858f31",
            "64ecaba09f774324b6e1ecdd306e33e2",
            "3e588736a9c9418b88ff0e8946cc506d",
            "d70b59d0846d41f1805704c7a2011942",
            "e1042bf8514e4fbba4885166b2afc638",
            "7113b4b2d1b741dc9f0c072732f399ae",
            "a114362130cd4ed7ab89272f5db48b7c",
            "46c6563686374a5f8d864ace3948703e",
            "463040ba56924d56bf78448e83cc8d3e",
            "7622ef66a4834d5c94637167692fbfcc",
            "c15acba05c24497cbb06a2e84f96cebb",
            "4d8633a884d5447484eb74a929de9b34",
            "0814383b343646699bb0abdc2cc6eaa5",
            "b301443e87084835bbf60840e593fff4",
            "b94fa7e075634aeaba3e49704588c9fc",
            "df69019a99f74f3d85e4196c3ecdeaa9",
            "c3e4ac2d796f472abcb0e8cf3aeb215b",
            "b64302279bbe4ad9ac8911ec3ce8c669",
            "8d2bcbbb76e14e96983431d47a0ba5d8",
            "047ca85f8b4b4aec95221335e36e9f94",
            "b578095631c44e458b8183cbbc250bf3",
            "ca9c1fe2155e40e883ece793fbf0cbca",
            "8ce37487097c412f9d0ae57047c49b51",
            "9660f9fbeded4ecf8937760889e6aa87",
            "6022beb3b9364e87a433a59a5f98b93d",
            "6db36778a9874e9a97a40d6bfd3749ff",
            "6b5bbe787db44991949e832c93a85c95",
            "af930445860a447fbb7349e04278c59d",
            "df9d9f2fd5f24f3ea0c4e30dcf517ced",
            "c6f085425be24266a43db4e5f4d3af3e",
            "aa58ccddaff846a892a6385a5fa5f564",
            "afe9a9817505400aa3e8cc482bb9f9e0",
            "3771e23bb0004524ae5f35240969777a"
          ]
        }
      },
      "outputs": [
        {
          "output_type": "stream",
          "name": "stdout",
          "text": [
            "Downloading and preparing dataset csv/default to /root/.cache/huggingface/datasets/csv/default-daadc93831568ab6/0.0.0/6954658bab30a358235fa864b05cf819af0e179325c740e4bc853bcc7ec513e1...\n"
          ]
        },
        {
          "output_type": "display_data",
          "data": {
            "text/plain": [
              "Downloading data files:   0%|          | 0/1 [00:00<?, ?it/s]"
            ],
            "application/vnd.jupyter.widget-view+json": {
              "version_major": 2,
              "version_minor": 0,
              "model_id": "b975e7d90e4c49459080b9fc50858f31"
            }
          },
          "metadata": {}
        },
        {
          "output_type": "display_data",
          "data": {
            "text/plain": [
              "Extracting data files:   0%|          | 0/1 [00:00<?, ?it/s]"
            ],
            "application/vnd.jupyter.widget-view+json": {
              "version_major": 2,
              "version_minor": 0,
              "model_id": "4d8633a884d5447484eb74a929de9b34"
            }
          },
          "metadata": {}
        },
        {
          "output_type": "display_data",
          "data": {
            "text/plain": [
              "Generating train split: 0 examples [00:00, ? examples/s]"
            ],
            "application/vnd.jupyter.widget-view+json": {
              "version_major": 2,
              "version_minor": 0,
              "model_id": "8ce37487097c412f9d0ae57047c49b51"
            }
          },
          "metadata": {}
        },
        {
          "output_type": "stream",
          "name": "stdout",
          "text": [
            "Dataset csv downloaded and prepared to /root/.cache/huggingface/datasets/csv/default-daadc93831568ab6/0.0.0/6954658bab30a358235fa864b05cf819af0e179325c740e4bc853bcc7ec513e1. Subsequent calls will reuse this data.\n"
          ]
        }
      ],
      "source": [
        "#TODO: Set up the dataset using `load_dataset`. You should pass\n",
        "# `split='all'` such that a dataset.Dataset object is returned.\n",
        "geah = load_dataset(\"csv\", data_files=\"data/geah.csv\", split='all')\n",
        "geah = geah.shuffle(seed=random_seed)"
      ]
    },
    {
      "cell_type": "code",
      "execution_count": 9,
      "id": "92b5c9fe",
      "metadata": {
        "deletable": false,
        "editable": false,
        "id": "92b5c9fe",
        "outputId": "49310acf-367c-4146-dd6f-4e7b58b54732",
        "colab": {
          "base_uri": "https://localhost:8080/",
          "height": 46
        }
      },
      "outputs": [
        {
          "output_type": "execute_result",
          "data": {
            "text/plain": [
              "\n",
              "    All tests passed!\n",
              "    "
            ],
            "text/html": [
              "\n",
              "    \n",
              "    \n",
              "        <p>All tests passed!</p>\n",
              "    \n",
              "    "
            ]
          },
          "metadata": {},
          "execution_count": 9
        }
      ],
      "source": [
        "grader.check(\"dataset_setup\")"
      ]
    },
    {
      "cell_type": "markdown",
      "id": "b29194d7",
      "metadata": {
        "id": "b29194d7"
      },
      "source": [
        "We can see that the loaded dataset has two features: label and text."
      ]
    },
    {
      "cell_type": "code",
      "execution_count": 10,
      "id": "53743000",
      "metadata": {
        "id": "53743000",
        "outputId": "366e790d-5a10-409b-d87f-ab78d6c75342",
        "colab": {
          "base_uri": "https://localhost:8080/",
          "height": 0
        }
      },
      "outputs": [
        {
          "output_type": "execute_result",
          "data": {
            "text/plain": [
              "Dataset({\n",
              "    features: ['label', 'text'],\n",
              "    num_rows: 139\n",
              "})"
            ]
          },
          "metadata": {},
          "execution_count": 10
        }
      ],
      "source": [
        "geah"
      ]
    },
    {
      "cell_type": "markdown",
      "id": "bef7beeb",
      "metadata": {
        "id": "bef7beeb"
      },
      "source": [
        "We can access examples from this dataset simply by indexing it similar to how we index a Python list."
      ]
    },
    {
      "cell_type": "code",
      "execution_count": 11,
      "id": "d86e540c",
      "metadata": {
        "id": "d86e540c",
        "outputId": "e87309f7-c96c-47e5-f4f1-9ee512d0ec98",
        "colab": {
          "base_uri": "https://localhost:8080/",
          "height": 0
        }
      },
      "outputs": [
        {
          "output_type": "execute_result",
          "data": {
            "text/plain": [
              "{'label': 'GUY', 'text': 'I do not like them here or there.'}"
            ]
          },
          "metadata": {},
          "execution_count": 11
        }
      ],
      "source": [
        "# The first example\n",
        "geah[0]"
      ]
    },
    {
      "cell_type": "code",
      "execution_count": 12,
      "id": "bb9406c9",
      "metadata": {
        "id": "bb9406c9",
        "outputId": "daf5248e-1e57-4748-c8b4-5a3fefbb151a",
        "colab": {
          "base_uri": "https://localhost:8080/",
          "height": 0
        }
      },
      "outputs": [
        {
          "output_type": "execute_result",
          "data": {
            "text/plain": [
              "{'label': ['GUY', 'SAM', 'GUY', 'GUY'],\n",
              " 'text': ['I do not like them with a fox.',\n",
              "  'Would you?',\n",
              "  'And I would eat them in a boat.',\n",
              "  'Not in a house.']}"
            ]
          },
          "metadata": {},
          "execution_count": 12
        }
      ],
      "source": [
        "# The second to the fifth examples\n",
        "geah[1:5]"
      ]
    },
    {
      "cell_type": "markdown",
      "id": "12ff8cbf",
      "metadata": {
        "deletable": false,
        "editable": false,
        "id": "12ff8cbf"
      },
      "source": [
        "All [`dataset.Dataset`](https://huggingface.co/docs/datasets/package_reference/main_classes#datasets.Dataset) objects have a [`train_test_split`](https://huggingface.co/docs/datasets/package_reference/main_classes#datasets.Dataset.train_test_split) method that splits the dataset into two pieces, for instance, to have a separate training and test set. Use the `train_test_split` method to generate a 70%/30% split of the GEaH corpus into two subsets called `train` and `test`. Note that you need to pass `seed=random_seed` to make sure the splitting to be determinstic and to pass the tests.\n",
        "<!--\n",
        "BEGIN QUESTION\n",
        "name: dataset_split\n",
        "-->"
      ]
    },
    {
      "cell_type": "code",
      "execution_count": 13,
      "id": "33390d65",
      "metadata": {
        "id": "33390d65"
      },
      "outputs": [],
      "source": [
        "#TODO: Split geah into 70% training data and 30% test data\n",
        "# Make sure to pass `seed=random_seed`.\n",
        "train_test = geah.train_test_split(test_size=0.3, train_size = 0.7, seed=random_seed)\n",
        "train = train_test['train']\n",
        "test = train_test['test']\n"
      ]
    },
    {
      "cell_type": "code",
      "execution_count": 14,
      "id": "b47ca8ac",
      "metadata": {
        "deletable": false,
        "editable": false,
        "id": "b47ca8ac",
        "outputId": "28822536-f75c-42c9-ee82-a6d2d265c676",
        "colab": {
          "base_uri": "https://localhost:8080/",
          "height": 46
        }
      },
      "outputs": [
        {
          "output_type": "execute_result",
          "data": {
            "text/plain": [
              "\n",
              "    All tests passed!\n",
              "    "
            ],
            "text/html": [
              "\n",
              "    \n",
              "    \n",
              "        <p>All tests passed!</p>\n",
              "    \n",
              "    "
            ]
          },
          "metadata": {},
          "execution_count": 14
        }
      ],
      "source": [
        "grader.check(\"dataset_split\")"
      ]
    },
    {
      "cell_type": "markdown",
      "id": "1ad7c5fb",
      "metadata": {
        "id": "1ad7c5fb"
      },
      "source": [
        "For the label feature, we can convert it to integer label ids to facilitate processing it with models such as neural networks using [`datasets.Dataset.class_encode_column`](https://huggingface.co/docs/datasets/v2.12.0/en/package_reference/main_classes#datasets.Dataset.class_encode_column)."
      ]
    },
    {
      "cell_type": "code",
      "execution_count": 15,
      "id": "1bed0860",
      "metadata": {
        "id": "1bed0860",
        "outputId": "e46d1f70-8f42-4ea8-f196-2ff0bf987c49",
        "colab": {
          "base_uri": "https://localhost:8080/",
          "height": 17,
          "referenced_widgets": [
            "da2acd6586d84533be681f7d72b1423a",
            "e37e876b90d2419682563a78172a348b",
            "7a1dd9993f6849ef8fe6c54caa313e20",
            "bb4b86c28b46467ab59230f50169fc3a",
            "ce9616cc5ed54c8ba02ec8e73aef7236",
            "35264510304b4218bad88472899b7dfb",
            "3e578df2df534293957f48859621cb9e",
            "463ea099601245f48b2303925787191d",
            "95393e8e44a844958eea77027629ca5b",
            "2dd24121157a43088df685eb6647c9eb",
            "d9a43aadd2b94ad599d0d19da33697df",
            "36b3681722d740349a11317d85d78a5a",
            "8716550ae74841b786135fae8b80f071",
            "8151b6034bbd4304869ade0d18d20de5",
            "c856049c38284115a27a155a85a98418",
            "b858971f0549442a9cb4f62e997d170e",
            "601114d1bd7a498a9946c6b3a0ab19eb",
            "8e6ae1ff61a8406b9fbe2c15359f8548",
            "c602b10e9b6a47beabbf324e0e313fcf",
            "c07f7a86d649401c89335d7c3aa55813",
            "38064f7dcef34deb94d910969a9a15c8",
            "67ab14cdacd94c36b80b07c9848959f7",
            "cac01839ee194ca299ecc0123c4fd873",
            "00781d077b33451c9d189756c113d363",
            "75611b8c2d6741f2ada07bdb826be4ba",
            "ecc12077db284be78d1efe39783a3586",
            "05b6b209ca5848f882e0599dafffee71",
            "f9fd9551df524fa7984213ee8f022e39",
            "525a410c7e8d473c92e67b3999742d4e",
            "613e822426b8446c8992dc4d6a2ce03a",
            "3e9daac5f0af4bc3a629719568753dfa",
            "e30c840777e44207919431101081dfc2",
            "e50b033200064df7ad5c765135174ffb",
            "93ad5340d0a0456cb148d3c65ea6133a",
            "71886017dc2e46f887cfc81075e3e97f",
            "26c0c89043ac4e6f87c14549d6c41c51",
            "eeeefc70b01a496e8853bb9d1bead9bd",
            "5c7455a89fb74cd6a8ffdd65e80920aa",
            "f25a47fa65e94d33a6ea789c87dc8066",
            "aa421ae90f614ae39f13ef7ac95bc42f",
            "5e981a65d83841f4b748622f66ec7a13",
            "8062bf3b3e1b4d39ba23d08d56683813",
            "3cbe6f68c2334426946a7a15d1c4d545",
            "a75e9494ecd448b589eabcce20588c64",
            "86413653e8f84f3590298bdbf42c9111",
            "3c5463d8ccb14a5d9bbb211a5d22105d",
            "90f5c0041fe04440bcea6376afd9b4e5",
            "ab350d40e7bb4cfd8bbde1fd1f0db895",
            "51da6b4ca4a64cee9e84e269b2419d43",
            "4e0ce85c18c345b58259d39aebcbb93e",
            "3f298ff545c84be9ae9bbffad53d2836",
            "330ed16640ba4b289e2e15b4536da1d1",
            "48e7056ff6964230bdf638f4bccaf38c",
            "0ab0f2f26a9645899e1d58ea613a2cc8",
            "2be2302f0d724acd943881ac65d51582"
          ]
        }
      },
      "outputs": [
        {
          "output_type": "display_data",
          "data": {
            "text/plain": [
              "Flattening the indices:   0%|          | 0/97 [00:00<?, ? examples/s]"
            ],
            "application/vnd.jupyter.widget-view+json": {
              "version_major": 2,
              "version_minor": 0,
              "model_id": "da2acd6586d84533be681f7d72b1423a"
            }
          },
          "metadata": {}
        },
        {
          "output_type": "display_data",
          "data": {
            "text/plain": [
              "Flattening the indices:   0%|          | 0/42 [00:00<?, ? examples/s]"
            ],
            "application/vnd.jupyter.widget-view+json": {
              "version_major": 2,
              "version_minor": 0,
              "model_id": "36b3681722d740349a11317d85d78a5a"
            }
          },
          "metadata": {}
        },
        {
          "output_type": "display_data",
          "data": {
            "text/plain": [
              "Casting to class labels:   0%|          | 0/97 [00:00<?, ? examples/s]"
            ],
            "application/vnd.jupyter.widget-view+json": {
              "version_major": 2,
              "version_minor": 0,
              "model_id": "cac01839ee194ca299ecc0123c4fd873"
            }
          },
          "metadata": {}
        },
        {
          "output_type": "display_data",
          "data": {
            "text/plain": [
              "Casting to class labels:   0%|          | 0/42 [00:00<?, ? examples/s]"
            ],
            "application/vnd.jupyter.widget-view+json": {
              "version_major": 2,
              "version_minor": 0,
              "model_id": "93ad5340d0a0456cb148d3c65ea6133a"
            }
          },
          "metadata": {}
        },
        {
          "output_type": "display_data",
          "data": {
            "text/plain": [
              "Aligning the labels:   0%|          | 0/42 [00:00<?, ? examples/s]"
            ],
            "application/vnd.jupyter.widget-view+json": {
              "version_major": 2,
              "version_minor": 0,
              "model_id": "86413653e8f84f3590298bdbf42c9111"
            }
          },
          "metadata": {}
        }
      ],
      "source": [
        "train = train.add_column('label_id', train['label'])\n",
        "test = test.add_column('label_id', test['label'])\n",
        "train = train.class_encode_column('label_id')\n",
        "\n",
        "label2id = train.features['label_id']._str2int\n",
        "test = test.class_encode_column('label_id')\n",
        "test = test.align_labels_with_mapping(label2id, \"label_id\")"
      ]
    },
    {
      "cell_type": "markdown",
      "id": "92caf06c",
      "metadata": {
        "id": "92caf06c"
      },
      "source": [
        "The new feature `label_id` stores the label ids."
      ]
    },
    {
      "cell_type": "code",
      "execution_count": 16,
      "id": "8187ed5f",
      "metadata": {
        "id": "8187ed5f",
        "outputId": "f7162095-afe1-42ab-8078-cced6a8299bc",
        "colab": {
          "base_uri": "https://localhost:8080/",
          "height": 0
        }
      },
      "outputs": [
        {
          "output_type": "execute_result",
          "data": {
            "text/plain": [
              "{'label': ['GUY', 'GUY', 'GUY', 'GUY'],\n",
              " 'text': ['Say!',\n",
              "  'Not in a tree!',\n",
              "  'You will see.',\n",
              "  'I would not eat them anywhere.'],\n",
              " 'label_id': [0, 0, 0, 0]}"
            ]
          },
          "metadata": {},
          "execution_count": 16
        }
      ],
      "source": [
        "train[1:5]"
      ]
    },
    {
      "cell_type": "markdown",
      "id": "7bb9ee9f",
      "metadata": {
        "id": "7bb9ee9f"
      },
      "source": [
        "Now let's turn our attention to text features. As we have explored in lab 1-1, text is usually represented as a sequence of integer word ids. In Huggingface datasets, we need to create a tokenizer which both specifies how to tokenize text into a sequence of tokens and also internally maintains a _vocabulary_ which establishes the mapping from types to indices. We will use the training corpus to establish the vocabulary."
      ]
    },
    {
      "cell_type": "code",
      "execution_count": 17,
      "id": "8fb4343e",
      "metadata": {
        "id": "8fb4343e"
      },
      "outputs": [],
      "source": [
        "unk_token = '[UNK]' # unknown token\n",
        "pad_token = '[PAD]' # padding token\n",
        "# Instantiate a tokenizer\n",
        "tokenizer = Tokenizer(WordLevel(unk_token=unk_token))  # WordLevel is a simplest tokenization model that doesn't split the words\n",
        "tokenizer.pre_tokenizer = Whitespace()  # pre-tokenizer splits the text into words    \n",
        "tokenizer.normalizer = normalizers.Lowercase() # normalizer lowercases the text\n",
        "\n",
        "# Build the vocabulary from training data\n",
        "trainer = WordLevelTrainer(special_tokens=[pad_token, unk_token]) # trainer is responsible for building the vocabulary\n",
        "tokenizer.train_from_iterator(train['text'], trainer=trainer)"
      ]
    },
    {
      "cell_type": "markdown",
      "id": "78d5cc55",
      "metadata": {
        "id": "78d5cc55"
      },
      "source": [
        "Let's try out the tokenizer on some examples."
      ]
    },
    {
      "cell_type": "code",
      "execution_count": 18,
      "id": "abd4e420",
      "metadata": {
        "id": "abd4e420",
        "outputId": "5fd39238-e648-443b-c8c7-0e605e78d4d3",
        "colab": {
          "base_uri": "https://localhost:8080/",
          "height": 0
        }
      },
      "outputs": [
        {
          "output_type": "stream",
          "name": "stdout",
          "text": [
            "tokens: ['i', 'am', 'sam', '.']\n",
            "word ids: [4, 21, 17, 3]\n",
            "converted back: i am sam .\n"
          ]
        }
      ],
      "source": [
        "encoded = tokenizer.encode('I am Sam.')\n",
        "print (f'tokens: {encoded.tokens}')\n",
        "print (f'word ids: {encoded.ids}')\n",
        "print (f'converted back: {tokenizer.decode(encoded.ids, skip_special_tokens=False)}')"
      ]
    },
    {
      "cell_type": "code",
      "execution_count": 19,
      "id": "00f71cdf",
      "metadata": {
        "id": "00f71cdf",
        "outputId": "88733870-f697-423d-fc25-fcee5d451242",
        "colab": {
          "base_uri": "https://localhost:8080/",
          "height": 0
        }
      },
      "outputs": [
        {
          "output_type": "stream",
          "name": "stdout",
          "text": [
            "tokens: ['[UNK]', '[UNK]', 'with', '[UNK]', '[UNK]', '[UNK]', '.']\n",
            "word ids: [1, 1, 19, 1, 1, 1, 3]\n",
            "converted back: [UNK] [UNK] with [UNK] [UNK] [UNK] .\n"
          ]
        }
      ],
      "source": [
        "encoded = tokenizer.encode('An example with many unknown tokens.')\n",
        "print (f'tokens: {encoded.tokens}')\n",
        "print (f'word ids: {encoded.ids}')\n",
        "print (f'converted back: {tokenizer.decode(encoded.ids, skip_special_tokens=False)}')"
      ]
    },
    {
      "cell_type": "markdown",
      "id": "108b41ab",
      "metadata": {
        "id": "108b41ab"
      },
      "source": [
        "In future labs we will also use `tokenizer.post_processor` which can be used to post-process the tokenized text. In the following example we will add exclamation points `!` in the beginning and end of the tokenized text using [TemplateProcessing](https://huggingface.co/docs/tokenizers/v0.13.3/en/api/post-processors#tokenizers.processors.TemplateProcessing)."
      ]
    },
    {
      "cell_type": "code",
      "execution_count": 20,
      "id": "9a31e09e",
      "metadata": {
        "id": "9a31e09e",
        "outputId": "396d71a8-f610-45ba-fb2f-c778f9c14cd9",
        "colab": {
          "base_uri": "https://localhost:8080/",
          "height": 0
        }
      },
      "outputs": [
        {
          "output_type": "stream",
          "name": "stdout",
          "text": [
            "tokens: ['!', 'i', 'am', 'sam', '.', '!']\n",
            "word ids: [10, 4, 21, 17, 3, 10]\n",
            "converted back: ! i am sam . !\n"
          ]
        }
      ],
      "source": [
        "exclamation_point = '!'\n",
        "post_procssing_tokenizer = deepcopy(tokenizer) # we clone the tokenizer for this example\n",
        "post_procssing_tokenizer.post_processor = TemplateProcessing(single=f\"{exclamation_point} $A {exclamation_point}\", \n",
        "                                                             special_tokens=[(exclamation_point, post_procssing_tokenizer.token_to_id(exclamation_point))])\n",
        "\n",
        "encoded = post_procssing_tokenizer.encode('I am Sam.')\n",
        "print (f'tokens: {encoded.tokens}')\n",
        "print (f'word ids: {encoded.ids}')\n",
        "print (f'converted back: {post_procssing_tokenizer.decode(encoded.ids, skip_special_tokens=False)}')"
      ]
    },
    {
      "cell_type": "markdown",
      "id": "78dd6550",
      "metadata": {
        "id": "78dd6550"
      },
      "source": [
        "With a tokenizer, we can convert text strings into integer word ids using `datasets.Dataset.map`. But first we need to wrap `tokenizer` with the [`transformers.PreTrainedTokenizerFast`](https://huggingface.co/docs/transformers/v4.26.1/en/main_classes/tokenizer#transformers.PreTrainedTokenizerFast) class. `transformers.PreTrainedTokenizerFast` provide a convenient interface for tokenizers that are compatible with __PyTorch tensors__."
      ]
    },
    {
      "cell_type": "code",
      "execution_count": 21,
      "id": "25529119",
      "metadata": {
        "id": "25529119"
      },
      "outputs": [],
      "source": [
        "hf_tokenizer = PreTrainedTokenizerFast(tokenizer_object=tokenizer, pad_token=pad_token, unk_token=unk_token)"
      ]
    },
    {
      "cell_type": "markdown",
      "id": "9d954fbc",
      "metadata": {
        "id": "9d954fbc"
      },
      "source": [
        "This `hf_tokenizer` takes in a text string and converts it to a sequence of word ids stored in `input_ids` of the returned dictionary. (You can ignore `token_type_ids` and `attention_mask` for now.)"
      ]
    },
    {
      "cell_type": "code",
      "execution_count": 22,
      "id": "6d004d0e",
      "metadata": {
        "id": "6d004d0e",
        "outputId": "60cb6df3-e5dc-4713-9b39-f9ad52f51ef2",
        "colab": {
          "base_uri": "https://localhost:8080/",
          "height": 0
        }
      },
      "outputs": [
        {
          "output_type": "execute_result",
          "data": {
            "text/plain": [
              "{'input_ids': [4, 21, 17, 3], 'token_type_ids': [0, 0, 0, 0], 'attention_mask': [1, 1, 1, 1]}"
            ]
          },
          "metadata": {},
          "execution_count": 22
        }
      ],
      "source": [
        "text = 'I am Sam.'\n",
        "hf_tokenizer(text)"
      ]
    },
    {
      "cell_type": "markdown",
      "id": "6874791f",
      "metadata": {
        "id": "6874791f"
      },
      "source": [
        "We can use the `hf_tokenizer` to get a list of tokens."
      ]
    },
    {
      "cell_type": "code",
      "execution_count": 23,
      "id": "a9db9f59",
      "metadata": {
        "id": "a9db9f59",
        "outputId": "4ab8a22b-8e24-4d3e-c08e-fd92a5742eab",
        "colab": {
          "base_uri": "https://localhost:8080/",
          "height": 0
        }
      },
      "outputs": [
        {
          "output_type": "execute_result",
          "data": {
            "text/plain": [
              "['i', 'am', 'sam', '.']"
            ]
          },
          "metadata": {},
          "execution_count": 23
        }
      ],
      "source": [
        "text = 'I am Sam.'\n",
        "hf_tokenizer.tokenize(text)"
      ]
    },
    {
      "cell_type": "markdown",
      "id": "763f2e91",
      "metadata": {
        "id": "763f2e91"
      },
      "source": [
        "`hf_tokenizer` can also be used to decode the encoded text."
      ]
    },
    {
      "cell_type": "code",
      "execution_count": 24,
      "id": "43c4e7ef",
      "metadata": {
        "id": "43c4e7ef",
        "outputId": "3aec5ee3-da76-4e1c-e41d-d06665abc126",
        "colab": {
          "base_uri": "https://localhost:8080/",
          "height": 0
        }
      },
      "outputs": [
        {
          "output_type": "stream",
          "name": "stdout",
          "text": [
            "text: I am Sam.\n",
            "encoded_text: [4, 21, 17, 3]\n",
            "decoded_text: i am sam.\n",
            "decoded_token list: ['i', 'am', 'sam', '.']\n"
          ]
        }
      ],
      "source": [
        "text = 'I am Sam.'\n",
        "encoded_text = hf_tokenizer(text).input_ids\n",
        "decoded_text = hf_tokenizer.decode(encoded_text)\n",
        "decoded_tokens = hf_tokenizer.convert_ids_to_tokens(encoded_text)\n",
        "print(f\"text: {text}\")\n",
        "print(f\"encoded_text: {encoded_text}\")\n",
        "print(f\"decoded_text: {decoded_text}\")\n",
        "print(f\"decoded_token list: {decoded_tokens}\")"
      ]
    },
    {
      "cell_type": "markdown",
      "id": "d35b003d",
      "metadata": {
        "id": "d35b003d"
      },
      "source": [
        "Note that `hf_tokenizer` also stores the vocabulary and the special tokens we provide it in the initialization."
      ]
    },
    {
      "cell_type": "code",
      "execution_count": 25,
      "id": "06c7776d",
      "metadata": {
        "id": "06c7776d",
        "outputId": "3ababbca-da1c-489f-dddc-bcb9fd7dc99b",
        "colab": {
          "base_uri": "https://localhost:8080/",
          "height": 0
        }
      },
      "outputs": [
        {
          "output_type": "stream",
          "name": "stdout",
          "text": [
            "hf_tokenizer.unk_token: [UNK]\n",
            "hf_tokenizer.unk_token_id: 1\n",
            "hf_tokenizer.pad_token: [PAD]\n",
            "hf_tokenizer.pad_token_id: 0\n",
            "hf_tokenizer.get_vocab():\n",
            " {'house': 38, 'them': 6, 'with': 19, 'so': 34, 'good': 48, 'eat': 16, 'the': 26, 'see': 46, 'goat': 44, 'like': 8, '[UNK]': 1, 'there': 32, 'mouse': 28, 'box': 36, 'sam': 17, 'rain': 39, '?': 20, 'you': 12, 'say': 40, 'in': 9, 'could': 22, 'tree': 41, '...': 53, 'boat': 42, 'try': 52, 'here': 27, 'dark': 37, 'do': 11, 'on': 29, 'and': 13, 'or': 33, 'car': 31, 'train': 30, 'may': 45, 'me': 56, 'would': 14, 'green': 24, ',': 7, 'fox': 43, '-': 15, 'thank': 49, 'let': 55, 'am': 21, 'be': 54, '!': 10, 'are': 47, 'a': 5, 'they': 51, '[PAD]': 0, 'not': 2, 'anywhere': 35, 'that': 50, 'i': 4, 'will': 18, 'eggs': 23, '.': 3, 'ham': 25}\n",
            "len(hf_tokenizer) == len(hf_tokenizer.get_vocab()): 57\n"
          ]
        }
      ],
      "source": [
        "print(f\"hf_tokenizer.unk_token: {hf_tokenizer.unk_token}\")\n",
        "print(f\"hf_tokenizer.unk_token_id: {hf_tokenizer.unk_token_id}\")\n",
        "print(f\"hf_tokenizer.pad_token: {hf_tokenizer.pad_token}\")\n",
        "print(f\"hf_tokenizer.pad_token_id: {hf_tokenizer.pad_token_id}\")\n",
        "print(f\"hf_tokenizer.get_vocab():\\n {hf_tokenizer.get_vocab()}\")\n",
        "print(f\"len(hf_tokenizer) == len(hf_tokenizer.get_vocab()): {len(hf_tokenizer)}\")\n"
      ]
    },
    {
      "cell_type": "markdown",
      "id": "51166ff6",
      "metadata": {
        "id": "51166ff6"
      },
      "source": [
        "Now we can convert text into word ids using [`datasets.Dataset.map`](https://huggingface.co/docs/datasets/v2.12.0/en/package_reference/main_classes#datasets.Dataset.map)."
      ]
    },
    {
      "cell_type": "code",
      "execution_count": 26,
      "id": "19c3ec1d",
      "metadata": {
        "id": "19c3ec1d",
        "outputId": "015c1fd7-002a-4bde-8f94-40631157aee9",
        "colab": {
          "base_uri": "https://localhost:8080/",
          "height": 17,
          "referenced_widgets": [
            "dbefc60bb11e43d995c768be5ae66da8",
            "cf7df5fb88b545a0bfd0dbe41e60142d",
            "a11bef8e41e54351b8775666a86b9f3d",
            "017e27b44063489b93476474fccb09d1",
            "a1a1252b2bee4273bb841607a8f952d7",
            "285a7ecfd70f4ad1a936a24ad9a0abc5",
            "eab519f4063145f59e03818b6c027959",
            "9def529f19e34a059464bfe4826751a4",
            "c06f0ce4f3674698aa8fe4819513c1f6",
            "34e3d8a4487b4b2985fb507d9ed4ea9d",
            "19145143b34f41f9835feadff4ec6833",
            "102a5e69072543e3a67e7d59688b8ed9",
            "624c6807a7254cffb35f0cb97bfd95e6",
            "aae1a06de1c043eea10f7075d1e5beef",
            "8fca64168689496788505dfe6a48f14b",
            "70dc8e97c15a4d8cb7b5a645cdd2db77",
            "558f704091f34ba2a426fb30f832386f",
            "4d640f9d6c494e1c9e120c4b29647fe7",
            "3174430c43364d8b989009df4007128c",
            "8ef8b808ca6641169128ad3c002f50f8",
            "39f4d0b8a787449880f2966c2193a0e5",
            "531bae6bfa8445b49e5fe649231fb25f"
          ]
        }
      },
      "outputs": [
        {
          "output_type": "display_data",
          "data": {
            "text/plain": [
              "Map:   0%|          | 0/97 [00:00<?, ? examples/s]"
            ],
            "application/vnd.jupyter.widget-view+json": {
              "version_major": 2,
              "version_minor": 0,
              "model_id": "dbefc60bb11e43d995c768be5ae66da8"
            }
          },
          "metadata": {}
        },
        {
          "output_type": "display_data",
          "data": {
            "text/plain": [
              "Map:   0%|          | 0/42 [00:00<?, ? examples/s]"
            ],
            "application/vnd.jupyter.widget-view+json": {
              "version_major": 2,
              "version_minor": 0,
              "model_id": "102a5e69072543e3a67e7d59688b8ed9"
            }
          },
          "metadata": {}
        }
      ],
      "source": [
        "def encode(example):\n",
        "    return hf_tokenizer(example['text'])\n",
        "\n",
        "train = train.map(encode)\n",
        "test = test.map(encode)"
      ]
    },
    {
      "cell_type": "markdown",
      "id": "449e8ba7",
      "metadata": {
        "id": "449e8ba7"
      },
      "source": [
        "Let's take a look at one example from the mapped dataset. The new feature `input_ids` contain the word ids."
      ]
    },
    {
      "cell_type": "code",
      "execution_count": 27,
      "id": "98634aa9",
      "metadata": {
        "id": "98634aa9",
        "outputId": "7ff42b09-5934-4e25-9d69-41bc253a5008",
        "colab": {
          "base_uri": "https://localhost:8080/",
          "height": 0
        }
      },
      "outputs": [
        {
          "output_type": "execute_result",
          "data": {
            "text/plain": [
              "{'label': 'GUY',\n",
              " 'text': 'I will not eat them anywhere.',\n",
              " 'label_id': 0,\n",
              " 'input_ids': [4, 18, 2, 16, 6, 35, 3],\n",
              " 'token_type_ids': [0, 0, 0, 0, 0, 0, 0],\n",
              " 'attention_mask': [1, 1, 1, 1, 1, 1, 1]}"
            ]
          },
          "metadata": {},
          "execution_count": 27
        }
      ],
      "source": [
        "train[0]"
      ]
    },
    {
      "cell_type": "markdown",
      "id": "421c5674",
      "metadata": {
        "id": "421c5674"
      },
      "source": [
        "Again, we can view several examples at once."
      ]
    },
    {
      "cell_type": "code",
      "execution_count": 28,
      "id": "7e8032a5",
      "metadata": {
        "id": "7e8032a5",
        "outputId": "7daa08ca-afc5-4010-9028-dd0b0ebe2734",
        "colab": {
          "base_uri": "https://localhost:8080/",
          "height": 0
        }
      },
      "outputs": [
        {
          "output_type": "execute_result",
          "data": {
            "text/plain": [
              "{'label': ['GUY', 'GUY', 'GUY', 'GUY'],\n",
              " 'text': ['Say!',\n",
              "  'Not in a tree!',\n",
              "  'You will see.',\n",
              "  'I would not eat them anywhere.'],\n",
              " 'label_id': [0, 0, 0, 0],\n",
              " 'input_ids': [[40, 10],\n",
              "  [2, 9, 5, 41, 10],\n",
              "  [12, 18, 46, 3],\n",
              "  [4, 14, 2, 16, 6, 35, 3]],\n",
              " 'token_type_ids': [[0, 0],\n",
              "  [0, 0, 0, 0, 0],\n",
              "  [0, 0, 0, 0],\n",
              "  [0, 0, 0, 0, 0, 0, 0]],\n",
              " 'attention_mask': [[1, 1],\n",
              "  [1, 1, 1, 1, 1],\n",
              "  [1, 1, 1, 1],\n",
              "  [1, 1, 1, 1, 1, 1, 1]]}"
            ]
          },
          "metadata": {},
          "execution_count": 28
        }
      ],
      "source": [
        "train[1:5]"
      ]
    },
    {
      "cell_type": "markdown",
      "id": "547c11e8",
      "metadata": {
        "id": "547c11e8"
      },
      "source": [
        "The text and label features now have vocabularies that maps the elements of the vocabulary to integer index representations of the elements, accessible via the below code."
      ]
    },
    {
      "cell_type": "code",
      "execution_count": 29,
      "id": "d03608d1",
      "metadata": {
        "id": "d03608d1"
      },
      "outputs": [],
      "source": [
        "text_vocab = tokenizer.get_vocab()\n",
        "label_vocab = train.features['label_id']._str2int"
      ]
    },
    {
      "cell_type": "code",
      "execution_count": 30,
      "id": "026ce8f9",
      "metadata": {
        "id": "026ce8f9",
        "outputId": "10a0d065-400a-4768-8d0c-39456ce2f1bb",
        "colab": {
          "base_uri": "https://localhost:8080/",
          "height": 0
        }
      },
      "outputs": [
        {
          "output_type": "execute_result",
          "data": {
            "text/plain": [
              "{'GUY': 0, 'SAM': 1}"
            ]
          },
          "metadata": {},
          "execution_count": 30
        }
      ],
      "source": [
        "label_vocab"
      ]
    },
    {
      "cell_type": "code",
      "execution_count": 31,
      "id": "b29d0360",
      "metadata": {
        "id": "b29d0360",
        "outputId": "e3c3f5e8-0bbb-4657-e780-6b6412583558",
        "colab": {
          "base_uri": "https://localhost:8080/",
          "height": 0
        }
      },
      "outputs": [
        {
          "output_type": "execute_result",
          "data": {
            "text/plain": [
              "{'eat': 16,\n",
              " 'fox': 43,\n",
              " 'mouse': 28,\n",
              " 'with': 19,\n",
              " 'car': 31,\n",
              " 'rain': 39,\n",
              " 'dark': 37,\n",
              " 'the': 26,\n",
              " 'let': 55,\n",
              " 'be': 54,\n",
              " 'thank': 49,\n",
              " 'so': 34,\n",
              " 'try': 52,\n",
              " 'on': 29,\n",
              " 'would': 14,\n",
              " 'will': 18,\n",
              " 'box': 36,\n",
              " 'do': 11,\n",
              " 'are': 47,\n",
              " 'sam': 17,\n",
              " '...': 53,\n",
              " 'could': 22,\n",
              " 'you': 12,\n",
              " 'say': 40,\n",
              " 'i': 4,\n",
              " 'there': 32,\n",
              " 'ham': 25,\n",
              " 'anywhere': 35,\n",
              " '?': 20,\n",
              " '-': 15,\n",
              " 'me': 56,\n",
              " 'green': 24,\n",
              " 'good': 48,\n",
              " 'they': 51,\n",
              " 'eggs': 23,\n",
              " 'in': 9,\n",
              " 'not': 2,\n",
              " 'like': 8,\n",
              " '!': 10,\n",
              " 'and': 13,\n",
              " 'them': 6,\n",
              " ',': 7,\n",
              " '[UNK]': 1,\n",
              " 'or': 33,\n",
              " 'goat': 44,\n",
              " 'a': 5,\n",
              " 'may': 45,\n",
              " 'am': 21,\n",
              " 'tree': 41,\n",
              " 'house': 38,\n",
              " 'see': 46,\n",
              " 'that': 50,\n",
              " 'train': 30,\n",
              " 'here': 27,\n",
              " '.': 3,\n",
              " 'boat': 42,\n",
              " '[PAD]': 0}"
            ]
          },
          "metadata": {},
          "execution_count": 31
        }
      ],
      "source": [
        "text_vocab"
      ]
    },
    {
      "cell_type": "markdown",
      "id": "484832bc",
      "metadata": {
        "deletable": false,
        "editable": false,
        "id": "484832bc"
      },
      "source": [
        "How many elements are there in these vocabularies? You can use the `len` function to find out.\n",
        "<!--\n",
        "BEGIN QUESTION\n",
        "name: vocab_sizes\n",
        "-->"
      ]
    },
    {
      "cell_type": "code",
      "execution_count": 32,
      "id": "9684cdcf",
      "metadata": {
        "id": "9684cdcf"
      },
      "outputs": [],
      "source": [
        "#TODO: Calculate the sizes of label_vocab and text_vocab\n",
        "label_vocab_size = len(label_vocab)\n",
        "text_vocab_size = len(text_vocab)"
      ]
    },
    {
      "cell_type": "code",
      "execution_count": 33,
      "id": "1d984d76",
      "metadata": {
        "deletable": false,
        "editable": false,
        "id": "1d984d76",
        "outputId": "4ce0eeda-c47f-4a7b-e7a8-401da7351332",
        "colab": {
          "base_uri": "https://localhost:8080/",
          "height": 46
        }
      },
      "outputs": [
        {
          "output_type": "execute_result",
          "data": {
            "text/plain": [
              "\n",
              "    All tests passed!\n",
              "    "
            ],
            "text/html": [
              "\n",
              "    \n",
              "    \n",
              "        <p>All tests passed!</p>\n",
              "    \n",
              "    "
            ]
          },
          "metadata": {},
          "execution_count": 33
        }
      ],
      "source": [
        "grader.check(\"vocab_sizes\")"
      ]
    },
    {
      "cell_type": "code",
      "execution_count": 34,
      "id": "f922fcc4",
      "metadata": {
        "id": "f922fcc4",
        "outputId": "27b2fb05-6916-41c9-cc74-f32487ce6128",
        "colab": {
          "base_uri": "https://localhost:8080/",
          "height": 0
        }
      },
      "outputs": [
        {
          "output_type": "stream",
          "name": "stdout",
          "text": [
            "label vocabulary size is 2\n",
            "text vocabulary size is 57\n"
          ]
        }
      ],
      "source": [
        "print(f\"label vocabulary size is {label_vocab_size}\\n\"\n",
        "      f\"text vocabulary size is {text_vocab_size}\")"
      ]
    },
    {
      "cell_type": "markdown",
      "id": "552f82f4",
      "metadata": {
        "id": "552f82f4"
      },
      "source": [
        "## Operations over datasets\n",
        "\n",
        "We now have training and test datasets. You can experiment with the kinds of operations you'll need to do to implement models like Naive Bayes or logistic regression.\n",
        "\n",
        "For instance, you can inspect an example from the dataset."
      ]
    },
    {
      "cell_type": "code",
      "execution_count": 35,
      "id": "72dbaedf",
      "metadata": {
        "id": "72dbaedf",
        "outputId": "157da622-4edf-434b-d7b7-8ce9c992a3c0",
        "colab": {
          "base_uri": "https://localhost:8080/",
          "height": 0
        }
      },
      "outputs": [
        {
          "output_type": "stream",
          "name": "stdout",
          "text": [
            "text: Say!\n",
            "label: GUY\n"
          ]
        }
      ],
      "source": [
        "example = train[1] # the second instance\n",
        "print (f\"text: {example['text']}\\n\"\n",
        "       f\"label: {example['label']}\")"
      ]
    },
    {
      "cell_type": "markdown",
      "id": "6880741f",
      "metadata": {
        "deletable": false,
        "editable": false,
        "id": "6880741f"
      },
      "source": [
        "You might also need to iterate over the different class labels (`label_vocab`) or the word types (`text_vocab`). Define a function that iterates over a vocabulary and prints each one out in alphabetical order along with their corresponding ids like this:\n",
        "\n",
        "```\n",
        ">>> print_vocab(label_vocab)\n",
        "GUY: 0\n",
        "SAM: 1\n",
        "```\n",
        "\n",
        "<!--\n",
        "BEGIN QUESTION\n",
        "name: print_vocab\n",
        "-->"
      ]
    },
    {
      "cell_type": "code",
      "execution_count": 36,
      "id": "4f35a28e",
      "metadata": {
        "id": "4f35a28e"
      },
      "outputs": [],
      "source": [
        "#TODO: print out vocabulary in alphabetical order with ids\n",
        "def print_vocab(vocab):\n",
        "    key_list = sorted(vocab)\n",
        "    for elem in key_list:\n",
        "        print(f\"{elem}: {vocab[elem]}\")"
      ]
    },
    {
      "cell_type": "code",
      "execution_count": 37,
      "id": "2d94c5c2",
      "metadata": {
        "deletable": false,
        "editable": false,
        "id": "2d94c5c2",
        "outputId": "9818ccca-4703-4e80-f176-aaee8b6c55e9",
        "colab": {
          "base_uri": "https://localhost:8080/",
          "height": 46
        }
      },
      "outputs": [
        {
          "output_type": "execute_result",
          "data": {
            "text/plain": [
              "\n",
              "    All tests passed!\n",
              "    "
            ],
            "text/html": [
              "\n",
              "    \n",
              "    \n",
              "        <p>All tests passed!</p>\n",
              "    \n",
              "    "
            ]
          },
          "metadata": {},
          "execution_count": 37
        }
      ],
      "source": [
        "grader.check(\"print_vocab\")"
      ]
    },
    {
      "cell_type": "markdown",
      "id": "724f5ebc",
      "metadata": {
        "id": "724f5ebc"
      },
      "source": [
        " We can use the `print_vocab` function to print out the different class labels."
      ]
    },
    {
      "cell_type": "code",
      "execution_count": 38,
      "id": "2e9fbf0b",
      "metadata": {
        "id": "2e9fbf0b",
        "outputId": "b34c8eda-e873-4c4a-e143-babcc43c4def",
        "colab": {
          "base_uri": "https://localhost:8080/",
          "height": 0
        }
      },
      "outputs": [
        {
          "output_type": "stream",
          "name": "stdout",
          "text": [
            "GUY: 0\n",
            "SAM: 1\n"
          ]
        }
      ],
      "source": [
        "print_vocab(label_vocab)"
      ]
    },
    {
      "cell_type": "markdown",
      "id": "b62bffdc",
      "metadata": {
        "id": "b62bffdc"
      },
      "source": [
        "Similarly, we can also print out `text_vocab`."
      ]
    },
    {
      "cell_type": "code",
      "execution_count": 39,
      "id": "a922e5e2",
      "metadata": {
        "id": "a922e5e2",
        "outputId": "b3810fb0-54cc-495e-ea54-67710ffb07ff",
        "colab": {
          "base_uri": "https://localhost:8080/",
          "height": 0
        }
      },
      "outputs": [
        {
          "output_type": "stream",
          "name": "stdout",
          "text": [
            "!: 10\n",
            ",: 7\n",
            "-: 15\n",
            ".: 3\n",
            "...: 53\n",
            "?: 20\n",
            "[PAD]: 0\n",
            "[UNK]: 1\n",
            "a: 5\n",
            "am: 21\n",
            "and: 13\n",
            "anywhere: 35\n",
            "are: 47\n",
            "be: 54\n",
            "boat: 42\n",
            "box: 36\n",
            "car: 31\n",
            "could: 22\n",
            "dark: 37\n",
            "do: 11\n",
            "eat: 16\n",
            "eggs: 23\n",
            "fox: 43\n",
            "goat: 44\n",
            "good: 48\n",
            "green: 24\n",
            "ham: 25\n",
            "here: 27\n",
            "house: 38\n",
            "i: 4\n",
            "in: 9\n",
            "let: 55\n",
            "like: 8\n",
            "may: 45\n",
            "me: 56\n",
            "mouse: 28\n",
            "not: 2\n",
            "on: 29\n",
            "or: 33\n",
            "rain: 39\n",
            "sam: 17\n",
            "say: 40\n",
            "see: 46\n",
            "so: 34\n",
            "thank: 49\n",
            "that: 50\n",
            "the: 26\n",
            "them: 6\n",
            "there: 32\n",
            "they: 51\n",
            "train: 30\n",
            "tree: 41\n",
            "try: 52\n",
            "will: 18\n",
            "with: 19\n",
            "would: 14\n",
            "you: 12\n"
          ]
        }
      ],
      "source": [
        "print_vocab(text_vocab)"
      ]
    },
    {
      "cell_type": "markdown",
      "id": "e4f7ac1d",
      "metadata": {
        "deletable": false,
        "editable": false,
        "id": "e4f7ac1d"
      },
      "source": [
        "Other simple calculations that will be useful in implementing the various models:\n",
        "\n",
        "1. Counting how many instances there are in a dataset.\n",
        "2. Counting how many instances of a certain class there are in a dataset.\n",
        "3. Counting how many tokens of a certain type there are in the text of an instance.\n",
        "\n",
        "Let's write functions for these. They'll come in handy in the first problem set.\n",
        "\n",
        "<!--\n",
        "BEGIN QUESTION\n",
        "name: count_instances\n",
        "-->"
      ]
    },
    {
      "cell_type": "code",
      "execution_count": 40,
      "id": "296e495c",
      "metadata": {
        "id": "296e495c"
      },
      "outputs": [],
      "source": [
        "#TODO - 1. Counting how many instances there are in a dataset.\n",
        "def count_instances(dataset):\n",
        "    return len(dataset)"
      ]
    },
    {
      "cell_type": "code",
      "execution_count": 41,
      "id": "0db0eb9f",
      "metadata": {
        "deletable": false,
        "editable": false,
        "id": "0db0eb9f",
        "outputId": "7acfba54-b8c7-43a8-e5e6-b757daf1b5f1",
        "colab": {
          "base_uri": "https://localhost:8080/",
          "height": 46
        }
      },
      "outputs": [
        {
          "output_type": "execute_result",
          "data": {
            "text/plain": [
              "\n",
              "    All tests passed!\n",
              "    "
            ],
            "text/html": [
              "\n",
              "    \n",
              "    \n",
              "        <p>All tests passed!</p>\n",
              "    \n",
              "    "
            ]
          },
          "metadata": {},
          "execution_count": 41
        }
      ],
      "source": [
        "grader.check(\"count_instances\")"
      ]
    },
    {
      "cell_type": "code",
      "execution_count": 42,
      "id": "791591b3",
      "metadata": {
        "id": "791591b3"
      },
      "outputs": [],
      "source": [
        "#TODO - 2. Counting how many instances of a certain class there are in a dataset.\n",
        "# Note: recall that you can access the label of an instance using `instance['label']`\n",
        "def count_instances_class(dataset, label):\n",
        "    return dataset['label'].count(label)\n"
      ]
    },
    {
      "cell_type": "code",
      "execution_count": 43,
      "id": "1a3d9537",
      "metadata": {
        "deletable": false,
        "editable": false,
        "id": "1a3d9537",
        "outputId": "3e9129ac-9125-4572-c8f1-c6f6e3289593",
        "colab": {
          "base_uri": "https://localhost:8080/",
          "height": 46
        }
      },
      "outputs": [
        {
          "output_type": "execute_result",
          "data": {
            "text/plain": [
              "\n",
              "    All tests passed!\n",
              "    "
            ],
            "text/html": [
              "\n",
              "    \n",
              "    \n",
              "        <p>All tests passed!</p>\n",
              "    \n",
              "    "
            ]
          },
          "metadata": {},
          "execution_count": 43
        }
      ],
      "source": [
        "grader.check(\"count_instances_class\")"
      ]
    },
    {
      "cell_type": "code",
      "execution_count": 44,
      "id": "76a8ced4",
      "metadata": {
        "id": "76a8ced4"
      },
      "outputs": [],
      "source": [
        "#TODO - 3. Counting how many tokens of a certain type there are in the text of an instance.\n",
        "# Hint: we have provided code for extracting tokens from the text of an instance.\n",
        "def count_tokens_instance(instance, tokentype):\n",
        "    tokens = tokenizer.encode(instance['text']).tokens\n",
        "    return tokens.count(tokentype)\n"
      ]
    },
    {
      "cell_type": "code",
      "execution_count": 45,
      "id": "10596b4b",
      "metadata": {
        "deletable": false,
        "editable": false,
        "id": "10596b4b",
        "outputId": "79aa4488-7826-4e0e-fdd5-5b4969affd41",
        "colab": {
          "base_uri": "https://localhost:8080/",
          "height": 46
        }
      },
      "outputs": [
        {
          "output_type": "execute_result",
          "data": {
            "text/plain": [
              "\n",
              "    All tests passed!\n",
              "    "
            ],
            "text/html": [
              "\n",
              "    \n",
              "    \n",
              "        <p>All tests passed!</p>\n",
              "    \n",
              "    "
            ]
          },
          "metadata": {},
          "execution_count": 45
        }
      ],
      "source": [
        "grader.check(\"count_tokens_instances\")"
      ]
    },
    {
      "cell_type": "markdown",
      "id": "5975e733",
      "metadata": {
        "id": "5975e733"
      },
      "source": [
        "Recall that the purpose of tokenizers is to map back and forth between strings and word ids. Below provides an example of how to do that."
      ]
    },
    {
      "cell_type": "code",
      "execution_count": 46,
      "id": "717008ca",
      "metadata": {
        "id": "717008ca",
        "outputId": "5b377269-802d-420a-ec1a-79b5d3538185",
        "colab": {
          "base_uri": "https://localhost:8080/",
          "height": 0
        }
      },
      "outputs": [
        {
          "output_type": "stream",
          "name": "stdout",
          "text": [
            "text: Say!\n",
            "Mapped to word ids: [40, 10]\n",
            "Mapped back: say!\n"
          ]
        }
      ],
      "source": [
        "example = train[1]\n",
        "print (f'text: {example[\"text\"]}')\n",
        "word_ids = hf_tokenizer(example['text']).input_ids\n",
        "print (f\"Mapped to word ids: {word_ids}\\n\"\n",
        "       f\"Mapped back: {hf_tokenizer.decode(word_ids)}\")"
      ]
    },
    {
      "cell_type": "markdown",
      "id": "f28b7652",
      "metadata": {
        "id": "f28b7652"
      },
      "source": [
        "We can also do the conversion for a batch of examples, which will be very useful in future labs when we take advantage of the parallelism provided by parallel hardware such as GPUs."
      ]
    },
    {
      "cell_type": "code",
      "execution_count": 47,
      "id": "5dd9e7a0",
      "metadata": {
        "id": "5dd9e7a0",
        "outputId": "6aca7c17-a775-4b9c-e6ee-9f167a966033",
        "colab": {
          "base_uri": "https://localhost:8080/",
          "height": 0
        }
      },
      "outputs": [
        {
          "output_type": "stream",
          "name": "stdout",
          "text": [
            "text: ['Say!', 'Not in a tree!', 'You will see.', 'I would not eat them anywhere.']\n",
            "Mapped to word ids: [[40, 10], [2, 9, 5, 41, 10], [12, 18, 46, 3], [4, 14, 2, 16, 6, 35, 3]]\n",
            "Mapped back: ['say!', 'not in a tree!', 'you will see.', 'i would not eat them anywhere.']\n"
          ]
        }
      ],
      "source": [
        "examples = train[1:5]\n",
        "print (f'text: {examples[\"text\"]}')\n",
        "word_ids_batch = hf_tokenizer(examples['text']).input_ids\n",
        "print (f\"Mapped to word ids: {word_ids_batch}\\n\"\n",
        "       f\"Mapped back: {hf_tokenizer.batch_decode(word_ids_batch)}\")"
      ]
    },
    {
      "cell_type": "markdown",
      "id": "d72ba842",
      "metadata": {
        "id": "d72ba842"
      },
      "source": [
        "You might have noticed that in the above example, different sentences are of different lengths. This makes it hard for processing on parallel hardware, and we need to *pad* all sentences to the length of the longest sentence in each batch before converting them to tensors, as shown below. (You will see the below code in project 1 and in future labs.)"
      ]
    },
    {
      "cell_type": "code",
      "execution_count": 48,
      "id": "4200692c",
      "metadata": {
        "id": "4200692c"
      },
      "outputs": [],
      "source": [
        "pad_id = hf_tokenizer.pad_token_id\n",
        "BATCH_SIZE = 32\n",
        "\n",
        "# Defines how to batch a list of examples together\n",
        "def collate_fn(examples):\n",
        "    batch = {}\n",
        "    bsz = len(examples)\n",
        "    label_ids = []\n",
        "    for example in examples:\n",
        "        label_ids.append(example['label_id'])\n",
        "    label_batch = torch.LongTensor(label_ids).to(device)\n",
        "    input_ids = []\n",
        "    for example in examples:\n",
        "        input_ids.append(example['input_ids'])\n",
        "    max_length = max([len(word_ids) for word_ids in input_ids])\n",
        "    text_batch = torch.zeros(bsz, max_length).long().fill_(pad_id).to(device)\n",
        "    for b in range(bsz):\n",
        "        text_batch[b][:len(input_ids[b])] = torch.LongTensor(input_ids[b]).to(device)\n",
        "    \n",
        "    batch['label_ids'] = label_batch\n",
        "    batch['input_ids'] = text_batch\n",
        "    return batch\n",
        "\n",
        "train_iter = torch.utils.data.DataLoader(train, batch_size=BATCH_SIZE, collate_fn=collate_fn)\n",
        "test_iter = torch.utils.data.DataLoader(test, batch_size=BATCH_SIZE, collate_fn=collate_fn)"
      ]
    },
    {
      "cell_type": "markdown",
      "id": "f79ecccb",
      "metadata": {
        "id": "f79ecccb"
      },
      "source": [
        "Let's look at a single batch from one of these iterators. Note that padding is done with the special token `[PAD]` which has id `0`."
      ]
    },
    {
      "cell_type": "code",
      "execution_count": 49,
      "id": "cb2c905e",
      "metadata": {
        "id": "cb2c905e",
        "outputId": "0b42b3ad-beb7-4459-b8fc-43a7b80ec44b",
        "colab": {
          "base_uri": "https://localhost:8080/",
          "height": 0
        }
      },
      "outputs": [
        {
          "output_type": "execute_result",
          "data": {
            "text/plain": [
              "{'label_ids': tensor([0, 0, 0, 0, 0, 0, 1, 0, 0, 0, 1, 0, 1, 0, 0, 0, 0, 1, 0, 0, 0, 0, 0, 0,\n",
              "         0, 1, 0, 0, 0, 1, 0, 0]),\n",
              " 'input_ids': tensor([[ 4, 18,  2, 16,  6, 35,  3,  0,  0,  0,  0,  0],\n",
              "         [40, 10,  0,  0,  0,  0,  0,  0,  0,  0,  0,  0],\n",
              "         [ 2,  9,  5, 41, 10,  0,  0,  0,  0,  0,  0,  0],\n",
              "         [12, 18, 46,  3,  0,  0,  0,  0,  0,  0,  0,  0],\n",
              "         [ 4, 14,  2, 16,  6, 35,  3,  0,  0,  0,  0,  0],\n",
              "         [51, 47, 34, 48,  7, 34, 48,  7, 12, 46, 10,  0],\n",
              "         [ 9,  5, 31, 20,  0,  0,  0,  0,  0,  0,  0,  0],\n",
              "         [ 2,  9,  5, 31,  3,  0,  0,  0,  0,  0,  0,  0],\n",
              "         [ 4, 11,  2,  8, 24, 23, 13, 25,  3,  0,  0,  0],\n",
              "         [ 4, 11,  2,  8, 24, 23, 13, 25,  3,  0,  0,  0],\n",
              "         [34, 12, 40,  3,  0,  0,  0,  0,  0,  0,  0,  0],\n",
              "         [ 4, 14,  2, 16, 24, 23, 13, 25,  3,  0,  0,  0],\n",
              "         [13, 12, 45,  3,  0,  0,  0,  0,  0,  0,  0,  0],\n",
              "         [ 4, 11,  2,  8, 24, 23, 13, 25, 10,  0,  0,  0],\n",
              "         [17, 10,  0,  0,  0,  0,  0,  0,  0,  0,  0,  0],\n",
              "         [ 4, 14,  2,  8,  6, 35,  3,  0,  0,  0,  0,  0],\n",
              "         [ 4, 14,  2,  7, 22,  2,  7, 19,  5, 43,  3,  0],\n",
              "         [ 5, 30, 10,  0,  0,  0,  0,  0,  0,  0,  0,  0],\n",
              "         [ 2,  9, 26, 37,  3,  0,  0,  0,  0,  0,  0,  0],\n",
              "         [13,  9, 26, 37,  3, 13, 29,  5, 30,  3,  0,  0],\n",
              "         [ 4, 11,  2,  8,  6, 35,  3,  0,  0,  0,  0,  0],\n",
              "         [ 4, 11,  2,  8,  6, 27, 33, 32,  3,  0,  0,  0],\n",
              "         [ 4, 14,  2,  7, 22,  2,  7,  9,  5, 31,  3,  0],\n",
              "         [ 4, 11,  2,  8,  6,  7, 17, 15,  4, 15, 21,  3],\n",
              "         [13,  4, 18, 16,  6, 19,  5, 28,  3,  0,  0,  0],\n",
              "         [14, 12,  8,  6, 19,  5, 28, 20,  0,  0,  0,  0],\n",
              "         [ 2,  9,  5, 41,  3,  0,  0,  0,  0,  0,  0,  0],\n",
              "         [ 2,  9,  5, 38,  3,  0,  0,  0,  0,  0,  0,  0],\n",
              "         [13,  4, 18, 16,  6,  9,  5, 38,  3,  0,  0,  0],\n",
              "         [14, 12,  7, 22, 12,  7,  9, 26, 39, 20,  0,  0],\n",
              "         [50, 17, 15,  4, 15, 21, 10,  0,  0,  0,  0,  0],\n",
              "         [ 4, 11,  2,  8,  6,  9,  5, 38,  3,  0,  0,  0]])}"
            ]
          },
          "metadata": {},
          "execution_count": 49
        }
      ],
      "source": [
        "next(iter(train_iter))"
      ]
    },
    {
      "cell_type": "markdown",
      "id": "3d93031a",
      "metadata": {
        "id": "3d93031a"
      },
      "source": [
        "# Training and testing with PyTorch\n",
        "\n",
        "Past labs have shown that all of the detail about \n",
        "\n",
        "* establishing models and their parameters,\n",
        "* using them to calculate the outputs for some inputs, \n",
        "* training them to optimize the parameters via stochastic gradient descent, and \n",
        "* evaluating them by testing on held-out data\n",
        "\n",
        "is tedious to manage. Fortunately, it is also so formulaic, at least for a certain class of models, that general tools can be deployed to manage the process. In the remainder of this lab, you'll use one such tool, PyTorch. For simplicity, rather than a natural-language task, you'll be training a model to fit a curve; it has an especially simple structure: one scalar input and one scalar output."
      ]
    },
    {
      "cell_type": "markdown",
      "id": "b569d2be",
      "metadata": {
        "id": "b569d2be"
      },
      "source": [
        "## Generating training and test data\n",
        "\n",
        "We start by generating some training and test data. The data is generated as a noisy sine function, calculated by the function `sinusoid`. (Here we make use of the PyTorch [distributions](https://pytorch.org/docs/stable/distributions.html) package, which was imported above as `ds`.) "
      ]
    },
    {
      "cell_type": "code",
      "execution_count": 50,
      "id": "32ba455a",
      "metadata": {
        "id": "32ba455a"
      },
      "outputs": [],
      "source": [
        "def sinusoid(x, amplitude=1., phase=0., frequency=1., noise=1e-5):\n",
        "    \"\"\"Returns the values on input(s) `x` of a sinusoid determined by `amplitude`, \n",
        "       `phase`, and angular `frequency`, with some added normal noise with variance \n",
        "       given by `noise`.\"\"\"\n",
        "    normal_noise = ds.normal.Normal(torch.tensor([0.0]), torch.tensor([noise]))\n",
        "    noise_sample = normal_noise.sample(x.size()).view(-1)\n",
        "    y = amplitude * torch.sin(x * frequency + phase) + noise_sample\n",
        "    return y"
      ]
    },
    {
      "cell_type": "markdown",
      "id": "95e992a2",
      "metadata": {
        "id": "95e992a2"
      },
      "source": [
        "We can generate data for training and testing by sampling this function."
      ]
    },
    {
      "cell_type": "code",
      "execution_count": 51,
      "id": "f687c817",
      "metadata": {
        "id": "f687c817"
      },
      "outputs": [],
      "source": [
        "def sample_input(func, count, bound, **kwargs):\n",
        "    \"\"\"Returns `count` samples of x-y pairs of function `func`, with the x \n",
        "       values sampled uniformly between +/-`bound`. The `kwargs` are passed\n",
        "       on to `func`.\"\"\"\n",
        "    input_unif = ds.uniform.Uniform(-bound, +bound)\n",
        "    x = input_unif.sample(torch.Size([count]))\n",
        "    y = func(x, **kwargs)\n",
        "    return x, y"
      ]
    },
    {
      "cell_type": "markdown",
      "id": "210740b1",
      "metadata": {
        "id": "210740b1"
      },
      "source": [
        "To give a sense of what a data sample looks like, we plot a sample of 100 points."
      ]
    },
    {
      "cell_type": "code",
      "execution_count": 52,
      "id": "82c3be7d",
      "metadata": {
        "id": "82c3be7d"
      },
      "outputs": [],
      "source": [
        "def plot_sample(data):\n",
        "    \"\"\"Plots `data` given as a single pair of inputs and outputs.\"\"\"\n",
        "    X, Y = data\n",
        "    plt.plot(X.tolist(), Y.tolist(), '.')\n",
        "    plt.xlabel('Input')\n",
        "    plt.ylabel('Output')\n",
        "    # we cannot use plt.show() because otter-grader does not support it"
      ]
    },
    {
      "cell_type": "code",
      "execution_count": 53,
      "id": "1d5e9c9b",
      "metadata": {
        "id": "1d5e9c9b",
        "outputId": "4a1a2597-5b79-494e-9dad-5aa716e81110",
        "colab": {
          "base_uri": "https://localhost:8080/",
          "height": 449
        }
      },
      "outputs": [
        {
          "output_type": "display_data",
          "data": {
            "text/plain": [
              "<Figure size 640x480 with 1 Axes>"
            ],
            "image/png": "[encoded data removed]"
          },
          "metadata": {}
        }
      ],
      "source": [
        "plot_sample(sample_input(sinusoid, 100, 5, noise=0.1))"
      ]
    },
    {
      "cell_type": "markdown",
      "id": "e3438d5c",
      "metadata": {
        "id": "e3438d5c"
      },
      "source": [
        "## Specifying a feed-forward neural network\n",
        "\n",
        "\n",
        "<img src=\"https://github.com/nlp-236299/data/raw/master/Resources/ffnn-example.png\" width=33% align=right />\n",
        "\n",
        "The model that we will train to predict the output of this function based on a sample will consist of a series of sublayers as depicted in the figure at right. At the bottom of the figure, we start with $\\vect{x}$, the scalar input (of dimensionality $1$ as shown in the \"shape\" designation). The first layer is a perceptron layer, composed of a linear sublayer (with weights $\\vect{U}$) followed by a sigmoid sublayer. Since $\\vect{U}$ is of dimensionality $1 \\times D$, the output is a vector of dimensionality $D$. (We refer to $D$ as the *hidden dimension*.) Then comes another perceptron layer with input and output each of dimensionality $D$. Finally, a single linear layer reduces the dimensionality back to the predicted scalar output $\\tilde{y}$ of dimensionality $1$. The loss is calculated as the mean square error of $\\tilde{y}$ relative to $y$. (In this case, taking the mean for a single example is irrelevant, since $y$ is a scalar, though when training in \"batches\", the mean would be taken over the batch.)\n",
        "\n",
        "We define a class `FFNN` (**f**eed-**f**orward **n**eural **n**etwork), which inherits from the `nn.Module` class, PyTorch's class for neural network models. It takes an argument `hidden_dim` which is the size of the hidden layers, $D$ in the figure.\n",
        "\n",
        "The parameters of this model – the values that will be adjusted to minimize the loss – are the elements of the tensors $\\vect{U}$, $\\vect{V}$, and $\\vect{W}$. They don't appear explicitly in the code, but are PyTorch *parameters* created and tracked when the corresponding sublayers are created using `nn.Linear` and `nn.Sigmoid`. That's the wonder of using PyTorch – so much happens under the hood. But we can get access to the parameters because the `nn.Module` class provides a `parameters` method that returns an iterator over the parameters. (We use it to initialize the parameters to random values.)"
      ]
    },
    {
      "cell_type": "code",
      "execution_count": 54,
      "id": "15578132",
      "metadata": {
        "id": "15578132"
      },
      "outputs": [],
      "source": [
        "class FFNN(nn.Module):\n",
        "    def __init__(self, hidden_dim, init_low=-2, init_high=2):\n",
        "        super().__init__()\n",
        "        # dimensionality of hidden layers\n",
        "        self.hidden_dim = hidden_dim\n",
        "        #TODO: establish the sublayers -- two perceptrons (each has a linear layer and a sigmoid). and a final\n",
        "        # linear layer. Follow the dimensions from the description above.\n",
        "        self.sublayer1 = nn.Linear(1, hidden_dim)\n",
        "        self.sublayer2 = nn.Sigmoid()\n",
        "        self.sublayer3 = nn.Linear(hidden_dim, hidden_dim)\n",
        "        self.sublayer4 = nn.Sigmoid()\n",
        "        self.sublayer5 = nn.Linear(hidden_dim, 1)\n",
        "        \n",
        "        # initialize parameters randomly\n",
        "        torch.manual_seed(random_seed)\n",
        "        for p in self.parameters():\n",
        "            p.data.uniform_(init_low, init_high)\n",
        "        # save a copy of the parameters to allow resetting\n",
        "        self.init_state = copy.deepcopy(self.state_dict())\n",
        "\n",
        "    # Resetting state: If you want to rerun a model, say, with a different\n",
        "    # training regime, you can reset the model's parameter state using\n",
        "    #    model.reset_state()\n",
        "    # before retraining, e.g., \n",
        "    #    train_model(model, criterion, optim, train_data, n_epochs=50)\n",
        "    def reset_state(self):\n",
        "        self.load_state_dict(self.init_state)\n",
        "        \n",
        "    def forward(self, x):\n",
        "        # first perceptron layer\n",
        "        z = self.sublayer2(self.sublayer1(x))\n",
        "        # second perceptron layer\n",
        "        z_prime = self.sublayer4(self.sublayer3(z))\n",
        "        # final linear layer\n",
        "        return self.sublayer5(z_prime)"
      ]
    },
    {
      "cell_type": "code",
      "execution_count": 55,
      "id": "dda76f5c",
      "metadata": {
        "deletable": false,
        "editable": false,
        "id": "dda76f5c",
        "outputId": "0834b60d-a39d-447d-bdd5-c36161ee3e41",
        "colab": {
          "base_uri": "https://localhost:8080/",
          "height": 46
        }
      },
      "outputs": [
        {
          "output_type": "execute_result",
          "data": {
            "text/plain": [
              "\n",
              "    All tests passed!\n",
              "    "
            ],
            "text/html": [
              "\n",
              "    \n",
              "    \n",
              "        <p>All tests passed!</p>\n",
              "    \n",
              "    "
            ]
          },
          "metadata": {},
          "execution_count": 55
        }
      ],
      "source": [
        "grader.check(\"FFNN\")"
      ]
    },
    {
      "cell_type": "markdown",
      "id": "e110906a",
      "metadata": {
        "id": "e110906a"
      },
      "source": [
        "We can build a model by instantiating the `FFNN` class. We'll do so with a hidden dimension of 4, being careful to move the model with its parameters to the device we're using for calculations (a GPU if one is available, as on Google Colab)."
      ]
    },
    {
      "cell_type": "code",
      "execution_count": 56,
      "id": "9d889a7c",
      "metadata": {
        "id": "9d889a7c"
      },
      "outputs": [],
      "source": [
        "HIDDEN_DIMENSION = 4\n",
        "model = FFNN(HIDDEN_DIMENSION).to(device)"
      ]
    },
    {
      "cell_type": "markdown",
      "id": "ce8b73a1",
      "metadata": {
        "id": "ce8b73a1"
      },
      "source": [
        "We specify the criterion to be optimized as the mean square error loss function provided by PyTorch."
      ]
    },
    {
      "cell_type": "code",
      "execution_count": 57,
      "id": "4493a20b",
      "metadata": {
        "id": "4493a20b"
      },
      "outputs": [],
      "source": [
        "criterion = nn.MSELoss(reduction='mean') "
      ]
    },
    {
      "cell_type": "markdown",
      "id": "a8c69617",
      "metadata": {
        "id": "a8c69617"
      },
      "source": [
        "## Evaluating data according to a model\n",
        "\n",
        "To evaluate how well the model performs on some test data, we run the model forward on the $x$ values and compute the loss relative to the $y$ values. We define a function `eval_model` to carry out this calculation."
      ]
    },
    {
      "cell_type": "code",
      "execution_count": 58,
      "id": "202a8356",
      "metadata": {
        "id": "202a8356"
      },
      "outputs": [],
      "source": [
        "def eval_model(model, criterion, data):\n",
        "    \"\"\"Applies the `model` to the x values in the `data` and returns the\n",
        "       loss relative to the y values in the `data` along with the predicted \n",
        "       y values.\"\"\"\n",
        "    model.eval()                          # turn on evaluation mode\n",
        "    with torch.no_grad():                 # turn off propagating gradients\n",
        "        X, Y = data                       # extract x and y values\n",
        "        X = X.view(-1, 1).to(device)      # convert x and y to column vectors\n",
        "        Y = Y.view(-1, 1).to(device)      # ...and move them to the device\n",
        "        predictions = model(X)            # calculate the predicted y values\n",
        "        loss = criterion(predictions, Y)  # see how far off they are\n",
        "    return loss.item(), predictions"
      ]
    },
    {
      "cell_type": "markdown",
      "id": "d59f594c",
      "metadata": {
        "id": "d59f594c"
      },
      "source": [
        "All that remains is training the model. We'll use one of PyTorch's built in optimizers, the `Adam` optimizer. We set a few parameters for the training process: the learning rate, the number of \"epochs\" (passes through the training data) to perform, and the number of examples to train on at a time (the \"batch size\")."
      ]
    },
    {
      "cell_type": "code",
      "execution_count": 59,
      "id": "dd9f5a06",
      "metadata": {
        "id": "dd9f5a06"
      },
      "outputs": [],
      "source": [
        "## Parameters of the training regimen\n",
        "LEARNING_RATE = 0.003\n",
        "NUMBER_EPOCHS = 25\n",
        "BATCH_SIZE = 20\n",
        "\n",
        "## Choices for optimizers:\n",
        "\n",
        "# Stochastic Gradient Descent (SGD) optimizer\n",
        "# optim = torch.optim.SGD(model.parameters(), lr=learning_rate)\n",
        "\n",
        "# The Adam optimizer, as described in the paper:\n",
        "# Kingma and Ba. 2014. Adam: A Method for Stochastic Optimization.\n",
        "# [https://arxiv.org/abs/1412.6980]\n",
        "optim = torch.optim.Adam(model.parameters(), lr=LEARNING_RATE)"
      ]
    },
    {
      "cell_type": "markdown",
      "id": "b14d9675",
      "metadata": {
        "id": "b14d9675"
      },
      "source": [
        "## Training the parameters of a model\n",
        "\n",
        "Finally, we get to the function to train the parameters of the model so as to best fit the predictions to the actual values. We've provided the code, except for a few lines that you'll need to provide (marked `#TODO`), making use of some of the tools defined above. Those lines, which form the heart of the computation, calculate \"forwards\" to get the output predictions for the inputs, calculate the loss for those predictions, and calculate \"backwards\" the gradients of the loss for each of the parameters of the model. This sets up the optimizer to take a step of updating the parameters, making use of the calculated gradients to determine the direction to step. The saved gradients can then be zeroed and the process repeated.\n",
        "\n",
        "> Note: The code we're asking you to write is *tiny*. If you find yourself writing more than a short line of code per `#TODO`, you're missing something."
      ]
    },
    {
      "cell_type": "code",
      "execution_count": 60,
      "id": "a06dceb6",
      "metadata": {
        "id": "a06dceb6"
      },
      "outputs": [],
      "source": [
        "def train_model(model, criterion, optimizer, data,\n",
        "                n_epochs=NUMBER_EPOCHS, batch_size=BATCH_SIZE):\n",
        "    \"\"\"Optimizes the parameters of the `model` by minimizing the `criterion`\n",
        "       on the training `data`, using the `optimizer` algorithm for updates.\"\"\"    \n",
        "    model.train()                     # Turn on training mode\n",
        "\n",
        "    X, Y = data\n",
        "    trainX_len = len(X)\n",
        "    \n",
        "    loss_per_epoch = math.inf\n",
        "    with tqdm(range(n_epochs)) as pbar:\n",
        "        for epoch in pbar:\n",
        "            pbar.set_postfix(epoch=epoch+1, loss=loss_per_epoch)\n",
        "            loss_per_epoch = 0.\n",
        "            for batch_i in range(int(trainX_len/batch_size)):\n",
        "                optimizer.zero_grad()     # new batch; zero the gradients of the parameters\n",
        "\n",
        "                # Input tensors and their corresponding output values for this batch\n",
        "                batch_X = (X[batch_i * batch_size\n",
        "                             : (batch_i+1) * batch_size] # extract examples in batch\n",
        "                           .view(-1, 1)                  # reshape to column vector\n",
        "                           .to(device)                   # move to device\n",
        "                          )\n",
        "                batch_Y = (Y[batch_i * batch_size \n",
        "                             : (batch_i+1) * batch_size]\n",
        "                           .view(-1, 1)\n",
        "                           .to(device)\n",
        "                          )\n",
        "\n",
        "                #TODO: Calculate predictions for the x values in this batch\n",
        "                predictions = model(batch_X)\n",
        "\n",
        "                #TODO: Calculate the loss for the predictions\n",
        "                loss = criterion(predictions, batch_Y)\n",
        "\n",
        "                #TODO: Perform backpropagation to calculate gradients\n",
        "                loss.backward()\n",
        "\n",
        "                # Update all parameters\n",
        "                optimizer.step()\n",
        "\n",
        "                loss_per_epoch += loss.item()"
      ]
    },
    {
      "cell_type": "markdown",
      "id": "129d9312",
      "metadata": {
        "id": "129d9312"
      },
      "source": [
        "## Putting it all together\n",
        "\n",
        "Let's try it out. We start by generating some training and test data. The training data will be 10,000 samples of a noisy sinusoid. The test data, 100 samples from the same sinusoid, will be noise-free, so we can see how close the predictions are to noise-free outputs."
      ]
    },
    {
      "cell_type": "code",
      "execution_count": 61,
      "id": "f600377e",
      "metadata": {
        "id": "f600377e",
        "outputId": "ea859804-f54b-46d2-b28d-faa452dc46e5",
        "colab": {
          "base_uri": "https://localhost:8080/",
          "height": 449
        }
      },
      "outputs": [
        {
          "output_type": "display_data",
          "data": {
            "text/plain": [
              "<Figure size 640x480 with 1 Axes>"
            ],
            "image/png": "[encoded data removed]"
          },
          "metadata": {}
        }
      ],
      "source": [
        "train_data = sample_input(sinusoid, 10000, 5., frequency=1.5, noise=0.05)\n",
        "test_data = sample_input(sinusoid, 100, 5., frequency=1.5)\n",
        "\n",
        "plot_sample(train_data)"
      ]
    },
    {
      "cell_type": "markdown",
      "id": "478fda56",
      "metadata": {
        "id": "478fda56"
      },
      "source": [
        "We train the model."
      ]
    },
    {
      "cell_type": "code",
      "execution_count": 62,
      "id": "43d743cf",
      "metadata": {
        "id": "43d743cf",
        "outputId": "eee0ba6a-93ab-4aed-ffcc-cd2309c4e78d",
        "colab": {
          "base_uri": "https://localhost:8080/",
          "height": 0
        }
      },
      "outputs": [
        {
          "output_type": "stream",
          "name": "stderr",
          "text": [
            "100%|██████████| 25/25 [00:16<00:00,  1.54it/s, epoch=25, loss=11.1]\n"
          ]
        }
      ],
      "source": [
        "model.reset_state()\n",
        "train_model(model, criterion, optim, train_data)"
      ]
    },
    {
      "cell_type": "markdown",
      "id": "8167766d",
      "metadata": {
        "id": "8167766d"
      },
      "source": [
        "...and test the trained model by evaluating it on the the test data."
      ]
    },
    {
      "cell_type": "code",
      "execution_count": 63,
      "id": "bc860d0a",
      "metadata": {
        "id": "bc860d0a"
      },
      "outputs": [],
      "source": [
        "loss, predictions = eval_model(model, criterion, test_data)"
      ]
    },
    {
      "cell_type": "code",
      "execution_count": 64,
      "id": "9e86f5fb",
      "metadata": {
        "deletable": false,
        "editable": false,
        "id": "9e86f5fb",
        "outputId": "aa9f0ec4-7712-4a67-d75e-27adbb940baf",
        "colab": {
          "base_uri": "https://localhost:8080/",
          "height": 46
        }
      },
      "outputs": [
        {
          "output_type": "execute_result",
          "data": {
            "text/plain": [
              "\n",
              "    All tests passed!\n",
              "    "
            ],
            "text/html": [
              "\n",
              "    \n",
              "    \n",
              "        <p>All tests passed!</p>\n",
              "    \n",
              "    "
            ]
          },
          "metadata": {},
          "execution_count": 64
        }
      ],
      "source": [
        "grader.check(\"model_reduces_loss\")"
      ]
    },
    {
      "cell_type": "markdown",
      "id": "ef309230",
      "metadata": {
        "id": "ef309230"
      },
      "source": [
        "We can see how well the model works by plotting the test data (circles) along with the predicted values (crosses)."
      ]
    },
    {
      "cell_type": "code",
      "execution_count": 65,
      "id": "a1d0d047",
      "metadata": {
        "id": "a1d0d047"
      },
      "outputs": [],
      "source": [
        "def visualize_predictions(data, predictions):\n",
        "    X, Y = data\n",
        "    \n",
        "    # Plot the actual output values\n",
        "    plt.plot(X.tolist(), Y.tolist(), '.', label = 'Target Values')\n",
        "    \n",
        "    # Plot the predicted output values\n",
        "    predictions = predictions.view(-1, 1)\n",
        "    plt.plot(X.tolist(), predictions.tolist(), 'x', label = 'Predictions')\n",
        "    \n",
        "    plt.xlabel('Input')\n",
        "    plt.ylabel('Output')\n",
        "    plt.legend()\n",
        "    # we cannot use plt.show() because otter-grader does not support it"
      ]
    },
    {
      "cell_type": "code",
      "execution_count": 66,
      "id": "7bb64b1c",
      "metadata": {
        "id": "7bb64b1c",
        "outputId": "37ee48ac-4667-47ef-de16-3094db03d60f",
        "colab": {
          "base_uri": "https://localhost:8080/",
          "height": 449
        }
      },
      "outputs": [
        {
          "output_type": "display_data",
          "data": {
            "text/plain": [
              "<Figure size 640x480 with 1 Axes>"
            ],
            "image/png": "[encoded data removed]"
          },
          "metadata": {}
        }
      ],
      "source": [
        "# Visualize the predictions\n",
        "visualize_predictions(test_data, predictions)"
      ]
    },
    {
      "cell_type": "markdown",
      "id": "5a2a1498",
      "metadata": {
        "id": "5a2a1498"
      },
      "source": [
        "## Trying different models\n",
        "\n",
        "Now that we have the infrastructure, try experimenting with different models. Here are a few things you might play with. (No need to try them all.) What happens if you change the hidden dimension, increasing it to 8 or decreasing it to 2? What happens if you drop the middle layer? What about no middle layer but a much higher hidden dimension size? Does running for more epochs improve performance? Does the SGD optimizer work better or worse than the Adam optimizer?\n",
        "\n",
        "**Perform any experimentation in cells below this point, so you don't modify the cells above that are being unit tested.**"
      ]
    },
    {
      "cell_type": "code",
      "execution_count": 67,
      "id": "f25b21fe-74ba-46bd-b3a4-f63718ce958f",
      "metadata": {
        "id": "f25b21fe-74ba-46bd-b3a4-f63718ce958f",
        "outputId": "58fe05b9-6d69-4da0-db06-86edbfd3fa42",
        "colab": {
          "base_uri": "https://localhost:8080/",
          "height": 484
        }
      },
      "outputs": [
        {
          "output_type": "stream",
          "name": "stderr",
          "text": [
            "100%|██████████| 25/25 [00:13<00:00,  1.88it/s, epoch=25, loss=2.2]\n"
          ]
        },
        {
          "output_type": "stream",
          "name": "stdout",
          "text": [
            "Loss for this model is: 0.0011064475402235985\n"
          ]
        },
        {
          "output_type": "display_data",
          "data": {
            "text/plain": [
              "<Figure size 640x480 with 1 Axes>"
            ],
            "image/png": "[encoded data removed]"
          },
          "metadata": {}
        }
      ],
      "source": [
        "class FFNN2(nn.Module):\n",
        "    def __init__(self, hidden_dim, init_low=-2, init_high=2):\n",
        "        super().__init__()\n",
        "        \n",
        "        self.hidden_dim = hidden_dim\n",
        "        \n",
        "        self.sublayer1 = nn.Linear(1, hidden_dim)\n",
        "        self.sublayer2 = nn.Sigmoid()\n",
        "        self.sublayer3 = nn.Linear(hidden_dim, 1)\n",
        "        \n",
        "        torch.manual_seed(random_seed)\n",
        "        for p in self.parameters():\n",
        "            p.data.uniform_(init_low, init_high)\n",
        "        self.init_state = copy.deepcopy(self.state_dict())\n",
        "\n",
        "    def reset_state(self):\n",
        "        self.load_state_dict(self.init_state)\n",
        "        \n",
        "    def forward(self, x):\n",
        "        z = self.sublayer2(self.sublayer1(x))\n",
        "        return self.sublayer3(z)\n",
        "\n",
        "\n",
        "\n",
        "HIDDEN_DIMENSION = 17\n",
        "model = FFNN2(HIDDEN_DIMENSION).to(device)\n",
        "\n",
        "criterion = nn.MSELoss(reduction='mean') \n",
        "\n",
        "LEARNING_RATE = 0.003\n",
        "NUMBER_EPOCHS = 25\n",
        "BATCH_SIZE = 20\n",
        "\n",
        "optim = torch.optim.Adam(model.parameters(), lr=LEARNING_RATE)\n",
        "\n",
        "model.reset_state()\n",
        "train_model(model, criterion, optim, train_data)\n",
        "\n",
        "loss, predictions = eval_model(model, criterion, test_data)\n",
        "\n",
        "visualize_predictions(test_data, predictions)\n",
        "print(f'Loss for this model is: {loss}') \n",
        "\n"
      ]
    },
    {
      "cell_type": "markdown",
      "id": "20fe1d2a",
      "metadata": {
        "deletable": false,
        "editable": false,
        "id": "20fe1d2a"
      },
      "source": [
        "<!-- BEGIN QUESTION -->\n",
        "\n",
        "**Question:** What conclusions have you drawn from your experimentation?\n",
        "<!--\n",
        "BEGIN QUESTION\n",
        "name: open_response_testing_models\n",
        "manual: true\n",
        "-->"
      ]
    },
    {
      "cell_type": "markdown",
      "id": "78696492",
      "metadata": {
        "id": "78696492"
      },
      "source": [
        "We summerize the results we obtained in our experimentation; increasing the number of the hidden dimensions from 4 to 8 considerably improved the model, reducing the loss from 0.0168 to 0.0011 and providing a much better (also visually) curve fitting. Decreasing the number of hidden layers from 4 to 2 severely harmed the model, yielded a loss of 0.3423 and provided a curve with one peak and no (even approximate) periodicity. \n",
        "Changing the optimizer to SGD yielded bad performance with 0.48 loss, we were not able to mitigate it by changing the number of epochs, learning rate or batch size.\n",
        "Running the training procedure for more epochs did not improve the performance.\n",
        "Removing the middle layer worsened the model and yielded a loss value of approximately 0.24. However, this structural change can be compensated by significantly increasing the number of the hidden dimensions, with 16 hidden dimensions somewhat on par with the original model (0.002 loss), and 17 hidden dimensions outperforming it (0.0011 loss)."
      ]
    },
    {
      "cell_type": "markdown",
      "id": "7298e3d6",
      "metadata": {
        "deletable": false,
        "editable": false,
        "id": "7298e3d6"
      },
      "source": [
        "<!-- END QUESTION -->\n",
        "\n",
        "<!-- BEGIN QUESTION -->\n",
        "\n",
        "# Lab debrief\n",
        "\n",
        "**Question:** We're interested in any thoughts your group has about this lab so that we can improve this lab for later years, and to inform later labs for this year. Please list any issues that arose or comments you have to improve the lab. Useful things to comment on include the following: \n",
        "\n",
        "* Was the lab too long or too short?\n",
        "* Were the readings appropriate for the lab? \n",
        "* Was it clear (at least after you completed the lab) what the points of the exercises were? \n",
        "* Are there additions or changes you think would make the lab better?\n",
        "\n",
        "<!--\n",
        "BEGIN QUESTION\n",
        "name: open_response_debrief\n",
        "manual: true\n",
        "-->"
      ]
    },
    {
      "cell_type": "markdown",
      "id": "e4d08cee",
      "metadata": {
        "id": "e4d08cee"
      },
      "source": [
        "The lab was clear, not too long and the readings were helpful and relevant for the lab."
      ]
    },
    {
      "cell_type": "markdown",
      "id": "ef6b42e5",
      "metadata": {
        "id": "ef6b42e5"
      },
      "source": [
        "<!-- END QUESTION -->\n",
        "\n",
        "\n",
        "\n",
        "# End of lab 1-5"
      ]
    },
    {
      "cell_type": "markdown",
      "id": "39d16a46",
      "metadata": {
        "deletable": false,
        "editable": false,
        "id": "39d16a46"
      },
      "source": [
        "---\n",
        "\n",
        "To double-check your work, the cell below will rerun all of the autograder tests."
      ]
    },
    {
      "cell_type": "code",
      "execution_count": 68,
      "id": "cfc77132",
      "metadata": {
        "deletable": false,
        "editable": false,
        "id": "cfc77132",
        "outputId": "10226b1d-c8a2-417c-8d05-27f9b364431c",
        "colab": {
          "base_uri": "https://localhost:8080/",
          "height": 443
        }
      },
      "outputs": [
        {
          "output_type": "execute_result",
          "data": {
            "text/plain": [
              "FFNN:\n",
              "\n",
              "    All tests passed!\n",
              "    \n",
              "\n",
              "count_instances:\n",
              "\n",
              "    All tests passed!\n",
              "    \n",
              "\n",
              "count_instances_class:\n",
              "\n",
              "    All tests passed!\n",
              "    \n",
              "\n",
              "count_tokens_instances:\n",
              "\n",
              "    All tests passed!\n",
              "    \n",
              "\n",
              "dataset_setup:\n",
              "\n",
              "    All tests passed!\n",
              "    \n",
              "\n",
              "dataset_split:\n",
              "\n",
              "    All tests passed!\n",
              "    \n",
              "\n",
              "model_reduces_loss:\n",
              "\n",
              "    All tests passed!\n",
              "    \n",
              "\n",
              "print_vocab:\n",
              "\n",
              "    All tests passed!\n",
              "    \n",
              "\n",
              "vocab_sizes:\n",
              "\n",
              "    All tests passed!\n",
              "    \n"
            ],
            "text/html": [
              "<p><strong>FFNN:</strong></p>\n",
              "\n",
              "    \n",
              "    \n",
              "        <p>All tests passed!</p>\n",
              "    \n",
              "    \n",
              "\n",
              "<p><strong>count_instances:</strong></p>\n",
              "\n",
              "    \n",
              "    \n",
              "        <p>All tests passed!</p>\n",
              "    \n",
              "    \n",
              "\n",
              "<p><strong>count_instances_class:</strong></p>\n",
              "\n",
              "    \n",
              "    \n",
              "        <p>All tests passed!</p>\n",
              "    \n",
              "    \n",
              "\n",
              "<p><strong>count_tokens_instances:</strong></p>\n",
              "\n",
              "    \n",
              "    \n",
              "        <p>All tests passed!</p>\n",
              "    \n",
              "    \n",
              "\n",
              "<p><strong>dataset_setup:</strong></p>\n",
              "\n",
              "    \n",
              "    \n",
              "        <p>All tests passed!</p>\n",
              "    \n",
              "    \n",
              "\n",
              "<p><strong>dataset_split:</strong></p>\n",
              "\n",
              "    \n",
              "    \n",
              "        <p>All tests passed!</p>\n",
              "    \n",
              "    \n",
              "\n",
              "<p><strong>model_reduces_loss:</strong></p>\n",
              "\n",
              "    \n",
              "    \n",
              "        <p>All tests passed!</p>\n",
              "    \n",
              "    \n",
              "\n",
              "<p><strong>print_vocab:</strong></p>\n",
              "\n",
              "    \n",
              "    \n",
              "        <p>All tests passed!</p>\n",
              "    \n",
              "    \n",
              "\n",
              "<p><strong>vocab_sizes:</strong></p>\n",
              "\n",
              "    \n",
              "    \n",
              "        <p>All tests passed!</p>\n",
              "    \n",
              "    \n",
              "\n"
            ]
          },
          "metadata": {},
          "execution_count": 68
        }
      ],
      "source": [
        "grader.check_all()"
      ]
    },
    {
      "cell_type": "code",
      "execution_count": null,
      "id": "8ffa8824-cd73-4879-92f2-4116ebc712c4",
      "metadata": {
        "id": "8ffa8824-cd73-4879-92f2-4116ebc712c4"
      },
      "outputs": [],
      "source": []
    }
  ],
  "metadata": {
    "celltoolbar": "Edit Metadata",
    "kernelspec": {
      "display_name": "Python 3 (ipykernel)",
      "language": "python",
      "name": "python3"
    },
    "language_info": {
      "codemirror_mode": {
        "name": "ipython",
        "version": 3
      },
      "file_extension": ".py",
      "mimetype": "text/x-python",
      "name": "python",
      "nbconvert_exporter": "python",
      "pygments_lexer": "ipython3",
      "version": "3.8.11"
    },
    "title": "CS187 Lab 1-5: Scaling up: Huggingface Datasets, Tokenizers, and PyTorch",
    "vscode": {
      "interpreter": {
        "hash": "4fba83c08fc02185bb2310bd24d0cd81fb04529c933f82aa81c61aab9d5528dc"
      }
    },
    "widgets": {
      "application/vnd.jupyter.widget-state+json": {
        "b975e7d90e4c49459080b9fc50858f31": {
          "model_module": "@jupyter-widgets/controls",
          "model_name": "HBoxModel",
          "model_module_version": "1.5.0",
          "state": {
            "_dom_classes": [],
            "_model_module": "@jupyter-widgets/controls",
            "_model_module_version": "1.5.0",
            "_model_name": "HBoxModel",
            "_view_count": null,
            "_view_module": "@jupyter-widgets/controls",
            "_view_module_version": "1.5.0",
            "_view_name": "HBoxView",
            "box_style": "",
            "children": [
              "IPY_MODEL_64ecaba09f774324b6e1ecdd306e33e2",
              "IPY_MODEL_3e588736a9c9418b88ff0e8946cc506d",
              "IPY_MODEL_d70b59d0846d41f1805704c7a2011942"
            ],
            "layout": "IPY_MODEL_e1042bf8514e4fbba4885166b2afc638"
          }
        },
        "64ecaba09f774324b6e1ecdd306e33e2": {
          "model_module": "@jupyter-widgets/controls",
          "model_name": "HTMLModel",
          "model_module_version": "1.5.0",
          "state": {
            "_dom_classes": [],
            "_model_module": "@jupyter-widgets/controls",
            "_model_module_version": "1.5.0",
            "_model_name": "HTMLModel",
            "_view_count": null,
            "_view_module": "@jupyter-widgets/controls",
            "_view_module_version": "1.5.0",
            "_view_name": "HTMLView",
            "description": "",
            "description_tooltip": null,
            "layout": "IPY_MODEL_7113b4b2d1b741dc9f0c072732f399ae",
            "placeholder": "​",
            "style": "IPY_MODEL_a114362130cd4ed7ab89272f5db48b7c",
            "value": "Downloading data files: 100%"
          }
        },
        "3e588736a9c9418b88ff0e8946cc506d": {
          "model_module": "@jupyter-widgets/controls",
          "model_name": "FloatProgressModel",
          "model_module_version": "1.5.0",
          "state": {
            "_dom_classes": [],
            "_model_module": "@jupyter-widgets/controls",
            "_model_module_version": "1.5.0",
            "_model_name": "FloatProgressModel",
            "_view_count": null,
            "_view_module": "@jupyter-widgets/controls",
            "_view_module_version": "1.5.0",
            "_view_name": "ProgressView",
            "bar_style": "success",
            "description": "",
            "description_tooltip": null,
            "layout": "IPY_MODEL_46c6563686374a5f8d864ace3948703e",
            "max": 1,
            "min": 0,
            "orientation": "horizontal",
            "style": "IPY_MODEL_463040ba56924d56bf78448e83cc8d3e",
            "value": 1
          }
        },
        "d70b59d0846d41f1805704c7a2011942": {
          "model_module": "@jupyter-widgets/controls",
          "model_name": "HTMLModel",
          "model_module_version": "1.5.0",
          "state": {
            "_dom_classes": [],
            "_model_module": "@jupyter-widgets/controls",
            "_model_module_version": "1.5.0",
            "_model_name": "HTMLModel",
            "_view_count": null,
            "_view_module": "@jupyter-widgets/controls",
            "_view_module_version": "1.5.0",
            "_view_name": "HTMLView",
            "description": "",
            "description_tooltip": null,
            "layout": "IPY_MODEL_7622ef66a4834d5c94637167692fbfcc",
            "placeholder": "​",
            "style": "IPY_MODEL_c15acba05c24497cbb06a2e84f96cebb",
            "value": " 1/1 [00:00&lt;00:00, 23.48it/s]"
          }
        },
        "e1042bf8514e4fbba4885166b2afc638": {
          "model_module": "@jupyter-widgets/base",
          "model_name": "LayoutModel",
          "model_module_version": "1.2.0",
          "state": {
            "_model_module": "@jupyter-widgets/base",
            "_model_module_version": "1.2.0",
            "_model_name": "LayoutModel",
            "_view_count": null,
            "_view_module": "@jupyter-widgets/base",
            "_view_module_version": "1.2.0",
            "_view_name": "LayoutView",
            "align_content": null,
            "align_items": null,
            "align_self": null,
            "border": null,
            "bottom": null,
            "display": null,
            "flex": null,
            "flex_flow": null,
            "grid_area": null,
            "grid_auto_columns": null,
            "grid_auto_flow": null,
            "grid_auto_rows": null,
            "grid_column": null,
            "grid_gap": null,
            "grid_row": null,
            "grid_template_areas": null,
            "grid_template_columns": null,
            "grid_template_rows": null,
            "height": null,
            "justify_content": null,
            "justify_items": null,
            "left": null,
            "margin": null,
            "max_height": null,
            "max_width": null,
            "min_height": null,
            "min_width": null,
            "object_fit": null,
            "object_position": null,
            "order": null,
            "overflow": null,
            "overflow_x": null,
            "overflow_y": null,
            "padding": null,
            "right": null,
            "top": null,
            "visibility": null,
            "width": null
          }
        },
        "7113b4b2d1b741dc9f0c072732f399ae": {
          "model_module": "@jupyter-widgets/base",
          "model_name": "LayoutModel",
          "model_module_version": "1.2.0",
          "state": {
            "_model_module": "@jupyter-widgets/base",
            "_model_module_version": "1.2.0",
            "_model_name": "LayoutModel",
            "_view_count": null,
            "_view_module": "@jupyter-widgets/base",
            "_view_module_version": "1.2.0",
            "_view_name": "LayoutView",
            "align_content": null,
            "align_items": null,
            "align_self": null,
            "border": null,
            "bottom": null,
            "display": null,
            "flex": null,
            "flex_flow": null,
            "grid_area": null,
            "grid_auto_columns": null,
            "grid_auto_flow": null,
            "grid_auto_rows": null,
            "grid_column": null,
            "grid_gap": null,
            "grid_row": null,
            "grid_template_areas": null,
            "grid_template_columns": null,
            "grid_template_rows": null,
            "height": null,
            "justify_content": null,
            "justify_items": null,
            "left": null,
            "margin": null,
            "max_height": null,
            "max_width": null,
            "min_height": null,
            "min_width": null,
            "object_fit": null,
            "object_position": null,
            "order": null,
            "overflow": null,
            "overflow_x": null,
            "overflow_y": null,
            "padding": null,
            "right": null,
            "top": null,
            "visibility": null,
            "width": null
          }
        },
        "a114362130cd4ed7ab89272f5db48b7c": {
          "model_module": "@jupyter-widgets/controls",
          "model_name": "DescriptionStyleModel",
          "model_module_version": "1.5.0",
          "state": {
            "_model_module": "@jupyter-widgets/controls",
            "_model_module_version": "1.5.0",
            "_model_name": "DescriptionStyleModel",
            "_view_count": null,
            "_view_module": "@jupyter-widgets/base",
            "_view_module_version": "1.2.0",
            "_view_name": "StyleView",
            "description_width": ""
          }
        },
        "46c6563686374a5f8d864ace3948703e": {
          "model_module": "@jupyter-widgets/base",
          "model_name": "LayoutModel",
          "model_module_version": "1.2.0",
          "state": {
            "_model_module": "@jupyter-widgets/base",
            "_model_module_version": "1.2.0",
            "_model_name": "LayoutModel",
            "_view_count": null,
            "_view_module": "@jupyter-widgets/base",
            "_view_module_version": "1.2.0",
            "_view_name": "LayoutView",
            "align_content": null,
            "align_items": null,
            "align_self": null,
            "border": null,
            "bottom": null,
            "display": null,
            "flex": null,
            "flex_flow": null,
            "grid_area": null,
            "grid_auto_columns": null,
            "grid_auto_flow": null,
            "grid_auto_rows": null,
            "grid_column": null,
            "grid_gap": null,
            "grid_row": null,
            "grid_template_areas": null,
            "grid_template_columns": null,
            "grid_template_rows": null,
            "height": null,
            "justify_content": null,
            "justify_items": null,
            "left": null,
            "margin": null,
            "max_height": null,
            "max_width": null,
            "min_height": null,
            "min_width": null,
            "object_fit": null,
            "object_position": null,
            "order": null,
            "overflow": null,
            "overflow_x": null,
            "overflow_y": null,
            "padding": null,
            "right": null,
            "top": null,
            "visibility": null,
            "width": null
          }
        },
        "463040ba56924d56bf78448e83cc8d3e": {
          "model_module": "@jupyter-widgets/controls",
          "model_name": "ProgressStyleModel",
          "model_module_version": "1.5.0",
          "state": {
            "_model_module": "@jupyter-widgets/controls",
            "_model_module_version": "1.5.0",
            "_model_name": "ProgressStyleModel",
            "_view_count": null,
            "_view_module": "@jupyter-widgets/base",
            "_view_module_version": "1.2.0",
            "_view_name": "StyleView",
            "bar_color": null,
            "description_width": ""
          }
        },
        "7622ef66a4834d5c94637167692fbfcc": {
          "model_module": "@jupyter-widgets/base",
          "model_name": "LayoutModel",
          "model_module_version": "1.2.0",
          "state": {
            "_model_module": "@jupyter-widgets/base",
            "_model_module_version": "1.2.0",
            "_model_name": "LayoutModel",
            "_view_count": null,
            "_view_module": "@jupyter-widgets/base",
            "_view_module_version": "1.2.0",
            "_view_name": "LayoutView",
            "align_content": null,
            "align_items": null,
            "align_self": null,
            "border": null,
            "bottom": null,
            "display": null,
            "flex": null,
            "flex_flow": null,
            "grid_area": null,
            "grid_auto_columns": null,
            "grid_auto_flow": null,
            "grid_auto_rows": null,
            "grid_column": null,
            "grid_gap": null,
            "grid_row": null,
            "grid_template_areas": null,
            "grid_template_columns": null,
            "grid_template_rows": null,
            "height": null,
            "justify_content": null,
            "justify_items": null,
            "left": null,
            "margin": null,
            "max_height": null,
            "max_width": null,
            "min_height": null,
            "min_width": null,
            "object_fit": null,
            "object_position": null,
            "order": null,
            "overflow": null,
            "overflow_x": null,
            "overflow_y": null,
            "padding": null,
            "right": null,
            "top": null,
            "visibility": null,
            "width": null
          }
        },
        "c15acba05c24497cbb06a2e84f96cebb": {
          "model_module": "@jupyter-widgets/controls",
          "model_name": "DescriptionStyleModel",
          "model_module_version": "1.5.0",
          "state": {
            "_model_module": "@jupyter-widgets/controls",
            "_model_module_version": "1.5.0",
            "_model_name": "DescriptionStyleModel",
            "_view_count": null,
            "_view_module": "@jupyter-widgets/base",
            "_view_module_version": "1.2.0",
            "_view_name": "StyleView",
            "description_width": ""
          }
        },
        "4d8633a884d5447484eb74a929de9b34": {
          "model_module": "@jupyter-widgets/controls",
          "model_name": "HBoxModel",
          "model_module_version": "1.5.0",
          "state": {
            "_dom_classes": [],
            "_model_module": "@jupyter-widgets/controls",
            "_model_module_version": "1.5.0",
            "_model_name": "HBoxModel",
            "_view_count": null,
            "_view_module": "@jupyter-widgets/controls",
            "_view_module_version": "1.5.0",
            "_view_name": "HBoxView",
            "box_style": "",
            "children": [
              "IPY_MODEL_0814383b343646699bb0abdc2cc6eaa5",
              "IPY_MODEL_b301443e87084835bbf60840e593fff4",
              "IPY_MODEL_b94fa7e075634aeaba3e49704588c9fc"
            ],
            "layout": "IPY_MODEL_df69019a99f74f3d85e4196c3ecdeaa9"
          }
        },
        "0814383b343646699bb0abdc2cc6eaa5": {
          "model_module": "@jupyter-widgets/controls",
          "model_name": "HTMLModel",
          "model_module_version": "1.5.0",
          "state": {
            "_dom_classes": [],
            "_model_module": "@jupyter-widgets/controls",
            "_model_module_version": "1.5.0",
            "_model_name": "HTMLModel",
            "_view_count": null,
            "_view_module": "@jupyter-widgets/controls",
            "_view_module_version": "1.5.0",
            "_view_name": "HTMLView",
            "description": "",
            "description_tooltip": null,
            "layout": "IPY_MODEL_c3e4ac2d796f472abcb0e8cf3aeb215b",
            "placeholder": "​",
            "style": "IPY_MODEL_b64302279bbe4ad9ac8911ec3ce8c669",
            "value": "Extracting data files: 100%"
          }
        },
        "b301443e87084835bbf60840e593fff4": {
          "model_module": "@jupyter-widgets/controls",
          "model_name": "FloatProgressModel",
          "model_module_version": "1.5.0",
          "state": {
            "_dom_classes": [],
            "_model_module": "@jupyter-widgets/controls",
            "_model_module_version": "1.5.0",
            "_model_name": "FloatProgressModel",
            "_view_count": null,
            "_view_module": "@jupyter-widgets/controls",
            "_view_module_version": "1.5.0",
            "_view_name": "ProgressView",
            "bar_style": "success",
            "description": "",
            "description_tooltip": null,
            "layout": "IPY_MODEL_8d2bcbbb76e14e96983431d47a0ba5d8",
            "max": 1,
            "min": 0,
            "orientation": "horizontal",
            "style": "IPY_MODEL_047ca85f8b4b4aec95221335e36e9f94",
            "value": 1
          }
        },
        "b94fa7e075634aeaba3e49704588c9fc": {
          "model_module": "@jupyter-widgets/controls",
          "model_name": "HTMLModel",
          "model_module_version": "1.5.0",
          "state": {
            "_dom_classes": [],
            "_model_module": "@jupyter-widgets/controls",
            "_model_module_version": "1.5.0",
            "_model_name": "HTMLModel",
            "_view_count": null,
            "_view_module": "@jupyter-widgets/controls",
            "_view_module_version": "1.5.0",
            "_view_name": "HTMLView",
            "description": "",
            "description_tooltip": null,
            "layout": "IPY_MODEL_b578095631c44e458b8183cbbc250bf3",
            "placeholder": "​",
            "style": "IPY_MODEL_ca9c1fe2155e40e883ece793fbf0cbca",
            "value": " 1/1 [00:00&lt;00:00, 38.55it/s]"
          }
        },
        "df69019a99f74f3d85e4196c3ecdeaa9": {
          "model_module": "@jupyter-widgets/base",
          "model_name": "LayoutModel",
          "model_module_version": "1.2.0",
          "state": {
            "_model_module": "@jupyter-widgets/base",
            "_model_module_version": "1.2.0",
            "_model_name": "LayoutModel",
            "_view_count": null,
            "_view_module": "@jupyter-widgets/base",
            "_view_module_version": "1.2.0",
            "_view_name": "LayoutView",
            "align_content": null,
            "align_items": null,
            "align_self": null,
            "border": null,
            "bottom": null,
            "display": null,
            "flex": null,
            "flex_flow": null,
            "grid_area": null,
            "grid_auto_columns": null,
            "grid_auto_flow": null,
            "grid_auto_rows": null,
            "grid_column": null,
            "grid_gap": null,
            "grid_row": null,
            "grid_template_areas": null,
            "grid_template_columns": null,
            "grid_template_rows": null,
            "height": null,
            "justify_content": null,
            "justify_items": null,
            "left": null,
            "margin": null,
            "max_height": null,
            "max_width": null,
            "min_height": null,
            "min_width": null,
            "object_fit": null,
            "object_position": null,
            "order": null,
            "overflow": null,
            "overflow_x": null,
            "overflow_y": null,
            "padding": null,
            "right": null,
            "top": null,
            "visibility": null,
            "width": null
          }
        },
        "c3e4ac2d796f472abcb0e8cf3aeb215b": {
          "model_module": "@jupyter-widgets/base",
          "model_name": "LayoutModel",
          "model_module_version": "1.2.0",
          "state": {
            "_model_module": "@jupyter-widgets/base",
            "_model_module_version": "1.2.0",
            "_model_name": "LayoutModel",
            "_view_count": null,
            "_view_module": "@jupyter-widgets/base",
            "_view_module_version": "1.2.0",
            "_view_name": "LayoutView",
            "align_content": null,
            "align_items": null,
            "align_self": null,
            "border": null,
            "bottom": null,
            "display": null,
            "flex": null,
            "flex_flow": null,
            "grid_area": null,
            "grid_auto_columns": null,
            "grid_auto_flow": null,
            "grid_auto_rows": null,
            "grid_column": null,
            "grid_gap": null,
            "grid_row": null,
            "grid_template_areas": null,
            "grid_template_columns": null,
            "grid_template_rows": null,
            "height": null,
            "justify_content": null,
            "justify_items": null,
            "left": null,
            "margin": null,
            "max_height": null,
            "max_width": null,
            "min_height": null,
            "min_width": null,
            "object_fit": null,
            "object_position": null,
            "order": null,
            "overflow": null,
            "overflow_x": null,
            "overflow_y": null,
            "padding": null,
            "right": null,
            "top": null,
            "visibility": null,
            "width": null
          }
        },
        "b64302279bbe4ad9ac8911ec3ce8c669": {
          "model_module": "@jupyter-widgets/controls",
          "model_name": "DescriptionStyleModel",
          "model_module_version": "1.5.0",
          "state": {
            "_model_module": "@jupyter-widgets/controls",
            "_model_module_version": "1.5.0",
            "_model_name": "DescriptionStyleModel",
            "_view_count": null,
            "_view_module": "@jupyter-widgets/base",
            "_view_module_version": "1.2.0",
            "_view_name": "StyleView",
            "description_width": ""
          }
        },
        "8d2bcbbb76e14e96983431d47a0ba5d8": {
          "model_module": "@jupyter-widgets/base",
          "model_name": "LayoutModel",
          "model_module_version": "1.2.0",
          "state": {
            "_model_module": "@jupyter-widgets/base",
            "_model_module_version": "1.2.0",
            "_model_name": "LayoutModel",
            "_view_count": null,
            "_view_module": "@jupyter-widgets/base",
            "_view_module_version": "1.2.0",
            "_view_name": "LayoutView",
            "align_content": null,
            "align_items": null,
            "align_self": null,
            "border": null,
            "bottom": null,
            "display": null,
            "flex": null,
            "flex_flow": null,
            "grid_area": null,
            "grid_auto_columns": null,
            "grid_auto_flow": null,
            "grid_auto_rows": null,
            "grid_column": null,
            "grid_gap": null,
            "grid_row": null,
            "grid_template_areas": null,
            "grid_template_columns": null,
            "grid_template_rows": null,
            "height": null,
            "justify_content": null,
            "justify_items": null,
            "left": null,
            "margin": null,
            "max_height": null,
            "max_width": null,
            "min_height": null,
            "min_width": null,
            "object_fit": null,
            "object_position": null,
            "order": null,
            "overflow": null,
            "overflow_x": null,
            "overflow_y": null,
            "padding": null,
            "right": null,
            "top": null,
            "visibility": null,
            "width": null
          }
        },
        "047ca85f8b4b4aec95221335e36e9f94": {
          "model_module": "@jupyter-widgets/controls",
          "model_name": "ProgressStyleModel",
          "model_module_version": "1.5.0",
          "state": {
            "_model_module": "@jupyter-widgets/controls",
            "_model_module_version": "1.5.0",
            "_model_name": "ProgressStyleModel",
            "_view_count": null,
            "_view_module": "@jupyter-widgets/base",
            "_view_module_version": "1.2.0",
            "_view_name": "StyleView",
            "bar_color": null,
            "description_width": ""
          }
        },
        "b578095631c44e458b8183cbbc250bf3": {
          "model_module": "@jupyter-widgets/base",
          "model_name": "LayoutModel",
          "model_module_version": "1.2.0",
          "state": {
            "_model_module": "@jupyter-widgets/base",
            "_model_module_version": "1.2.0",
            "_model_name": "LayoutModel",
            "_view_count": null,
            "_view_module": "@jupyter-widgets/base",
            "_view_module_version": "1.2.0",
            "_view_name": "LayoutView",
            "align_content": null,
            "align_items": null,
            "align_self": null,
            "border": null,
            "bottom": null,
            "display": null,
            "flex": null,
            "flex_flow": null,
            "grid_area": null,
            "grid_auto_columns": null,
            "grid_auto_flow": null,
            "grid_auto_rows": null,
            "grid_column": null,
            "grid_gap": null,
            "grid_row": null,
            "grid_template_areas": null,
            "grid_template_columns": null,
            "grid_template_rows": null,
            "height": null,
            "justify_content": null,
            "justify_items": null,
            "left": null,
            "margin": null,
            "max_height": null,
            "max_width": null,
            "min_height": null,
            "min_width": null,
            "object_fit": null,
            "object_position": null,
            "order": null,
            "overflow": null,
            "overflow_x": null,
            "overflow_y": null,
            "padding": null,
            "right": null,
            "top": null,
            "visibility": null,
            "width": null
          }
        },
        "ca9c1fe2155e40e883ece793fbf0cbca": {
          "model_module": "@jupyter-widgets/controls",
          "model_name": "DescriptionStyleModel",
          "model_module_version": "1.5.0",
          "state": {
            "_model_module": "@jupyter-widgets/controls",
            "_model_module_version": "1.5.0",
            "_model_name": "DescriptionStyleModel",
            "_view_count": null,
            "_view_module": "@jupyter-widgets/base",
            "_view_module_version": "1.2.0",
            "_view_name": "StyleView",
            "description_width": ""
          }
        },
        "8ce37487097c412f9d0ae57047c49b51": {
          "model_module": "@jupyter-widgets/controls",
          "model_name": "HBoxModel",
          "model_module_version": "1.5.0",
          "state": {
            "_dom_classes": [],
            "_model_module": "@jupyter-widgets/controls",
            "_model_module_version": "1.5.0",
            "_model_name": "HBoxModel",
            "_view_count": null,
            "_view_module": "@jupyter-widgets/controls",
            "_view_module_version": "1.5.0",
            "_view_name": "HBoxView",
            "box_style": "",
            "children": [
              "IPY_MODEL_9660f9fbeded4ecf8937760889e6aa87",
              "IPY_MODEL_6022beb3b9364e87a433a59a5f98b93d",
              "IPY_MODEL_6db36778a9874e9a97a40d6bfd3749ff"
            ],
            "layout": "IPY_MODEL_6b5bbe787db44991949e832c93a85c95"
          }
        },
        "9660f9fbeded4ecf8937760889e6aa87": {
          "model_module": "@jupyter-widgets/controls",
          "model_name": "HTMLModel",
          "model_module_version": "1.5.0",
          "state": {
            "_dom_classes": [],
            "_model_module": "@jupyter-widgets/controls",
            "_model_module_version": "1.5.0",
            "_model_name": "HTMLModel",
            "_view_count": null,
            "_view_module": "@jupyter-widgets/controls",
            "_view_module_version": "1.5.0",
            "_view_name": "HTMLView",
            "description": "",
            "description_tooltip": null,
            "layout": "IPY_MODEL_af930445860a447fbb7349e04278c59d",
            "placeholder": "​",
            "style": "IPY_MODEL_df9d9f2fd5f24f3ea0c4e30dcf517ced",
            "value": "Generating train split: "
          }
        },
        "6022beb3b9364e87a433a59a5f98b93d": {
          "model_module": "@jupyter-widgets/controls",
          "model_name": "FloatProgressModel",
          "model_module_version": "1.5.0",
          "state": {
            "_dom_classes": [],
            "_model_module": "@jupyter-widgets/controls",
            "_model_module_version": "1.5.0",
            "_model_name": "FloatProgressModel",
            "_view_count": null,
            "_view_module": "@jupyter-widgets/controls",
            "_view_module_version": "1.5.0",
            "_view_name": "ProgressView",
            "bar_style": "info",
            "description": "",
            "description_tooltip": null,
            "layout": "IPY_MODEL_c6f085425be24266a43db4e5f4d3af3e",
            "max": 1,
            "min": 0,
            "orientation": "horizontal",
            "style": "IPY_MODEL_aa58ccddaff846a892a6385a5fa5f564",
            "value": 1
          }
        },
        "6db36778a9874e9a97a40d6bfd3749ff": {
          "model_module": "@jupyter-widgets/controls",
          "model_name": "HTMLModel",
          "model_module_version": "1.5.0",
          "state": {
            "_dom_classes": [],
            "_model_module": "@jupyter-widgets/controls",
            "_model_module_version": "1.5.0",
            "_model_name": "HTMLModel",
            "_view_count": null,
            "_view_module": "@jupyter-widgets/controls",
            "_view_module_version": "1.5.0",
            "_view_name": "HTMLView",
            "description": "",
            "description_tooltip": null,
            "layout": "IPY_MODEL_afe9a9817505400aa3e8cc482bb9f9e0",
            "placeholder": "​",
            "style": "IPY_MODEL_3771e23bb0004524ae5f35240969777a",
            "value": " 0/0 [00:00&lt;?, ? examples/s]"
          }
        },
        "6b5bbe787db44991949e832c93a85c95": {
          "model_module": "@jupyter-widgets/base",
          "model_name": "LayoutModel",
          "model_module_version": "1.2.0",
          "state": {
            "_model_module": "@jupyter-widgets/base",
            "_model_module_version": "1.2.0",
            "_model_name": "LayoutModel",
            "_view_count": null,
            "_view_module": "@jupyter-widgets/base",
            "_view_module_version": "1.2.0",
            "_view_name": "LayoutView",
            "align_content": null,
            "align_items": null,
            "align_self": null,
            "border": null,
            "bottom": null,
            "display": null,
            "flex": null,
            "flex_flow": null,
            "grid_area": null,
            "grid_auto_columns": null,
            "grid_auto_flow": null,
            "grid_auto_rows": null,
            "grid_column": null,
            "grid_gap": null,
            "grid_row": null,
            "grid_template_areas": null,
            "grid_template_columns": null,
            "grid_template_rows": null,
            "height": null,
            "justify_content": null,
            "justify_items": null,
            "left": null,
            "margin": null,
            "max_height": null,
            "max_width": null,
            "min_height": null,
            "min_width": null,
            "object_fit": null,
            "object_position": null,
            "order": null,
            "overflow": null,
            "overflow_x": null,
            "overflow_y": null,
            "padding": null,
            "right": null,
            "top": null,
            "visibility": "hidden",
            "width": null
          }
        },
        "af930445860a447fbb7349e04278c59d": {
          "model_module": "@jupyter-widgets/base",
          "model_name": "LayoutModel",
          "model_module_version": "1.2.0",
          "state": {
            "_model_module": "@jupyter-widgets/base",
            "_model_module_version": "1.2.0",
            "_model_name": "LayoutModel",
            "_view_count": null,
            "_view_module": "@jupyter-widgets/base",
            "_view_module_version": "1.2.0",
            "_view_name": "LayoutView",
            "align_content": null,
            "align_items": null,
            "align_self": null,
            "border": null,
            "bottom": null,
            "display": null,
            "flex": null,
            "flex_flow": null,
            "grid_area": null,
            "grid_auto_columns": null,
            "grid_auto_flow": null,
            "grid_auto_rows": null,
            "grid_column": null,
            "grid_gap": null,
            "grid_row": null,
            "grid_template_areas": null,
            "grid_template_columns": null,
            "grid_template_rows": null,
            "height": null,
            "justify_content": null,
            "justify_items": null,
            "left": null,
            "margin": null,
            "max_height": null,
            "max_width": null,
            "min_height": null,
            "min_width": null,
            "object_fit": null,
            "object_position": null,
            "order": null,
            "overflow": null,
            "overflow_x": null,
            "overflow_y": null,
            "padding": null,
            "right": null,
            "top": null,
            "visibility": null,
            "width": null
          }
        },
        "df9d9f2fd5f24f3ea0c4e30dcf517ced": {
          "model_module": "@jupyter-widgets/controls",
          "model_name": "DescriptionStyleModel",
          "model_module_version": "1.5.0",
          "state": {
            "_model_module": "@jupyter-widgets/controls",
            "_model_module_version": "1.5.0",
            "_model_name": "DescriptionStyleModel",
            "_view_count": null,
            "_view_module": "@jupyter-widgets/base",
            "_view_module_version": "1.2.0",
            "_view_name": "StyleView",
            "description_width": ""
          }
        },
        "c6f085425be24266a43db4e5f4d3af3e": {
          "model_module": "@jupyter-widgets/base",
          "model_name": "LayoutModel",
          "model_module_version": "1.2.0",
          "state": {
            "_model_module": "@jupyter-widgets/base",
            "_model_module_version": "1.2.0",
            "_model_name": "LayoutModel",
            "_view_count": null,
            "_view_module": "@jupyter-widgets/base",
            "_view_module_version": "1.2.0",
            "_view_name": "LayoutView",
            "align_content": null,
            "align_items": null,
            "align_self": null,
            "border": null,
            "bottom": null,
            "display": null,
            "flex": null,
            "flex_flow": null,
            "grid_area": null,
            "grid_auto_columns": null,
            "grid_auto_flow": null,
            "grid_auto_rows": null,
            "grid_column": null,
            "grid_gap": null,
            "grid_row": null,
            "grid_template_areas": null,
            "grid_template_columns": null,
            "grid_template_rows": null,
            "height": null,
            "justify_content": null,
            "justify_items": null,
            "left": null,
            "margin": null,
            "max_height": null,
            "max_width": null,
            "min_height": null,
            "min_width": null,
            "object_fit": null,
            "object_position": null,
            "order": null,
            "overflow": null,
            "overflow_x": null,
            "overflow_y": null,
            "padding": null,
            "right": null,
            "top": null,
            "visibility": null,
            "width": "20px"
          }
        },
        "aa58ccddaff846a892a6385a5fa5f564": {
          "model_module": "@jupyter-widgets/controls",
          "model_name": "ProgressStyleModel",
          "model_module_version": "1.5.0",
          "state": {
            "_model_module": "@jupyter-widgets/controls",
            "_model_module_version": "1.5.0",
            "_model_name": "ProgressStyleModel",
            "_view_count": null,
            "_view_module": "@jupyter-widgets/base",
            "_view_module_version": "1.2.0",
            "_view_name": "StyleView",
            "bar_color": null,
            "description_width": ""
          }
        },
        "afe9a9817505400aa3e8cc482bb9f9e0": {
          "model_module": "@jupyter-widgets/base",
          "model_name": "LayoutModel",
          "model_module_version": "1.2.0",
          "state": {
            "_model_module": "@jupyter-widgets/base",
            "_model_module_version": "1.2.0",
            "_model_name": "LayoutModel",
            "_view_count": null,
            "_view_module": "@jupyter-widgets/base",
            "_view_module_version": "1.2.0",
            "_view_name": "LayoutView",
            "align_content": null,
            "align_items": null,
            "align_self": null,
            "border": null,
            "bottom": null,
            "display": null,
            "flex": null,
            "flex_flow": null,
            "grid_area": null,
            "grid_auto_columns": null,
            "grid_auto_flow": null,
            "grid_auto_rows": null,
            "grid_column": null,
            "grid_gap": null,
            "grid_row": null,
            "grid_template_areas": null,
            "grid_template_columns": null,
            "grid_template_rows": null,
            "height": null,
            "justify_content": null,
            "justify_items": null,
            "left": null,
            "margin": null,
            "max_height": null,
            "max_width": null,
            "min_height": null,
            "min_width": null,
            "object_fit": null,
            "object_position": null,
            "order": null,
            "overflow": null,
            "overflow_x": null,
            "overflow_y": null,
            "padding": null,
            "right": null,
            "top": null,
            "visibility": null,
            "width": null
          }
        },
        "3771e23bb0004524ae5f35240969777a": {
          "model_module": "@jupyter-widgets/controls",
          "model_name": "DescriptionStyleModel",
          "model_module_version": "1.5.0",
          "state": {
            "_model_module": "@jupyter-widgets/controls",
            "_model_module_version": "1.5.0",
            "_model_name": "DescriptionStyleModel",
            "_view_count": null,
            "_view_module": "@jupyter-widgets/base",
            "_view_module_version": "1.2.0",
            "_view_name": "StyleView",
            "description_width": ""
          }
        },
        "da2acd6586d84533be681f7d72b1423a": {
          "model_module": "@jupyter-widgets/controls",
          "model_name": "HBoxModel",
          "model_module_version": "1.5.0",
          "state": {
            "_dom_classes": [],
            "_model_module": "@jupyter-widgets/controls",
            "_model_module_version": "1.5.0",
            "_model_name": "HBoxModel",
            "_view_count": null,
            "_view_module": "@jupyter-widgets/controls",
            "_view_module_version": "1.5.0",
            "_view_name": "HBoxView",
            "box_style": "",
            "children": [
              "IPY_MODEL_e37e876b90d2419682563a78172a348b",
              "IPY_MODEL_7a1dd9993f6849ef8fe6c54caa313e20",
              "IPY_MODEL_bb4b86c28b46467ab59230f50169fc3a"
            ],
            "layout": "IPY_MODEL_ce9616cc5ed54c8ba02ec8e73aef7236"
          }
        },
        "e37e876b90d2419682563a78172a348b": {
          "model_module": "@jupyter-widgets/controls",
          "model_name": "HTMLModel",
          "model_module_version": "1.5.0",
          "state": {
            "_dom_classes": [],
            "_model_module": "@jupyter-widgets/controls",
            "_model_module_version": "1.5.0",
            "_model_name": "HTMLModel",
            "_view_count": null,
            "_view_module": "@jupyter-widgets/controls",
            "_view_module_version": "1.5.0",
            "_view_name": "HTMLView",
            "description": "",
            "description_tooltip": null,
            "layout": "IPY_MODEL_35264510304b4218bad88472899b7dfb",
            "placeholder": "​",
            "style": "IPY_MODEL_3e578df2df534293957f48859621cb9e",
            "value": "Flattening the indices:   0%"
          }
        },
        "7a1dd9993f6849ef8fe6c54caa313e20": {
          "model_module": "@jupyter-widgets/controls",
          "model_name": "FloatProgressModel",
          "model_module_version": "1.5.0",
          "state": {
            "_dom_classes": [],
            "_model_module": "@jupyter-widgets/controls",
            "_model_module_version": "1.5.0",
            "_model_name": "FloatProgressModel",
            "_view_count": null,
            "_view_module": "@jupyter-widgets/controls",
            "_view_module_version": "1.5.0",
            "_view_name": "ProgressView",
            "bar_style": "",
            "description": "",
            "description_tooltip": null,
            "layout": "IPY_MODEL_463ea099601245f48b2303925787191d",
            "max": 97,
            "min": 0,
            "orientation": "horizontal",
            "style": "IPY_MODEL_95393e8e44a844958eea77027629ca5b",
            "value": 97
          }
        },
        "bb4b86c28b46467ab59230f50169fc3a": {
          "model_module": "@jupyter-widgets/controls",
          "model_name": "HTMLModel",
          "model_module_version": "1.5.0",
          "state": {
            "_dom_classes": [],
            "_model_module": "@jupyter-widgets/controls",
            "_model_module_version": "1.5.0",
            "_model_name": "HTMLModel",
            "_view_count": null,
            "_view_module": "@jupyter-widgets/controls",
            "_view_module_version": "1.5.0",
            "_view_name": "HTMLView",
            "description": "",
            "description_tooltip": null,
            "layout": "IPY_MODEL_2dd24121157a43088df685eb6647c9eb",
            "placeholder": "​",
            "style": "IPY_MODEL_d9a43aadd2b94ad599d0d19da33697df",
            "value": " 0/97 [00:00&lt;?, ? examples/s]"
          }
        },
        "ce9616cc5ed54c8ba02ec8e73aef7236": {
          "model_module": "@jupyter-widgets/base",
          "model_name": "LayoutModel",
          "model_module_version": "1.2.0",
          "state": {
            "_model_module": "@jupyter-widgets/base",
            "_model_module_version": "1.2.0",
            "_model_name": "LayoutModel",
            "_view_count": null,
            "_view_module": "@jupyter-widgets/base",
            "_view_module_version": "1.2.0",
            "_view_name": "LayoutView",
            "align_content": null,
            "align_items": null,
            "align_self": null,
            "border": null,
            "bottom": null,
            "display": null,
            "flex": null,
            "flex_flow": null,
            "grid_area": null,
            "grid_auto_columns": null,
            "grid_auto_flow": null,
            "grid_auto_rows": null,
            "grid_column": null,
            "grid_gap": null,
            "grid_row": null,
            "grid_template_areas": null,
            "grid_template_columns": null,
            "grid_template_rows": null,
            "height": null,
            "justify_content": null,
            "justify_items": null,
            "left": null,
            "margin": null,
            "max_height": null,
            "max_width": null,
            "min_height": null,
            "min_width": null,
            "object_fit": null,
            "object_position": null,
            "order": null,
            "overflow": null,
            "overflow_x": null,
            "overflow_y": null,
            "padding": null,
            "right": null,
            "top": null,
            "visibility": "hidden",
            "width": null
          }
        },
        "35264510304b4218bad88472899b7dfb": {
          "model_module": "@jupyter-widgets/base",
          "model_name": "LayoutModel",
          "model_module_version": "1.2.0",
          "state": {
            "_model_module": "@jupyter-widgets/base",
            "_model_module_version": "1.2.0",
            "_model_name": "LayoutModel",
            "_view_count": null,
            "_view_module": "@jupyter-widgets/base",
            "_view_module_version": "1.2.0",
            "_view_name": "LayoutView",
            "align_content": null,
            "align_items": null,
            "align_self": null,
            "border": null,
            "bottom": null,
            "display": null,
            "flex": null,
            "flex_flow": null,
            "grid_area": null,
            "grid_auto_columns": null,
            "grid_auto_flow": null,
            "grid_auto_rows": null,
            "grid_column": null,
            "grid_gap": null,
            "grid_row": null,
            "grid_template_areas": null,
            "grid_template_columns": null,
            "grid_template_rows": null,
            "height": null,
            "justify_content": null,
            "justify_items": null,
            "left": null,
            "margin": null,
            "max_height": null,
            "max_width": null,
            "min_height": null,
            "min_width": null,
            "object_fit": null,
            "object_position": null,
            "order": null,
            "overflow": null,
            "overflow_x": null,
            "overflow_y": null,
            "padding": null,
            "right": null,
            "top": null,
            "visibility": null,
            "width": null
          }
        },
        "3e578df2df534293957f48859621cb9e": {
          "model_module": "@jupyter-widgets/controls",
          "model_name": "DescriptionStyleModel",
          "model_module_version": "1.5.0",
          "state": {
            "_model_module": "@jupyter-widgets/controls",
            "_model_module_version": "1.5.0",
            "_model_name": "DescriptionStyleModel",
            "_view_count": null,
            "_view_module": "@jupyter-widgets/base",
            "_view_module_version": "1.2.0",
            "_view_name": "StyleView",
            "description_width": ""
          }
        },
        "463ea099601245f48b2303925787191d": {
          "model_module": "@jupyter-widgets/base",
          "model_name": "LayoutModel",
          "model_module_version": "1.2.0",
          "state": {
            "_model_module": "@jupyter-widgets/base",
            "_model_module_version": "1.2.0",
            "_model_name": "LayoutModel",
            "_view_count": null,
            "_view_module": "@jupyter-widgets/base",
            "_view_module_version": "1.2.0",
            "_view_name": "LayoutView",
            "align_content": null,
            "align_items": null,
            "align_self": null,
            "border": null,
            "bottom": null,
            "display": null,
            "flex": null,
            "flex_flow": null,
            "grid_area": null,
            "grid_auto_columns": null,
            "grid_auto_flow": null,
            "grid_auto_rows": null,
            "grid_column": null,
            "grid_gap": null,
            "grid_row": null,
            "grid_template_areas": null,
            "grid_template_columns": null,
            "grid_template_rows": null,
            "height": null,
            "justify_content": null,
            "justify_items": null,
            "left": null,
            "margin": null,
            "max_height": null,
            "max_width": null,
            "min_height": null,
            "min_width": null,
            "object_fit": null,
            "object_position": null,
            "order": null,
            "overflow": null,
            "overflow_x": null,
            "overflow_y": null,
            "padding": null,
            "right": null,
            "top": null,
            "visibility": null,
            "width": null
          }
        },
        "95393e8e44a844958eea77027629ca5b": {
          "model_module": "@jupyter-widgets/controls",
          "model_name": "ProgressStyleModel",
          "model_module_version": "1.5.0",
          "state": {
            "_model_module": "@jupyter-widgets/controls",
            "_model_module_version": "1.5.0",
            "_model_name": "ProgressStyleModel",
            "_view_count": null,
            "_view_module": "@jupyter-widgets/base",
            "_view_module_version": "1.2.0",
            "_view_name": "StyleView",
            "bar_color": null,
            "description_width": ""
          }
        },
        "2dd24121157a43088df685eb6647c9eb": {
          "model_module": "@jupyter-widgets/base",
          "model_name": "LayoutModel",
          "model_module_version": "1.2.0",
          "state": {
            "_model_module": "@jupyter-widgets/base",
            "_model_module_version": "1.2.0",
            "_model_name": "LayoutModel",
            "_view_count": null,
            "_view_module": "@jupyter-widgets/base",
            "_view_module_version": "1.2.0",
            "_view_name": "LayoutView",
            "align_content": null,
            "align_items": null,
            "align_self": null,
            "border": null,
            "bottom": null,
            "display": null,
            "flex": null,
            "flex_flow": null,
            "grid_area": null,
            "grid_auto_columns": null,
            "grid_auto_flow": null,
            "grid_auto_rows": null,
            "grid_column": null,
            "grid_gap": null,
            "grid_row": null,
            "grid_template_areas": null,
            "grid_template_columns": null,
            "grid_template_rows": null,
            "height": null,
            "justify_content": null,
            "justify_items": null,
            "left": null,
            "margin": null,
            "max_height": null,
            "max_width": null,
            "min_height": null,
            "min_width": null,
            "object_fit": null,
            "object_position": null,
            "order": null,
            "overflow": null,
            "overflow_x": null,
            "overflow_y": null,
            "padding": null,
            "right": null,
            "top": null,
            "visibility": null,
            "width": null
          }
        },
        "d9a43aadd2b94ad599d0d19da33697df": {
          "model_module": "@jupyter-widgets/controls",
          "model_name": "DescriptionStyleModel",
          "model_module_version": "1.5.0",
          "state": {
            "_model_module": "@jupyter-widgets/controls",
            "_model_module_version": "1.5.0",
            "_model_name": "DescriptionStyleModel",
            "_view_count": null,
            "_view_module": "@jupyter-widgets/base",
            "_view_module_version": "1.2.0",
            "_view_name": "StyleView",
            "description_width": ""
          }
        },
        "36b3681722d740349a11317d85d78a5a": {
          "model_module": "@jupyter-widgets/controls",
          "model_name": "HBoxModel",
          "model_module_version": "1.5.0",
          "state": {
            "_dom_classes": [],
            "_model_module": "@jupyter-widgets/controls",
            "_model_module_version": "1.5.0",
            "_model_name": "HBoxModel",
            "_view_count": null,
            "_view_module": "@jupyter-widgets/controls",
            "_view_module_version": "1.5.0",
            "_view_name": "HBoxView",
            "box_style": "",
            "children": [
              "IPY_MODEL_8716550ae74841b786135fae8b80f071",
              "IPY_MODEL_8151b6034bbd4304869ade0d18d20de5",
              "IPY_MODEL_c856049c38284115a27a155a85a98418"
            ],
            "layout": "IPY_MODEL_b858971f0549442a9cb4f62e997d170e"
          }
        },
        "8716550ae74841b786135fae8b80f071": {
          "model_module": "@jupyter-widgets/controls",
          "model_name": "HTMLModel",
          "model_module_version": "1.5.0",
          "state": {
            "_dom_classes": [],
            "_model_module": "@jupyter-widgets/controls",
            "_model_module_version": "1.5.0",
            "_model_name": "HTMLModel",
            "_view_count": null,
            "_view_module": "@jupyter-widgets/controls",
            "_view_module_version": "1.5.0",
            "_view_name": "HTMLView",
            "description": "",
            "description_tooltip": null,
            "layout": "IPY_MODEL_601114d1bd7a498a9946c6b3a0ab19eb",
            "placeholder": "​",
            "style": "IPY_MODEL_8e6ae1ff61a8406b9fbe2c15359f8548",
            "value": "Flattening the indices:   0%"
          }
        },
        "8151b6034bbd4304869ade0d18d20de5": {
          "model_module": "@jupyter-widgets/controls",
          "model_name": "FloatProgressModel",
          "model_module_version": "1.5.0",
          "state": {
            "_dom_classes": [],
            "_model_module": "@jupyter-widgets/controls",
            "_model_module_version": "1.5.0",
            "_model_name": "FloatProgressModel",
            "_view_count": null,
            "_view_module": "@jupyter-widgets/controls",
            "_view_module_version": "1.5.0",
            "_view_name": "ProgressView",
            "bar_style": "",
            "description": "",
            "description_tooltip": null,
            "layout": "IPY_MODEL_c602b10e9b6a47beabbf324e0e313fcf",
            "max": 42,
            "min": 0,
            "orientation": "horizontal",
            "style": "IPY_MODEL_c07f7a86d649401c89335d7c3aa55813",
            "value": 42
          }
        },
        "c856049c38284115a27a155a85a98418": {
          "model_module": "@jupyter-widgets/controls",
          "model_name": "HTMLModel",
          "model_module_version": "1.5.0",
          "state": {
            "_dom_classes": [],
            "_model_module": "@jupyter-widgets/controls",
            "_model_module_version": "1.5.0",
            "_model_name": "HTMLModel",
            "_view_count": null,
            "_view_module": "@jupyter-widgets/controls",
            "_view_module_version": "1.5.0",
            "_view_name": "HTMLView",
            "description": "",
            "description_tooltip": null,
            "layout": "IPY_MODEL_38064f7dcef34deb94d910969a9a15c8",
            "placeholder": "​",
            "style": "IPY_MODEL_67ab14cdacd94c36b80b07c9848959f7",
            "value": " 0/42 [00:00&lt;?, ? examples/s]"
          }
        },
        "b858971f0549442a9cb4f62e997d170e": {
          "model_module": "@jupyter-widgets/base",
          "model_name": "LayoutModel",
          "model_module_version": "1.2.0",
          "state": {
            "_model_module": "@jupyter-widgets/base",
            "_model_module_version": "1.2.0",
            "_model_name": "LayoutModel",
            "_view_count": null,
            "_view_module": "@jupyter-widgets/base",
            "_view_module_version": "1.2.0",
            "_view_name": "LayoutView",
            "align_content": null,
            "align_items": null,
            "align_self": null,
            "border": null,
            "bottom": null,
            "display": null,
            "flex": null,
            "flex_flow": null,
            "grid_area": null,
            "grid_auto_columns": null,
            "grid_auto_flow": null,
            "grid_auto_rows": null,
            "grid_column": null,
            "grid_gap": null,
            "grid_row": null,
            "grid_template_areas": null,
            "grid_template_columns": null,
            "grid_template_rows": null,
            "height": null,
            "justify_content": null,
            "justify_items": null,
            "left": null,
            "margin": null,
            "max_height": null,
            "max_width": null,
            "min_height": null,
            "min_width": null,
            "object_fit": null,
            "object_position": null,
            "order": null,
            "overflow": null,
            "overflow_x": null,
            "overflow_y": null,
            "padding": null,
            "right": null,
            "top": null,
            "visibility": "hidden",
            "width": null
          }
        },
        "601114d1bd7a498a9946c6b3a0ab19eb": {
          "model_module": "@jupyter-widgets/base",
          "model_name": "LayoutModel",
          "model_module_version": "1.2.0",
          "state": {
            "_model_module": "@jupyter-widgets/base",
            "_model_module_version": "1.2.0",
            "_model_name": "LayoutModel",
            "_view_count": null,
            "_view_module": "@jupyter-widgets/base",
            "_view_module_version": "1.2.0",
            "_view_name": "LayoutView",
            "align_content": null,
            "align_items": null,
            "align_self": null,
            "border": null,
            "bottom": null,
            "display": null,
            "flex": null,
            "flex_flow": null,
            "grid_area": null,
            "grid_auto_columns": null,
            "grid_auto_flow": null,
            "grid_auto_rows": null,
            "grid_column": null,
            "grid_gap": null,
            "grid_row": null,
            "grid_template_areas": null,
            "grid_template_columns": null,
            "grid_template_rows": null,
            "height": null,
            "justify_content": null,
            "justify_items": null,
            "left": null,
            "margin": null,
            "max_height": null,
            "max_width": null,
            "min_height": null,
            "min_width": null,
            "object_fit": null,
            "object_position": null,
            "order": null,
            "overflow": null,
            "overflow_x": null,
            "overflow_y": null,
            "padding": null,
            "right": null,
            "top": null,
            "visibility": null,
            "width": null
          }
        },
        "8e6ae1ff61a8406b9fbe2c15359f8548": {
          "model_module": "@jupyter-widgets/controls",
          "model_name": "DescriptionStyleModel",
          "model_module_version": "1.5.0",
          "state": {
            "_model_module": "@jupyter-widgets/controls",
            "_model_module_version": "1.5.0",
            "_model_name": "DescriptionStyleModel",
            "_view_count": null,
            "_view_module": "@jupyter-widgets/base",
            "_view_module_version": "1.2.0",
            "_view_name": "StyleView",
            "description_width": ""
          }
        },
        "c602b10e9b6a47beabbf324e0e313fcf": {
          "model_module": "@jupyter-widgets/base",
          "model_name": "LayoutModel",
          "model_module_version": "1.2.0",
          "state": {
            "_model_module": "@jupyter-widgets/base",
            "_model_module_version": "1.2.0",
            "_model_name": "LayoutModel",
            "_view_count": null,
            "_view_module": "@jupyter-widgets/base",
            "_view_module_version": "1.2.0",
            "_view_name": "LayoutView",
            "align_content": null,
            "align_items": null,
            "align_self": null,
            "border": null,
            "bottom": null,
            "display": null,
            "flex": null,
            "flex_flow": null,
            "grid_area": null,
            "grid_auto_columns": null,
            "grid_auto_flow": null,
            "grid_auto_rows": null,
            "grid_column": null,
            "grid_gap": null,
            "grid_row": null,
            "grid_template_areas": null,
            "grid_template_columns": null,
            "grid_template_rows": null,
            "height": null,
            "justify_content": null,
            "justify_items": null,
            "left": null,
            "margin": null,
            "max_height": null,
            "max_width": null,
            "min_height": null,
            "min_width": null,
            "object_fit": null,
            "object_position": null,
            "order": null,
            "overflow": null,
            "overflow_x": null,
            "overflow_y": null,
            "padding": null,
            "right": null,
            "top": null,
            "visibility": null,
            "width": null
          }
        },
        "c07f7a86d649401c89335d7c3aa55813": {
          "model_module": "@jupyter-widgets/controls",
          "model_name": "ProgressStyleModel",
          "model_module_version": "1.5.0",
          "state": {
            "_model_module": "@jupyter-widgets/controls",
            "_model_module_version": "1.5.0",
            "_model_name": "ProgressStyleModel",
            "_view_count": null,
            "_view_module": "@jupyter-widgets/base",
            "_view_module_version": "1.2.0",
            "_view_name": "StyleView",
            "bar_color": null,
            "description_width": ""
          }
        },
        "38064f7dcef34deb94d910969a9a15c8": {
          "model_module": "@jupyter-widgets/base",
          "model_name": "LayoutModel",
          "model_module_version": "1.2.0",
          "state": {
            "_model_module": "@jupyter-widgets/base",
            "_model_module_version": "1.2.0",
            "_model_name": "LayoutModel",
            "_view_count": null,
            "_view_module": "@jupyter-widgets/base",
            "_view_module_version": "1.2.0",
            "_view_name": "LayoutView",
            "align_content": null,
            "align_items": null,
            "align_self": null,
            "border": null,
            "bottom": null,
            "display": null,
            "flex": null,
            "flex_flow": null,
            "grid_area": null,
            "grid_auto_columns": null,
            "grid_auto_flow": null,
            "grid_auto_rows": null,
            "grid_column": null,
            "grid_gap": null,
            "grid_row": null,
            "grid_template_areas": null,
            "grid_template_columns": null,
            "grid_template_rows": null,
            "height": null,
            "justify_content": null,
            "justify_items": null,
            "left": null,
            "margin": null,
            "max_height": null,
            "max_width": null,
            "min_height": null,
            "min_width": null,
            "object_fit": null,
            "object_position": null,
            "order": null,
            "overflow": null,
            "overflow_x": null,
            "overflow_y": null,
            "padding": null,
            "right": null,
            "top": null,
            "visibility": null,
            "width": null
          }
        },
        "67ab14cdacd94c36b80b07c9848959f7": {
          "model_module": "@jupyter-widgets/controls",
          "model_name": "DescriptionStyleModel",
          "model_module_version": "1.5.0",
          "state": {
            "_model_module": "@jupyter-widgets/controls",
            "_model_module_version": "1.5.0",
            "_model_name": "DescriptionStyleModel",
            "_view_count": null,
            "_view_module": "@jupyter-widgets/base",
            "_view_module_version": "1.2.0",
            "_view_name": "StyleView",
            "description_width": ""
          }
        },
        "cac01839ee194ca299ecc0123c4fd873": {
          "model_module": "@jupyter-widgets/controls",
          "model_name": "HBoxModel",
          "model_module_version": "1.5.0",
          "state": {
            "_dom_classes": [],
            "_model_module": "@jupyter-widgets/controls",
            "_model_module_version": "1.5.0",
            "_model_name": "HBoxModel",
            "_view_count": null,
            "_view_module": "@jupyter-widgets/controls",
            "_view_module_version": "1.5.0",
            "_view_name": "HBoxView",
            "box_style": "",
            "children": [
              "IPY_MODEL_00781d077b33451c9d189756c113d363",
              "IPY_MODEL_75611b8c2d6741f2ada07bdb826be4ba",
              "IPY_MODEL_ecc12077db284be78d1efe39783a3586"
            ],
            "layout": "IPY_MODEL_05b6b209ca5848f882e0599dafffee71"
          }
        },
        "00781d077b33451c9d189756c113d363": {
          "model_module": "@jupyter-widgets/controls",
          "model_name": "HTMLModel",
          "model_module_version": "1.5.0",
          "state": {
            "_dom_classes": [],
            "_model_module": "@jupyter-widgets/controls",
            "_model_module_version": "1.5.0",
            "_model_name": "HTMLModel",
            "_view_count": null,
            "_view_module": "@jupyter-widgets/controls",
            "_view_module_version": "1.5.0",
            "_view_name": "HTMLView",
            "description": "",
            "description_tooltip": null,
            "layout": "IPY_MODEL_f9fd9551df524fa7984213ee8f022e39",
            "placeholder": "​",
            "style": "IPY_MODEL_525a410c7e8d473c92e67b3999742d4e",
            "value": "Casting to class labels:   0%"
          }
        },
        "75611b8c2d6741f2ada07bdb826be4ba": {
          "model_module": "@jupyter-widgets/controls",
          "model_name": "FloatProgressModel",
          "model_module_version": "1.5.0",
          "state": {
            "_dom_classes": [],
            "_model_module": "@jupyter-widgets/controls",
            "_model_module_version": "1.5.0",
            "_model_name": "FloatProgressModel",
            "_view_count": null,
            "_view_module": "@jupyter-widgets/controls",
            "_view_module_version": "1.5.0",
            "_view_name": "ProgressView",
            "bar_style": "",
            "description": "",
            "description_tooltip": null,
            "layout": "IPY_MODEL_613e822426b8446c8992dc4d6a2ce03a",
            "max": 97,
            "min": 0,
            "orientation": "horizontal",
            "style": "IPY_MODEL_3e9daac5f0af4bc3a629719568753dfa",
            "value": 97
          }
        },
        "ecc12077db284be78d1efe39783a3586": {
          "model_module": "@jupyter-widgets/controls",
          "model_name": "HTMLModel",
          "model_module_version": "1.5.0",
          "state": {
            "_dom_classes": [],
            "_model_module": "@jupyter-widgets/controls",
            "_model_module_version": "1.5.0",
            "_model_name": "HTMLModel",
            "_view_count": null,
            "_view_module": "@jupyter-widgets/controls",
            "_view_module_version": "1.5.0",
            "_view_name": "HTMLView",
            "description": "",
            "description_tooltip": null,
            "layout": "IPY_MODEL_e30c840777e44207919431101081dfc2",
            "placeholder": "​",
            "style": "IPY_MODEL_e50b033200064df7ad5c765135174ffb",
            "value": " 0/97 [00:00&lt;?, ? examples/s]"
          }
        },
        "05b6b209ca5848f882e0599dafffee71": {
          "model_module": "@jupyter-widgets/base",
          "model_name": "LayoutModel",
          "model_module_version": "1.2.0",
          "state": {
            "_model_module": "@jupyter-widgets/base",
            "_model_module_version": "1.2.0",
            "_model_name": "LayoutModel",
            "_view_count": null,
            "_view_module": "@jupyter-widgets/base",
            "_view_module_version": "1.2.0",
            "_view_name": "LayoutView",
            "align_content": null,
            "align_items": null,
            "align_self": null,
            "border": null,
            "bottom": null,
            "display": null,
            "flex": null,
            "flex_flow": null,
            "grid_area": null,
            "grid_auto_columns": null,
            "grid_auto_flow": null,
            "grid_auto_rows": null,
            "grid_column": null,
            "grid_gap": null,
            "grid_row": null,
            "grid_template_areas": null,
            "grid_template_columns": null,
            "grid_template_rows": null,
            "height": null,
            "justify_content": null,
            "justify_items": null,
            "left": null,
            "margin": null,
            "max_height": null,
            "max_width": null,
            "min_height": null,
            "min_width": null,
            "object_fit": null,
            "object_position": null,
            "order": null,
            "overflow": null,
            "overflow_x": null,
            "overflow_y": null,
            "padding": null,
            "right": null,
            "top": null,
            "visibility": "hidden",
            "width": null
          }
        },
        "f9fd9551df524fa7984213ee8f022e39": {
          "model_module": "@jupyter-widgets/base",
          "model_name": "LayoutModel",
          "model_module_version": "1.2.0",
          "state": {
            "_model_module": "@jupyter-widgets/base",
            "_model_module_version": "1.2.0",
            "_model_name": "LayoutModel",
            "_view_count": null,
            "_view_module": "@jupyter-widgets/base",
            "_view_module_version": "1.2.0",
            "_view_name": "LayoutView",
            "align_content": null,
            "align_items": null,
            "align_self": null,
            "border": null,
            "bottom": null,
            "display": null,
            "flex": null,
            "flex_flow": null,
            "grid_area": null,
            "grid_auto_columns": null,
            "grid_auto_flow": null,
            "grid_auto_rows": null,
            "grid_column": null,
            "grid_gap": null,
            "grid_row": null,
            "grid_template_areas": null,
            "grid_template_columns": null,
            "grid_template_rows": null,
            "height": null,
            "justify_content": null,
            "justify_items": null,
            "left": null,
            "margin": null,
            "max_height": null,
            "max_width": null,
            "min_height": null,
            "min_width": null,
            "object_fit": null,
            "object_position": null,
            "order": null,
            "overflow": null,
            "overflow_x": null,
            "overflow_y": null,
            "padding": null,
            "right": null,
            "top": null,
            "visibility": null,
            "width": null
          }
        },
        "525a410c7e8d473c92e67b3999742d4e": {
          "model_module": "@jupyter-widgets/controls",
          "model_name": "DescriptionStyleModel",
          "model_module_version": "1.5.0",
          "state": {
            "_model_module": "@jupyter-widgets/controls",
            "_model_module_version": "1.5.0",
            "_model_name": "DescriptionStyleModel",
            "_view_count": null,
            "_view_module": "@jupyter-widgets/base",
            "_view_module_version": "1.2.0",
            "_view_name": "StyleView",
            "description_width": ""
          }
        },
        "613e822426b8446c8992dc4d6a2ce03a": {
          "model_module": "@jupyter-widgets/base",
          "model_name": "LayoutModel",
          "model_module_version": "1.2.0",
          "state": {
            "_model_module": "@jupyter-widgets/base",
            "_model_module_version": "1.2.0",
            "_model_name": "LayoutModel",
            "_view_count": null,
            "_view_module": "@jupyter-widgets/base",
            "_view_module_version": "1.2.0",
            "_view_name": "LayoutView",
            "align_content": null,
            "align_items": null,
            "align_self": null,
            "border": null,
            "bottom": null,
            "display": null,
            "flex": null,
            "flex_flow": null,
            "grid_area": null,
            "grid_auto_columns": null,
            "grid_auto_flow": null,
            "grid_auto_rows": null,
            "grid_column": null,
            "grid_gap": null,
            "grid_row": null,
            "grid_template_areas": null,
            "grid_template_columns": null,
            "grid_template_rows": null,
            "height": null,
            "justify_content": null,
            "justify_items": null,
            "left": null,
            "margin": null,
            "max_height": null,
            "max_width": null,
            "min_height": null,
            "min_width": null,
            "object_fit": null,
            "object_position": null,
            "order": null,
            "overflow": null,
            "overflow_x": null,
            "overflow_y": null,
            "padding": null,
            "right": null,
            "top": null,
            "visibility": null,
            "width": null
          }
        },
        "3e9daac5f0af4bc3a629719568753dfa": {
          "model_module": "@jupyter-widgets/controls",
          "model_name": "ProgressStyleModel",
          "model_module_version": "1.5.0",
          "state": {
            "_model_module": "@jupyter-widgets/controls",
            "_model_module_version": "1.5.0",
            "_model_name": "ProgressStyleModel",
            "_view_count": null,
            "_view_module": "@jupyter-widgets/base",
            "_view_module_version": "1.2.0",
            "_view_name": "StyleView",
            "bar_color": null,
            "description_width": ""
          }
        },
        "e30c840777e44207919431101081dfc2": {
          "model_module": "@jupyter-widgets/base",
          "model_name": "LayoutModel",
          "model_module_version": "1.2.0",
          "state": {
            "_model_module": "@jupyter-widgets/base",
            "_model_module_version": "1.2.0",
            "_model_name": "LayoutModel",
            "_view_count": null,
            "_view_module": "@jupyter-widgets/base",
            "_view_module_version": "1.2.0",
            "_view_name": "LayoutView",
            "align_content": null,
            "align_items": null,
            "align_self": null,
            "border": null,
            "bottom": null,
            "display": null,
            "flex": null,
            "flex_flow": null,
            "grid_area": null,
            "grid_auto_columns": null,
            "grid_auto_flow": null,
            "grid_auto_rows": null,
            "grid_column": null,
            "grid_gap": null,
            "grid_row": null,
            "grid_template_areas": null,
            "grid_template_columns": null,
            "grid_template_rows": null,
            "height": null,
            "justify_content": null,
            "justify_items": null,
            "left": null,
            "margin": null,
            "max_height": null,
            "max_width": null,
            "min_height": null,
            "min_width": null,
            "object_fit": null,
            "object_position": null,
            "order": null,
            "overflow": null,
            "overflow_x": null,
            "overflow_y": null,
            "padding": null,
            "right": null,
            "top": null,
            "visibility": null,
            "width": null
          }
        },
        "e50b033200064df7ad5c765135174ffb": {
          "model_module": "@jupyter-widgets/controls",
          "model_name": "DescriptionStyleModel",
          "model_module_version": "1.5.0",
          "state": {
            "_model_module": "@jupyter-widgets/controls",
            "_model_module_version": "1.5.0",
            "_model_name": "DescriptionStyleModel",
            "_view_count": null,
            "_view_module": "@jupyter-widgets/base",
            "_view_module_version": "1.2.0",
            "_view_name": "StyleView",
            "description_width": ""
          }
        },
        "93ad5340d0a0456cb148d3c65ea6133a": {
          "model_module": "@jupyter-widgets/controls",
          "model_name": "HBoxModel",
          "model_module_version": "1.5.0",
          "state": {
            "_dom_classes": [],
            "_model_module": "@jupyter-widgets/controls",
            "_model_module_version": "1.5.0",
            "_model_name": "HBoxModel",
            "_view_count": null,
            "_view_module": "@jupyter-widgets/controls",
            "_view_module_version": "1.5.0",
            "_view_name": "HBoxView",
            "box_style": "",
            "children": [
              "IPY_MODEL_71886017dc2e46f887cfc81075e3e97f",
              "IPY_MODEL_26c0c89043ac4e6f87c14549d6c41c51",
              "IPY_MODEL_eeeefc70b01a496e8853bb9d1bead9bd"
            ],
            "layout": "IPY_MODEL_5c7455a89fb74cd6a8ffdd65e80920aa"
          }
        },
        "71886017dc2e46f887cfc81075e3e97f": {
          "model_module": "@jupyter-widgets/controls",
          "model_name": "HTMLModel",
          "model_module_version": "1.5.0",
          "state": {
            "_dom_classes": [],
            "_model_module": "@jupyter-widgets/controls",
            "_model_module_version": "1.5.0",
            "_model_name": "HTMLModel",
            "_view_count": null,
            "_view_module": "@jupyter-widgets/controls",
            "_view_module_version": "1.5.0",
            "_view_name": "HTMLView",
            "description": "",
            "description_tooltip": null,
            "layout": "IPY_MODEL_f25a47fa65e94d33a6ea789c87dc8066",
            "placeholder": "​",
            "style": "IPY_MODEL_aa421ae90f614ae39f13ef7ac95bc42f",
            "value": "Casting to class labels:   0%"
          }
        },
        "26c0c89043ac4e6f87c14549d6c41c51": {
          "model_module": "@jupyter-widgets/controls",
          "model_name": "FloatProgressModel",
          "model_module_version": "1.5.0",
          "state": {
            "_dom_classes": [],
            "_model_module": "@jupyter-widgets/controls",
            "_model_module_version": "1.5.0",
            "_model_name": "FloatProgressModel",
            "_view_count": null,
            "_view_module": "@jupyter-widgets/controls",
            "_view_module_version": "1.5.0",
            "_view_name": "ProgressView",
            "bar_style": "",
            "description": "",
            "description_tooltip": null,
            "layout": "IPY_MODEL_5e981a65d83841f4b748622f66ec7a13",
            "max": 42,
            "min": 0,
            "orientation": "horizontal",
            "style": "IPY_MODEL_8062bf3b3e1b4d39ba23d08d56683813",
            "value": 42
          }
        },
        "eeeefc70b01a496e8853bb9d1bead9bd": {
          "model_module": "@jupyter-widgets/controls",
          "model_name": "HTMLModel",
          "model_module_version": "1.5.0",
          "state": {
            "_dom_classes": [],
            "_model_module": "@jupyter-widgets/controls",
            "_model_module_version": "1.5.0",
            "_model_name": "HTMLModel",
            "_view_count": null,
            "_view_module": "@jupyter-widgets/controls",
            "_view_module_version": "1.5.0",
            "_view_name": "HTMLView",
            "description": "",
            "description_tooltip": null,
            "layout": "IPY_MODEL_3cbe6f68c2334426946a7a15d1c4d545",
            "placeholder": "​",
            "style": "IPY_MODEL_a75e9494ecd448b589eabcce20588c64",
            "value": " 0/42 [00:00&lt;?, ? examples/s]"
          }
        },
        "5c7455a89fb74cd6a8ffdd65e80920aa": {
          "model_module": "@jupyter-widgets/base",
          "model_name": "LayoutModel",
          "model_module_version": "1.2.0",
          "state": {
            "_model_module": "@jupyter-widgets/base",
            "_model_module_version": "1.2.0",
            "_model_name": "LayoutModel",
            "_view_count": null,
            "_view_module": "@jupyter-widgets/base",
            "_view_module_version": "1.2.0",
            "_view_name": "LayoutView",
            "align_content": null,
            "align_items": null,
            "align_self": null,
            "border": null,
            "bottom": null,
            "display": null,
            "flex": null,
            "flex_flow": null,
            "grid_area": null,
            "grid_auto_columns": null,
            "grid_auto_flow": null,
            "grid_auto_rows": null,
            "grid_column": null,
            "grid_gap": null,
            "grid_row": null,
            "grid_template_areas": null,
            "grid_template_columns": null,
            "grid_template_rows": null,
            "height": null,
            "justify_content": null,
            "justify_items": null,
            "left": null,
            "margin": null,
            "max_height": null,
            "max_width": null,
            "min_height": null,
            "min_width": null,
            "object_fit": null,
            "object_position": null,
            "order": null,
            "overflow": null,
            "overflow_x": null,
            "overflow_y": null,
            "padding": null,
            "right": null,
            "top": null,
            "visibility": "hidden",
            "width": null
          }
        },
        "f25a47fa65e94d33a6ea789c87dc8066": {
          "model_module": "@jupyter-widgets/base",
          "model_name": "LayoutModel",
          "model_module_version": "1.2.0",
          "state": {
            "_model_module": "@jupyter-widgets/base",
            "_model_module_version": "1.2.0",
            "_model_name": "LayoutModel",
            "_view_count": null,
            "_view_module": "@jupyter-widgets/base",
            "_view_module_version": "1.2.0",
            "_view_name": "LayoutView",
            "align_content": null,
            "align_items": null,
            "align_self": null,
            "border": null,
            "bottom": null,
            "display": null,
            "flex": null,
            "flex_flow": null,
            "grid_area": null,
            "grid_auto_columns": null,
            "grid_auto_flow": null,
            "grid_auto_rows": null,
            "grid_column": null,
            "grid_gap": null,
            "grid_row": null,
            "grid_template_areas": null,
            "grid_template_columns": null,
            "grid_template_rows": null,
            "height": null,
            "justify_content": null,
            "justify_items": null,
            "left": null,
            "margin": null,
            "max_height": null,
            "max_width": null,
            "min_height": null,
            "min_width": null,
            "object_fit": null,
            "object_position": null,
            "order": null,
            "overflow": null,
            "overflow_x": null,
            "overflow_y": null,
            "padding": null,
            "right": null,
            "top": null,
            "visibility": null,
            "width": null
          }
        },
        "aa421ae90f614ae39f13ef7ac95bc42f": {
          "model_module": "@jupyter-widgets/controls",
          "model_name": "DescriptionStyleModel",
          "model_module_version": "1.5.0",
          "state": {
            "_model_module": "@jupyter-widgets/controls",
            "_model_module_version": "1.5.0",
            "_model_name": "DescriptionStyleModel",
            "_view_count": null,
            "_view_module": "@jupyter-widgets/base",
            "_view_module_version": "1.2.0",
            "_view_name": "StyleView",
            "description_width": ""
          }
        },
        "5e981a65d83841f4b748622f66ec7a13": {
          "model_module": "@jupyter-widgets/base",
          "model_name": "LayoutModel",
          "model_module_version": "1.2.0",
          "state": {
            "_model_module": "@jupyter-widgets/base",
            "_model_module_version": "1.2.0",
            "_model_name": "LayoutModel",
            "_view_count": null,
            "_view_module": "@jupyter-widgets/base",
            "_view_module_version": "1.2.0",
            "_view_name": "LayoutView",
            "align_content": null,
            "align_items": null,
            "align_self": null,
            "border": null,
            "bottom": null,
            "display": null,
            "flex": null,
            "flex_flow": null,
            "grid_area": null,
            "grid_auto_columns": null,
            "grid_auto_flow": null,
            "grid_auto_rows": null,
            "grid_column": null,
            "grid_gap": null,
            "grid_row": null,
            "grid_template_areas": null,
            "grid_template_columns": null,
            "grid_template_rows": null,
            "height": null,
            "justify_content": null,
            "justify_items": null,
            "left": null,
            "margin": null,
            "max_height": null,
            "max_width": null,
            "min_height": null,
            "min_width": null,
            "object_fit": null,
            "object_position": null,
            "order": null,
            "overflow": null,
            "overflow_x": null,
            "overflow_y": null,
            "padding": null,
            "right": null,
            "top": null,
            "visibility": null,
            "width": null
          }
        },
        "8062bf3b3e1b4d39ba23d08d56683813": {
          "model_module": "@jupyter-widgets/controls",
          "model_name": "ProgressStyleModel",
          "model_module_version": "1.5.0",
          "state": {
            "_model_module": "@jupyter-widgets/controls",
            "_model_module_version": "1.5.0",
            "_model_name": "ProgressStyleModel",
            "_view_count": null,
            "_view_module": "@jupyter-widgets/base",
            "_view_module_version": "1.2.0",
            "_view_name": "StyleView",
            "bar_color": null,
            "description_width": ""
          }
        },
        "3cbe6f68c2334426946a7a15d1c4d545": {
          "model_module": "@jupyter-widgets/base",
          "model_name": "LayoutModel",
          "model_module_version": "1.2.0",
          "state": {
            "_model_module": "@jupyter-widgets/base",
            "_model_module_version": "1.2.0",
            "_model_name": "LayoutModel",
            "_view_count": null,
            "_view_module": "@jupyter-widgets/base",
            "_view_module_version": "1.2.0",
            "_view_name": "LayoutView",
            "align_content": null,
            "align_items": null,
            "align_self": null,
            "border": null,
            "bottom": null,
            "display": null,
            "flex": null,
            "flex_flow": null,
            "grid_area": null,
            "grid_auto_columns": null,
            "grid_auto_flow": null,
            "grid_auto_rows": null,
            "grid_column": null,
            "grid_gap": null,
            "grid_row": null,
            "grid_template_areas": null,
            "grid_template_columns": null,
            "grid_template_rows": null,
            "height": null,
            "justify_content": null,
            "justify_items": null,
            "left": null,
            "margin": null,
            "max_height": null,
            "max_width": null,
            "min_height": null,
            "min_width": null,
            "object_fit": null,
            "object_position": null,
            "order": null,
            "overflow": null,
            "overflow_x": null,
            "overflow_y": null,
            "padding": null,
            "right": null,
            "top": null,
            "visibility": null,
            "width": null
          }
        },
        "a75e9494ecd448b589eabcce20588c64": {
          "model_module": "@jupyter-widgets/controls",
          "model_name": "DescriptionStyleModel",
          "model_module_version": "1.5.0",
          "state": {
            "_model_module": "@jupyter-widgets/controls",
            "_model_module_version": "1.5.0",
            "_model_name": "DescriptionStyleModel",
            "_view_count": null,
            "_view_module": "@jupyter-widgets/base",
            "_view_module_version": "1.2.0",
            "_view_name": "StyleView",
            "description_width": ""
          }
        },
        "86413653e8f84f3590298bdbf42c9111": {
          "model_module": "@jupyter-widgets/controls",
          "model_name": "HBoxModel",
          "model_module_version": "1.5.0",
          "state": {
            "_dom_classes": [],
            "_model_module": "@jupyter-widgets/controls",
            "_model_module_version": "1.5.0",
            "_model_name": "HBoxModel",
            "_view_count": null,
            "_view_module": "@jupyter-widgets/controls",
            "_view_module_version": "1.5.0",
            "_view_name": "HBoxView",
            "box_style": "",
            "children": [
              "IPY_MODEL_3c5463d8ccb14a5d9bbb211a5d22105d",
              "IPY_MODEL_90f5c0041fe04440bcea6376afd9b4e5",
              "IPY_MODEL_ab350d40e7bb4cfd8bbde1fd1f0db895"
            ],
            "layout": "IPY_MODEL_51da6b4ca4a64cee9e84e269b2419d43"
          }
        },
        "3c5463d8ccb14a5d9bbb211a5d22105d": {
          "model_module": "@jupyter-widgets/controls",
          "model_name": "HTMLModel",
          "model_module_version": "1.5.0",
          "state": {
            "_dom_classes": [],
            "_model_module": "@jupyter-widgets/controls",
            "_model_module_version": "1.5.0",
            "_model_name": "HTMLModel",
            "_view_count": null,
            "_view_module": "@jupyter-widgets/controls",
            "_view_module_version": "1.5.0",
            "_view_name": "HTMLView",
            "description": "",
            "description_tooltip": null,
            "layout": "IPY_MODEL_4e0ce85c18c345b58259d39aebcbb93e",
            "placeholder": "​",
            "style": "IPY_MODEL_3f298ff545c84be9ae9bbffad53d2836",
            "value": "Aligning the labels:   0%"
          }
        },
        "90f5c0041fe04440bcea6376afd9b4e5": {
          "model_module": "@jupyter-widgets/controls",
          "model_name": "FloatProgressModel",
          "model_module_version": "1.5.0",
          "state": {
            "_dom_classes": [],
            "_model_module": "@jupyter-widgets/controls",
            "_model_module_version": "1.5.0",
            "_model_name": "FloatProgressModel",
            "_view_count": null,
            "_view_module": "@jupyter-widgets/controls",
            "_view_module_version": "1.5.0",
            "_view_name": "ProgressView",
            "bar_style": "",
            "description": "",
            "description_tooltip": null,
            "layout": "IPY_MODEL_330ed16640ba4b289e2e15b4536da1d1",
            "max": 42,
            "min": 0,
            "orientation": "horizontal",
            "style": "IPY_MODEL_48e7056ff6964230bdf638f4bccaf38c",
            "value": 42
          }
        },
        "ab350d40e7bb4cfd8bbde1fd1f0db895": {
          "model_module": "@jupyter-widgets/controls",
          "model_name": "HTMLModel",
          "model_module_version": "1.5.0",
          "state": {
            "_dom_classes": [],
            "_model_module": "@jupyter-widgets/controls",
            "_model_module_version": "1.5.0",
            "_model_name": "HTMLModel",
            "_view_count": null,
            "_view_module": "@jupyter-widgets/controls",
            "_view_module_version": "1.5.0",
            "_view_name": "HTMLView",
            "description": "",
            "description_tooltip": null,
            "layout": "IPY_MODEL_0ab0f2f26a9645899e1d58ea613a2cc8",
            "placeholder": "​",
            "style": "IPY_MODEL_2be2302f0d724acd943881ac65d51582",
            "value": " 0/42 [00:00&lt;?, ? examples/s]"
          }
        },
        "51da6b4ca4a64cee9e84e269b2419d43": {
          "model_module": "@jupyter-widgets/base",
          "model_name": "LayoutModel",
          "model_module_version": "1.2.0",
          "state": {
            "_model_module": "@jupyter-widgets/base",
            "_model_module_version": "1.2.0",
            "_model_name": "LayoutModel",
            "_view_count": null,
            "_view_module": "@jupyter-widgets/base",
            "_view_module_version": "1.2.0",
            "_view_name": "LayoutView",
            "align_content": null,
            "align_items": null,
            "align_self": null,
            "border": null,
            "bottom": null,
            "display": null,
            "flex": null,
            "flex_flow": null,
            "grid_area": null,
            "grid_auto_columns": null,
            "grid_auto_flow": null,
            "grid_auto_rows": null,
            "grid_column": null,
            "grid_gap": null,
            "grid_row": null,
            "grid_template_areas": null,
            "grid_template_columns": null,
            "grid_template_rows": null,
            "height": null,
            "justify_content": null,
            "justify_items": null,
            "left": null,
            "margin": null,
            "max_height": null,
            "max_width": null,
            "min_height": null,
            "min_width": null,
            "object_fit": null,
            "object_position": null,
            "order": null,
            "overflow": null,
            "overflow_x": null,
            "overflow_y": null,
            "padding": null,
            "right": null,
            "top": null,
            "visibility": "hidden",
            "width": null
          }
        },
        "4e0ce85c18c345b58259d39aebcbb93e": {
          "model_module": "@jupyter-widgets/base",
          "model_name": "LayoutModel",
          "model_module_version": "1.2.0",
          "state": {
            "_model_module": "@jupyter-widgets/base",
            "_model_module_version": "1.2.0",
            "_model_name": "LayoutModel",
            "_view_count": null,
            "_view_module": "@jupyter-widgets/base",
            "_view_module_version": "1.2.0",
            "_view_name": "LayoutView",
            "align_content": null,
            "align_items": null,
            "align_self": null,
            "border": null,
            "bottom": null,
            "display": null,
            "flex": null,
            "flex_flow": null,
            "grid_area": null,
            "grid_auto_columns": null,
            "grid_auto_flow": null,
            "grid_auto_rows": null,
            "grid_column": null,
            "grid_gap": null,
            "grid_row": null,
            "grid_template_areas": null,
            "grid_template_columns": null,
            "grid_template_rows": null,
            "height": null,
            "justify_content": null,
            "justify_items": null,
            "left": null,
            "margin": null,
            "max_height": null,
            "max_width": null,
            "min_height": null,
            "min_width": null,
            "object_fit": null,
            "object_position": null,
            "order": null,
            "overflow": null,
            "overflow_x": null,
            "overflow_y": null,
            "padding": null,
            "right": null,
            "top": null,
            "visibility": null,
            "width": null
          }
        },
        "3f298ff545c84be9ae9bbffad53d2836": {
          "model_module": "@jupyter-widgets/controls",
          "model_name": "DescriptionStyleModel",
          "model_module_version": "1.5.0",
          "state": {
            "_model_module": "@jupyter-widgets/controls",
            "_model_module_version": "1.5.0",
            "_model_name": "DescriptionStyleModel",
            "_view_count": null,
            "_view_module": "@jupyter-widgets/base",
            "_view_module_version": "1.2.0",
            "_view_name": "StyleView",
            "description_width": ""
          }
        },
        "330ed16640ba4b289e2e15b4536da1d1": {
          "model_module": "@jupyter-widgets/base",
          "model_name": "LayoutModel",
          "model_module_version": "1.2.0",
          "state": {
            "_model_module": "@jupyter-widgets/base",
            "_model_module_version": "1.2.0",
            "_model_name": "LayoutModel",
            "_view_count": null,
            "_view_module": "@jupyter-widgets/base",
            "_view_module_version": "1.2.0",
            "_view_name": "LayoutView",
            "align_content": null,
            "align_items": null,
            "align_self": null,
            "border": null,
            "bottom": null,
            "display": null,
            "flex": null,
            "flex_flow": null,
            "grid_area": null,
            "grid_auto_columns": null,
            "grid_auto_flow": null,
            "grid_auto_rows": null,
            "grid_column": null,
            "grid_gap": null,
            "grid_row": null,
            "grid_template_areas": null,
            "grid_template_columns": null,
            "grid_template_rows": null,
            "height": null,
            "justify_content": null,
            "justify_items": null,
            "left": null,
            "margin": null,
            "max_height": null,
            "max_width": null,
            "min_height": null,
            "min_width": null,
            "object_fit": null,
            "object_position": null,
            "order": null,
            "overflow": null,
            "overflow_x": null,
            "overflow_y": null,
            "padding": null,
            "right": null,
            "top": null,
            "visibility": null,
            "width": null
          }
        },
        "48e7056ff6964230bdf638f4bccaf38c": {
          "model_module": "@jupyter-widgets/controls",
          "model_name": "ProgressStyleModel",
          "model_module_version": "1.5.0",
          "state": {
            "_model_module": "@jupyter-widgets/controls",
            "_model_module_version": "1.5.0",
            "_model_name": "ProgressStyleModel",
            "_view_count": null,
            "_view_module": "@jupyter-widgets/base",
            "_view_module_version": "1.2.0",
            "_view_name": "StyleView",
            "bar_color": null,
            "description_width": ""
          }
        },
        "0ab0f2f26a9645899e1d58ea613a2cc8": {
          "model_module": "@jupyter-widgets/base",
          "model_name": "LayoutModel",
          "model_module_version": "1.2.0",
          "state": {
            "_model_module": "@jupyter-widgets/base",
            "_model_module_version": "1.2.0",
            "_model_name": "LayoutModel",
            "_view_count": null,
            "_view_module": "@jupyter-widgets/base",
            "_view_module_version": "1.2.0",
            "_view_name": "LayoutView",
            "align_content": null,
            "align_items": null,
            "align_self": null,
            "border": null,
            "bottom": null,
            "display": null,
            "flex": null,
            "flex_flow": null,
            "grid_area": null,
            "grid_auto_columns": null,
            "grid_auto_flow": null,
            "grid_auto_rows": null,
            "grid_column": null,
            "grid_gap": null,
            "grid_row": null,
            "grid_template_areas": null,
            "grid_template_columns": null,
            "grid_template_rows": null,
            "height": null,
            "justify_content": null,
            "justify_items": null,
            "left": null,
            "margin": null,
            "max_height": null,
            "max_width": null,
            "min_height": null,
            "min_width": null,
            "object_fit": null,
            "object_position": null,
            "order": null,
            "overflow": null,
            "overflow_x": null,
            "overflow_y": null,
            "padding": null,
            "right": null,
            "top": null,
            "visibility": null,
            "width": null
          }
        },
        "2be2302f0d724acd943881ac65d51582": {
          "model_module": "@jupyter-widgets/controls",
          "model_name": "DescriptionStyleModel",
          "model_module_version": "1.5.0",
          "state": {
            "_model_module": "@jupyter-widgets/controls",
            "_model_module_version": "1.5.0",
            "_model_name": "DescriptionStyleModel",
            "_view_count": null,
            "_view_module": "@jupyter-widgets/base",
            "_view_module_version": "1.2.0",
            "_view_name": "StyleView",
            "description_width": ""
          }
        },
        "dbefc60bb11e43d995c768be5ae66da8": {
          "model_module": "@jupyter-widgets/controls",
          "model_name": "HBoxModel",
          "model_module_version": "1.5.0",
          "state": {
            "_dom_classes": [],
            "_model_module": "@jupyter-widgets/controls",
            "_model_module_version": "1.5.0",
            "_model_name": "HBoxModel",
            "_view_count": null,
            "_view_module": "@jupyter-widgets/controls",
            "_view_module_version": "1.5.0",
            "_view_name": "HBoxView",
            "box_style": "",
            "children": [
              "IPY_MODEL_cf7df5fb88b545a0bfd0dbe41e60142d",
              "IPY_MODEL_a11bef8e41e54351b8775666a86b9f3d",
              "IPY_MODEL_017e27b44063489b93476474fccb09d1"
            ],
            "layout": "IPY_MODEL_a1a1252b2bee4273bb841607a8f952d7"
          }
        },
        "cf7df5fb88b545a0bfd0dbe41e60142d": {
          "model_module": "@jupyter-widgets/controls",
          "model_name": "HTMLModel",
          "model_module_version": "1.5.0",
          "state": {
            "_dom_classes": [],
            "_model_module": "@jupyter-widgets/controls",
            "_model_module_version": "1.5.0",
            "_model_name": "HTMLModel",
            "_view_count": null,
            "_view_module": "@jupyter-widgets/controls",
            "_view_module_version": "1.5.0",
            "_view_name": "HTMLView",
            "description": "",
            "description_tooltip": null,
            "layout": "IPY_MODEL_285a7ecfd70f4ad1a936a24ad9a0abc5",
            "placeholder": "​",
            "style": "IPY_MODEL_eab519f4063145f59e03818b6c027959",
            "value": "Map:   0%"
          }
        },
        "a11bef8e41e54351b8775666a86b9f3d": {
          "model_module": "@jupyter-widgets/controls",
          "model_name": "FloatProgressModel",
          "model_module_version": "1.5.0",
          "state": {
            "_dom_classes": [],
            "_model_module": "@jupyter-widgets/controls",
            "_model_module_version": "1.5.0",
            "_model_name": "FloatProgressModel",
            "_view_count": null,
            "_view_module": "@jupyter-widgets/controls",
            "_view_module_version": "1.5.0",
            "_view_name": "ProgressView",
            "bar_style": "",
            "description": "",
            "description_tooltip": null,
            "layout": "IPY_MODEL_9def529f19e34a059464bfe4826751a4",
            "max": 97,
            "min": 0,
            "orientation": "horizontal",
            "style": "IPY_MODEL_c06f0ce4f3674698aa8fe4819513c1f6",
            "value": 97
          }
        },
        "017e27b44063489b93476474fccb09d1": {
          "model_module": "@jupyter-widgets/controls",
          "model_name": "HTMLModel",
          "model_module_version": "1.5.0",
          "state": {
            "_dom_classes": [],
            "_model_module": "@jupyter-widgets/controls",
            "_model_module_version": "1.5.0",
            "_model_name": "HTMLModel",
            "_view_count": null,
            "_view_module": "@jupyter-widgets/controls",
            "_view_module_version": "1.5.0",
            "_view_name": "HTMLView",
            "description": "",
            "description_tooltip": null,
            "layout": "IPY_MODEL_34e3d8a4487b4b2985fb507d9ed4ea9d",
            "placeholder": "​",
            "style": "IPY_MODEL_19145143b34f41f9835feadff4ec6833",
            "value": " 0/97 [00:00&lt;?, ? examples/s]"
          }
        },
        "a1a1252b2bee4273bb841607a8f952d7": {
          "model_module": "@jupyter-widgets/base",
          "model_name": "LayoutModel",
          "model_module_version": "1.2.0",
          "state": {
            "_model_module": "@jupyter-widgets/base",
            "_model_module_version": "1.2.0",
            "_model_name": "LayoutModel",
            "_view_count": null,
            "_view_module": "@jupyter-widgets/base",
            "_view_module_version": "1.2.0",
            "_view_name": "LayoutView",
            "align_content": null,
            "align_items": null,
            "align_self": null,
            "border": null,
            "bottom": null,
            "display": null,
            "flex": null,
            "flex_flow": null,
            "grid_area": null,
            "grid_auto_columns": null,
            "grid_auto_flow": null,
            "grid_auto_rows": null,
            "grid_column": null,
            "grid_gap": null,
            "grid_row": null,
            "grid_template_areas": null,
            "grid_template_columns": null,
            "grid_template_rows": null,
            "height": null,
            "justify_content": null,
            "justify_items": null,
            "left": null,
            "margin": null,
            "max_height": null,
            "max_width": null,
            "min_height": null,
            "min_width": null,
            "object_fit": null,
            "object_position": null,
            "order": null,
            "overflow": null,
            "overflow_x": null,
            "overflow_y": null,
            "padding": null,
            "right": null,
            "top": null,
            "visibility": "hidden",
            "width": null
          }
        },
        "285a7ecfd70f4ad1a936a24ad9a0abc5": {
          "model_module": "@jupyter-widgets/base",
          "model_name": "LayoutModel",
          "model_module_version": "1.2.0",
          "state": {
            "_model_module": "@jupyter-widgets/base",
            "_model_module_version": "1.2.0",
            "_model_name": "LayoutModel",
            "_view_count": null,
            "_view_module": "@jupyter-widgets/base",
            "_view_module_version": "1.2.0",
            "_view_name": "LayoutView",
            "align_content": null,
            "align_items": null,
            "align_self": null,
            "border": null,
            "bottom": null,
            "display": null,
            "flex": null,
            "flex_flow": null,
            "grid_area": null,
            "grid_auto_columns": null,
            "grid_auto_flow": null,
            "grid_auto_rows": null,
            "grid_column": null,
            "grid_gap": null,
            "grid_row": null,
            "grid_template_areas": null,
            "grid_template_columns": null,
            "grid_template_rows": null,
            "height": null,
            "justify_content": null,
            "justify_items": null,
            "left": null,
            "margin": null,
            "max_height": null,
            "max_width": null,
            "min_height": null,
            "min_width": null,
            "object_fit": null,
            "object_position": null,
            "order": null,
            "overflow": null,
            "overflow_x": null,
            "overflow_y": null,
            "padding": null,
            "right": null,
            "top": null,
            "visibility": null,
            "width": null
          }
        },
        "eab519f4063145f59e03818b6c027959": {
          "model_module": "@jupyter-widgets/controls",
          "model_name": "DescriptionStyleModel",
          "model_module_version": "1.5.0",
          "state": {
            "_model_module": "@jupyter-widgets/controls",
            "_model_module_version": "1.5.0",
            "_model_name": "DescriptionStyleModel",
            "_view_count": null,
            "_view_module": "@jupyter-widgets/base",
            "_view_module_version": "1.2.0",
            "_view_name": "StyleView",
            "description_width": ""
          }
        },
        "9def529f19e34a059464bfe4826751a4": {
          "model_module": "@jupyter-widgets/base",
          "model_name": "LayoutModel",
          "model_module_version": "1.2.0",
          "state": {
            "_model_module": "@jupyter-widgets/base",
            "_model_module_version": "1.2.0",
            "_model_name": "LayoutModel",
            "_view_count": null,
            "_view_module": "@jupyter-widgets/base",
            "_view_module_version": "1.2.0",
            "_view_name": "LayoutView",
            "align_content": null,
            "align_items": null,
            "align_self": null,
            "border": null,
            "bottom": null,
            "display": null,
            "flex": null,
            "flex_flow": null,
            "grid_area": null,
            "grid_auto_columns": null,
            "grid_auto_flow": null,
            "grid_auto_rows": null,
            "grid_column": null,
            "grid_gap": null,
            "grid_row": null,
            "grid_template_areas": null,
            "grid_template_columns": null,
            "grid_template_rows": null,
            "height": null,
            "justify_content": null,
            "justify_items": null,
            "left": null,
            "margin": null,
            "max_height": null,
            "max_width": null,
            "min_height": null,
            "min_width": null,
            "object_fit": null,
            "object_position": null,
            "order": null,
            "overflow": null,
            "overflow_x": null,
            "overflow_y": null,
            "padding": null,
            "right": null,
            "top": null,
            "visibility": null,
            "width": null
          }
        },
        "c06f0ce4f3674698aa8fe4819513c1f6": {
          "model_module": "@jupyter-widgets/controls",
          "model_name": "ProgressStyleModel",
          "model_module_version": "1.5.0",
          "state": {
            "_model_module": "@jupyter-widgets/controls",
            "_model_module_version": "1.5.0",
            "_model_name": "ProgressStyleModel",
            "_view_count": null,
            "_view_module": "@jupyter-widgets/base",
            "_view_module_version": "1.2.0",
            "_view_name": "StyleView",
            "bar_color": null,
            "description_width": ""
          }
        },
        "34e3d8a4487b4b2985fb507d9ed4ea9d": {
          "model_module": "@jupyter-widgets/base",
          "model_name": "LayoutModel",
          "model_module_version": "1.2.0",
          "state": {
            "_model_module": "@jupyter-widgets/base",
            "_model_module_version": "1.2.0",
            "_model_name": "LayoutModel",
            "_view_count": null,
            "_view_module": "@jupyter-widgets/base",
            "_view_module_version": "1.2.0",
            "_view_name": "LayoutView",
            "align_content": null,
            "align_items": null,
            "align_self": null,
            "border": null,
            "bottom": null,
            "display": null,
            "flex": null,
            "flex_flow": null,
            "grid_area": null,
            "grid_auto_columns": null,
            "grid_auto_flow": null,
            "grid_auto_rows": null,
            "grid_column": null,
            "grid_gap": null,
            "grid_row": null,
            "grid_template_areas": null,
            "grid_template_columns": null,
            "grid_template_rows": null,
            "height": null,
            "justify_content": null,
            "justify_items": null,
            "left": null,
            "margin": null,
            "max_height": null,
            "max_width": null,
            "min_height": null,
            "min_width": null,
            "object_fit": null,
            "object_position": null,
            "order": null,
            "overflow": null,
            "overflow_x": null,
            "overflow_y": null,
            "padding": null,
            "right": null,
            "top": null,
            "visibility": null,
            "width": null
          }
        },
        "19145143b34f41f9835feadff4ec6833": {
          "model_module": "@jupyter-widgets/controls",
          "model_name": "DescriptionStyleModel",
          "model_module_version": "1.5.0",
          "state": {
            "_model_module": "@jupyter-widgets/controls",
            "_model_module_version": "1.5.0",
            "_model_name": "DescriptionStyleModel",
            "_view_count": null,
            "_view_module": "@jupyter-widgets/base",
            "_view_module_version": "1.2.0",
            "_view_name": "StyleView",
            "description_width": ""
          }
        },
        "102a5e69072543e3a67e7d59688b8ed9": {
          "model_module": "@jupyter-widgets/controls",
          "model_name": "HBoxModel",
          "model_module_version": "1.5.0",
          "state": {
            "_dom_classes": [],
            "_model_module": "@jupyter-widgets/controls",
            "_model_module_version": "1.5.0",
            "_model_name": "HBoxModel",
            "_view_count": null,
            "_view_module": "@jupyter-widgets/controls",
            "_view_module_version": "1.5.0",
            "_view_name": "HBoxView",
            "box_style": "",
            "children": [
              "IPY_MODEL_624c6807a7254cffb35f0cb97bfd95e6",
              "IPY_MODEL_aae1a06de1c043eea10f7075d1e5beef",
              "IPY_MODEL_8fca64168689496788505dfe6a48f14b"
            ],
            "layout": "IPY_MODEL_70dc8e97c15a4d8cb7b5a645cdd2db77"
          }
        },
        "624c6807a7254cffb35f0cb97bfd95e6": {
          "model_module": "@jupyter-widgets/controls",
          "model_name": "HTMLModel",
          "model_module_version": "1.5.0",
          "state": {
            "_dom_classes": [],
            "_model_module": "@jupyter-widgets/controls",
            "_model_module_version": "1.5.0",
            "_model_name": "HTMLModel",
            "_view_count": null,
            "_view_module": "@jupyter-widgets/controls",
            "_view_module_version": "1.5.0",
            "_view_name": "HTMLView",
            "description": "",
            "description_tooltip": null,
            "layout": "IPY_MODEL_558f704091f34ba2a426fb30f832386f",
            "placeholder": "​",
            "style": "IPY_MODEL_4d640f9d6c494e1c9e120c4b29647fe7",
            "value": "Map:   0%"
          }
        },
        "aae1a06de1c043eea10f7075d1e5beef": {
          "model_module": "@jupyter-widgets/controls",
          "model_name": "FloatProgressModel",
          "model_module_version": "1.5.0",
          "state": {
            "_dom_classes": [],
            "_model_module": "@jupyter-widgets/controls",
            "_model_module_version": "1.5.0",
            "_model_name": "FloatProgressModel",
            "_view_count": null,
            "_view_module": "@jupyter-widgets/controls",
            "_view_module_version": "1.5.0",
            "_view_name": "ProgressView",
            "bar_style": "",
            "description": "",
            "description_tooltip": null,
            "layout": "IPY_MODEL_3174430c43364d8b989009df4007128c",
            "max": 42,
            "min": 0,
            "orientation": "horizontal",
            "style": "IPY_MODEL_8ef8b808ca6641169128ad3c002f50f8",
            "value": 42
          }
        },
        "8fca64168689496788505dfe6a48f14b": {
          "model_module": "@jupyter-widgets/controls",
          "model_name": "HTMLModel",
          "model_module_version": "1.5.0",
          "state": {
            "_dom_classes": [],
            "_model_module": "@jupyter-widgets/controls",
            "_model_module_version": "1.5.0",
            "_model_name": "HTMLModel",
            "_view_count": null,
            "_view_module": "@jupyter-widgets/controls",
            "_view_module_version": "1.5.0",
            "_view_name": "HTMLView",
            "description": "",
            "description_tooltip": null,
            "layout": "IPY_MODEL_39f4d0b8a787449880f2966c2193a0e5",
            "placeholder": "​",
            "style": "IPY_MODEL_531bae6bfa8445b49e5fe649231fb25f",
            "value": " 0/42 [00:00&lt;?, ? examples/s]"
          }
        },
        "70dc8e97c15a4d8cb7b5a645cdd2db77": {
          "model_module": "@jupyter-widgets/base",
          "model_name": "LayoutModel",
          "model_module_version": "1.2.0",
          "state": {
            "_model_module": "@jupyter-widgets/base",
            "_model_module_version": "1.2.0",
            "_model_name": "LayoutModel",
            "_view_count": null,
            "_view_module": "@jupyter-widgets/base",
            "_view_module_version": "1.2.0",
            "_view_name": "LayoutView",
            "align_content": null,
            "align_items": null,
            "align_self": null,
            "border": null,
            "bottom": null,
            "display": null,
            "flex": null,
            "flex_flow": null,
            "grid_area": null,
            "grid_auto_columns": null,
            "grid_auto_flow": null,
            "grid_auto_rows": null,
            "grid_column": null,
            "grid_gap": null,
            "grid_row": null,
            "grid_template_areas": null,
            "grid_template_columns": null,
            "grid_template_rows": null,
            "height": null,
            "justify_content": null,
            "justify_items": null,
            "left": null,
            "margin": null,
            "max_height": null,
            "max_width": null,
            "min_height": null,
            "min_width": null,
            "object_fit": null,
            "object_position": null,
            "order": null,
            "overflow": null,
            "overflow_x": null,
            "overflow_y": null,
            "padding": null,
            "right": null,
            "top": null,
            "visibility": "hidden",
            "width": null
          }
        },
        "558f704091f34ba2a426fb30f832386f": {
          "model_module": "@jupyter-widgets/base",
          "model_name": "LayoutModel",
          "model_module_version": "1.2.0",
          "state": {
            "_model_module": "@jupyter-widgets/base",
            "_model_module_version": "1.2.0",
            "_model_name": "LayoutModel",
            "_view_count": null,
            "_view_module": "@jupyter-widgets/base",
            "_view_module_version": "1.2.0",
            "_view_name": "LayoutView",
            "align_content": null,
            "align_items": null,
            "align_self": null,
            "border": null,
            "bottom": null,
            "display": null,
            "flex": null,
            "flex_flow": null,
            "grid_area": null,
            "grid_auto_columns": null,
            "grid_auto_flow": null,
            "grid_auto_rows": null,
            "grid_column": null,
            "grid_gap": null,
            "grid_row": null,
            "grid_template_areas": null,
            "grid_template_columns": null,
            "grid_template_rows": null,
            "height": null,
            "justify_content": null,
            "justify_items": null,
            "left": null,
            "margin": null,
            "max_height": null,
            "max_width": null,
            "min_height": null,
            "min_width": null,
            "object_fit": null,
            "object_position": null,
            "order": null,
            "overflow": null,
            "overflow_x": null,
            "overflow_y": null,
            "padding": null,
            "right": null,
            "top": null,
            "visibility": null,
            "width": null
          }
        },
        "4d640f9d6c494e1c9e120c4b29647fe7": {
          "model_module": "@jupyter-widgets/controls",
          "model_name": "DescriptionStyleModel",
          "model_module_version": "1.5.0",
          "state": {
            "_model_module": "@jupyter-widgets/controls",
            "_model_module_version": "1.5.0",
            "_model_name": "DescriptionStyleModel",
            "_view_count": null,
            "_view_module": "@jupyter-widgets/base",
            "_view_module_version": "1.2.0",
            "_view_name": "StyleView",
            "description_width": ""
          }
        },
        "3174430c43364d8b989009df4007128c": {
          "model_module": "@jupyter-widgets/base",
          "model_name": "LayoutModel",
          "model_module_version": "1.2.0",
          "state": {
            "_model_module": "@jupyter-widgets/base",
            "_model_module_version": "1.2.0",
            "_model_name": "LayoutModel",
            "_view_count": null,
            "_view_module": "@jupyter-widgets/base",
            "_view_module_version": "1.2.0",
            "_view_name": "LayoutView",
            "align_content": null,
            "align_items": null,
            "align_self": null,
            "border": null,
            "bottom": null,
            "display": null,
            "flex": null,
            "flex_flow": null,
            "grid_area": null,
            "grid_auto_columns": null,
            "grid_auto_flow": null,
            "grid_auto_rows": null,
            "grid_column": null,
            "grid_gap": null,
            "grid_row": null,
            "grid_template_areas": null,
            "grid_template_columns": null,
            "grid_template_rows": null,
            "height": null,
            "justify_content": null,
            "justify_items": null,
            "left": null,
            "margin": null,
            "max_height": null,
            "max_width": null,
            "min_height": null,
            "min_width": null,
            "object_fit": null,
            "object_position": null,
            "order": null,
            "overflow": null,
            "overflow_x": null,
            "overflow_y": null,
            "padding": null,
            "right": null,
            "top": null,
            "visibility": null,
            "width": null
          }
        },
        "8ef8b808ca6641169128ad3c002f50f8": {
          "model_module": "@jupyter-widgets/controls",
          "model_name": "ProgressStyleModel",
          "model_module_version": "1.5.0",
          "state": {
            "_model_module": "@jupyter-widgets/controls",
            "_model_module_version": "1.5.0",
            "_model_name": "ProgressStyleModel",
            "_view_count": null,
            "_view_module": "@jupyter-widgets/base",
            "_view_module_version": "1.2.0",
            "_view_name": "StyleView",
            "bar_color": null,
            "description_width": ""
          }
        },
        "39f4d0b8a787449880f2966c2193a0e5": {
          "model_module": "@jupyter-widgets/base",
          "model_name": "LayoutModel",
          "model_module_version": "1.2.0",
          "state": {
            "_model_module": "@jupyter-widgets/base",
            "_model_module_version": "1.2.0",
            "_model_name": "LayoutModel",
            "_view_count": null,
            "_view_module": "@jupyter-widgets/base",
            "_view_module_version": "1.2.0",
            "_view_name": "LayoutView",
            "align_content": null,
            "align_items": null,
            "align_self": null,
            "border": null,
            "bottom": null,
            "display": null,
            "flex": null,
            "flex_flow": null,
            "grid_area": null,
            "grid_auto_columns": null,
            "grid_auto_flow": null,
            "grid_auto_rows": null,
            "grid_column": null,
            "grid_gap": null,
            "grid_row": null,
            "grid_template_areas": null,
            "grid_template_columns": null,
            "grid_template_rows": null,
            "height": null,
            "justify_content": null,
            "justify_items": null,
            "left": null,
            "margin": null,
            "max_height": null,
            "max_width": null,
            "min_height": null,
            "min_width": null,
            "object_fit": null,
            "object_position": null,
            "order": null,
            "overflow": null,
            "overflow_x": null,
            "overflow_y": null,
            "padding": null,
            "right": null,
            "top": null,
            "visibility": null,
            "width": null
          }
        },
        "531bae6bfa8445b49e5fe649231fb25f": {
          "model_module": "@jupyter-widgets/controls",
          "model_name": "DescriptionStyleModel",
          "model_module_version": "1.5.0",
          "state": {
            "_model_module": "@jupyter-widgets/controls",
            "_model_module_version": "1.5.0",
            "_model_name": "DescriptionStyleModel",
            "_view_count": null,
            "_view_module": "@jupyter-widgets/base",
            "_view_module_version": "1.2.0",
            "_view_name": "StyleView",
            "description_width": ""
          }
        }
      }
    },
    "colab": {
      "provenance": []
    }
  },
  "nbformat": 4,
  "nbformat_minor": 5
}