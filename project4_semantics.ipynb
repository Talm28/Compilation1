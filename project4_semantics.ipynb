{
  "cells": [
    {
      "cell_type": "code",
      "execution_count": 4,
      "id": "27b2bbbb",
      "metadata": {
        "collapsed": true,
        "deletable": false,
        "editable": false,
        "jupyter": {
          "outputs_hidden": true,
          "source_hidden": true
        },
        "colab": {
          "base_uri": "https://localhost:8080/"
        },
        "id": "27b2bbbb",
        "outputId": "02db32a9-ac90-4f02-9e01-e07c3f555a6d"
      },
      "outputs": [
        {
          "output_type": "stream",
          "name": "stdout",
          "text": [
            "     ━━━━━━━━━━━━━━━━━━━━━━━━━━━━━━━━━━━━━━━━ 44.3/44.3 kB 1.2 MB/s eta 0:00:00\n",
            "     ━━━━━━━━━━━━━━━━━━━━━━━━━━━━━━━━━━━━━━━ 164.0/164.0 kB 6.7 MB/s eta 0:00:00\n",
            "     ━━━━━━━━━━━━━━━━━━━━━━━━━━━━━━━━━━━━━━━━ 6.3/6.3 MB 79.4 MB/s eta 0:00:00\n",
            "     ━━━━━━━━━━━━━━━━━━━━━━━━━━━━━━━━━━━━━━━━ 7.6/7.6 MB 84.0 MB/s eta 0:00:00\n",
            "     ━━━━━━━━━━━━━━━━━━━━━━━━━━━━━━━━━━━━━━ 462.8/462.8 kB 42.0 MB/s eta 0:00:00\n",
            "     ━━━━━━━━━━━━━━━━━━━━━━━━━━━━━━━━━━━━━━ 148.1/148.1 kB 15.3 MB/s eta 0:00:00\n",
            "     ━━━━━━━━━━━━━━━━━━━━━━━━━━━━━━━━━━━━━━ 110.5/110.5 kB 11.3 MB/s eta 0:00:00\n",
            "     ━━━━━━━━━━━━━━━━━━━━━━━━━━━━━━━━━━━━━━ 232.6/232.6 kB 18.8 MB/s eta 0:00:00\n",
            "     ━━━━━━━━━━━━━━━━━━━━━━━━━━━━━━━━━━━━━━ 268.8/268.8 kB 22.5 MB/s eta 0:00:00\n",
            "     ━━━━━━━━━━━━━━━━━━━━━━━━━━━━━━━━━━━━━━ 212.5/212.5 kB 20.0 MB/s eta 0:00:00\n",
            "     ━━━━━━━━━━━━━━━━━━━━━━━━━━━━━━━━━━━━━━ 134.3/134.3 kB 10.8 MB/s eta 0:00:00\n",
            "     ━━━━━━━━━━━━━━━━━━━━━━━━━━━━━━━━━━━━━━━━ 1.6/1.6 MB 35.9 MB/s eta 0:00:00\n"
          ]
        }
      ],
      "source": [
        "# Please do not change this cell because some hidden tests might depend on it.\n",
        "import os\n",
        "\n",
        "# Otter grader does not handle ! commands well, so we define and use our\n",
        "# own function to execute shell commands.\n",
        "def shell(commands, warn=True):\n",
        "    \"\"\"Executes the string `commands` as a sequence of shell commands.\n",
        "\n",
        "       Prints the result to stdout and returns the exit status.\n",
        "       Provides a printed warning on non-zero exit status unless `warn`\n",
        "       flag is unset.\n",
        "    \"\"\"\n",
        "    file = os.popen(commands)\n",
        "    print (file.read().rstrip('\\n'))\n",
        "    exit_status = file.close()\n",
        "    if warn and exit_status != None:\n",
        "        print(f\"Completed with errors. Exit status: {exit_status}\\n\")\n",
        "    return exit_status\n",
        "\n",
        "shell(\"\"\"\n",
        "ls requirements.txt >/dev/null 2>&1\n",
        "if [ ! $? = 0 ]; then\n",
        " rm -rf .tmp\n",
        " git clone https://github.com/cs236299-2023-spring/project4.git .tmp\n",
        " mv .tmp/requirements.txt ./\n",
        " rm -rf .tmp\n",
        "fi\n",
        "pip install -q -r requirements.txt\n",
        "\"\"\")"
      ]
    },
    {
      "cell_type": "code",
      "execution_count": 5,
      "id": "fd02e982",
      "metadata": {
        "deletable": false,
        "editable": false,
        "id": "fd02e982"
      },
      "outputs": [],
      "source": [
        "# Initialize Otter\n",
        "import otter\n",
        "grader = otter.Notebook()"
      ]
    },
    {
      "cell_type": "raw",
      "id": "d63aa7ef",
      "metadata": {
        "jupyter": {
          "source_hidden": true
        },
        "id": "d63aa7ef"
      },
      "source": [
        "%%latex\n",
        "\\newcommand{\\vect}[1]{\\mathbf{#1}}\n",
        "\\newcommand{\\cnt}[1]{\\sharp(#1)}\n",
        "\\newcommand{\\argmax}[1]{\\underset{#1}{\\operatorname{argmax}}}\n",
        "\\newcommand{\\softmax}{\\operatorname{softmax}}\n",
        "\\newcommand{\\Prob}{\\Pr}\n",
        "\\newcommand{\\given}{\\,|\\,}"
      ]
    },
    {
      "cell_type": "markdown",
      "id": "c2557ead",
      "metadata": {
        "jupyter": {
          "source_hidden": true
        },
        "id": "c2557ead"
      },
      "source": [
        "$$\n",
        "\\renewcommand{\\vect}[1]{\\mathbf{#1}}\n",
        "\\renewcommand{\\cnt}[1]{\\sharp(#1)}\n",
        "\\renewcommand{\\argmax}[1]{\\underset{#1}{\\operatorname{argmax}}}\n",
        "\\renewcommand{\\softmax}{\\operatorname{softmax}}\n",
        "\\renewcommand{\\Prob}{\\Pr}\n",
        "\\renewcommand{\\given}{\\,|\\,}\n",
        "$$"
      ]
    },
    {
      "cell_type": "markdown",
      "id": "57f766dc",
      "metadata": {
        "tags": [
          "remove_for_latex"
        ],
        "id": "57f766dc"
      },
      "source": [
        "# \t236299 - Introduction to Natural Language Processing\n",
        "## Project 4: Semantic Interpretation – Question Answering"
      ]
    },
    {
      "cell_type": "markdown",
      "id": "7cf2a34b",
      "metadata": {
        "id": "7cf2a34b"
      },
      "source": [
        "The goal of semantic parsing is to convert natural language utterances to a meaning representation such as a _logical form_ expression or a _SQL query_. In the previous project segment, you built a parsing system to reconstruct parse trees from the natural-language queries in the ATIS dataset. However, that only solves an intermediary task, not the end-user task of obtaining answers to the queries.\n",
        "\n",
        "In this final project segment, you will go further, building a semantic parsing system to convert English queries to SQL queries, so that by consulting a database you will be able to answer those questions. You will implement both a rule-based approach and an end-to-end sequence-to-sequence (seq2seq) approach. Both algorithms come with their pros and cons, and by the end of this segment you should have a basic understanding of the characteristics of the two approaches.\n",
        "\n",
        "## Goals\n",
        "\n",
        "1. Build a semantic parsing algorithm to convert text to SQL queries based on the syntactic parse trees from the last project.\n",
        "2. Build an attention-based end-to-end seq2seq system to convert text to SQL.\n",
        "3. Improve the attention-based end-to-end seq2seq system with self-attention to convert text to SQL.\n",
        "4. Discuss the pros and cons of the rule-based system and the end-to-end system.\n",
        "5. (Optional) Use the state-of-the-art pretrained transformers for text-to-SQL conversion.\n",
        "\n",
        "This will be an extremely challenging project, so we recommend that you start early."
      ]
    },
    {
      "cell_type": "markdown",
      "id": "d345044b",
      "metadata": {
        "id": "d345044b"
      },
      "source": [
        "# Setup"
      ]
    },
    {
      "cell_type": "code",
      "execution_count": 6,
      "id": "5e6883c2",
      "metadata": {
        "id": "5e6883c2"
      },
      "outputs": [],
      "source": [
        "import copy\n",
        "import datetime\n",
        "import math\n",
        "import re\n",
        "import sys\n",
        "import warnings\n",
        "\n",
        "import wget\n",
        "import nltk\n",
        "import sqlite3\n",
        "import csv\n",
        "import torch\n",
        "import torch.nn as nn\n",
        "import datasets\n",
        "\n",
        "from datasets import load_dataset\n",
        "from tokenizers import Tokenizer\n",
        "from tokenizers import Regex\n",
        "from tokenizers.pre_tokenizers import WhitespaceSplit, Split\n",
        "from tokenizers.processors import TemplateProcessing\n",
        "from tokenizers import normalizers\n",
        "from tokenizers.models import WordLevel\n",
        "from tokenizers.trainers import WordLevelTrainer\n",
        "from transformers import PreTrainedTokenizerFast\n",
        "\n",
        "from cryptography.fernet import Fernet\n",
        "from func_timeout import func_set_timeout\n",
        "from torch.nn.utils.rnn import pack_padded_sequence as pack\n",
        "from torch.nn.utils.rnn import pad_packed_sequence as unpack\n",
        "from tqdm import tqdm\n",
        "from transformers import BartTokenizer, BartForConditionalGeneration"
      ]
    },
    {
      "cell_type": "code",
      "execution_count": 7,
      "id": "b9311107",
      "metadata": {
        "colab": {
          "base_uri": "https://localhost:8080/"
        },
        "outputId": "532dae6b-9f77-4101-9bfa-d9cec58c81c2",
        "id": "b9311107"
      },
      "outputs": [
        {
          "output_type": "stream",
          "name": "stdout",
          "text": [
            "cuda\n"
          ]
        }
      ],
      "source": [
        "# Set random seeds\n",
        "seed = 1234\n",
        "torch.manual_seed(seed)\n",
        "# Set timeout for executing SQL\n",
        "TIMEOUT = 3 # seconds\n",
        "\n",
        "# GPU check: Set runtime type to use GPU where available\n",
        "device = torch.device(\"cuda\" if torch.cuda.is_available() else \"cpu\")\n",
        "print (device)"
      ]
    },
    {
      "cell_type": "code",
      "execution_count": 8,
      "id": "8fe1c8d5",
      "metadata": {
        "id": "8fe1c8d5"
      },
      "outputs": [],
      "source": [
        "## Download needed scripts and data\n",
        "def download_if_needed(source, dest, filename):\n",
        "    os.path.exists(f\"./{dest}{filename}\") or wget.download(source + filename, out=dest)\n",
        "\n",
        "os.makedirs('data', exist_ok=True)\n",
        "os.makedirs('scripts', exist_ok=True)\n",
        "source_url = \"https://raw.githubusercontent.com/nlp-236299/data/master\"\n",
        "\n",
        "# Grammar to augment for this segment\n",
        "if not os.path.isfile('data/grammar'):\n",
        "  download_if_needed(source_url, \"data/\", \"/ATIS/grammar_distrib4.crypt\")\n",
        "\n",
        "  # Decrypt the grammar file\n",
        "  key = b'bfksTY2BJ5VKKK9xZb1PDDLaGkdu7KCDFYfVePSEfGY='\n",
        "  fernet = Fernet(key)\n",
        "  with open('./data/grammar_distrib4.crypt', 'rb') as f:\n",
        "    restored = Fernet(key).decrypt(f.read())\n",
        "  with open('./data/grammar', 'wb') as f:\n",
        "    f.write(restored)\n",
        "\n",
        "# Download scripts and ATIS database\n",
        "download_if_needed(source_url, \"scripts/\", \"/scripts/trees/transform.py\")\n",
        "download_if_needed(source_url, \"data/\", \"/ATIS/atis_sqlite.db\")"
      ]
    },
    {
      "cell_type": "code",
      "execution_count": 9,
      "id": "26b54859",
      "metadata": {
        "id": "26b54859"
      },
      "outputs": [],
      "source": [
        "# Import downloaded scripts for parsing augmented grammars\n",
        "sys.path.insert(1, './scripts')\n",
        "import transform as xform"
      ]
    },
    {
      "cell_type": "markdown",
      "id": "7ae67727",
      "metadata": {
        "id": "7ae67727"
      },
      "source": [
        "# Semantically augmented grammars\n",
        "\n",
        "In the first part of this project segment, you'll be implementing a rule-based system for semantic interpretation of sentences. Before jumping into using such a system on the ATIS dataset – we'll get to that soon enough – let's first work with some trivial examples to get things going.\n",
        "\n",
        "The fundamental idea of rule-based semantic interpretation is the rule of compositionality, that *the meaning of a constituent is a function of the meanings of its immediate subconstituents and the syntactic rule that combined them*. This leads to an infrastructure for specifying semantic interpretation in which each syntactic rule in a grammar (in our case, a context-free grammar) is associated with a semantic rule that applies to the meanings associated with the elements on the right-hand side of the rule.\n",
        "\n",
        "## Example: arithmetic expressions\n",
        "\n",
        "As a first example, let's consider an augmented grammar for arithmetic expressions, familiar from lab 3-1. We again use the function `xform.parse_augmented_grammar` to parse the augmented grammar. You can read more about it in the file `scripts/transform.py`."
      ]
    },
    {
      "cell_type": "code",
      "execution_count": 10,
      "id": "ed34d375",
      "metadata": {
        "id": "ed34d375"
      },
      "outputs": [],
      "source": [
        "arithmetic_grammar, arithmetic_augmentations = xform.parse_augmented_grammar(\n",
        "    \"\"\"\n",
        "    ## Sample grammar for arithmetic expressions\n",
        "\n",
        "    S -> NUM                              : lambda Num: Num\n",
        "       | S OP S                           : lambda S1, Op, S2: Op(S1, S2)\n",
        "\n",
        "    OP -> ADD                             : lambda Op: Op\n",
        "        | SUB\n",
        "        | MULT\n",
        "        | DIV\n",
        "\n",
        "    NUM -> 'zero'                         : lambda: 0\n",
        "         | 'one'                          : lambda: 1\n",
        "         | 'two'                          : lambda: 2\n",
        "         | 'three'                        : lambda: 3\n",
        "         | 'four'                         : lambda: 4\n",
        "         | 'five'                         : lambda: 5\n",
        "         | 'six'                          : lambda: 6\n",
        "         | 'seven'                        : lambda: 7\n",
        "         | 'eight'                        : lambda: 8\n",
        "         | 'nine'                         : lambda: 9\n",
        "         | 'ten'                          : lambda: 10\n",
        "\n",
        "    ADD -> 'plus' | 'added' 'to'          : lambda: lambda x, y: x + y\n",
        "    SUB -> 'minus'                        : lambda: lambda x, y: x - y\n",
        "    MULT -> 'times' | 'multiplied' 'by'   : lambda: lambda x, y: x * y\n",
        "    DIV -> 'divided' 'by'                 : lambda: lambda x, y: x / y\n",
        "    \"\"\"\n",
        ")"
      ]
    },
    {
      "cell_type": "markdown",
      "id": "1d6098df",
      "metadata": {
        "id": "1d6098df"
      },
      "source": [
        "Recall that in this grammar specification format, rules that are not explicitly provided with an augmentation (like all the `OP` rules after the first `OP -> ADD`) are associated with the textually most recent one (`lambda Op: Op`).\n",
        "\n",
        "The `parse_augmented_grammar` function returns both an NLTK grammar and a dictionary that maps from productions in the grammar to their associated augmentations. Let's examine the returned grammar."
      ]
    },
    {
      "cell_type": "code",
      "execution_count": 11,
      "id": "8fb4a8dc",
      "metadata": {
        "colab": {
          "base_uri": "https://localhost:8080/"
        },
        "outputId": "1e713415-bee2-44a3-907e-a1234eccba83",
        "id": "8fb4a8dc"
      },
      "outputs": [
        {
          "output_type": "stream",
          "name": "stdout",
          "text": [
            "S -> NUM                      <function <lambda> at 0x7926d4bd95a0>\n",
            "S -> S OP S                   <function <lambda> at 0x7926d4bd9510>\n",
            "OP -> ADD                     <function <lambda> at 0x7926d4bd9630>\n",
            "OP -> SUB                     <function <lambda> at 0x7926d4bd96c0>\n",
            "OP -> MULT                    <function <lambda> at 0x7926d4bd9750>\n",
            "OP -> DIV                     <function <lambda> at 0x7926d4bd97e0>\n",
            "NUM -> 'zero'                 <function <lambda> at 0x7926d4bd9870>\n",
            "NUM -> 'one'                  <function <lambda> at 0x7926d4bd9900>\n",
            "NUM -> 'two'                  <function <lambda> at 0x7926d4bd9990>\n",
            "NUM -> 'three'                <function <lambda> at 0x7926d4bd9a20>\n",
            "NUM -> 'four'                 <function <lambda> at 0x7926d4bd9ab0>\n",
            "NUM -> 'five'                 <function <lambda> at 0x7926d4bd9b40>\n",
            "NUM -> 'six'                  <function <lambda> at 0x7926d4bd9bd0>\n",
            "NUM -> 'seven'                <function <lambda> at 0x7926d4bd9c60>\n",
            "NUM -> 'eight'                <function <lambda> at 0x7926d4bd9cf0>\n",
            "NUM -> 'nine'                 <function <lambda> at 0x7926d4bd9d80>\n",
            "NUM -> 'ten'                  <function <lambda> at 0x7926d4bd9e10>\n",
            "ADD -> 'plus'                 <function <lambda> at 0x7926d4bd9ea0>\n",
            "ADD -> 'added' 'to'           <function <lambda> at 0x7926d4bd9f30>\n",
            "SUB -> 'minus'                <function <lambda> at 0x7926d4bd9fc0>\n",
            "MULT -> 'times'               <function <lambda> at 0x7926d4bda050>\n",
            "MULT -> 'multiplied' 'by'     <function <lambda> at 0x7926d4bda0e0>\n",
            "DIV -> 'divided' 'by'         <function <lambda> at 0x7926d4bda170>\n"
          ]
        }
      ],
      "source": [
        "for production in arithmetic_grammar.productions():\n",
        "  print(f\"{repr(production):25}     {arithmetic_augmentations[production]}\")"
      ]
    },
    {
      "cell_type": "markdown",
      "id": "355ed6c4",
      "metadata": {
        "id": "355ed6c4"
      },
      "source": [
        "We can parse with the grammar using one of the built-in NLTK parsers."
      ]
    },
    {
      "cell_type": "code",
      "execution_count": 12,
      "id": "0b04e6b2",
      "metadata": {
        "colab": {
          "base_uri": "https://localhost:8080/"
        },
        "outputId": "8ad9b771-b64a-487c-ed39-4a8347764ee0",
        "id": "0b04e6b2"
      },
      "outputs": [
        {
          "output_type": "stream",
          "name": "stdout",
          "text": [
            "            S            \n",
            "        ____|_________    \n",
            "       S         |    |  \n",
            "   ____|____     |    |   \n",
            "  S    OP   S    OP   S  \n",
            "  |    |    |    |    |   \n",
            " NUM  ADD  NUM  MULT NUM \n",
            "  |    |    |    |    |   \n",
            "three plus one times four\n",
            "\n",
            "            S            \n",
            "   _________|____         \n",
            "  |    |         S       \n",
            "  |    |     ____|____    \n",
            "  S    OP   S    OP   S  \n",
            "  |    |    |    |    |   \n",
            " NUM  ADD  NUM  MULT NUM \n",
            "  |    |    |    |    |   \n",
            "three plus one times four\n",
            "\n"
          ]
        }
      ],
      "source": [
        "arithmetic_parser = nltk.parse.BottomUpChartParser(arithmetic_grammar)\n",
        "parses = [p for p in arithmetic_parser.parse('three plus one times four'.split())]\n",
        "for parse in parses:\n",
        "  parse.pretty_print()"
      ]
    },
    {
      "cell_type": "markdown",
      "id": "68c38950",
      "metadata": {
        "id": "68c38950"
      },
      "source": [
        "Now let's turn to the augmentations. They can be arbitrary Python functions applied to the semantic representations associated with the right-hand-side nonterminals, returning the semantic representation of the left-hand side. To interpret the semantic representation of the entire sentence (at the root of the parse tree), we can use the following pseudo-code:\n",
        "```\n",
        "to interpret a tree:\n",
        "  interpret each of the nonterminal-rooted subtrees\n",
        "  find the augmentation associated with the root production of the tree\n",
        "    (it should be a function of as many arguments as there are nonterminals on the right-hand side)\n",
        "  return the result of applying the augmentation to the subtree values\n",
        "```\n",
        "(The base case of this recursion occurs when the number of nonterminal-rooted subtrees is zero, that is, a rule all of whose right-hand side elements are terminals.)\n",
        "\n",
        "Suppose we had such a function, call it `interpret`. How would it operate on, for instance, the tree `(S (S (NUM three)) (OP (ADD plus)) (S (NUM one)))`?\n",
        "\n",
        "```\n",
        "interpret (S (S (NUM three)) (OP (ADD plus)) (S (NUM one)))\n",
        "    |->interpret (S (NUM three))\n",
        "    |      |->interpret (NUM three)\n",
        "    |      |      |->(no subconstituents to evaluate)\n",
        "    |      |      |->apply the augmentation for the rule NUM -> three to the empty set of values\n",
        "    |      |      |      (lambda: 3) () ==> 3\n",
        "    |      |      \\==> 3\n",
        "    |      |->apply the augmentation for the rule S -> NUM to the value 3\n",
        "    |      |      (lambda NUM: NUM)(3) ==> 3\n",
        "    |      \\==> 3\n",
        "    |->interpret (OP (ADD plus))\n",
        "    |      |...\n",
        "    |      \\==> lambda x, y: x + y\n",
        "    |->interpret (S (NUM one))\n",
        "    |      |...\n",
        "    |      \\==> 1\n",
        "    |->apply the augmentation for the rule S -> S OP S to the values 3, (lambda x, y: x + y), and 1\n",
        "    |      (lambda S1, Op, S2: Op(S1, S2))(3, (lambda x, y: x + y), 1) ==> 4\n",
        "    \\==> 4\n",
        "```\n",
        "\n",
        "Thus, the string \"three plus one\" is semantically interpreted as the value 4.\n",
        "\n",
        "We provide the `interpret` function to carry out this recursive process, copied over from lab 4-2:"
      ]
    },
    {
      "cell_type": "code",
      "execution_count": 13,
      "id": "99104630",
      "metadata": {
        "id": "99104630"
      },
      "outputs": [],
      "source": [
        "def interpret(tree, augmentations):\n",
        "  syntactic_rule = tree.productions()[0]\n",
        "  semantic_rule = augmentations[syntactic_rule]\n",
        "  child_meanings = [interpret(child, augmentations)\n",
        "                    for child in tree\n",
        "                    if isinstance(child, nltk.Tree)]\n",
        "  return semantic_rule(*child_meanings)"
      ]
    },
    {
      "cell_type": "markdown",
      "id": "622fb2dc",
      "metadata": {
        "id": "622fb2dc"
      },
      "source": [
        "Now we should be able to evaluate the arithmetic example from above."
      ]
    },
    {
      "cell_type": "code",
      "execution_count": 14,
      "id": "855a5c99",
      "metadata": {
        "colab": {
          "base_uri": "https://localhost:8080/"
        },
        "outputId": "a6de016c-a7f4-4ba1-c492-80343d12d2bb",
        "id": "855a5c99"
      },
      "outputs": [
        {
          "output_type": "execute_result",
          "data": {
            "text/plain": [
              "16"
            ]
          },
          "metadata": {},
          "execution_count": 14
        }
      ],
      "source": [
        "interpret(parses[0], arithmetic_augmentations)"
      ]
    },
    {
      "cell_type": "markdown",
      "id": "6f348bc8",
      "metadata": {
        "id": "6f348bc8"
      },
      "source": [
        "And we can even write a function that parses and interprets a string. We'll have it evaluate each of the possible parses and print the results."
      ]
    },
    {
      "cell_type": "code",
      "execution_count": 15,
      "id": "dd784592",
      "metadata": {
        "id": "dd784592"
      },
      "outputs": [],
      "source": [
        "def parse_and_interpret(string, grammar, augmentations):\n",
        "  parser = nltk.parse.BottomUpChartParser(grammar)\n",
        "  parses = parser.parse(string.split())\n",
        "  for parse in parses:\n",
        "    parse.pretty_print()\n",
        "    print(parse, \"==>\", interpret(parse, augmentations))"
      ]
    },
    {
      "cell_type": "code",
      "execution_count": 16,
      "id": "66a97c1c",
      "metadata": {
        "colab": {
          "base_uri": "https://localhost:8080/"
        },
        "outputId": "e0010b21-df2f-423b-accd-df0f9a28bc23",
        "id": "66a97c1c"
      },
      "outputs": [
        {
          "output_type": "stream",
          "name": "stdout",
          "text": [
            "            S            \n",
            "        ____|_________    \n",
            "       S         |    |  \n",
            "   ____|____     |    |   \n",
            "  S    OP   S    OP   S  \n",
            "  |    |    |    |    |   \n",
            " NUM  ADD  NUM  MULT NUM \n",
            "  |    |    |    |    |   \n",
            "three plus one times four\n",
            "\n",
            "(S\n",
            "  (S (S (NUM three)) (OP (ADD plus)) (S (NUM one)))\n",
            "  (OP (MULT times))\n",
            "  (S (NUM four))) ==> 16\n",
            "            S            \n",
            "   _________|____         \n",
            "  |    |         S       \n",
            "  |    |     ____|____    \n",
            "  S    OP   S    OP   S  \n",
            "  |    |    |    |    |   \n",
            " NUM  ADD  NUM  MULT NUM \n",
            "  |    |    |    |    |   \n",
            "three plus one times four\n",
            "\n",
            "(S\n",
            "  (S (NUM three))\n",
            "  (OP (ADD plus))\n",
            "  (S (S (NUM one)) (OP (MULT times)) (S (NUM four)))) ==> 7\n"
          ]
        }
      ],
      "source": [
        "parse_and_interpret(\"three plus one times four\", arithmetic_grammar, arithmetic_augmentations)"
      ]
    },
    {
      "cell_type": "markdown",
      "id": "6231db03",
      "metadata": {
        "id": "6231db03"
      },
      "source": [
        "Since the string is syntactically ambiguous according to the grammar, it is semantically ambiguous as well."
      ]
    },
    {
      "cell_type": "markdown",
      "id": "f065c35f",
      "metadata": {
        "id": "f065c35f"
      },
      "source": [
        "## Some grammar specification conveniences\n",
        "\n",
        "Before going on, it will be useful to have a few more conveniences in writing augmentations for rules. First, since the augmentations are arbitrary Python expressions, they can be built from and make use of other functions. For instance, you'll notice that many of the augmentations at the leaves of the tree took no arguments and returned a constant. We can define a function `constant` that returns a function that ignores its arguments and returns a particular value."
      ]
    },
    {
      "cell_type": "code",
      "execution_count": 17,
      "id": "8b8b3fea",
      "metadata": {
        "id": "8b8b3fea"
      },
      "outputs": [],
      "source": [
        "def constant(value):\n",
        "  \"\"\"Return `value`, ignoring any arguments\"\"\"\n",
        "  return lambda *args: value"
      ]
    },
    {
      "cell_type": "markdown",
      "id": "72a031be",
      "metadata": {
        "id": "72a031be"
      },
      "source": [
        "Similarly, several of the augmentations are functions that just return their first argument. Again, we can define a generic form `first` of such a function:"
      ]
    },
    {
      "cell_type": "code",
      "execution_count": 18,
      "id": "103a6d09",
      "metadata": {
        "id": "103a6d09"
      },
      "outputs": [],
      "source": [
        "def first(*args):\n",
        "  \"\"\"Return the value of the first (and perhaps only) subconstituent,\n",
        "     ignoring any others\"\"\"\n",
        "  return args[0]"
      ]
    },
    {
      "cell_type": "markdown",
      "id": "0a433f17",
      "metadata": {
        "id": "0a433f17"
      },
      "source": [
        "We can now rewrite the grammar above to take advantage of these shortcuts.\n",
        "\n",
        "> In the call to `parse_augmented_grammar` below, we pass in the global environment, extracted via a `globals()` function call, via the named argument `globals`. This allows the `parse_augmented_grammar` function to make use of the global bindings for `constant`, `first`, and the like when evaluating the augmentation expressions to their values. You can check out the code in `transform.py` to see how the passed in `globals` bindings are used. To help understand what's going on, see what happens if you don't include the `globals=globals()`."
      ]
    },
    {
      "cell_type": "code",
      "execution_count": 19,
      "id": "6450c6e3",
      "metadata": {
        "id": "6450c6e3"
      },
      "outputs": [],
      "source": [
        "arithmetic_grammar_2, arithmetic_augmentations_2 = xform.parse_augmented_grammar(\n",
        "    \"\"\"\n",
        "    ## Sample grammar for arithmetic expressions\n",
        "\n",
        "    S -> NUM                              : first\n",
        "       | S OP S                           : lambda S1, Op, S2: Op(S1, S2)\n",
        "\n",
        "    OP -> ADD                             : first\n",
        "       | SUB\n",
        "       | MULT\n",
        "       | DIV\n",
        "\n",
        "    NUM -> 'zero'                         : constant(0)\n",
        "         | 'one'                          : constant(1)\n",
        "         | 'two'                          : constant(2)\n",
        "         | 'three'                        : constant(3)\n",
        "         | 'four'                         : constant(4)\n",
        "         | 'five'                         : constant(5)\n",
        "         | 'six'                          : constant(6)\n",
        "         | 'seven'                        : constant(7)\n",
        "         | 'eight'                        : constant(8)\n",
        "         | 'nine'                         : constant(9)\n",
        "         | 'ten'                          : constant(10)\n",
        "\n",
        "    ADD -> 'plus' | 'added' 'to'          : constant(lambda x, y: x + y)\n",
        "    SUB -> 'minus'                        : constant(lambda x, y: x - y)\n",
        "    MULT -> 'times' | 'multiplied' 'by'   : constant(lambda x, y: x * y)\n",
        "    DIV -> 'divided' 'by'                 : constant(lambda x, y: x / y)\n",
        "    \"\"\",\n",
        "    globals=globals())"
      ]
    },
    {
      "cell_type": "markdown",
      "id": "1e01f958",
      "metadata": {
        "id": "1e01f958"
      },
      "source": [
        "Finally, it might make our lives easier to write a template of augmentations whose instantiation depends on the right-hand side of the rule.\n",
        "\n",
        "We use a reserved keyword `_RHS` to denote the right-hand side of the syntactic rule, which will be replaced by a **list** of the right-hand-side strings. For example, an augmentation `numeric_template(_RHS)` would be as if written as `numeric_template(['zero'])` when the rule is `NUM -> 'zero'`, and `numeric_template(['one'])` when the rule is `NUM -> 'one'`. The details of how this works can be found at [`scripts/transform.py`](https://github.com/nlp-236299/data/blob/master/scripts/trees/transform.py).\n",
        "\n",
        "This would allow us to use a single template function, for example,"
      ]
    },
    {
      "cell_type": "code",
      "execution_count": 20,
      "id": "a910940e",
      "metadata": {
        "id": "a910940e"
      },
      "outputs": [],
      "source": [
        "def numeric_template(rhs):\n",
        "  \"\"\"Ignore the subphrase meanings and lookup the first right-hand-side symbol\n",
        "     as a number\"\"\"\n",
        "  return constant({'zero':0, 'one':1, 'two':2, 'three':3, 'four':4, 'five':5,\n",
        "          'six':6, 'seven':7, 'eight':8, 'nine':9, 'ten':10}[rhs[0]])"
      ]
    },
    {
      "cell_type": "markdown",
      "id": "7c49ac69",
      "metadata": {
        "id": "7c49ac69"
      },
      "source": [
        "and then further simplify the grammar specification:"
      ]
    },
    {
      "cell_type": "code",
      "execution_count": 21,
      "id": "be55160f",
      "metadata": {
        "id": "be55160f"
      },
      "outputs": [],
      "source": [
        "arithmetic_grammar_3, arithmetic_augmentations_3 = xform.parse_augmented_grammar(\n",
        "    \"\"\"\n",
        "    ## Sample grammar for arithmetic expressions\n",
        "\n",
        "    S -> NUM                              : first\n",
        "       | S OP S                           : lambda S1, Op, S2: Op(S1, S2)\n",
        "\n",
        "    OP -> ADD                             : first\n",
        "       | SUB\n",
        "       | MULT\n",
        "       | DIV\n",
        "\n",
        "    NUM -> 'zero'  | 'one'   | 'two'      : numeric_template(_RHS)\n",
        "         | 'three' | 'four'  | 'five'\n",
        "         | 'six'   | 'seven' | 'eight'\n",
        "         | 'nine'  | 'ten'\n",
        "\n",
        "    ADD -> 'plus' | 'added' 'to'          : constant(lambda x, y: x + y)\n",
        "    SUB -> 'minus'                        : constant(lambda x, y: x - y)\n",
        "    MULT -> 'times' | 'multiplied' 'by'   : constant(lambda x, y: x * y)\n",
        "    DIV -> 'divided' 'by'                 : constant(lambda x, y: x / y)\n",
        "    \"\"\",\n",
        "    globals=globals())"
      ]
    },
    {
      "cell_type": "code",
      "execution_count": 22,
      "id": "1b1267d2",
      "metadata": {
        "colab": {
          "base_uri": "https://localhost:8080/"
        },
        "outputId": "a6b8f237-1c89-4098-99c2-65edfc50e40e",
        "id": "1b1267d2"
      },
      "outputs": [
        {
          "output_type": "stream",
          "name": "stdout",
          "text": [
            "       S                 \n",
            "  _____|______________    \n",
            " S           OP       S  \n",
            " |           |        |   \n",
            "NUM         DIV      NUM \n",
            " |      _____|___     |   \n",
            "six divided      by three\n",
            "\n",
            "(S (S (NUM six)) (OP (DIV divided by)) (S (NUM three))) ==> 2.0\n"
          ]
        }
      ],
      "source": [
        "parse_and_interpret(\"six divided by three\", arithmetic_grammar_3, arithmetic_augmentations_3)"
      ]
    },
    {
      "cell_type": "markdown",
      "id": "7610d6de",
      "metadata": {
        "id": "7610d6de"
      },
      "source": [
        "## Example: _Green Eggs and Ham_ revisited\n",
        "\n",
        "This stuff is tricky, so it's useful to see more examples before jumping in the deep end. In this simple GEaH fragment grammar, we use a larger set of auxiliary functions to build the augmentations."
      ]
    },
    {
      "cell_type": "code",
      "execution_count": 23,
      "id": "14e7a796",
      "metadata": {
        "id": "14e7a796"
      },
      "outputs": [],
      "source": [
        "def forward(F, A):\n",
        "  \"\"\"Forward application: Return the application of the first\n",
        "     argument to the second\"\"\"\n",
        "  return F(A)\n",
        "\n",
        "def backward(A, F):\n",
        "  \"\"\"Backward application: Return the application of the second\n",
        "     argument to the first\"\"\"\n",
        "  return F(A)\n",
        "\n",
        "def second(*args):\n",
        "  \"\"\"Return the value of the second subconstituent, ignoring any others\"\"\"\n",
        "  return args[1]\n",
        "\n",
        "def ignore(*args):\n",
        "  \"\"\"Return `None`, ignoring everything about the constituent. (Good as a\n",
        "     placeholder until a better augmentation can be devised.)\"\"\"\n",
        "  return None"
      ]
    },
    {
      "cell_type": "markdown",
      "id": "1335b23d",
      "metadata": {
        "id": "1335b23d"
      },
      "source": [
        "Using these, we can build and test the grammar."
      ]
    },
    {
      "cell_type": "code",
      "execution_count": 24,
      "id": "7defaca8",
      "metadata": {
        "id": "7defaca8"
      },
      "outputs": [],
      "source": [
        "geah_grammar_spec = \"\"\"\n",
        "  ## Productions\n",
        "  S -> NP VP            : backward\n",
        "  VP -> V NP            : forward\n",
        "\n",
        "  ## Lexicon\n",
        "  V -> 'likes'          : constant(lambda Object: lambda Subject: f\"like({Subject}, {Object})\")\n",
        "  NP -> 'Sam' | 'sam'   : constant(_RHS[0])\n",
        "  NP -> 'ham'\n",
        "  NP -> 'eggs'\n",
        "\"\"\""
      ]
    },
    {
      "cell_type": "code",
      "execution_count": 25,
      "id": "931fea18",
      "metadata": {
        "id": "931fea18"
      },
      "outputs": [],
      "source": [
        "geah_grammar, geah_augmentations = xform.parse_augmented_grammar(geah_grammar_spec,\n",
        "                                                                 globals=globals())"
      ]
    },
    {
      "cell_type": "code",
      "execution_count": 26,
      "id": "75d6b0b6",
      "metadata": {
        "colab": {
          "base_uri": "https://localhost:8080/"
        },
        "outputId": "d601f033-60b5-49fc-f38c-79a30600f70a",
        "id": "75d6b0b6"
      },
      "outputs": [
        {
          "output_type": "stream",
          "name": "stdout",
          "text": [
            "      S          \n",
            "  ____|____       \n",
            " |         VP    \n",
            " |     ____|___   \n",
            " NP   V        NP\n",
            " |    |        |  \n",
            "Sam likes     ham\n",
            "\n",
            "(S (NP Sam) (VP (V likes) (NP ham))) ==> like(Sam, ham)\n"
          ]
        }
      ],
      "source": [
        "parse_and_interpret(\"Sam likes ham\", geah_grammar, geah_augmentations)"
      ]
    },
    {
      "cell_type": "markdown",
      "id": "37c6846d",
      "metadata": {
        "id": "37c6846d"
      },
      "source": [
        "# Semantics of ATIS queries\n",
        "\n",
        "Now you're in a good position to understand and add augmentations to a more comprehensive grammar, say, one that parses ATIS queries and generates SQL queries.\n",
        "\n",
        "In preparation for that, we need to load the ATIS data, both NL and SQL queries."
      ]
    },
    {
      "cell_type": "markdown",
      "id": "93384b7d",
      "metadata": {
        "id": "93384b7d"
      },
      "source": [
        "## Loading and preprocessing the corpus\n",
        "\n",
        "To simplify things a bit, we'll only consider ATIS queries whose question type (remember that from project segment 1?) is `flight_id`. We download training, development, and test splits for this subset of the ATIS corpus, including corresponding SQL queries."
      ]
    },
    {
      "cell_type": "code",
      "execution_count": 27,
      "id": "4f51262c",
      "metadata": {
        "id": "4f51262c"
      },
      "outputs": [],
      "source": [
        "# Acquire the datasets - training, development, and test splits of the\n",
        "# ATIS queries and corresponding SQL queries\n",
        "download_if_needed(source_url, \"data/\", \"/ATIS/test_flightid.nl\")\n",
        "download_if_needed(source_url, \"data/\", \"/ATIS/test_flightid.sql\")\n",
        "download_if_needed(source_url, \"data/\", \"/ATIS/dev_flightid.nl\")\n",
        "download_if_needed(source_url, \"data/\", \"/ATIS/dev_flightid.sql\")\n",
        "download_if_needed(source_url, \"data/\", \"/ATIS/train_flightid.nl\")\n",
        "download_if_needed(source_url, \"data/\", \"/ATIS/train_flightid.sql\")"
      ]
    },
    {
      "cell_type": "code",
      "execution_count": 28,
      "id": "48bcfffc",
      "metadata": {
        "id": "48bcfffc"
      },
      "outputs": [],
      "source": [
        "# Process data\n",
        "for split in ['train', 'dev', 'test']:\n",
        "    src_in_file = f'data/{split}_flightid.nl'\n",
        "    tgt_in_file = f'data/{split}_flightid.sql'\n",
        "    out_file = f'data/{split}.csv'\n",
        "\n",
        "    with open(src_in_file, 'r') as f_src_in, open(tgt_in_file, 'r') as f_tgt_in:\n",
        "        with open(out_file, 'w') as f_out:\n",
        "            src, tgt= [], []\n",
        "            writer = csv.writer(f_out)\n",
        "            writer.writerow(('src','tgt'))\n",
        "            for src_line, tgt_line in zip(f_src_in, f_tgt_in):\n",
        "                writer.writerow((src_line.strip(), tgt_line.strip()))"
      ]
    },
    {
      "cell_type": "markdown",
      "id": "e87c15b5",
      "metadata": {
        "id": "e87c15b5"
      },
      "source": [
        "Let's take a look at what the data file looks like."
      ]
    },
    {
      "cell_type": "code",
      "execution_count": 29,
      "id": "46cf3d34",
      "metadata": {
        "colab": {
          "base_uri": "https://localhost:8080/"
        },
        "outputId": "2ca6940e-1429-4128-ae78-a347d278df2d",
        "id": "46cf3d34"
      },
      "outputs": [
        {
          "output_type": "stream",
          "name": "stdout",
          "text": [
            "src,tgt\n",
            "what flights are available tomorrow from denver to philadelphia,\"SELECT DISTINCT flight_1.flight_id FROM flight flight_1 , airport_service airport_service_1 , city city_1 , airport_service airport_service_2 , city city_2 , days days_1 , date_day date_day_1 WHERE flight_1.from_airport = airport_service_1.airport_code AND airport_service_1.city_code = city_1.city_code AND city_1.city_name = 'DENVER' AND ( flight_1.to_airport = airport_service_2.airport_code AND airport_service_2.city_code = city_2.city_code AND city_2.city_name = 'PHILADELPHIA' AND flight_1.flight_days = days_1.days_code AND days_1.day_name = date_day_1.day_name AND date_day_1.year = 1991 AND date_day_1.month_number = 1 AND date_day_1.day_number = 20 )\"\n"
          ]
        }
      ],
      "source": [
        "shell(\"head -2 data/dev.csv\")"
      ]
    },
    {
      "cell_type": "markdown",
      "id": "2ec9ba80",
      "metadata": {
        "id": "2ec9ba80"
      },
      "source": [
        "## Corpus preprocessing"
      ]
    },
    {
      "cell_type": "markdown",
      "id": "8489fbcf",
      "metadata": {
        "id": "8489fbcf"
      },
      "source": [
        "We'll use `tokenizers` and `datasets` to process the data. We'll use the NLTK tokenizer from project segment 3."
      ]
    },
    {
      "cell_type": "code",
      "execution_count": 30,
      "id": "fbdd5528",
      "metadata": {
        "colab": {
          "base_uri": "https://localhost:8080/"
        },
        "id": "fbdd5528",
        "outputId": "21fc8ac9-6643-4170-bb9a-8b6a29b04089"
      },
      "outputs": [
        {
          "output_type": "stream",
          "name": "stdout",
          "text": [
            "['are', 'there', 'any', 'first-class', 'flights', 'from', 'st.', 'louis', 'at', '11', 'pm', 'for', 'less', 'than', '$3.50', '?']\n"
          ]
        }
      ],
      "source": [
        "## NLTK Tokenizer\n",
        "tokenizer_pattern = '\\d+|st\\.|[\\w-]+|\\$[\\d\\.]+|\\S+'\n",
        "nltk_tokenizer = nltk.tokenize.RegexpTokenizer(tokenizer_pattern)\n",
        "def tokenize_nltk(string):\n",
        "  return nltk_tokenizer.tokenize(string.lower())\n",
        "\n",
        "## Demonstrating the tokenizer\n",
        "## Note especially the handling of `\"11pm\"` and hyphenated words.\n",
        "print(tokenize_nltk(\"Are there any first-class flights from St. Louis at 11pm for less than $3.50?\"))"
      ]
    },
    {
      "cell_type": "code",
      "execution_count": 31,
      "id": "a6179744",
      "metadata": {
        "colab": {
          "base_uri": "https://localhost:8080/",
          "height": 532,
          "referenced_widgets": [
            "a77943d419604d2a8f2b220d6cf027de",
            "30bc6be9e325473bb68618c219bdbe11",
            "647f22e34c5a4ede8e2df9a5a25cfafd",
            "5f222004097b481a91c288a0a466066a",
            "1d51327d746a4973bd1be90198f7394b",
            "e6f69eaa044c4180b7a7eb1ee9281709",
            "cf45e8602ead428f9d1bbb12442da99b",
            "0b4e46a654ba4e6d8add5149446a47bc",
            "6bc945c3135c4ba397713fe1db4be904",
            "7ef6b3cb40234e5e99dd736bcd06d739",
            "6764a3db694d407ba738ddd517dce7f0",
            "e5d02a2af9f14e72a3996501a7acc264",
            "b34000c18c124c03b6dc8d84b5d925c6",
            "d55e0a9cdd2c4177a020d32463ab52de",
            "ef00ecd71cbc422e96d138b885cb31ba",
            "859d1e6f9a6b4d969992efa06733558f",
            "c7bd4184206c479f9493f8a3a1351715",
            "1eca0eda6a8547f8abba8733bd351e6e",
            "fc2c79aaa5f44cb5a868da667a46b3eb",
            "665ed907e23b4d62849b79f7d1327e6c",
            "5104b061152641f3af7b53b737b11195",
            "607d33acf1af4871a6eae8340e633f12",
            "d1bc3bcc861c42c7b9555f5b8a4bd964",
            "b77820050b994d4b99e2c32ed58d0f4c",
            "dee6531eb022460fa4f4a0eeb15ca332",
            "2204f2a75bd541b99c9d58550bbd65f3",
            "827c40322f284afdb18403da12cf3548",
            "6e316efdd13f40bba27fa29fed7e9aa8",
            "cbd241fb97aa4796b528ff3df5374ada",
            "cad30994cf9f4d15ad752d922f59cc3a",
            "57a0c69d5b564e6a8ee3286bd91e9af2",
            "4b3b821279d34b4c8043f9d934602d5f",
            "25c5c4c619a0429189ea0af643cec605",
            "acade59188904815bde83b0db068beba",
            "124a20f6aeaf42779cf1fe678ba6e9c6",
            "e5ebfcb306ff4256abc0973b20485513",
            "62c2f2f7a5f44353ae0c099eff9d4188",
            "9b876f4c6c384b7fa618e7c070a5b988",
            "177c8eeaf72d43d19d0d782484030cba",
            "22eac04d15c84016b8cd241074dc3794",
            "9d26441e193049bb8a3350bb798856b3",
            "34cfa03e4e164255a5fa9592b0ca3eba",
            "8e01756a56954889ac5445d668f049e9",
            "b1781d90ff864ba189e9fbbb0e1633b7",
            "3e622aa6d6dc49ee9dcb29710f5b468f",
            "ab40d3e81b26450f97058a4237cd265a",
            "6d5e9eaded5c49f5ba735d4c11bd4247",
            "e34319cea12f4bd1b1318973c65088d7",
            "cdf21287760647ac965d5173fadaf198",
            "812ba3e80983472b9f228ef30f30f9fe",
            "cde66c43a7e24d7cb74644e183afd9ba",
            "793cc761269d40b09b8328171fca8b81",
            "3ec8fb36762949dfac4ade8702be1203",
            "730bd6bf538b4ebc81cfe60490573650",
            "9075490d5d1e4685bb74116433e0fa27",
            "f42420a314df44c9bd6327366d9dc35e",
            "1f760595ba814f4d9d65dda29aecdcd8",
            "b2625bcadbbc4d0fa3cab8136bcd3eac",
            "c1797d99e74b43c693f2d1a3d1c28381",
            "f56ca79a4b224863acd984724e41ac48",
            "bf7d83bfbc0e40b39519b3429201d42a",
            "7f173cac0fe343ce990abafad7a313be",
            "1bc74daa50c64754aa371ff6cd2257df",
            "1b207de5bf0c472781c47ccfcbbc7166",
            "8ec504de256646cca43fd5fcb9771465",
            "d7676a8d154d40f49f8cb389323150b9"
          ]
        },
        "id": "a6179744",
        "outputId": "33d76e42-faa5-4c38-9202-392448466f0c"
      },
      "outputs": [
        {
          "output_type": "stream",
          "name": "stderr",
          "text": [
            "WARNING:datasets.builder:Using custom data configuration default-73b9c5a053c0dd52\n"
          ]
        },
        {
          "output_type": "stream",
          "name": "stdout",
          "text": [
            "Downloading and preparing dataset csv/default to /root/.cache/huggingface/datasets/csv/default-73b9c5a053c0dd52/0.0.0/6b34fb8fcf56f7c8ba51dc895bfa2bfbe43546f190a60fcf74bb5e8afdcc2317...\n"
          ]
        },
        {
          "output_type": "display_data",
          "data": {
            "text/plain": [
              "Downloading data files:   0%|          | 0/3 [00:00<?, ?it/s]"
            ],
            "application/vnd.jupyter.widget-view+json": {
              "version_major": 2,
              "version_minor": 0,
              "model_id": "a77943d419604d2a8f2b220d6cf027de"
            }
          },
          "metadata": {}
        },
        {
          "output_type": "display_data",
          "data": {
            "text/plain": [
              "Extracting data files:   0%|          | 0/3 [00:00<?, ?it/s]"
            ],
            "application/vnd.jupyter.widget-view+json": {
              "version_major": 2,
              "version_minor": 0,
              "model_id": "e5d02a2af9f14e72a3996501a7acc264"
            }
          },
          "metadata": {}
        },
        {
          "output_type": "display_data",
          "data": {
            "text/plain": [
              "Generating train split: 0 examples [00:00, ? examples/s]"
            ],
            "application/vnd.jupyter.widget-view+json": {
              "version_major": 2,
              "version_minor": 0,
              "model_id": "d1bc3bcc861c42c7b9555f5b8a4bd964"
            }
          },
          "metadata": {}
        },
        {
          "output_type": "stream",
          "name": "stderr",
          "text": [
            "/usr/local/lib/python3.10/dist-packages/datasets/download/streaming_download_manager.py:776: FutureWarning: the 'mangle_dupe_cols' keyword is deprecated and will be removed in a future version. Please take steps to stop the use of 'mangle_dupe_cols'\n",
            "  return pd.read_csv(xopen(filepath_or_buffer, \"rb\", use_auth_token=use_auth_token), **kwargs)\n"
          ]
        },
        {
          "output_type": "display_data",
          "data": {
            "text/plain": [
              "Generating val split: 0 examples [00:00, ? examples/s]"
            ],
            "application/vnd.jupyter.widget-view+json": {
              "version_major": 2,
              "version_minor": 0,
              "model_id": "acade59188904815bde83b0db068beba"
            }
          },
          "metadata": {}
        },
        {
          "output_type": "stream",
          "name": "stderr",
          "text": [
            "/usr/local/lib/python3.10/dist-packages/datasets/download/streaming_download_manager.py:776: FutureWarning: the 'mangle_dupe_cols' keyword is deprecated and will be removed in a future version. Please take steps to stop the use of 'mangle_dupe_cols'\n",
            "  return pd.read_csv(xopen(filepath_or_buffer, \"rb\", use_auth_token=use_auth_token), **kwargs)\n"
          ]
        },
        {
          "output_type": "display_data",
          "data": {
            "text/plain": [
              "Generating test split: 0 examples [00:00, ? examples/s]"
            ],
            "application/vnd.jupyter.widget-view+json": {
              "version_major": 2,
              "version_minor": 0,
              "model_id": "3e622aa6d6dc49ee9dcb29710f5b468f"
            }
          },
          "metadata": {}
        },
        {
          "output_type": "stream",
          "name": "stderr",
          "text": [
            "/usr/local/lib/python3.10/dist-packages/datasets/download/streaming_download_manager.py:776: FutureWarning: the 'mangle_dupe_cols' keyword is deprecated and will be removed in a future version. Please take steps to stop the use of 'mangle_dupe_cols'\n",
            "  return pd.read_csv(xopen(filepath_or_buffer, \"rb\", use_auth_token=use_auth_token), **kwargs)\n"
          ]
        },
        {
          "output_type": "stream",
          "name": "stdout",
          "text": [
            "Dataset csv downloaded and prepared to /root/.cache/huggingface/datasets/csv/default-73b9c5a053c0dd52/0.0.0/6b34fb8fcf56f7c8ba51dc895bfa2bfbe43546f190a60fcf74bb5e8afdcc2317. Subsequent calls will reuse this data.\n"
          ]
        },
        {
          "output_type": "display_data",
          "data": {
            "text/plain": [
              "  0%|          | 0/3 [00:00<?, ?it/s]"
            ],
            "application/vnd.jupyter.widget-view+json": {
              "version_major": 2,
              "version_minor": 0,
              "model_id": "f42420a314df44c9bd6327366d9dc35e"
            }
          },
          "metadata": {}
        },
        {
          "output_type": "execute_result",
          "data": {
            "text/plain": [
              "DatasetDict({\n",
              "    train: Dataset({\n",
              "        features: ['src', 'tgt'],\n",
              "        num_rows: 3651\n",
              "    })\n",
              "    val: Dataset({\n",
              "        features: ['src', 'tgt'],\n",
              "        num_rows: 398\n",
              "    })\n",
              "    test: Dataset({\n",
              "        features: ['src', 'tgt'],\n",
              "        num_rows: 332\n",
              "    })\n",
              "})"
            ]
          },
          "metadata": {},
          "execution_count": 31
        }
      ],
      "source": [
        "dataset = load_dataset('csv', data_files={'train':f'data/train.csv', \\\n",
        "                                          'val': f'data/dev.csv', \\\n",
        "                                          'test': f'data/test.csv'})\n",
        "dataset"
      ]
    },
    {
      "cell_type": "code",
      "execution_count": 32,
      "id": "cf2002eb",
      "metadata": {
        "id": "cf2002eb"
      },
      "outputs": [],
      "source": [
        "train_data = dataset['train']\n",
        "val_data = dataset['val']\n",
        "test_data = dataset['test']"
      ]
    },
    {
      "cell_type": "code",
      "execution_count": 33,
      "id": "dbdb6bd0",
      "metadata": {
        "id": "dbdb6bd0"
      },
      "outputs": [],
      "source": [
        "MIN_FREQ = 3\n",
        "unk_token = '[UNK]'\n",
        "pad_token = '[PAD]'\n",
        "bos_token = '<bos>'\n",
        "eos_token = '<eos>'\n",
        "\n",
        "src_tokenizer = Tokenizer(WordLevel(unk_token=unk_token))\n",
        "src_tokenizer.normalizer = normalizers.Lowercase()\n",
        "src_tokenizer.pre_tokenizer = Split(Regex(tokenizer_pattern), behavior='removed', invert=True)\n",
        "\n",
        "src_trainer = WordLevelTrainer(min_frequency=MIN_FREQ, special_tokens=[pad_token, unk_token])\n",
        "src_tokenizer.train_from_iterator(train_data['src'], trainer=src_trainer)\n",
        "\n",
        "tgt_tokenizer = Tokenizer(WordLevel(unk_token=unk_token))\n",
        "tgt_tokenizer.pre_tokenizer = WhitespaceSplit()\n",
        "\n",
        "tgt_trainer = WordLevelTrainer(min_frequency=MIN_FREQ, special_tokens=[pad_token, unk_token, bos_token, eos_token])\n",
        "\n",
        "tgt_tokenizer.train_from_iterator(train_data['tgt'], trainer=tgt_trainer)\n",
        "\n",
        "tgt_tokenizer.post_processor = TemplateProcessing(single=f\"{bos_token} $A {eos_token}\", special_tokens=[(bos_token, tgt_tokenizer.token_to_id(bos_token)), (eos_token, tgt_tokenizer.token_to_id(eos_token))])"
      ]
    },
    {
      "cell_type": "markdown",
      "id": "76b6fbcd",
      "metadata": {
        "id": "76b6fbcd"
      },
      "source": [
        "Note that we prepended `<bos>` and appended `<eos>` to target sentences.\n",
        "\n",
        "We use `datasets.Dataset.map` to convert text into word ids. As shown in lab 1-5, first we need to wrap `tokenizer` with the `transformers.PreTrainedTokenizerFast` class to be compatible with the `datasets` library."
      ]
    },
    {
      "cell_type": "code",
      "execution_count": 34,
      "id": "0646660f",
      "metadata": {
        "colab": {
          "base_uri": "https://localhost:8080/",
          "height": 113,
          "referenced_widgets": [
            "48e3cf3259fa4c5e8d1c0785caa0e840",
            "93dfd98b45d14ef19006cef1942a1359",
            "ec3f9989a5814c64b4e37089042b7d5c",
            "8faff77823764e6bb6e11f6d3b4f7751",
            "99cb7f9c2233471b9fc731c468eb7056",
            "775486f8a24e405aab39ed8393df0343",
            "23c8519054bb4729a65775795dff5dd9",
            "be32e5db3f36499e88c2c88d16278408",
            "1dbb42e83b974e25aebce046e9d0c21a",
            "ece87d3dc7aa44b89f618d30a0b43afe",
            "ce193295de114544a499b64414ba294b",
            "98413d903d89438daefccb840f40125d",
            "2c37cb30f63143f4a3a833c017fe4466",
            "48abae1340c84bc3a0017f9d7bd748f1",
            "285cd945d2dc49398484ce0b2c2d684d",
            "da7a8aa379ef456a834c445f9d96894e",
            "fc5582866a7446aca7d36e82ffb596bb",
            "19493013ac3c4893930cf250d77cbed8",
            "9c02010a045349da975de5f7b9f89319",
            "a9ff006ae221427f89864a4520bf85e7",
            "82ebd60bbdcf416998e8e0a258c3d0f0",
            "307c1b66a93948c1990bdd2cb49108de",
            "707388d0addd41a3a62d31dfbe98b1d2",
            "07341d36f04a40b1951f42f91f1bd3ba",
            "afa99c8d32bd40c58da0f72871611a21",
            "77dcb005e31145b3873d57792ecf98c7",
            "92cddc2d3fd542b5b35bbbf1c3343746",
            "5f09323188d64b948304946b24d4f844",
            "f2d8b8ef13f443b6a94c0b7e1b202791",
            "9c567914955e4067b9aceed884e89a7b",
            "e38d98aab3964bfdac519535037ff5b4",
            "eced651186114120ac1130f2bb8207a4",
            "fe99257b4f184c11be2ee2b7ad327e08"
          ]
        },
        "id": "0646660f",
        "outputId": "04a9ec04-90ef-412f-e602-c7df83848ee7"
      },
      "outputs": [
        {
          "output_type": "display_data",
          "data": {
            "text/plain": [
              "  0%|          | 0/3651 [00:00<?, ?ex/s]"
            ],
            "application/vnd.jupyter.widget-view+json": {
              "version_major": 2,
              "version_minor": 0,
              "model_id": "48e3cf3259fa4c5e8d1c0785caa0e840"
            }
          },
          "metadata": {}
        },
        {
          "output_type": "display_data",
          "data": {
            "text/plain": [
              "  0%|          | 0/398 [00:00<?, ?ex/s]"
            ],
            "application/vnd.jupyter.widget-view+json": {
              "version_major": 2,
              "version_minor": 0,
              "model_id": "98413d903d89438daefccb840f40125d"
            }
          },
          "metadata": {}
        },
        {
          "output_type": "display_data",
          "data": {
            "text/plain": [
              "  0%|          | 0/332 [00:00<?, ?ex/s]"
            ],
            "application/vnd.jupyter.widget-view+json": {
              "version_major": 2,
              "version_minor": 0,
              "model_id": "707388d0addd41a3a62d31dfbe98b1d2"
            }
          },
          "metadata": {}
        }
      ],
      "source": [
        "hf_src_tokenizer = PreTrainedTokenizerFast(tokenizer_object=src_tokenizer, pad_token=pad_token)\n",
        "hf_tgt_tokenizer = PreTrainedTokenizerFast(tokenizer_object=tgt_tokenizer, pad_token=pad_token)\n",
        "\n",
        "def encode(example):\n",
        "    example['src_ids'] = hf_src_tokenizer(example['src']).input_ids\n",
        "    example['tgt_ids'] = hf_tgt_tokenizer(example['tgt']).input_ids\n",
        "    return example\n",
        "\n",
        "train_data = train_data.map(encode)\n",
        "val_data = val_data.map(encode)\n",
        "test_data = test_data.map(encode)"
      ]
    },
    {
      "cell_type": "code",
      "execution_count": 35,
      "id": "c2dcadb0",
      "metadata": {
        "colab": {
          "base_uri": "https://localhost:8080/"
        },
        "id": "c2dcadb0",
        "outputId": "0157dd0b-0dd5-46d8-bd84-41eb8a6e5fab"
      },
      "outputs": [
        {
          "output_type": "stream",
          "name": "stdout",
          "text": [
            "Size of English vocab: 421\n",
            "Size of SQL vocab: 392\n",
            "Index for src padding: 0\n",
            "Index for tgt padding: 0\n",
            "Index for start of sequence token: 2\n",
            "Index for end of sequence token: 3\n"
          ]
        }
      ],
      "source": [
        "# Compute size of vocabulary\n",
        "src_vocab = src_tokenizer.get_vocab()\n",
        "tgt_vocab = tgt_tokenizer.get_vocab()\n",
        "\n",
        "print(f\"Size of English vocab: {len(src_vocab)}\")\n",
        "print(f\"Size of SQL vocab: {len(tgt_vocab)}\")\n",
        "print(f\"Index for src padding: {src_vocab[pad_token]}\")\n",
        "print(f\"Index for tgt padding: {tgt_vocab[pad_token]}\")\n",
        "print(f\"Index for start of sequence token: {tgt_vocab[bos_token]}\")\n",
        "print(f\"Index for end of sequence token: {tgt_vocab[eos_token]}\")"
      ]
    },
    {
      "cell_type": "markdown",
      "id": "ae99d64d",
      "metadata": {
        "id": "ae99d64d"
      },
      "source": [
        "Next, we batch our data to facilitate processing on a GPU.\n",
        "Batching is a bit tricky because the source and target will typically be of different lengths and have to padd the sequences to the same length.\n",
        "Since there is  padding, we need to handle them with [`pack`](https://pytorch.org/docs/stable/generated/torch.nn.utils.rnn.pack_padded_sequence.html#torch.nn.utils.rnn.pack_padded_sequence) and [`unpack`](https://pytorch.org/docs/stable/generated/torch.nn.utils.rnn.pad_packed_sequence.html) later on in the seq2seq part (as in lab 4-5)."
      ]
    },
    {
      "cell_type": "code",
      "execution_count": 36,
      "id": "b67bbe04",
      "metadata": {
        "id": "b67bbe04"
      },
      "outputs": [],
      "source": [
        "BATCH_SIZE = 16     # batch size for training and validation\n",
        "TEST_BATCH_SIZE = 1 # batch size for test; we use 1 to make implementation easier\n",
        "\n",
        "# Defines how to batch a list of examples together\n",
        "def collate_fn(examples):\n",
        "    batch = {}\n",
        "    bsz = len(examples)\n",
        "    src_ids, tgt_ids = [], []\n",
        "    for example in examples:\n",
        "        src_ids.append(example['src_ids'])\n",
        "        tgt_ids.append(example['tgt_ids'])\n",
        "\n",
        "    src_len = torch.LongTensor([len(word_ids) for word_ids in src_ids]).to(device)\n",
        "    src_max_length = max(src_len)\n",
        "    tgt_max_length = max([len(word_ids) for word_ids in tgt_ids])\n",
        "\n",
        "    src_batch = torch.zeros(bsz, src_max_length).long().fill_(src_vocab[pad_token]).to(device)\n",
        "    tgt_batch = torch.zeros(bsz, tgt_max_length).long().fill_(tgt_vocab[pad_token]).to(device)\n",
        "    for b in range(bsz):\n",
        "        src_batch[b][:len(src_ids[b])] = torch.LongTensor(src_ids[b]).to(device)\n",
        "        tgt_batch[b][:len(tgt_ids[b])] = torch.LongTensor(tgt_ids[b]).to(device)\n",
        "\n",
        "    batch['src_lengths'] = src_len\n",
        "    batch['src_ids'] = src_batch\n",
        "    batch['tgt_ids'] = tgt_batch\n",
        "    return batch\n",
        "\n",
        "train_iter = torch.utils.data.DataLoader(train_data,\n",
        "                                         batch_size=BATCH_SIZE,\n",
        "                                         shuffle=True,\n",
        "                                         collate_fn=collate_fn)\n",
        "val_iter = torch.utils.data.DataLoader(val_data,\n",
        "                                       batch_size=BATCH_SIZE,\n",
        "                                       shuffle=False,\n",
        "                                       collate_fn=collate_fn)\n",
        "test_iter = torch.utils.data.DataLoader(test_data,\n",
        "                                        batch_size=TEST_BATCH_SIZE,\n",
        "                                        shuffle=False,\n",
        "                                        collate_fn=collate_fn)"
      ]
    },
    {
      "cell_type": "markdown",
      "id": "9f4b3ac6",
      "metadata": {
        "id": "9f4b3ac6"
      },
      "source": [
        "Let's look at a single batch from one of these iterators."
      ]
    },
    {
      "cell_type": "code",
      "execution_count": 37,
      "id": "b54608c0",
      "metadata": {
        "colab": {
          "base_uri": "https://localhost:8080/"
        },
        "outputId": "e3f464ce-4dcc-44a7-a893-a0d4e326fc11",
        "id": "b54608c0"
      },
      "outputs": [
        {
          "output_type": "stream",
          "name": "stdout",
          "text": [
            "Size of text batch: torch.Size([16, 30])\n",
            "Third sentence in batch: tensor([ 9,  7,  4,  3, 13, 16,  2, 11,  6, 69,  0,  0,  0,  0,  0,  0,  0,  0,\n",
            "         0,  0,  0,  0,  0,  0,  0,  0,  0,  0,  0,  0], device='cuda:0')\n",
            "Length of the third sentence in batch: 30\n",
            "Converted back to string: show me flights from san francisco to boston on thursday [PAD] [PAD] [PAD] [PAD] [PAD] [PAD] [PAD] [PAD] [PAD] [PAD] [PAD] [PAD] [PAD] [PAD] [PAD] [PAD] [PAD] [PAD] [PAD] [PAD]\n",
            "Size of sql batch: torch.Size([16, 153])\n",
            "Third sql in batch: tensor([  2,  14,  31,  11,  13,  12,  16,   6,   7,  22,   6,   8,  23,   6,\n",
            "          7,  29,   6,   8,  30,   6,  33,  40,   6,  38,  46,  15,  21,   4,\n",
            "         18,   5,  19,   4,  17,   5,  20,   4,  54,  56,   5,   9,  24,   4,\n",
            "         25,   5,  26,   4,  27,   5,  28,   4,  52,   5,  34,   4,  36,   5,\n",
            "         37,   4,  41,   5,  44,   4,  35,   5,  43,   4, 103,   5,  42,   4,\n",
            "        126,  10,   3,   0,   0,   0,   0,   0,   0,   0,   0,   0,   0,   0,\n",
            "          0,   0,   0,   0,   0,   0,   0,   0,   0,   0,   0,   0,   0,   0,\n",
            "          0,   0,   0,   0,   0,   0,   0,   0,   0,   0,   0,   0,   0,   0,\n",
            "          0,   0,   0,   0,   0,   0,   0,   0,   0,   0,   0,   0,   0,   0,\n",
            "          0,   0,   0,   0,   0,   0,   0,   0,   0,   0,   0,   0,   0,   0,\n",
            "          0,   0,   0,   0,   0,   0,   0,   0,   0,   0,   0,   0,   0],\n",
            "       device='cuda:0')\n",
            "Converted back to string: <bos> SELECT DISTINCT flight_1.flight_id FROM flight flight_1, airport_service airport_service_1, city city_1, airport_service airport_service_2, city city_2, days days_1, date_day date_day_1 WHERE flight_1.from_airport = airport_service_1.airport_code AND airport_service_1.city_code = city_1.city_code AND city_1.city_name = 'SAN FRANCISCO' AND ( flight_1.to_airport = airport_service_2.airport_code AND airport_service_2.city_code = city_2.city_code AND city_2.city_name = 'BOSTON' AND flight_1.flight_days = days_1.days_code AND days_1.day_name = date_day_1.day_name AND date_day_1.year = 1991 AND date_day_1.month_number = 5 AND date_day_1.day_number = 24 ) <eos> [PAD] [PAD] [PAD] [PAD] [PAD] [PAD] [PAD] [PAD] [PAD] [PAD] [PAD] [PAD] [PAD] [PAD] [PAD] [PAD] [PAD] [PAD] [PAD] [PAD] [PAD] [PAD] [PAD] [PAD] [PAD] [PAD] [PAD] [PAD] [PAD] [PAD] [PAD] [PAD] [PAD] [PAD] [PAD] [PAD] [PAD] [PAD] [PAD] [PAD] [PAD] [PAD] [PAD] [PAD] [PAD] [PAD] [PAD] [PAD] [PAD] [PAD] [PAD] [PAD] [PAD] [PAD] [PAD] [PAD] [PAD] [PAD] [PAD] [PAD] [PAD] [PAD] [PAD] [PAD] [PAD] [PAD] [PAD] [PAD] [PAD] [PAD] [PAD] [PAD] [PAD] [PAD] [PAD] [PAD] [PAD] [PAD] [PAD] [PAD]\n"
          ]
        }
      ],
      "source": [
        "batch = next(iter(train_iter))\n",
        "src_ids = batch['src_ids']\n",
        "src_example = src_ids[2]\n",
        "print (f\"Size of text batch: {src_ids.size()}\")\n",
        "print (f\"Third sentence in batch: {src_example}\")\n",
        "print (f\"Length of the third sentence in batch: {len(src_example)}\")\n",
        "print (f\"Converted back to string: {hf_src_tokenizer.decode(src_example)}\")\n",
        "\n",
        "tgt_ids = batch['tgt_ids']\n",
        "tgt_example = tgt_ids[2]\n",
        "print (f\"Size of sql batch: {tgt_ids.size()}\")\n",
        "print (f\"Third sql in batch: {tgt_example}\")\n",
        "print (f\"Converted back to string: {hf_tgt_tokenizer.decode(tgt_example)}\")"
      ]
    },
    {
      "cell_type": "markdown",
      "id": "87362e88",
      "metadata": {
        "id": "87362e88"
      },
      "source": [
        "Alternatively, we can directly iterate over the raw examples:"
      ]
    },
    {
      "cell_type": "code",
      "execution_count": 38,
      "id": "51eec2bf",
      "metadata": {
        "colab": {
          "base_uri": "https://localhost:8080/"
        },
        "outputId": "4f4624c2-37a0-464e-b450-8aeb05010c16",
        "id": "51eec2bf"
      },
      "outputs": [
        {
          "output_type": "stream",
          "name": "stdout",
          "text": [
            "Question: list all the flights that arrive at general mitchell international from various cities\n",
            "\n",
            "SQL: SELECT DISTINCT flight_1.flight_id FROM flight flight_1 , airport airport_1 , airport_service airport_service_1 , city city_1 WHERE flight_1.to_airport = airport_1.airport_code AND airport_1.airport_code = 'MKE' AND flight_1.from_airport = airport_service_1.airport_code AND airport_service_1.city_code = city_1.city_code AND 1 = 1\n"
          ]
        }
      ],
      "source": [
        "for _, example in zip(range(1), train_data):\n",
        "  train_text_1 = example['src'] # detokenized question\n",
        "  train_sql_1 = example['tgt']  # detokenized sql\n",
        "  print (f\"Question: {train_text_1}\\n\")\n",
        "  print (f\"SQL: {train_sql_1}\")"
      ]
    },
    {
      "cell_type": "markdown",
      "id": "fd104480",
      "metadata": {
        "id": "fd104480"
      },
      "source": [
        "## Establishing a SQL database for evaluating ATIS queries\n",
        "\n",
        "The output of our systems will be SQL queries. How should we determine if the generated queries are correct? We can't merely compare against the gold SQL queries, since there are many ways to implement a SQL query that answers any given NL query.\n",
        "\n",
        "Instead, we will execute the queries – both the predicted SQL query and the gold SQL query – on an actual database, and verify that the returned responses are the same. For that purpose, we need a SQL database server to use. We'll set one up here, using the [Python `sqlite3` module](https://docs.python.org/3.8/library/sqlite3.html)."
      ]
    },
    {
      "cell_type": "code",
      "execution_count": 39,
      "id": "1de75894",
      "metadata": {
        "id": "1de75894"
      },
      "outputs": [],
      "source": [
        "@func_set_timeout(TIMEOUT)\n",
        "def execute_sql(sql):\n",
        "  conn = sqlite3.connect('data/atis_sqlite.db')  # establish the DB based on the downloaded data\n",
        "  c = conn.cursor()                              # build a \"cursor\"\n",
        "  c.execute(sql)\n",
        "  results = list(c.fetchall())\n",
        "  c.close()\n",
        "  conn.close()\n",
        "  return results"
      ]
    },
    {
      "cell_type": "markdown",
      "id": "b276ef58",
      "metadata": {
        "id": "b276ef58"
      },
      "source": [
        "To run a query, we use the cursor's `execute` function, and retrieve the results with `fetchall`. Let's get all the flights that arrive at General Mitchell International – the query `train_sql_1` above. There's a lot, so we'll just print out the first few."
      ]
    },
    {
      "cell_type": "code",
      "execution_count": 40,
      "id": "9c5786e3",
      "metadata": {
        "colab": {
          "base_uri": "https://localhost:8080/"
        },
        "outputId": "f09bc82a-e299-4d71-e164-23e465872d59",
        "id": "9c5786e3"
      },
      "outputs": [
        {
          "output_type": "stream",
          "name": "stdout",
          "text": [
            "\n",
            "Executing: SELECT DISTINCT flight_1.flight_id FROM flight flight_1 , airport airport_1 , airport_service airport_service_1 , city city_1 WHERE flight_1.to_airport = airport_1.airport_code AND airport_1.airport_code = 'MKE' AND flight_1.from_airport = airport_service_1.airport_code AND airport_service_1.city_code = city_1.city_code AND 1 = 1\n",
            "\n",
            "Result: 534 entries starting with\n",
            "\n",
            "[(107929,), (107930,), (107931,), (107932,), (107933,), (107934,), (107935,), (107936,), (107937,), (107938,)]\n",
            "\n"
          ]
        }
      ],
      "source": [
        "predicted_ret = execute_sql(train_sql_1)\n",
        "\n",
        "print(f\"\"\"\n",
        "Executing: {train_sql_1}\n",
        "\n",
        "Result: {len(predicted_ret)} entries starting with\n",
        "\n",
        "{predicted_ret[:10]}\n",
        "\"\"\")"
      ]
    },
    {
      "cell_type": "markdown",
      "id": "5033bff7",
      "metadata": {
        "id": "5033bff7"
      },
      "source": [
        "For your reference, the SQL database we are using has a database schema described at https://github.com/jkkummerfeld/text2sql-data/blob/master/data/atis-schema.csv, and is consistent with the SQL queries provided in the various `.sql` files loaded above."
      ]
    },
    {
      "cell_type": "markdown",
      "id": "fd23f820",
      "metadata": {
        "deletable": false,
        "editable": false,
        "id": "fd23f820"
      },
      "source": [
        "# Rule-based parsing and interpretation of ATIS queries\n",
        "\n",
        "First, you will implement a rule-based semantic parser using a grammar like the one you completed in the third project segment. We've placed an initial grammar in the file `data/grammar`.\n",
        "In addition to the helper functions defined above (`constant`, `first`, etc.), it makes use of some other simple functions. We've included those below, but you can (and almost certainly should) augment this set with others that you define as you build out the full set of augmentations.\n",
        "\n",
        "<!--\n",
        "BEGIN QUESTION\n",
        "name: helper_functions\n",
        "-->"
      ]
    },
    {
      "cell_type": "code",
      "execution_count": 41,
      "id": "c3c8f0f5",
      "metadata": {
        "id": "c3c8f0f5"
      },
      "outputs": [],
      "source": [
        "def upper(term):\n",
        "  return '\"' + term.upper() + '\"'\n",
        "\n",
        "def weekday(day):\n",
        "  return f\"flight.flight_days IN (SELECT days.days_code FROM days WHERE days.day_name = '{day.upper()}')\"\n",
        "\n",
        "def month_name(month):\n",
        "  return {'JANUARY' : 1,\n",
        "          'FEBRUARY' : 2,\n",
        "          'MARCH' : 3,\n",
        "          'APRIL' : 4,\n",
        "          'MAY' : 5,\n",
        "          'JUNE' : 6,\n",
        "          'JULY' : 7,\n",
        "          'AUGUST' : 8,\n",
        "          'SEPTEMBER' : 9,\n",
        "          'OCTOBER' : 10,\n",
        "          'NOVEMBER' : 11,\n",
        "          'DECEMBER' : 12}[month.upper()]\n",
        "\n",
        "def airports_from_airport_name(airport_name):\n",
        "  return f\"(SELECT airport.airport_code FROM airport WHERE airport.airport_name = {upper(airport_name)})\"\n",
        "\n",
        "def airports_from_city(city):\n",
        "  return f\"\"\"\n",
        "    (SELECT airport_service.airport_code FROM airport_service WHERE airport_service.city_code IN\n",
        "      (SELECT city.city_code FROM city WHERE city.city_name = {upper(city)}))\n",
        "  \"\"\"\n",
        "\n",
        "def null_condition(*args, **kwargs):\n",
        "  return 1\n",
        "\n",
        "def depart_around(time):\n",
        "  return f\"\"\"\n",
        "    flight.departure_time >= {add_delta(miltime(time), -15).strftime('%H%M')}\n",
        "    AND flight.departure_time <= {add_delta(miltime(time), 15).strftime('%H%M')}\n",
        "    \"\"\".strip()\n",
        "\n",
        "def add_delta(tme, delta):\n",
        "    # transform to a full datetime first\n",
        "    return (datetime.datetime.combine(datetime.date.today(), tme) +\n",
        "            datetime.timedelta(minutes=delta)).time()\n",
        "\n",
        "def miltime(minutes):\n",
        "  return datetime.time(hour=int(minutes/100), minute=(minutes % 100))\n",
        "\n",
        "\n",
        "#### Added functions\n",
        "\n",
        "def S_symbol(NP):\n",
        "  return f\"\"\"SELECT DISTINCT flight.flight_id FROM flight WHERE {NP}\"\"\"\n",
        "\n",
        "def flughts_to_airport(destination):\n",
        "  return f\"flight.to_airport IN {destination}\"\n",
        "\n",
        "def flughts_from_airport(src):\n",
        "  return f\"flight.from_airport IN {src}\"\n",
        "\n",
        "def and_(a, b):\n",
        "  return f\"\"\" {a} AND {b} \"\"\"\n",
        "\n",
        "def airline_code(code):\n",
        "  return f\"flight.airline_code = '{code}'\"\n",
        "\n",
        "def arrive_before(time):\n",
        "\treturn f\"\"\"flight.arrival_time < {time}\"\"\"\n",
        "\n",
        "def depart_before(time):\n",
        "\treturn f\"\"\"flight.departure_time < {time}\"\"\"\n",
        "\n",
        "def arrive_after(time):\n",
        "\treturn f\"\"\"flight.arrival_time > {time}\"\"\"\n",
        "\n",
        "def depart_after(time):\n",
        "\treturn f\"\"\"flight.departure_time > {time}\"\"\"\n",
        "\n",
        "def arrive_around(time):\n",
        "  return f\"\"\"\n",
        "    flight.arrival_time >= {add_delta(miltime(time), -15).strftime('%H%M')}\n",
        "    AND flight.arrival_time <= {add_delta(miltime(time), 15).strftime('%H%M')}\n",
        "    \"\"\".strip()\n",
        "\n",
        "def flight_date(day_num = None, month = None, year = None):\n",
        "  constraints = []\n",
        "\n",
        "  if day_num is not None:\n",
        "    constraints.append(f\"\"\"DAY_NUMBER = {day_num}\"\"\")\n",
        "  if month is not None:\n",
        "    constraints.append(f\"\"\"MONTH_NUMBER = {month}\"\"\")\n",
        "  if year is not None:\n",
        "    constraints.append(f\"\"\"YEAR = {year}\"\"\")\n",
        "  constraints_s = \" AND \".join(constraints)\n",
        "  return f\"\"\"\n",
        "  flight.flight_days IN\n",
        "    (SELECT DAYS_CODE FROM days WHERE DAY_NAME IN\n",
        "      (SELECT DAY_NAME FROM date_day WHERE {constraints_s}))\n",
        "  \"\"\"\n",
        "\n",
        "def join_dates(day_num1 = None, month1 = None, year1 = None, day_num2 = None, month2 = None, year2 = None):\n",
        "\n",
        "    return f\"\"\"{flight_date(day_num1, month1, year1)} OR  {flight_date(day_num2, month2, year2)}\"\"\""
      ]
    },
    {
      "cell_type": "markdown",
      "id": "ef45571a",
      "metadata": {
        "id": "ef45571a"
      },
      "source": [
        "We can build a parser with the augmented grammar:"
      ]
    },
    {
      "cell_type": "code",
      "execution_count": 52,
      "id": "3ba42b3a",
      "metadata": {
        "id": "3ba42b3a"
      },
      "outputs": [],
      "source": [
        "atis_grammar, atis_augmentations = xform.read_augmented_grammar('data/grammar', globals=globals())\n",
        "atis_parser = nltk.parse.BottomUpChartParser(atis_grammar)"
      ]
    },
    {
      "cell_type": "markdown",
      "id": "f4645008",
      "metadata": {
        "id": "f4645008"
      },
      "source": [
        "We'll define a function to return a parse tree for a string according to the ATIS grammar (if available)."
      ]
    },
    {
      "cell_type": "code",
      "execution_count": 53,
      "id": "4cc626cd",
      "metadata": {
        "id": "4cc626cd"
      },
      "outputs": [],
      "source": [
        "def parse_tree(sentence):\n",
        "  \"\"\"Parse a sentence and return the parse tree, or None if failure.\"\"\"\n",
        "  try:\n",
        "    parses = list(atis_parser.parse(tokenize_nltk(sentence)))\n",
        "    if len(parses) == 0:\n",
        "      return None\n",
        "    else:\n",
        "      return parses[0]\n",
        "  except:\n",
        "    return None"
      ]
    },
    {
      "cell_type": "markdown",
      "id": "34c97e0e",
      "metadata": {
        "id": "34c97e0e"
      },
      "source": [
        "We can check the overall coverage of this grammar on the training set by using the `parse_tree` function to determine if a parse is available. The grammar that we provide should get about a 44% coverage of the training set."
      ]
    },
    {
      "cell_type": "code",
      "execution_count": 44,
      "id": "184f8699",
      "metadata": {
        "colab": {
          "base_uri": "https://localhost:8080/"
        },
        "outputId": "d9860ee5-b646-4d51-888d-9426eaa32bb4",
        "id": "184f8699"
      },
      "outputs": [
        {
          "output_type": "stream",
          "name": "stderr",
          "text": [
            "100%|██████████| 3651/3651 [00:25<00:00, 145.04it/s]"
          ]
        },
        {
          "output_type": "stream",
          "name": "stdout",
          "text": [
            "\n",
            "Parsed 1609 of 3651 (44.07%)\n"
          ]
        },
        {
          "output_type": "stream",
          "name": "stderr",
          "text": [
            "\n"
          ]
        }
      ],
      "source": [
        "# Check coverage on training set\n",
        "parsed = 0\n",
        "with open(\"data/train_flightid.nl\") as train:\n",
        "  examples = train.readlines()[:]\n",
        "for sentence in tqdm(examples):\n",
        "  if parse_tree(sentence):\n",
        "    parsed += 1\n",
        "  else:\n",
        "    next\n",
        "\n",
        "print(f\"\\nParsed {parsed} of {len(examples)} ({parsed*100/(len(examples)):.2f}%)\")"
      ]
    },
    {
      "cell_type": "markdown",
      "id": "67844ce9",
      "metadata": {
        "id": "67844ce9"
      },
      "source": [
        "## Goal 1: Construct SQL queries from a parse tree and evaluate the results"
      ]
    },
    {
      "cell_type": "markdown",
      "id": "ee888162",
      "metadata": {
        "id": "ee888162"
      },
      "source": [
        "It's time to turn to the first major part of this project segment, implementing a rule-based semantic parsing system to answer flight-ID-type ATIS queries.\n",
        "\n",
        "Recall that in rule-based semantic parsing, each syntactic rule is associated with a semantic composition rule. The grammar we've provided has semantic augmentations for some of the low-level phrases – cities, airports, times, airlines – but not the higher level syntactic types. You'll be adding those.\n",
        "\n",
        "In the ATIS grammar that we provide, as with the earlier toy grammars, the augmentation for a rule with $n$ nonterminals and $m$ terminals on the right-hand side is assumed to be called with $n$ positional arguments (the values for the corresponding children). The `interpret` function you've already defined should therefore work well with this grammar.\n",
        "\n",
        "Let's run through one way that a semantic derivation might proceed, for the sample query \"flights to boston\":"
      ]
    },
    {
      "cell_type": "code",
      "execution_count": 54,
      "id": "a684dccb",
      "metadata": {
        "colab": {
          "base_uri": "https://localhost:8080/"
        },
        "outputId": "b639a869-66bb-4ab0-91b0-c2b9e6dedfa1",
        "id": "a684dccb"
      },
      "outputs": [
        {
          "output_type": "stream",
          "name": "stdout",
          "text": [
            "['flights', 'to', 'boston']\n",
            "                S                         \n",
            "                |                          \n",
            "            NP_FLIGHT                     \n",
            "                |                          \n",
            "            NOM_FLIGHT                    \n",
            "                |                          \n",
            "             N_FLIGHT                     \n",
            "      __________|_________                 \n",
            "     |                    PP              \n",
            "     |                    |                \n",
            "     |                 PP_PLACE           \n",
            "     |           _________|_________       \n",
            "  N_FLIGHT      |                N_PLACE  \n",
            "     |          |                   |      \n",
            "TERM_FLIGHT  P_PLACE            TERM_PLACE\n",
            "     |          |                   |      \n",
            "  flights       to                boston  \n",
            "\n"
          ]
        }
      ],
      "source": [
        "sample_query = \"flights to boston\"\n",
        "print(tokenize_nltk(sample_query))\n",
        "sample_tree = parse_tree(sample_query)\n",
        "sample_tree.pretty_print()"
      ]
    },
    {
      "cell_type": "markdown",
      "id": "1a0d63a4",
      "metadata": {
        "id": "1a0d63a4"
      },
      "source": [
        "Given a sentence, we first construct its parse tree using the syntactic rules, then compose the corresponding semantic rules bottom-up, until eventually we arrive at the root node with a finished SQL statement. For this query, we will go through what the possible meaning representations for the subconstituents of \"flights to boston\" might be. But this is just one way of doing things; other ways are possible, and you should feel free to experiment.\n",
        "\n",
        "Working from bottom up:\n",
        "\n",
        "1. The `TERM_PLACE` phrase \"boston\" uses the composition function template `constant(airports_from_city(' '.join(_RHS)))`, which will be instantiated as `constant(airports_from_city(' '.join(['boston'])))` (recall that `_RHS` is replaced by the right-hand side of the rule). The meaning of `TERM_PLACE` will be the SQL snippet\n",
        "```\n",
        "SELECT airport_service.airport_code\n",
        "FROM airport_service\n",
        "WHERE airport_service.city_code IN\n",
        "    (SELECT city.city_code\n",
        "     FROM city\n",
        "     WHERE city.city_name = \"BOSTON\")\n",
        "```\n",
        "(This query generates a list of all of the airports in Boston.)\n",
        "\n",
        "2. The `N_PLACE` phrase \"boston\" can have the same meaning as the `TERM_PLACE`.\n",
        "\n",
        "3. The `P_PLACE` phrase \"to\" might be associated with a function that maps a SQL query for a list of airports to a SQL condition that holds of flights that go to one of those airports, i.e., `flight.to_airport IN (...)`.\n",
        "\n",
        "4. The `PP_PLACE` phrase \"to boston\" might apply the `P_PLACE` meaning to the `TERM_PLACE` meaning, thus generating a SQL condition that holds of flights that go to one of the Boston airports:\n",
        "```\n",
        "flight.to_airport IN\n",
        "    (SELECT airport_service.airport_code\n",
        "     FROM airport_service\n",
        "     WHERE airport_service.city_code IN\n",
        "         (SELECT city.city_code\n",
        "          FROM city\n",
        "          WHERE city.city_name = \"BOSTON\"))\n",
        "```\n",
        "\n",
        "5. The `PP` phrase \"to Boston\" can again get its meaning from the `PP_PLACE`.\n",
        "\n",
        "6. The `TERM_FLIGHT` phrase \"flights\" might also return a condition on flights, this time the \"null condition\", represented by the SQL truth value `1`. Ditto for the `N_FLIGHT` phrase \"flights\".\n",
        "\n",
        "7. The `N_FLIGHT` phrase \"flights to boston\" can conjoin the two conditions, yielding the SQL condition\n",
        "```\n",
        "flight.to_airport IN\n",
        "    (SELECT airport_service.airport_code\n",
        "     FROM airport_service\n",
        "     WHERE airport_service.city_code IN\n",
        "         (SELECT city.city_code\n",
        "          FROM city\n",
        "          WHERE city.city_name = \"BOSTON\"))\n",
        "AND 1\n",
        "```\n",
        "which can be inherited by the `NOM_FLIGHT` and `NP_FLIGHT` phrases.\n",
        "\n",
        "8. The `S` phrase \"flights to boston\" can use the condition provided by the `NP_FLIGHT` phrase to select all flights satisfying the condition with a SQL query like\n",
        "```\n",
        "SELECT DISTINCT flight.flight_id\n",
        "FROM flight\n",
        "WHERE flight.to_airport IN\n",
        "        (SELECT airport_service.airport_code\n",
        "         FROM airport_service\n",
        "         WHERE airport_service.city_code IN\n",
        "             (SELECT city.city_code\n",
        "              FROM city\n",
        "              WHERE city.city_name = \"BOSTON\"))\n",
        "      AND 1\n",
        "```\n",
        "\n",
        "This SQL query is then taken to be a representation of the meaning for the NL query \"flights to boston\", and can be executed against the ATIS database to retrieve the requested flights."
      ]
    },
    {
      "cell_type": "markdown",
      "id": "0b44a5b8",
      "metadata": {
        "id": "0b44a5b8"
      },
      "source": [
        "Now, it's your turn to add augmentations to `data/grammar` to make this example work. The augmentations that we have provided for the grammar make use of a set of auxiliary functions that we defined above. You should feel free to add your own auxiliary functions that you make use of in the grammar."
      ]
    },
    {
      "cell_type": "code",
      "execution_count": 56,
      "id": "4dee1c62",
      "metadata": {
        "id": "4dee1c62",
        "colab": {
          "base_uri": "https://localhost:8080/"
        },
        "outputId": "4f6d1688-8539-45c3-bec0-71db55c2a6ab"
      },
      "outputs": [
        {
          "output_type": "stream",
          "name": "stdout",
          "text": [
            "Predicted SQL:\n",
            "\n",
            " SELECT DISTINCT flight.flight_id FROM flight WHERE  1 AND flight.to_airport IN \n",
            "    (SELECT airport_service.airport_code FROM airport_service WHERE airport_service.city_code IN\n",
            "      (SELECT city.city_code FROM city WHERE city.city_name = \"BOSTON\"))\n",
            "    \n",
            "\n"
          ]
        }
      ],
      "source": [
        "#TODO: add augmentations to `data/grammar` to make this example work\n",
        "atis_grammar, atis_augmentations = xform.read_augmented_grammar('data/grammar', globals=globals())\n",
        "atis_parser = nltk.parse.BottomUpChartParser(atis_grammar)\n",
        "predicted_sql = interpret(sample_tree, atis_augmentations)\n",
        "print(\"Predicted SQL:\\n\\n\", predicted_sql, \"\\n\")"
      ]
    },
    {
      "cell_type": "markdown",
      "id": "51d5a690",
      "metadata": {
        "id": "51d5a690"
      },
      "source": [
        "#### Verification on some examples\n",
        "\n",
        "With a rule-based semantic parsing system, we can generate SQL queries given questions, and then execute those queries on a SQL database to answer the given questions. To evaluate the performance of the system, we compare the returned results against the results of executing the ground truth queries.\n",
        "\n",
        "We provide a function `verify` to compare the results from our generated SQL to the ground truth SQL. It should be useful for testing individual queries."
      ]
    },
    {
      "cell_type": "code",
      "execution_count": 57,
      "id": "497bc442",
      "metadata": {
        "id": "497bc442"
      },
      "outputs": [],
      "source": [
        "def verify(predicted_sql, gold_sql, silent=True):\n",
        "  \"\"\"\n",
        "  Compare the correctness of the generated SQL by executing on the\n",
        "  ATIS database and comparing the returned results.\n",
        "  Arguments:\n",
        "      predicted_sql: the predicted SQL query\n",
        "      gold_sql: the reference SQL query to compare against\n",
        "      silent: print outputs or not\n",
        "  Returns: True if the returned results are the same, otherwise False\n",
        "  \"\"\"\n",
        "  # Execute predicted SQL\n",
        "  try:\n",
        "    predicted_result = execute_sql(predicted_sql)\n",
        "  except BaseException as e:\n",
        "    if not silent:\n",
        "      print(f\"predicted sql exec failed: {e}\")\n",
        "    return False\n",
        "  if not silent:\n",
        "    print(\"Predicted DB result:\\n\\n\", predicted_result[:10], \"\\n\")\n",
        "\n",
        "  # Execute gold SQL\n",
        "  try:\n",
        "    gold_result = execute_sql(gold_sql)\n",
        "  except BaseException as e:\n",
        "    if not silent:\n",
        "      print(f\"gold sql exec failed: {e}\")\n",
        "    return False\n",
        "  if not silent:\n",
        "    print(\"Gold DB result:\\n\\n\", gold_result[:10], \"\\n\")\n",
        "\n",
        "  # Verify correctness\n",
        "  if gold_result == predicted_result:\n",
        "    return True"
      ]
    },
    {
      "cell_type": "markdown",
      "id": "caf469c0",
      "metadata": {
        "id": "caf469c0"
      },
      "source": [
        "Let's try this methodology on a simple example: \"flights from phoenix to milwaukee\". we provide it along with the gold SQL query."
      ]
    },
    {
      "cell_type": "code",
      "execution_count": 58,
      "id": "57db3e51",
      "metadata": {
        "id": "57db3e51"
      },
      "outputs": [],
      "source": [
        "def rule_based_trial(sentence, gold_sql):\n",
        "  print(\"Sentence: \", sentence, \"\\n\")\n",
        "  tree = parse_tree(sentence)\n",
        "  print(\"Parse:\\n\\n\")\n",
        "  tree.pretty_print()\n",
        "\n",
        "  predicted_sql = interpret(tree, atis_augmentations)\n",
        "  print(\"Predicted SQL:\\n\\n\", predicted_sql, \"\\n\")\n",
        "\n",
        "  if verify(predicted_sql, gold_sql, silent=False):\n",
        "    print ('Correct!')\n",
        "  else:\n",
        "    print ('Incorrect!')"
      ]
    },
    {
      "cell_type": "code",
      "execution_count": 59,
      "id": "e274f3e3",
      "metadata": {
        "id": "e274f3e3"
      },
      "outputs": [],
      "source": [
        "# Run this cell to reload augmentations after you make changes to `data/grammar`\n",
        "atis_grammar, atis_augmentations = xform.read_augmented_grammar('data/grammar', globals=globals())\n",
        "atis_parser = nltk.parse.BottomUpChartParser(atis_grammar)"
      ]
    },
    {
      "cell_type": "code",
      "execution_count": 60,
      "id": "0f9d2e96",
      "metadata": {
        "colab": {
          "base_uri": "https://localhost:8080/"
        },
        "outputId": "d24f555f-35be-4b25-82e8-955bd6b5026d",
        "id": "0f9d2e96"
      },
      "outputs": [
        {
          "output_type": "stream",
          "name": "stdout",
          "text": [
            "Sentence:  flights from phoenix to milwaukee \n",
            "\n",
            "Parse:\n",
            "\n",
            "\n",
            "                                  S                                 \n",
            "                                  |                                  \n",
            "                              NP_FLIGHT                             \n",
            "                                  |                                  \n",
            "                              NOM_FLIGHT                            \n",
            "                                  |                                  \n",
            "                               N_FLIGHT                             \n",
            "                __________________|_________________                 \n",
            "            N_FLIGHT                                |               \n",
            "      _________|________                            |                \n",
            "     |                  PP                          PP              \n",
            "     |                  |                           |                \n",
            "     |               PP_PLACE                    PP_PLACE           \n",
            "     |          ________|_________           _______|_________       \n",
            "  N_FLIGHT     |               N_PLACE      |              N_PLACE  \n",
            "     |         |                  |         |                 |      \n",
            "TERM_FLIGHT P_PLACE           TERM_PLACE P_PLACE          TERM_PLACE\n",
            "     |         |                  |         |                 |      \n",
            "  flights     from             phoenix      to            milwaukee \n",
            "\n",
            "Predicted SQL:\n",
            "\n",
            " SELECT DISTINCT flight.flight_id FROM flight WHERE   1 AND flight.from_airport IN \n",
            "    (SELECT airport_service.airport_code FROM airport_service WHERE airport_service.city_code IN\n",
            "      (SELECT city.city_code FROM city WHERE city.city_name = \"PHOENIX\"))\n",
            "    AND flight.to_airport IN \n",
            "    (SELECT airport_service.airport_code FROM airport_service WHERE airport_service.city_code IN\n",
            "      (SELECT city.city_code FROM city WHERE city.city_name = \"MILWAUKEE\"))\n",
            "    \n",
            "\n",
            "Predicted DB result:\n",
            "\n",
            " [(108086,), (108087,), (301763,), (301764,), (301765,), (301766,), (302323,), (304881,), (310619,), (310620,)] \n",
            "\n",
            "Gold DB result:\n",
            "\n",
            " [(108086,), (108087,), (301763,), (301764,), (301765,), (301766,), (302323,), (304881,), (310619,), (310620,)] \n",
            "\n",
            "Correct!\n"
          ]
        }
      ],
      "source": [
        "#TODO: add augmentations to `data/grammar` to make this example work\n",
        "# Example 1\n",
        "example_1 = 'flights from phoenix to milwaukee'\n",
        "gold_sql_1 = \"\"\"\n",
        "  SELECT DISTINCT flight_1.flight_id\n",
        "  FROM flight flight_1 ,\n",
        "       airport_service airport_service_1 ,\n",
        "       city city_1 ,\n",
        "       airport_service airport_service_2 ,\n",
        "       city city_2\n",
        "  WHERE flight_1.from_airport = airport_service_1.airport_code\n",
        "        AND airport_service_1.city_code = city_1.city_code\n",
        "        AND city_1.city_name = 'PHOENIX'\n",
        "        AND flight_1.to_airport = airport_service_2.airport_code\n",
        "        AND airport_service_2.city_code = city_2.city_code\n",
        "        AND city_2.city_name = 'MILWAUKEE'\n",
        "  \"\"\"\n",
        "\n",
        "rule_based_trial(example_1, gold_sql_1)"
      ]
    },
    {
      "cell_type": "markdown",
      "id": "f9e90898",
      "metadata": {
        "id": "f9e90898"
      },
      "source": [
        "To make development faster, we recommend starting with a few examples before running the full evaluation script. We've taken some examples from the ATIS dataset including the gold SQL queries that they provided. Of course, yours (and those of the project segment solution set) may differ."
      ]
    },
    {
      "cell_type": "code",
      "execution_count": 61,
      "id": "2af3beb4",
      "metadata": {
        "colab": {
          "base_uri": "https://localhost:8080/"
        },
        "outputId": "8546f2dd-c558-4894-ad5b-292d60d853d5",
        "id": "2af3beb4"
      },
      "outputs": [
        {
          "output_type": "stream",
          "name": "stdout",
          "text": [
            "Sentence:  i would like a united flight \n",
            "\n",
            "Parse:\n",
            "\n",
            "\n",
            "                                                 S                                                                      \n",
            "                                     ____________|____________________________________________________                   \n",
            "                                    |                                                             NP_FLIGHT             \n",
            "                                    |                                                                 |                  \n",
            "                                PREIGNORE                                                         NOM_FLIGHT            \n",
            "        ____________________________|____________                                          ___________|___________       \n",
            "       |                                     PREIGNORE                                   ADJ                      |     \n",
            "       |                _________________________|____________                            |                       |      \n",
            "       |               |                                  PREIGNORE                  ADJ_AIRLINE              NOM_FLIGHT\n",
            "       |               |                          ____________|____________               |                       |      \n",
            "       |               |                         |                     PREIGNORE     TERM_AIRLINE              N_FLIGHT \n",
            "       |               |                         |                         |              |                       |      \n",
            "PREIGNORESYMBOL PREIGNORESYMBOL           PREIGNORESYMBOL           PREIGNORESYMBOL TERM_AIRBRAND            TERM_FLIGHT\n",
            "       |               |                         |                         |              |                       |      \n",
            "       i             would                      like                       a            united                  flight  \n",
            "\n",
            "Predicted SQL:\n",
            "\n",
            " SELECT DISTINCT flight.flight_id FROM flight WHERE  flight.airline_code = 'UA' AND 1  \n",
            "\n",
            "Predicted DB result:\n",
            "\n",
            " [(100094,), (100099,), (100145,), (100158,), (100164,), (100167,), (100169,), (100203,), (100204,), (100296,)] \n",
            "\n",
            "Gold DB result:\n",
            "\n",
            " [(100094,), (100099,), (100145,), (100158,), (100164,), (100167,), (100169,), (100203,), (100204,), (100296,)] \n",
            "\n",
            "Correct!\n"
          ]
        }
      ],
      "source": [
        "#TODO: add augmentations to `data/grammar` to make this example work\n",
        "# Example 2\n",
        "example_2 = 'i would like a united flight'\n",
        "gold_sql_2 = \"\"\"\n",
        "  SELECT DISTINCT flight_1.flight_id\n",
        "  FROM flight flight_1\n",
        "  WHERE flight_1.airline_code = 'UA'\n",
        "  \"\"\"\n",
        "\n",
        "rule_based_trial(example_2, gold_sql_2)"
      ]
    },
    {
      "cell_type": "code",
      "execution_count": 62,
      "id": "03c0406b",
      "metadata": {
        "colab": {
          "base_uri": "https://localhost:8080/"
        },
        "outputId": "cc3e36a3-7854-42d2-ee6f-4954588dd09a",
        "id": "03c0406b"
      },
      "outputs": [
        {
          "output_type": "stream",
          "name": "stdout",
          "text": [
            "Sentence:  i would like a flight between boston and dallas \n",
            "\n",
            "Parse:\n",
            "\n",
            "\n",
            "                                                                                         S                                               \n",
            "                                     ____________________________________________________|__________                                      \n",
            "                                    |                                                           NP_FLIGHT                                \n",
            "                                    |                                                               |                                     \n",
            "                                    |                                                           NOM_FLIGHT                               \n",
            "                                    |                                                               |                                     \n",
            "                                PREIGNORE                                                        N_FLIGHT                                \n",
            "        ____________________________|____________                                         __________|_________                            \n",
            "       |                                     PREIGNORE                                   |                    PP                         \n",
            "       |                _________________________|____________                           |                    |                           \n",
            "       |               |                                  PREIGNORE                      |                 PP_PLACE                      \n",
            "       |               |                          ____________|____________              |           _________|____________________       \n",
            "       |               |                         |                     PREIGNORE      N_FLIGHT      |         |      N_PLACE    N_PLACE  \n",
            "       |               |                         |                         |             |          |         |         |          |      \n",
            "PREIGNORESYMBOL PREIGNORESYMBOL           PREIGNORESYMBOL           PREIGNORESYMBOL TERM_FLIGHT     |         |     TERM_PLACE TERM_PLACE\n",
            "       |               |                         |                         |             |          |         |         |          |      \n",
            "       i             would                      like                       a           flight    between     and      boston     dallas  \n",
            "\n",
            "Predicted SQL:\n",
            "\n",
            " SELECT DISTINCT flight.flight_id FROM flight WHERE  1 AND  flight.from_airport IN \n",
            "    (SELECT airport_service.airport_code FROM airport_service WHERE airport_service.city_code IN\n",
            "      (SELECT city.city_code FROM city WHERE city.city_name = \"BOSTON\"))\n",
            "   AND flight.to_airport IN \n",
            "    (SELECT airport_service.airport_code FROM airport_service WHERE airport_service.city_code IN\n",
            "      (SELECT city.city_code FROM city WHERE city.city_name = \"DALLAS\"))\n",
            "     \n",
            "\n",
            "Predicted DB result:\n",
            "\n",
            " [(103171,), (103172,), (103173,), (103174,), (103175,), (103176,), (103177,), (103178,), (103179,), (103180,)] \n",
            "\n",
            "Gold DB result:\n",
            "\n",
            " [(103171,), (103172,), (103173,), (103174,), (103175,), (103176,), (103177,), (103178,), (103179,), (103180,)] \n",
            "\n",
            "Correct!\n"
          ]
        }
      ],
      "source": [
        "#TODO: add augmentations to `data/grammar` to make this example work\n",
        "# Example 3\n",
        "example_3 = 'i would like a flight between boston and dallas'\n",
        "gold_sql_3 = \"\"\"\n",
        "  SELECT DISTINCT flight_1.flight_id\n",
        "  FROM flight flight_1 ,\n",
        "       airport_service airport_service_1 ,\n",
        "       city city_1 ,\n",
        "       airport_service airport_service_2 ,\n",
        "       city city_2\n",
        "  WHERE flight_1.from_airport = airport_service_1.airport_code\n",
        "        AND airport_service_1.city_code = city_1.city_code\n",
        "        AND city_1.city_name = 'BOSTON'\n",
        "        AND flight_1.to_airport = airport_service_2.airport_code\n",
        "        AND airport_service_2.city_code = city_2.city_code\n",
        "        AND city_2.city_name = 'DALLAS'\n",
        "  \"\"\"\n",
        "\n",
        "# Note that the parse tree might appear wrong: instead of\n",
        "# `PP_PLACE -> 'between' N_PLACE 'and' N_PLACE`, the tree appears to be\n",
        "# `PP_PLACE -> 'between' 'and' N_PLACE N_PLACE`. But it's only a visualization\n",
        "# error of tree.pretty_print() and you should assume that the production is\n",
        "# `PP_PLACE -> 'between' N_PLACE 'and' N_PLACE` (you can verify by printing out\n",
        "# all productions).\n",
        "rule_based_trial(example_3, gold_sql_3)"
      ]
    },
    {
      "cell_type": "code",
      "execution_count": 63,
      "id": "18f27e89",
      "metadata": {
        "colab": {
          "base_uri": "https://localhost:8080/"
        },
        "outputId": "3ea7e1e1-5124-4488-8c1f-4fdd32ffb21b",
        "id": "18f27e89"
      },
      "outputs": [
        {
          "output_type": "stream",
          "name": "stdout",
          "text": [
            "Sentence:  show me the united flights from denver to baltimore \n",
            "\n",
            "Parse:\n",
            "\n",
            "\n",
            "                                                                             S                                                                \n",
            "                        _____________________________________________________|__________                                                       \n",
            "                       |                                                            NP_FLIGHT                                                 \n",
            "                       |                                                                |                                                      \n",
            "                       |                                                            NOM_FLIGHT                                                \n",
            "                       |                                         _______________________|___________________                                   \n",
            "                       |                                        |                                       NOM_FLIGHT                            \n",
            "                       |                                        |                                           |                                  \n",
            "                       |                                        |                                        N_FLIGHT                             \n",
            "                       |                                        |                        ___________________|_________________                 \n",
            "                       |                                        |                    N_FLIGHT                                 |               \n",
            "                       |                                        |             __________|_________                            |                \n",
            "                   PREIGNORE                                   ADJ           |                    PP                          PP              \n",
            "        _______________|____________                            |            |                    |                           |                \n",
            "       |                        PREIGNORE                  ADJ_AIRLINE       |                 PP_PLACE                    PP_PLACE           \n",
            "       |                ____________|____________               |            |           _________|_________           _______|_________       \n",
            "       |               |                     PREIGNORE     TERM_AIRLINE   N_FLIGHT      |                N_PLACE      |              N_PLACE  \n",
            "       |               |                         |              |            |          |                   |         |                 |      \n",
            "PREIGNORESYMBOL PREIGNORESYMBOL           PREIGNORESYMBOL TERM_AIRBRAND TERM_FLIGHT  P_PLACE            TERM_PLACE P_PLACE          TERM_PLACE\n",
            "       |               |                         |              |            |          |                   |         |                 |      \n",
            "      show             me                       the           united      flights      from               denver      to            baltimore \n",
            "\n",
            "Predicted SQL:\n",
            "\n",
            " SELECT DISTINCT flight.flight_id FROM flight WHERE  flight.airline_code = 'UA' AND   1 AND flight.from_airport IN \n",
            "    (SELECT airport_service.airport_code FROM airport_service WHERE airport_service.city_code IN\n",
            "      (SELECT city.city_code FROM city WHERE city.city_name = \"DENVER\"))\n",
            "    AND flight.to_airport IN \n",
            "    (SELECT airport_service.airport_code FROM airport_service WHERE airport_service.city_code IN\n",
            "      (SELECT city.city_code FROM city WHERE city.city_name = \"BALTIMORE\"))\n",
            "     \n",
            "\n",
            "Predicted DB result:\n",
            "\n",
            " [(101231,), (101233,), (305983,)] \n",
            "\n",
            "Gold DB result:\n",
            "\n",
            " [(101231,), (101233,), (305983,)] \n",
            "\n",
            "Correct!\n"
          ]
        }
      ],
      "source": [
        "#TODO: add augmentations to `data/grammar` to make this example work\n",
        "# Example 4\n",
        "example_4 = 'show me the united flights from denver to baltimore'\n",
        "gold_sql_4 = \"\"\"\n",
        "  SELECT DISTINCT flight_1.flight_id\n",
        "  FROM flight flight_1 ,\n",
        "       airport_service airport_service_1 ,\n",
        "       city city_1 ,\n",
        "       airport_service airport_service_2 ,\n",
        "       city city_2\n",
        "  WHERE flight_1.airline_code = 'UA'\n",
        "        AND ( flight_1.from_airport = airport_service_1.airport_code\n",
        "              AND airport_service_1.city_code = city_1.city_code\n",
        "              AND city_1.city_name = 'DENVER'\n",
        "              AND flight_1.to_airport = airport_service_2.airport_code\n",
        "              AND airport_service_2.city_code = city_2.city_code\n",
        "              AND city_2.city_name = 'BALTIMORE' )\n",
        "\n",
        "  \"\"\"\n",
        "\n",
        "rule_based_trial(example_4, gold_sql_4)"
      ]
    },
    {
      "cell_type": "code",
      "execution_count": 64,
      "id": "a4e06de0",
      "metadata": {
        "colab": {
          "base_uri": "https://localhost:8080/"
        },
        "outputId": "517ffb21-e012-4aa1-87a0-42eaaf9b3711",
        "id": "a4e06de0"
      },
      "outputs": [
        {
          "output_type": "stream",
          "name": "stdout",
          "text": [
            "Sentence:  show flights from cleveland to miami that arrive before 4pm \n",
            "\n",
            "Parse:\n",
            "\n",
            "\n",
            "                               S                                                                                                         \n",
            "        _______________________|______________________________________________                                                            \n",
            "       |                                                                  NP_FLIGHT                                                      \n",
            "       |                                                                      |                                                           \n",
            "       |                                                                  NOM_FLIGHT                                                     \n",
            "       |                                                                      |                                                           \n",
            "       |                                                                   N_FLIGHT                                                      \n",
            "       |                                           ___________________________|_____________________                                      \n",
            "       |                                       N_FLIGHT                                             |                                    \n",
            "       |                        __________________|_________________                                |                                     \n",
            "       |                    N_FLIGHT                                |                               PP                                   \n",
            "       |              _________|________                            |                               |                                     \n",
            "       |             |                  PP                          PP                           PP_TIME                                 \n",
            "       |             |                  |                           |                        _______|__________________                   \n",
            "       |             |               PP_PLACE                    PP_PLACE                   |                       NP_TIME              \n",
            "       |             |          ________|_________           _______|_________              |                          |                  \n",
            "   PREIGNORE      N_FLIGHT     |               N_PLACE      |              N_PLACE          |                      TERM_TIME             \n",
            "       |             |         |                  |         |                 |             |                 _________|__________        \n",
            "PREIGNORESYMBOL TERM_FLIGHT P_PLACE           TERM_PLACE P_PLACE          TERM_PLACE      P_TIME         TERM_TIME           TERM_TIMEMOD\n",
            "       |             |         |                  |         |                 |        _____|_______         |                    |       \n",
            "      show        flights     from            cleveland     to              miami    that arrive  before     4                    pm     \n",
            "\n",
            "Predicted SQL:\n",
            "\n",
            " SELECT DISTINCT flight.flight_id FROM flight WHERE    1 AND flight.from_airport IN \n",
            "    (SELECT airport_service.airport_code FROM airport_service WHERE airport_service.city_code IN\n",
            "      (SELECT city.city_code FROM city WHERE city.city_name = \"CLEVELAND\"))\n",
            "    AND flight.to_airport IN \n",
            "    (SELECT airport_service.airport_code FROM airport_service WHERE airport_service.city_code IN\n",
            "      (SELECT city.city_code FROM city WHERE city.city_name = \"MIAMI\"))\n",
            "    AND flight.arrival_time < 1600  \n",
            "\n",
            "Predicted DB result:\n",
            "\n",
            " [(107698,), (301117,)] \n",
            "\n",
            "Gold DB result:\n",
            "\n",
            " [(107698,), (301117,)] \n",
            "\n",
            "Correct!\n"
          ]
        }
      ],
      "source": [
        "#TODO: add augmentations to `data/grammar` to make this example work\n",
        "# Example 5\n",
        "example_5 = 'show flights from cleveland to miami that arrive before 4pm'\n",
        "gold_sql_5 = \"\"\"\n",
        "  SELECT DISTINCT flight_1.flight_id\n",
        "  FROM flight flight_1 ,\n",
        "       airport_service airport_service_1 ,\n",
        "       city city_1 ,\n",
        "       airport_service airport_service_2 ,\n",
        "       city city_2\n",
        "  WHERE flight_1.from_airport = airport_service_1.airport_code\n",
        "        AND airport_service_1.city_code = city_1.city_code\n",
        "        AND city_1.city_name = 'CLEVELAND'\n",
        "        AND ( flight_1.to_airport = airport_service_2.airport_code\n",
        "              AND airport_service_2.city_code = city_2.city_code\n",
        "              AND city_2.city_name = 'MIAMI'\n",
        "              AND flight_1.arrival_time < 1600 )\n",
        "  \"\"\"\n",
        "\n",
        "rule_based_trial(example_5, gold_sql_5)"
      ]
    },
    {
      "cell_type": "code",
      "execution_count": 65,
      "id": "4aa401d5",
      "metadata": {
        "colab": {
          "base_uri": "https://localhost:8080/"
        },
        "outputId": "d2bd2c37-327a-43c2-c412-33efe4eb1d60",
        "id": "4aa401d5"
      },
      "outputs": [
        {
          "output_type": "stream",
          "name": "stdout",
          "text": [
            "Sentence:  okay how about a flight on sunday from tampa to charlotte \n",
            "\n",
            "Parse:\n",
            "\n",
            "\n",
            "                                                                                                   S                                                                                    \n",
            "                                     ______________________________________________________________|______________________________                                                       \n",
            "                                    |                                                                                         NP_FLIGHT                                                 \n",
            "                                    |                                                                                             |                                                      \n",
            "                                    |                                                                                         NOM_FLIGHT                                                \n",
            "                                    |                                                                                             |                                                      \n",
            "                                    |                                                                                          N_FLIGHT                                                 \n",
            "                                    |                                                                                  ___________|_____________________________________                 \n",
            "                                    |                                                                              N_FLIGHT                                             |               \n",
            "                                    |                                                               __________________|_____________________                            |                \n",
            "                                PREIGNORE                                                       N_FLIGHT                                    |                           |               \n",
            "        ____________________________|____________                                         _________|________                                |                           |                \n",
            "       |                                     PREIGNORE                                   |                  PP                              PP                          PP              \n",
            "       |                _________________________|____________                           |                  |                               |                           |                \n",
            "       |               |                                  PREIGNORE                      |               PP_DATE                         PP_PLACE                    PP_PLACE           \n",
            "       |               |                          ____________|____________              |          ________|_________             _________|_________           _______|_________       \n",
            "       |               |                         |                     PREIGNORE      N_FLIGHT     |               NP_DATE        |                N_PLACE      |              N_PLACE  \n",
            "       |               |                         |                         |             |         |                  |           |                   |         |                 |      \n",
            "PREIGNORESYMBOL PREIGNORESYMBOL           PREIGNORESYMBOL           PREIGNORESYMBOL TERM_FLIGHT  P_DATE          TERM_WEEKDAY  P_PLACE            TERM_PLACE P_PLACE          TERM_PLACE\n",
            "       |               |                         |                         |             |         |                  |           |                   |         |                 |      \n",
            "      okay            how                      about                       a           flight      on               sunday       from               tampa       to            charlotte \n",
            "\n",
            "Predicted SQL:\n",
            "\n",
            " SELECT DISTINCT flight.flight_id FROM flight WHERE    1 AND flight.flight_days IN (SELECT days.days_code FROM days WHERE days.day_name = 'SUNDAY')  AND flight.from_airport IN \n",
            "    (SELECT airport_service.airport_code FROM airport_service WHERE airport_service.city_code IN\n",
            "      (SELECT city.city_code FROM city WHERE city.city_name = \"TAMPA\"))\n",
            "    AND flight.to_airport IN \n",
            "    (SELECT airport_service.airport_code FROM airport_service WHERE airport_service.city_code IN\n",
            "      (SELECT city.city_code FROM city WHERE city.city_name = \"CHARLOTTE\"))\n",
            "    \n",
            "\n",
            "Predicted DB result:\n",
            "\n",
            " [(101860,), (101861,), (101862,), (101863,), (101864,), (101865,), (305231,)] \n",
            "\n",
            "Gold DB result:\n",
            "\n",
            " [(101860,), (101861,), (101862,), (101863,), (101864,), (101865,), (305231,)] \n",
            "\n",
            "Correct!\n"
          ]
        }
      ],
      "source": [
        "#TODO: add augmentations to `data/grammar` to make this example work\n",
        "# Example 6\n",
        "example_6 = 'okay how about a flight on sunday from tampa to charlotte'\n",
        "gold_sql_6 = \"\"\"\n",
        "  SELECT DISTINCT flight_1.flight_id\n",
        "  FROM flight flight_1 ,\n",
        "       airport_service airport_service_1 ,\n",
        "       city city_1 ,\n",
        "       airport_service airport_service_2 ,\n",
        "       city city_2 ,\n",
        "       days days_1 ,\n",
        "       date_day date_day_1\n",
        "  WHERE flight_1.from_airport = airport_service_1.airport_code\n",
        "        AND airport_service_1.city_code = city_1.city_code\n",
        "        AND city_1.city_name = 'TAMPA'\n",
        "        AND ( flight_1.to_airport = airport_service_2.airport_code\n",
        "              AND airport_service_2.city_code = city_2.city_code\n",
        "              AND city_2.city_name = 'CHARLOTTE'\n",
        "              AND flight_1.flight_days = days_1.days_code\n",
        "              AND days_1.day_name = date_day_1.day_name\n",
        "              AND date_day_1.year = 1991\n",
        "              AND date_day_1.month_number = 8\n",
        "              AND date_day_1.day_number = 27 )\n",
        "  \"\"\"\n",
        "\n",
        "# You might notice that the gold answer above used the exact date, which is\n",
        "# not easily implementable. A more implementable way (generated by the project\n",
        "# segment 4 solution code) is:\n",
        "gold_sql_6b = \"\"\"\n",
        "  SELECT DISTINCT flight.flight_id\n",
        "  FROM flight\n",
        "  WHERE ((((1\n",
        "            AND flight.flight_days IN (SELECT days.days_code\n",
        "                                       FROM days\n",
        "                                       WHERE days.day_name = 'SUNDAY')\n",
        "            )\n",
        "           AND flight.from_airport IN (SELECT airport_service.airport_code\n",
        "                                       FROM airport_service\n",
        "                                       WHERE airport_service.city_code IN (SELECT city.city_code\n",
        "                                                                           FROM city\n",
        "                                                                           WHERE city.city_name = \"TAMPA\")))\n",
        "          AND flight.to_airport IN (SELECT airport_service.airport_code\n",
        "                                    FROM airport_service\n",
        "                                    WHERE airport_service.city_code IN (SELECT city.city_code\n",
        "                                                                        FROM city\n",
        "                                                                        WHERE city.city_name = \"CHARLOTTE\"))))\n",
        "  \"\"\"\n",
        "\n",
        "rule_based_trial(example_6, gold_sql_6b)"
      ]
    },
    {
      "cell_type": "code",
      "execution_count": 66,
      "id": "10256866",
      "metadata": {
        "colab": {
          "base_uri": "https://localhost:8080/"
        },
        "outputId": "8907ee92-2236-4ff4-d128-f3768acc8ebe",
        "id": "10256866"
      },
      "outputs": [
        {
          "output_type": "stream",
          "name": "stdout",
          "text": [
            "Sentence:  list all flights going from boston to atlanta that leaves before 7 am on thursday \n",
            "\n",
            "Parse:\n",
            "\n",
            "\n",
            "                                  S                                                                                                                                                  \n",
            "        __________________________|_____________________________________________________                                                                                              \n",
            "       |                                                                            NP_FLIGHT                                                                                        \n",
            "       |          ______________________________________________________________________|__________                                                                                   \n",
            "       |         |                                                                             NOM_FLIGHT                                                                            \n",
            "       |         |                                                                                 |                                                                                  \n",
            "       |         |                                                                              N_FLIGHT                                                                             \n",
            "       |         |                                                                       __________|________________________________________________________________                  \n",
            "       |         |                                                                   N_FLIGHT                                                                       |                \n",
            "       |         |                                 _____________________________________|___________________________                                                |                 \n",
            "       |         |                             N_FLIGHT                                                             |                                               |                \n",
            "       |         |                        ________|___________________________                                      |                                               |                 \n",
            "       |         |                    N_FLIGHT                                |                                     PP                                              |                \n",
            "       |         |        _______________|________                            |                                     |                                               |                 \n",
            "       |         |       |                        PP                          PP                                 PP_TIME                                            PP               \n",
            "       |         |       |                        |                           |                              _______|__________________                             |                 \n",
            "       |         |       |                     PP_PLACE                    PP_PLACE                         |                       NP_TIME                      PP_DATE             \n",
            "       |         |       |                ________|_________           _______|_________                    |                          |                     _______|_________        \n",
            "   PREIGNORE     |    N_FLIGHT           |               N_PLACE      |              N_PLACE                |                      TERM_TIME                |              NP_DATE   \n",
            "       |         |       |               |                  |         |                 |                   |                 _________|__________          |                 |       \n",
            "PREIGNORESYMBOL DET TERM_FLIGHT       P_PLACE           TERM_PLACE P_PLACE          TERM_PLACE            P_TIME         TERM_TIME           TERM_TIMEMOD P_DATE         TERM_WEEKDAY\n",
            "       |         |       |         ______|________          |         |                 |           ________|_______         |                    |         |                 |       \n",
            "      list      all   flights   going            from     boston      to             atlanta      that    leaves  before     7                    am        on             thursday  \n",
            "\n",
            "Predicted SQL:\n",
            "\n",
            " SELECT DISTINCT flight.flight_id FROM flight WHERE     1 AND flight.from_airport IN \n",
            "    (SELECT airport_service.airport_code FROM airport_service WHERE airport_service.city_code IN\n",
            "      (SELECT city.city_code FROM city WHERE city.city_name = \"BOSTON\"))\n",
            "    AND flight.to_airport IN \n",
            "    (SELECT airport_service.airport_code FROM airport_service WHERE airport_service.city_code IN\n",
            "      (SELECT city.city_code FROM city WHERE city.city_name = \"ATLANTA\"))\n",
            "    AND flight.departure_time < 700  AND flight.flight_days IN (SELECT days.days_code FROM days WHERE days.day_name = 'THURSDAY')  \n",
            "\n",
            "Predicted DB result:\n",
            "\n",
            " [(100014,)] \n",
            "\n",
            "Gold DB result:\n",
            "\n",
            " [(100014,)] \n",
            "\n",
            "Correct!\n"
          ]
        }
      ],
      "source": [
        "#TODO: add augmentations to `data/grammar` to make this example work\n",
        "# Example 7\n",
        "example_7 = 'list all flights going from boston to atlanta that leaves before 7 am on thursday'\n",
        "gold_sql_7 = \"\"\"\n",
        "  SELECT DISTINCT flight_1.flight_id\n",
        "  FROM flight flight_1 ,\n",
        "       airport_service airport_service_1 ,\n",
        "       city city_1 ,\n",
        "       airport_service airport_service_2 ,\n",
        "       city city_2 ,\n",
        "       days days_1 ,\n",
        "       date_day date_day_1\n",
        "  WHERE flight_1.from_airport = airport_service_1.airport_code\n",
        "        AND airport_service_1.city_code = city_1.city_code\n",
        "        AND city_1.city_name = 'BOSTON'\n",
        "        AND ( flight_1.to_airport = airport_service_2.airport_code\n",
        "              AND airport_service_2.city_code = city_2.city_code\n",
        "              AND city_2.city_name = 'ATLANTA'\n",
        "              AND ( flight_1.flight_days = days_1.days_code\n",
        "                    AND days_1.day_name = date_day_1.day_name\n",
        "                    AND date_day_1.year = 1991\n",
        "                    AND date_day_1.month_number = 5\n",
        "                    AND date_day_1.day_number = 24\n",
        "                    AND flight_1.departure_time < 700 ) )\n",
        "  \"\"\"\n",
        "\n",
        "# Again, the gold answer above used the exact date, as opposed to the\n",
        "# following approach:\n",
        "gold_sql_7b = \"\"\"\n",
        "  SELECT DISTINCT flight.flight_id\n",
        "  FROM flight\n",
        "  WHERE ((1\n",
        "          AND ((((1\n",
        "                  AND flight.from_airport IN (SELECT airport_service.airport_code\n",
        "                                              FROM airport_service\n",
        "                                              WHERE airport_service.city_code IN (SELECT city.city_code\n",
        "                                                                                  FROM city\n",
        "                                                                                  WHERE city.city_name = \"BOSTON\")))\n",
        "                 AND flight.to_airport IN (SELECT airport_service.airport_code\n",
        "                                           FROM airport_service\n",
        "                                           WHERE airport_service.city_code IN (SELECT city.city_code\n",
        "                                                                               FROM city\n",
        "                                                                               WHERE city.city_name = \"ATLANTA\")))\n",
        "                AND flight.departure_time <= 0700)\n",
        "               AND flight.flight_days IN (SELECT days.days_code\n",
        "                                          FROM days\n",
        "                                          WHERE days.day_name = 'THURSDAY'))))\n",
        "  \"\"\"\n",
        "\n",
        "rule_based_trial(example_7, gold_sql_7b)"
      ]
    },
    {
      "cell_type": "code",
      "execution_count": 67,
      "id": "b4a869db",
      "metadata": {
        "colab": {
          "base_uri": "https://localhost:8080/"
        },
        "outputId": "44271ab4-e2c5-4407-b1ce-c531cd663bb5",
        "id": "b4a869db"
      },
      "outputs": [
        {
          "output_type": "stream",
          "name": "stdout",
          "text": [
            "Sentence:  list the flights from dallas to san francisco on american airlines \n",
            "\n",
            "Parse:\n",
            "\n",
            "\n",
            "                                                                                      S                                                                                         \n",
            "                     _________________________________________________________________|________                                                                                  \n",
            "                    |                                                                      NP_FLIGHT                                                                            \n",
            "                    |                                                                          |                                                                                 \n",
            "                    |                                                                      NOM_FLIGHT                                                                           \n",
            "                    |                                                                          |                                                                                 \n",
            "                    |                                                                       N_FLIGHT                                                                            \n",
            "                    |                                                        __________________|___________________________________________                                      \n",
            "                    |                                                    N_FLIGHT                                                          |                                    \n",
            "                    |                                     __________________|__________________                                            |                                     \n",
            "                    |                                 N_FLIGHT                                 |                                           |                                    \n",
            "                    |                           _________|________                             |                                           |                                     \n",
            "                    |                          |                  PP                           PP                                          PP                                   \n",
            "                    |                          |                  |                            |                                           |                                     \n",
            "                PREIGNORE                      |               PP_PLACE                     PP_PLACE                                   PP_AIRLINE                               \n",
            "        ____________|____________              |          ________|_________           ________|__________                      ___________|____________                         \n",
            "       |                     PREIGNORE      N_FLIGHT     |               N_PLACE      |                N_PLACE                 |                   TERM_AIRLINE                 \n",
            "       |                         |             |         |                  |         |                   |                    |            ____________|______________          \n",
            "PREIGNORESYMBOL           PREIGNORESYMBOL TERM_FLIGHT P_PLACE           TERM_PLACE P_PLACE            TERM_PLACE           P_AIRLINE TERM_AIRBRAND              TERM_AIRBRANDTYP\n",
            "       |                         |             |         |                  |         |                   |                    |           |                           E        \n",
            "       |                         |             |         |                  |         |         __________|__________          |           |                           |         \n",
            "      list                      the         flights     from              dallas      to      san                francisco     on       american                    airlines    \n",
            "\n",
            "Predicted SQL:\n",
            "\n",
            " SELECT DISTINCT flight.flight_id FROM flight WHERE    1 AND flight.from_airport IN \n",
            "    (SELECT airport_service.airport_code FROM airport_service WHERE airport_service.city_code IN\n",
            "      (SELECT city.city_code FROM city WHERE city.city_name = \"DALLAS\"))\n",
            "    AND flight.to_airport IN \n",
            "    (SELECT airport_service.airport_code FROM airport_service WHERE airport_service.city_code IN\n",
            "      (SELECT city.city_code FROM city WHERE city.city_name = \"SAN FRANCISCO\"))\n",
            "    AND flight.airline_code = 'AA'  \n",
            "\n",
            "Predicted DB result:\n",
            "\n",
            " [(108452,), (108454,), (108456,), (111083,), (111085,), (111086,), (111090,), (111091,), (111092,), (111094,)] \n",
            "\n",
            "Gold DB result:\n",
            "\n",
            " [(108452,), (108454,), (108456,), (111083,), (111085,), (111086,), (111090,), (111091,), (111092,), (111094,)] \n",
            "\n",
            "Correct!\n"
          ]
        }
      ],
      "source": [
        "#TODO: add augmentations to `data/grammar` to make this example work\n",
        "# Example 8\n",
        "example_8 = 'list the flights from dallas to san francisco on american airlines'\n",
        "gold_sql_8 = \"\"\"\n",
        "  SELECT DISTINCT flight_1.flight_id\n",
        "  FROM flight flight_1 ,\n",
        "       airport_service airport_service_1 ,\n",
        "       city city_1 ,\n",
        "       airport_service airport_service_2 ,\n",
        "       city city_2\n",
        "  WHERE flight_1.airline_code = 'AA'\n",
        "        AND ( flight_1.from_airport = airport_service_1.airport_code\n",
        "              AND airport_service_1.city_code = city_1.city_code\n",
        "              AND city_1.city_name = 'DALLAS'\n",
        "              AND flight_1.to_airport = airport_service_2.airport_code\n",
        "              AND airport_service_2.city_code = city_2.city_code\n",
        "              AND city_2.city_name = 'SAN FRANCISCO' )\n",
        "  \"\"\"\n",
        "\n",
        "rule_based_trial(example_8, gold_sql_8)"
      ]
    },
    {
      "cell_type": "markdown",
      "id": "aedfdaee",
      "metadata": {
        "id": "aedfdaee"
      },
      "source": [
        "### Systematic evaluation on a test set\n",
        "\n",
        "We can perform a more systematic evaluation by checking the accuracy of the queries on an entire test set for which we have gold queries. The `evaluate` function below does just this, calculating precision, recall, and F1 metrics for the test set. It takes as argument a \"predictor\" function, which maps token sequences to predicted SQL queries. We've provided a predictor function for the rule-based model in the next cell (and a predictor for the seq2seq system below when we get to that system).\n",
        "\n",
        "The rule-based system does not generate predictions for all queries; many queries won't parse. The precision and recall metrics take this into account in measuring the efficacy of the method. The recall metric captures what proportion of _all of the test examples_ for which the system generates a correct query. The precision metric captures what proportion of _all of the test examples for which a prediction is generated_ for which the system generates a correct query. (Recall that F1 is just the geometric mean of precision and recall.)\n",
        "\n",
        "Once you've made some progress on adding augmentations to the grammar, you can evaluate your progress by seeing if the precision and recall have improved. For reference, the solution code achieves precision of about 66% and recall of about 28% for an F1 of 39%."
      ]
    },
    {
      "cell_type": "code",
      "execution_count": 68,
      "id": "25de63bb",
      "metadata": {
        "id": "25de63bb"
      },
      "outputs": [],
      "source": [
        "def evaluate(predictor, dataset, num_examples=0, silent=True):\n",
        "  \"\"\"Evaluate accuracy of `predictor` by executing predictions on a\n",
        "  SQL database and comparing returned results against those of gold queries.\n",
        "\n",
        "  Arguments:\n",
        "      predictor:    a function that maps a token sequence\n",
        "                    to a predicted SQL query string\n",
        "      dataset:      the dataset of token sequences and gold SQL queries\n",
        "      num_examples: number of examples from `dataset` to use; all of\n",
        "                    them if 0\n",
        "      silent: if set to False, will print out logs\n",
        "  Returns: precision, recall, and F1 score\n",
        "  \"\"\"\n",
        "  # Prepare to count results\n",
        "  if num_examples <= 0:\n",
        "    num_examples = len(dataset)\n",
        "  example_count = 0\n",
        "  predicted_count = 0\n",
        "  correct = 0\n",
        "  incorrect = 0\n",
        "\n",
        "  # Process the examples from the dataset\n",
        "  for _, example in tqdm(zip(range(num_examples), dataset)):\n",
        "    example_count += 1\n",
        "    # obtain query SQL\n",
        "    predicted_sql = predictor(example['src'])\n",
        "    if predicted_sql == None:\n",
        "      continue\n",
        "    predicted_count += 1\n",
        "    # obtain gold SQL\n",
        "    gold_sql = example['tgt']\n",
        "\n",
        "    # check that they're compatible\n",
        "    if verify(predicted_sql, gold_sql):\n",
        "      correct += 1\n",
        "    else:\n",
        "      incorrect += 1\n",
        "\n",
        "  # Compute and return precision, recall, F1\n",
        "  precision = correct / predicted_count if predicted_count > 0 else 0\n",
        "  recall = correct / example_count\n",
        "  f1 = (2 * precision * recall) / (precision + recall) if precision + recall > 0 else 0\n",
        "  return precision, recall, f1"
      ]
    },
    {
      "cell_type": "code",
      "execution_count": 69,
      "id": "e33dfba3",
      "metadata": {
        "id": "e33dfba3"
      },
      "outputs": [],
      "source": [
        "def rule_based_predictor(query):\n",
        "  tree = parse_tree(query)\n",
        "  if tree is None:\n",
        "    return None\n",
        "  try:\n",
        "    predicted_sql = interpret(tree, atis_augmentations)\n",
        "  except Exception as err:\n",
        "    return None\n",
        "  return predicted_sql"
      ]
    },
    {
      "cell_type": "code",
      "execution_count": 70,
      "id": "e2ffe5c7",
      "metadata": {
        "id": "e2ffe5c7",
        "colab": {
          "base_uri": "https://localhost:8080/"
        },
        "outputId": "bfbafdd3-4ef3-4870-cd43-84688cd078f6"
      },
      "outputs": [
        {
          "output_type": "stream",
          "name": "stderr",
          "text": [
            "332it [00:01, 223.05it/s]"
          ]
        },
        {
          "output_type": "stream",
          "name": "stdout",
          "text": [
            "precision: 0.63\n",
            "recall:    0.26\n",
            "F1:        0.37\n"
          ]
        },
        {
          "output_type": "stream",
          "name": "stderr",
          "text": [
            "\n"
          ]
        }
      ],
      "source": [
        "precision, recall, f1 = evaluate(rule_based_predictor, test_data, num_examples=0)\n",
        "print(f\"precision: {precision:3.2f}\")\n",
        "print(f\"recall:    {recall:3.2f}\")\n",
        "print(f\"F1:        {f1:3.2f}\")"
      ]
    },
    {
      "cell_type": "markdown",
      "id": "fa1e29bf",
      "metadata": {
        "id": "fa1e29bf"
      },
      "source": [
        "# End-to-End Seq2Seq Model"
      ]
    },
    {
      "cell_type": "markdown",
      "id": "3040c18c",
      "metadata": {
        "id": "3040c18c"
      },
      "source": [
        "In this part, you will implement a seq2seq model **with attention mechanism** to directly learn the translation from NL query to SQL. You might find labs 4-4 and 4-5 particularly helpful, as the primary difference here is that we are using a different dataset.\n",
        "\n",
        "**Note:** We recommend using GPUs to train the model in this part (one way to get GPUs is to use [Google Colab](https://colab.research.google.com) and clicking Menu -> Runtime -> Change runtime type -> GPU), as we need to use a very large model to solve the task well. For development we recommend starting with a smaller model and training for only 1 epoch."
      ]
    },
    {
      "cell_type": "markdown",
      "id": "70cc14a7",
      "metadata": {
        "id": "70cc14a7"
      },
      "source": [
        "## Goal 2: Implement a seq2seq model (with attention)"
      ]
    },
    {
      "cell_type": "markdown",
      "id": "edce39ff",
      "metadata": {
        "id": "edce39ff"
      },
      "source": [
        "In lab 4-5, you implemented a neural encoder-decoder model with attention. That model was used to convert English number phrases to numbers, but one of the biggest advantages of neural models is that we can easily apply them to different tasks (such as machine translation and document summarization) by using different training datasets.\n",
        "\n",
        "<img src=\"https://github.com/nlp-236299/data/raw/master/img/encoderdecoder_attn_1layer.png\" alt=\"encoder-decoder-attn illustration\" />\n",
        "\n",
        "Implement the class `AttnEncoderDecoder` to convert natural language queries into SQL statements. You may find that you can reuse most of the code you wrote for lab 4-5. A reasonable way to proceed is to implement the following methods:\n",
        "\n",
        "* **Model**\n",
        "\n",
        "    1. `__init__`: an initializer where you create network modules.\n",
        "\n",
        "    2. `forward`: given source word ids of size `(batch_size, max_src_len)`, source lengths of size `(batch_size)` and decoder input target word ids `(batch_size, max_tgt_len)`, returns logits `(batch_size, max_tgt_len, V_tgt)`. For better modularity you might want to implement it by implementing two functions `forward_encoder` and `forward_decoder`.\n",
        "\n",
        "* **Optimization**\n",
        "\n",
        "    3. `train_all`: compute loss on training data, compute gradients, and update model parameters to minimize the loss.\n",
        "\n",
        "    4. `evaluate_ppl`: evaluate the current model's perplexity on a given dataset iterator, we use the perplexity value on the validation set to select the best model.\n",
        "\n",
        "* **Decoding**\n",
        "\n",
        "    5. `predict`: Generates the target sequence given a list of source tokens using beam search decoding. Note that here you can assume the batch size to be 1 for simplicity."
      ]
    },
    {
      "cell_type": "code",
      "execution_count": 159,
      "id": "f48b358e",
      "metadata": {
        "id": "f48b358e"
      },
      "outputs": [],
      "source": [
        "#TODO - implement the `AttnEncoderDecoder` class.\n",
        "MAX_T = 15\n",
        "def reshaping_correctly(before, layers, directions):\n",
        "    split = before.reshape(layers, directions, before.shape[1], before.shape[2])\n",
        "    l2r = split[:, 0]\n",
        "    r2l = split[:, 1]\n",
        "    return torch.cat([l2r, r2l], dim=-1)\n",
        "\n",
        "class AttnEncoderDecoder(nn.Module):\n",
        "  def __init__(self, hf_src_tokenizer, hf_tgt_tokenizer, hidden_size=64, layers=3):\n",
        "    \"\"\"\n",
        "    Initializer. Creates network modules and loss function.\n",
        "    Arguments:\n",
        "        hf_src_tokenizer: hf src tokenizer\n",
        "        hf_tgt_tokenizer: hf tgt tokenizer\n",
        "        hidden_size: hidden layer size of both encoder and decoder\n",
        "        layers: number of layers of both encoder and decoder\n",
        "    \"\"\"\n",
        "    super().__init__()\n",
        "    self.hf_src_tokenizer = hf_src_tokenizer\n",
        "    self.hf_tgt_tokenizer = hf_tgt_tokenizer\n",
        "\n",
        "    # Keep the vocabulary sizes available\n",
        "    self.V_src = len(self.hf_src_tokenizer)\n",
        "    self.V_tgt = len(self.hf_tgt_tokenizer)\n",
        "\n",
        "    # Get special word ids\n",
        "    self.padding_id_src = self.hf_src_tokenizer.pad_token_id\n",
        "    self.padding_id_tgt = self.hf_tgt_tokenizer.pad_token_id\n",
        "    self.bos_id = self.hf_tgt_tokenizer.bos_token_id\n",
        "    self.eos_id = self.hf_tgt_tokenizer.eos_token_id\n",
        "\n",
        "    # Keep hyper-parameters available\n",
        "    self.embedding_size = hidden_size\n",
        "    self.hidden_size = hidden_size\n",
        "    self.layers = layers\n",
        "\n",
        "    # Create essential modules\n",
        "    self.word_embeddings_src = nn.Embedding(self.V_src, self.embedding_size)\n",
        "    self.word_embeddings_tgt = nn.Embedding(self.V_tgt, self.embedding_size)\n",
        "\n",
        "    # RNN cells\n",
        "    self.encoder_rnn = nn.LSTM(\n",
        "      input_size    = self.embedding_size,\n",
        "      hidden_size   = hidden_size // 2, # to match decoder hidden size\n",
        "      num_layers    = layers,\n",
        "      batch_first=True,\n",
        "      bidirectional = True              # bidirectional encoder\n",
        "    )\n",
        "    self.decoder_rnn = nn.LSTM(\n",
        "      input_size    = self.embedding_size,\n",
        "      hidden_size   = hidden_size,\n",
        "      num_layers    = layers,\n",
        "      batch_first=True,\n",
        "      bidirectional = False             # unidirectional decoder\n",
        "    )\n",
        "\n",
        "    # Final projection layer\n",
        "    self.hidden2output = nn.Linear(2*hidden_size, self.V_tgt) # project the concatenation to logits\n",
        "\n",
        "    # Create loss function\n",
        "    self.loss_function = nn.CrossEntropyLoss(reduction='sum',\n",
        "                                             ignore_index=self.padding_id_tgt)\n",
        "\n",
        "  def forward_encoder(self, src, src_lengths):\n",
        "    \"\"\"\n",
        "    Encodes source words `src`.\n",
        "    Arguments:\n",
        "        src: src batch of size (bsz, max_src_len)\n",
        "        src_lengths: src lengths of size (bsz)\n",
        "    Returns:\n",
        "        memory_bank: a tensor of size (bsz, src_len, hidden_size)\n",
        "        (final_state, context): `final_state` is a tuple (h, c) where h/c is of size\n",
        "                                (layers, bsz, hidden_size), and `context` is `None`.\n",
        "    \"\"\"\n",
        "    src_embeddings = self.word_embeddings_src(src)  # (batch_size, max_src_len, embedding_size)\n",
        "    src_lengths = src_lengths.tolist()\n",
        "    # Pack the sequence\n",
        "    packed_src = pack(src_embeddings, src_lengths, batch_first=True, enforce_sorted=False)\n",
        "\n",
        "    # RNN\n",
        "    outputs, (h, c) = self.encoder_rnn(packed_src)\n",
        "\n",
        "    # Reshape and concatenate the hidden states from both directions\n",
        "    h = reshaping_correctly(h, self.layers, 2)\n",
        "    c = reshaping_correctly(c, self.layers, 2)\n",
        "    # Transpose the dimensions for compatibility\n",
        "    h = h.contiguous()\n",
        "    c = c.contiguous()\n",
        "    memory_bank = unpack(outputs, batch_first=True)[0]\n",
        "\n",
        "    final_state = (h, c)\n",
        "    context = None\n",
        "    return memory_bank, (final_state, context)\n",
        "\n",
        "  def forward_decoder(self, encoder_final_state, tgt_in, memory_bank, src_mask):\n",
        "    \"\"\"\n",
        "    Decodes based on encoder final state, memory bank, src_mask, and ground truth\n",
        "    target words.\n",
        "    Arguments:\n",
        "        encoder_final_state: (final_state, None) where final_state is the encoder\n",
        "                             final state used to initialize decoder. None is the\n",
        "                             initial context (there's no previous context at the\n",
        "                             first step).\n",
        "        tgt_in: a tensor of size (bsz, tgt_len)\n",
        "        memory_bank: a tensor of size (bsz, src_len, hidden_size), encoder outputs\n",
        "                     at every position\n",
        "        src_mask: a tensor of size (bsz, src_len): a boolean tensor, `False` where\n",
        "                  src is padding (we disallow decoder to attend to those places).\n",
        "    Returns:\n",
        "        Logits of size (bsz, tgt_len, V_tgt) (before the softmax operation)\n",
        "    \"\"\"\n",
        "    max_tgt_length = tgt_in.size(1)\n",
        "\n",
        "    # Initialize decoder state, note that it's a tuple (state, context) here\n",
        "    decoder_states = encoder_final_state\n",
        "\n",
        "    all_logits = []\n",
        "    for i in range(max_tgt_length):\n",
        "      logits, decoder_states, attn = \\\n",
        "        self.forward_decoder_incrementally(decoder_states,\n",
        "                                           tgt_in[:, i],\n",
        "                                           memory_bank,\n",
        "                                           src_mask,\n",
        "                                           normalize=False)\n",
        "      all_logits.append(logits)             # list of bsz, vocab_tgt\n",
        "    all_logits = torch.stack(all_logits, 1) # bsz, tgt_len, vocab_tgt\n",
        "    return all_logits\n",
        "\n",
        "  def forward(self, src, src_lengths, tgt_in):\n",
        "    \"\"\"\n",
        "    Performs forward computation, returns logits.\n",
        "    Arguments:\n",
        "        src: src batch of size (bsz, max_src_len)\n",
        "        src_lengths: src lengths of size (bsz)\n",
        "        tgt_in:  a tensor of size (bsz, tgt_len)\n",
        "    \"\"\"\n",
        "    src_mask = src.ne(self.padding_id_src) # bsz, max_src_len\n",
        "    # Forward encoder\n",
        "    memory_bank, encoder_final_state = self.forward_encoder(src, src_lengths)\n",
        "    # Forward decoder\n",
        "    logits = self.forward_decoder(encoder_final_state, tgt_in, memory_bank, src_mask)\n",
        "    return logits\n",
        "\n",
        "  def forward_decoder_incrementally(self, prev_decoder_states, tgt_in_onestep,\n",
        "                                    memory_bank, src_mask,\n",
        "                                    normalize=True):\n",
        "    \"\"\"\n",
        "    Forward the decoder for a single step with token `tgt_in_onestep`.\n",
        "    This function will be used both in `forward_decoder` and in beam search.\n",
        "    Note that bsz can be greater than 1.\n",
        "    Arguments:\n",
        "        prev_decoder_states: a tuple (prev_decoder_state, prev_context). `prev_context`\n",
        "                             is `None` for the first step\n",
        "        tgt_in_onestep: a tensor of size (bsz), tokens at one step\n",
        "        memory_bank: a tensor of size (bsz, src_len, hidden_size), encoder outputs\n",
        "                     at every position\n",
        "        src_mask: a tensor of size (bsz, src_len): a boolean tensor, `False` where\n",
        "                  src is padding (we disallow decoder to attend to those places).\n",
        "        normalize: use log_softmax to normalize or not. Beam search needs to normalize,\n",
        "                   while `forward_decoder` does not\n",
        "    Returns:\n",
        "        logits: log probabilities for `tgt_in_token` of size (bsz, V_tgt)\n",
        "        decoder_states: (`decoder_state`, `context`) which will be used for the\n",
        "                        next incremental update\n",
        "        attn: normalized attention scores at this step (bsz, src_len)\n",
        "    \"\"\"\n",
        "    prev_decoder_state, prev_context = prev_decoder_states\n",
        "\n",
        "    #TODO\n",
        "    # Target embaddings\n",
        "\n",
        "    tgt_in_embeddings = self.word_embeddings_tgt(tgt_in_onestep.unsqueeze(1))\n",
        "\n",
        "    if prev_context is not None:\n",
        "        tgt_in_embeddings += prev_context.unsqueeze(1)\n",
        "    # Forward decoder LSTM\n",
        "    decoder_outs, decoder_state = self.decoder_rnn(tgt_in_embeddings, prev_decoder_state)\n",
        "\n",
        "    src_mask = src_mask.unsqueeze(1).to(device)\n",
        "\n",
        "    attn,context=attention( decoder_outs,memory_bank, memory_bank, mask=src_mask)\n",
        "    context_and_output = torch.cat([decoder_outs, context], -1)\n",
        "    logits = self.hidden2output(context_and_output)\n",
        "\n",
        "    decoder_states = (decoder_state, context.squeeze(1))\n",
        "    if normalize:\n",
        "        logits = torch.log_softmax(logits, dim=-1)\n",
        "    return logits, decoder_states, attn\n",
        "\n",
        "  def evaluate_ppl(self, iterator):\n",
        "    \"\"\"Returns the model's perplexity on a given dataset `iterator`.\"\"\"\n",
        "    # Switch to eval mode\n",
        "    self.eval()\n",
        "    total_loss = 0\n",
        "    total_words = 0\n",
        "    for batch in iterator:\n",
        "      # Input and target\n",
        "      src = batch['src_ids']              # bsz, max_src_len\n",
        "      src_lengths = batch['src_lengths']  # bsz\n",
        "      tgt_in = batch['tgt_ids'][:, :-1] # Remove <eos> for decode input (y_0=<bos>, y_1, y_2)\n",
        "      tgt_out = batch['tgt_ids'][:, 1:] # Remove <bos> as target        (y_1, y_2, y_3=<eos>)\n",
        "      # Forward to get logits\n",
        "      logits = self.forward(src, src_lengths, tgt_in) # bsz, tgt_len, V_tgt\n",
        "      # Compute cross entropy loss\n",
        "      loss = self.loss_function(logits.reshape(-1, self.V_tgt), tgt_out.reshape(-1))\n",
        "      total_loss += loss.item()\n",
        "      total_words += tgt_out.ne(self.padding_id_tgt).float().sum().item()\n",
        "    return math.exp(total_loss/total_words)\n",
        "\n",
        "  def train_all(self, train_iter, val_iter, epochs=10, learning_rate=0.001):\n",
        "    \"\"\"Train the model.\"\"\"\n",
        "    # Switch the module to training mode\n",
        "    self.train()\n",
        "    # Use Adam to optimize the parameters\n",
        "    optim = torch.optim.Adam(self.parameters(), lr=learning_rate)\n",
        "    best_validation_ppl = float('inf')\n",
        "    best_model = None\n",
        "    # Run the optimization for multiple epochs\n",
        "    for epoch in range(epochs):\n",
        "      total_words = 0\n",
        "      total_loss = 0.0\n",
        "      for batch in tqdm(train_iter):\n",
        "        # Zero the parameter gradients\n",
        "        self.zero_grad()\n",
        "        # Input and target\n",
        "        tgt = batch['tgt_ids']              # bsz, max_tgt_len\n",
        "        src = batch['src_ids']              # bsz, max_src_len\n",
        "        src_lengths = batch['src_lengths']  # bsz\n",
        "        tgt_in = tgt[:, :-1].contiguous() # Remove <eos> for decode input (y_0=<bos>, y_1, y_2)\n",
        "        tgt_out = tgt[:, 1:].contiguous() # Remove <bos> as target        (y_1, y_2, y_3=<eos>)\n",
        "        bsz = tgt.size(0)\n",
        "        # Run forward pass and compute loss along the way.\n",
        "        logits = self.forward(src, src_lengths, tgt_in)\n",
        "        loss = self.loss_function(logits.view(-1, self.V_tgt), tgt_out.view(-1))\n",
        "        # Training stats\n",
        "        num_tgt_words = tgt_out.ne(self.padding_id_tgt).float().sum().item()\n",
        "        total_words += num_tgt_words\n",
        "        total_loss += loss.item()\n",
        "        # Perform backpropagation\n",
        "        loss.div(bsz).backward()\n",
        "        optim.step()\n",
        "\n",
        "      # Evaluate and track improvements on the validation dataset\n",
        "      validation_ppl = self.evaluate_ppl(val_iter)\n",
        "      self.train()\n",
        "      if validation_ppl < best_validation_ppl:\n",
        "        best_validation_ppl = validation_ppl\n",
        "        self.best_model = copy.deepcopy(self.state_dict())\n",
        "      epoch_loss = total_loss / total_words\n",
        "      print (f'Epoch: {epoch} Training Perplexity: {math.exp(epoch_loss):.4f} '\n",
        "             f'Validation Perplexity: {validation_ppl:.4f}')\n",
        "\n",
        "  def predict(self, tokens, max_T, K=1):\n",
        "    beam_searcher = BeamSearcher(self)\n",
        "    tokens = torch.IntTensor(self.hf_src_tokenizer.encode(tokens)).to(device)\n",
        "    tokens = torch.unsqueeze(tokens, 0)\n",
        "    tokens_lengths = torch.IntTensor([tokens.shape[1]]).to(device)\n",
        "    #tokens_lengths = torch.unsqueeze(tokens_lengths, 0)\n",
        "    print(tokens, tokens.shape)\n",
        "    print(tokens_lengths, tokens_lengths.shape)\n",
        "    prediction, _ = beam_searcher.beam_search(tokens, tokens_lengths, K, max_T)\n",
        "    # Convert to string\n",
        "    prediction = self.hf_tgt_tokenizer.decode(prediction, skip_special_tokens=True)\n",
        "    return prediction"
      ]
    },
    {
      "cell_type": "code",
      "execution_count": 156,
      "id": "04de42e3",
      "metadata": {
        "id": "04de42e3"
      },
      "outputs": [],
      "source": [
        "def attention(batched_Q, batched_K, batched_V, mask=None):\n",
        "  \"\"\"\n",
        "  Performs the attention operation and returns the attention matrix\n",
        "  `batched_A` and the context matrix `batched_C` using queries\n",
        "  `batched_Q`, keys `batched_K`, and values `batched_V`.\n",
        "\n",
        "  Arguments:\n",
        "      batched_Q: (bsz, q_len, D)\n",
        "      batched_K: (bsz, k_len, D)\n",
        "      batched_V: (bsz, k_len, D)\n",
        "      mask: (bsz, q_len, k_len). An optional boolean mask *disallowing*\n",
        "            attentions where the mask value is *`False`*.\n",
        "  Returns:\n",
        "      batched_A: the normalized attention scores (bsz, q_len, k_len)\n",
        "      batched_C: a tensor of size (bsz, q_len, D).\n",
        "  \"\"\"\n",
        "  # Check sizes\n",
        "  D = batched_Q.size(-1)\n",
        "  bsz = batched_Q.size(0)\n",
        "  q_len = batched_Q.size(1)\n",
        "  k_len = batched_K.size(1)\n",
        "  assert batched_K.size(-1) == D and batched_V.size(-1) == D\n",
        "  assert batched_K.size(0) == bsz and batched_V.size(0) == bsz\n",
        "  assert batched_V.size(1) == k_len\n",
        "  if mask is not None:\n",
        "    assert mask.size() == torch.Size([bsz, q_len, k_len])\n",
        "\n",
        "  # Transpose K\n",
        "  batched_K_t=torch.transpose(batched_K,1,2)\n",
        "  # Calculate A\n",
        "  batched_A = torch.bmm(batched_Q,batched_K_t)\n",
        "  # Check for mask\n",
        "  if mask is not None: batched_A=batched_A.masked_fill(~mask,float('-inf'))\n",
        "  # Perform softmax over A\n",
        "  batched_A = torch.softmax(batched_A,-1)\n",
        "  # Calculate C\n",
        "  batched_C = torch.bmm(batched_A, batched_V)\n",
        "\n",
        "  # Verify that things sum up to one properly.\n",
        "  assert torch.all(torch.isclose(batched_A.sum(-1),\n",
        "                                 torch.ones(bsz, q_len).to(device)))\n",
        "  return batched_A, batched_C"
      ]
    },
    {
      "cell_type": "code",
      "source": [
        "MAX_T = 15\n",
        "class Beam():\n",
        "  \"\"\"\n",
        "  Helper class for storing a hypothesis, its score and its decoder hidden state.\n",
        "  \"\"\"\n",
        "  def __init__(self, decoder_state, tokens, score):\n",
        "    self.decoder_state = decoder_state\n",
        "    self.tokens = tokens\n",
        "    self.score = score\n",
        "\n",
        "class BeamSearcher():\n",
        "  \"\"\"\n",
        "  Main class for beam search.\n",
        "  \"\"\"\n",
        "  def __init__(self, model):\n",
        "    self.model = model\n",
        "    self.bos_id = model.bos_id\n",
        "    self.eos_id = model.eos_id\n",
        "    self.padding_id_src = model.padding_id_src\n",
        "    self.V = model.V_tgt\n",
        "\n",
        "\n",
        "  def beam_search(self, src, src_lengths, K, max_T=MAX_T):\n",
        "    \"\"\"\n",
        "    Performs beam search decoding.\n",
        "    Arguments:\n",
        "        src: src batch of size (1, max_src_len)\n",
        "        src_lengths: src lengths of size (1)\n",
        "        K: beam size\n",
        "        max_T: max possible target length considered\n",
        "    Returns:\n",
        "        a list of token ids and a list of attentions\n",
        "    \"\"\"\n",
        "    finished = []\n",
        "    all_attns = []\n",
        "    # Initialize the beam\n",
        "    self.model.eval()\n",
        "    #TODO - fill in `memory_bank`, `encoder_final_state`, and `init_beam` below\n",
        "    memory_bank , encoder_final_state = self.model.forward_encoder(src, src_lengths)\n",
        "    init_beam =  Beam(encoder_final_state, torch.tensor([self.model.bos_id]), 0)\n",
        "    beams = [init_beam]\n",
        "\n",
        "    with torch.no_grad():\n",
        "      for t in range(max_T): # main body of search over time steps\n",
        "\n",
        "        # Expand each beam by all possible tokens y_{t+1}\n",
        "        all_total_scores = []\n",
        "        for beam in beams:\n",
        "          y_1_to_t, score, decoder_state = beam.tokens, beam.score, beam.decoder_state\n",
        "          y_t = y_1_to_t[-1]\n",
        "          #TODO - finish the code below\n",
        "          # Hint: you might want to use `model.forward_decoder_incrementally` with `normalize=True`\n",
        "          src_mask = src.ne(self.padding_id_src)\n",
        "          logits, decoder_state, attn = self.model.forward_decoder_incrementally(decoder_state,\n",
        "                                                                                    torch.tensor([y_t]).to(device),\n",
        "                                                                                    memory_bank, src_mask,\n",
        "                                                                                    normalize=True)\n",
        "\n",
        "          total_scores =   logits+ score\n",
        "          all_total_scores.append(total_scores)\n",
        "          if attn is not None:\n",
        "            all_attns.append(attn.squeeze(1)) # keep attentions for visualization\n",
        "          beam.decoder_state = decoder_state # update decoder state in the beam\n",
        "        all_total_scores = torch.stack(all_total_scores) # (K, V) when t>0, (1, V) when t=0\n",
        "\n",
        "        # Find K best next beams\n",
        "        # The code below has the same functionality as line 6-12, but is more efficient\n",
        "        all_scores_flattened = all_total_scores.view(-1) # K*V when t>0, 1*V when t=0\n",
        "        topk_scores, topk_ids = all_scores_flattened.topk(K, 0)\n",
        "        beam_ids = topk_ids.div(self.V, rounding_mode='floor')\n",
        "        next_tokens = topk_ids - beam_ids * self.V\n",
        "        new_beams = []\n",
        "        for k in range(K):\n",
        "          beam_id = beam_ids[k]       # which beam it comes from\n",
        "          y_t_plus_1 = next_tokens[k] # which y_{t+1}\n",
        "          score = topk_scores[k]\n",
        "          beam = beams[beam_id]\n",
        "          decoder_state = beam.decoder_state\n",
        "          y_1_to_t = beam.tokens\n",
        "          #TODO\n",
        "          new_beam = Beam(decoder_state,torch.cat((y_1_to_t, torch.tensor([y_t_plus_1]))),score)\n",
        "          new_beams.append(new_beam)\n",
        "\n",
        "        beams = new_beams\n",
        "\n",
        "        # Set aside completed beams\n",
        "        # TODO - move completed beams to `finished` (and remove them from `beams`)\n",
        "        for beam in beams:\n",
        "          if beam.tokens[-1] == self.eos_id:\n",
        "            finished.append(beam)\n",
        "            beams.remove(beam)\n",
        "\n",
        "        # Break the loop if everything is completed\n",
        "        if len(beams) == 0:\n",
        "            break\n",
        "\n",
        "    # Return the best hypothesis\n",
        "    if len(finished) > 0:\n",
        "      finished = sorted(finished, key=lambda beam: -beam.score)\n",
        "      return [token.item() for token in finished[0].tokens], all_attns\n",
        "    else: # when nothing is finished, return an unfinished hypothesis\n",
        "      return [token.item() for token in beams[0].tokens], all_attns\n"
      ],
      "metadata": {
        "id": "gHGpeY5pJQK-"
      },
      "id": "gHGpeY5pJQK-",
      "execution_count": 151,
      "outputs": []
    },
    {
      "cell_type": "markdown",
      "id": "b3ff6c4a",
      "metadata": {
        "id": "b3ff6c4a"
      },
      "source": [
        "We provide the recommended hyperparameters for the final model in the script below, but you are free to tune the hyperparameters or change any part of the provided code.\n",
        "\n",
        ">For quick debugging, we recommend starting with smaller models (by using a very small `hidden_size`), and only a single epoch. If the model runs smoothly, then you can train the full model on GPUs."
      ]
    },
    {
      "cell_type": "code",
      "execution_count": 160,
      "id": "579f35f5",
      "metadata": {
        "colab": {
          "base_uri": "https://localhost:8080/"
        },
        "outputId": "b00f9e80-3dd9-4d3f-94a7-6d840505cf76",
        "id": "579f35f5"
      },
      "outputs": [
        {
          "output_type": "stream",
          "name": "stderr",
          "text": [
            "100%|██████████| 229/229 [01:39<00:00,  2.30it/s]\n"
          ]
        },
        {
          "output_type": "stream",
          "name": "stdout",
          "text": [
            "Epoch: 0 Training Perplexity: 4.0690 Validation Perplexity: 1.6409\n",
            "Validation perplexity: 1.641\n"
          ]
        }
      ],
      "source": [
        "EPOCHS = 1 # epochs; we recommend starting with a smaller number like 1\n",
        "LEARNING_RATE = 1e-4 # learning rate\n",
        "\n",
        "# Instantiate and train classifier\n",
        "model = AttnEncoderDecoder(hf_src_tokenizer, hf_tgt_tokenizer,\n",
        "  hidden_size    = 1024,\n",
        "  layers         = 1,\n",
        ").to(device)\n",
        "\n",
        "model.train_all(train_iter, val_iter, epochs=EPOCHS, learning_rate=LEARNING_RATE)\n",
        "model.load_state_dict(model.best_model)\n",
        "\n",
        "# Evaluate model performance, the expected value should be < 1.2\n",
        "print (f'Validation perplexity: {model.evaluate_ppl(val_iter):.3f}')"
      ]
    },
    {
      "cell_type": "markdown",
      "id": "03ee437f",
      "metadata": {
        "id": "03ee437f"
      },
      "source": [
        "With a trained model, we can convert questions to SQL statements. We recommend making sure that the model can generate at least reasonable results on the examples from before, before evaluating on the full test set."
      ]
    },
    {
      "cell_type": "code",
      "execution_count": 161,
      "id": "dccc5761",
      "metadata": {
        "id": "dccc5761"
      },
      "outputs": [],
      "source": [
        "def seq2seq_trial(sentence, gold_sql):\n",
        "  print(\"Sentence: \", sentence, \"\\n\")\n",
        "\n",
        "  predicted_sql = model.predict(sentence, K=1, max_T=400)\n",
        "  print(\"Predicted SQL:\\n\\n\", predicted_sql, \"\\n\")\n",
        "\n",
        "  if verify(predicted_sql, gold_sql, silent=False):\n",
        "    print ('Correct!')\n",
        "  else:\n",
        "    print ('Incorrect!')"
      ]
    },
    {
      "cell_type": "code",
      "execution_count": 162,
      "id": "7114b61b",
      "metadata": {
        "colab": {
          "base_uri": "https://localhost:8080/",
          "height": 449
        },
        "outputId": "8fd88bfe-8a94-4b9e-b405-a32aec7e528d",
        "id": "7114b61b"
      },
      "outputs": [
        {
          "output_type": "stream",
          "name": "stdout",
          "text": [
            "Sentence:  flights from phoenix to milwaukee \n",
            "\n",
            "tensor([[  4],\n",
            "        [  3],\n",
            "        [120],\n",
            "        [  2],\n",
            "        [ 87]], device='cuda:0', dtype=torch.int32) torch.Size([5, 1])\n",
            "tensor([5], device='cuda:0', dtype=torch.int32) torch.Size([1])\n"
          ]
        },
        {
          "output_type": "error",
          "ename": "RuntimeError",
          "evalue": "ignored",
          "traceback": [
            "\u001b[0;31m---------------------------------------------------------------------------\u001b[0m",
            "\u001b[0;31mRuntimeError\u001b[0m                              Traceback (most recent call last)",
            "\u001b[0;32m<ipython-input-162-b9675979b143>\u001b[0m in \u001b[0;36m<cell line: 1>\u001b[0;34m()\u001b[0m\n\u001b[0;32m----> 1\u001b[0;31m \u001b[0mseq2seq_trial\u001b[0m\u001b[0;34m(\u001b[0m\u001b[0mexample_1\u001b[0m\u001b[0;34m,\u001b[0m \u001b[0mgold_sql_1\u001b[0m\u001b[0;34m)\u001b[0m\u001b[0;34m\u001b[0m\u001b[0;34m\u001b[0m\u001b[0m\n\u001b[0m",
            "\u001b[0;32m<ipython-input-161-4f3e3cc3ef33>\u001b[0m in \u001b[0;36mseq2seq_trial\u001b[0;34m(sentence, gold_sql)\u001b[0m\n\u001b[1;32m      2\u001b[0m   \u001b[0mprint\u001b[0m\u001b[0;34m(\u001b[0m\u001b[0;34m\"Sentence: \"\u001b[0m\u001b[0;34m,\u001b[0m \u001b[0msentence\u001b[0m\u001b[0;34m,\u001b[0m \u001b[0;34m\"\\n\"\u001b[0m\u001b[0;34m)\u001b[0m\u001b[0;34m\u001b[0m\u001b[0;34m\u001b[0m\u001b[0m\n\u001b[1;32m      3\u001b[0m \u001b[0;34m\u001b[0m\u001b[0m\n\u001b[0;32m----> 4\u001b[0;31m   \u001b[0mpredicted_sql\u001b[0m \u001b[0;34m=\u001b[0m \u001b[0mmodel\u001b[0m\u001b[0;34m.\u001b[0m\u001b[0mpredict\u001b[0m\u001b[0;34m(\u001b[0m\u001b[0msentence\u001b[0m\u001b[0;34m,\u001b[0m \u001b[0mK\u001b[0m\u001b[0;34m=\u001b[0m\u001b[0;36m1\u001b[0m\u001b[0;34m,\u001b[0m \u001b[0mmax_T\u001b[0m\u001b[0;34m=\u001b[0m\u001b[0;36m400\u001b[0m\u001b[0;34m)\u001b[0m\u001b[0;34m\u001b[0m\u001b[0;34m\u001b[0m\u001b[0m\n\u001b[0m\u001b[1;32m      5\u001b[0m   \u001b[0mprint\u001b[0m\u001b[0;34m(\u001b[0m\u001b[0;34m\"Predicted SQL:\\n\\n\"\u001b[0m\u001b[0;34m,\u001b[0m \u001b[0mpredicted_sql\u001b[0m\u001b[0;34m,\u001b[0m \u001b[0;34m\"\\n\"\u001b[0m\u001b[0;34m)\u001b[0m\u001b[0;34m\u001b[0m\u001b[0;34m\u001b[0m\u001b[0m\n\u001b[1;32m      6\u001b[0m \u001b[0;34m\u001b[0m\u001b[0m\n",
            "\u001b[0;32m<ipython-input-159-b02a22361608>\u001b[0m in \u001b[0;36mpredict\u001b[0;34m(self, tokens, max_T, K)\u001b[0m\n\u001b[1;32m    261\u001b[0m     \u001b[0mprint\u001b[0m\u001b[0;34m(\u001b[0m\u001b[0mtokens_lengths\u001b[0m\u001b[0;34m,\u001b[0m \u001b[0mtokens_lengths\u001b[0m\u001b[0;34m.\u001b[0m\u001b[0mshape\u001b[0m\u001b[0;34m)\u001b[0m\u001b[0;34m\u001b[0m\u001b[0;34m\u001b[0m\u001b[0m\n\u001b[1;32m    262\u001b[0m \u001b[0;34m\u001b[0m\u001b[0m\n\u001b[0;32m--> 263\u001b[0;31m     \u001b[0mprediction\u001b[0m\u001b[0;34m,\u001b[0m \u001b[0m_\u001b[0m \u001b[0;34m=\u001b[0m \u001b[0mbeam_searcher\u001b[0m\u001b[0;34m.\u001b[0m\u001b[0mbeam_search\u001b[0m\u001b[0;34m(\u001b[0m\u001b[0mtokens\u001b[0m\u001b[0;34m,\u001b[0m \u001b[0mtokens_lengths\u001b[0m\u001b[0;34m,\u001b[0m \u001b[0mK\u001b[0m\u001b[0;34m,\u001b[0m \u001b[0mmax_T\u001b[0m\u001b[0;34m=\u001b[0m\u001b[0mmax_T\u001b[0m\u001b[0;34m)\u001b[0m\u001b[0;34m\u001b[0m\u001b[0;34m\u001b[0m\u001b[0m\n\u001b[0m\u001b[1;32m    264\u001b[0m     \u001b[0;31m# Convert to string\u001b[0m\u001b[0;34m\u001b[0m\u001b[0;34m\u001b[0m\u001b[0m\n\u001b[1;32m    265\u001b[0m     \u001b[0mprediction\u001b[0m \u001b[0;34m=\u001b[0m \u001b[0mself\u001b[0m\u001b[0;34m.\u001b[0m\u001b[0mhf_tgt_tokenizer\u001b[0m\u001b[0;34m.\u001b[0m\u001b[0mdecode\u001b[0m\u001b[0;34m(\u001b[0m\u001b[0mprediction\u001b[0m\u001b[0;34m,\u001b[0m \u001b[0mskip_special_tokens\u001b[0m\u001b[0;34m=\u001b[0m\u001b[0;32mTrue\u001b[0m\u001b[0;34m)\u001b[0m\u001b[0;34m\u001b[0m\u001b[0;34m\u001b[0m\u001b[0m\n",
            "\u001b[0;32m<ipython-input-151-e63852f70f5c>\u001b[0m in \u001b[0;36mbeam_search\u001b[0;34m(self, src, src_lengths, K, max_T)\u001b[0m\n\u001b[1;32m     37\u001b[0m     \u001b[0mself\u001b[0m\u001b[0;34m.\u001b[0m\u001b[0mmodel\u001b[0m\u001b[0;34m.\u001b[0m\u001b[0meval\u001b[0m\u001b[0;34m(\u001b[0m\u001b[0;34m)\u001b[0m\u001b[0;34m\u001b[0m\u001b[0;34m\u001b[0m\u001b[0m\n\u001b[1;32m     38\u001b[0m     \u001b[0;31m#TODO - fill in `memory_bank`, `encoder_final_state`, and `init_beam` below\u001b[0m\u001b[0;34m\u001b[0m\u001b[0;34m\u001b[0m\u001b[0m\n\u001b[0;32m---> 39\u001b[0;31m     \u001b[0mmemory_bank\u001b[0m \u001b[0;34m,\u001b[0m \u001b[0mencoder_final_state\u001b[0m \u001b[0;34m=\u001b[0m \u001b[0mself\u001b[0m\u001b[0;34m.\u001b[0m\u001b[0mmodel\u001b[0m\u001b[0;34m.\u001b[0m\u001b[0mforward_encoder\u001b[0m\u001b[0;34m(\u001b[0m\u001b[0msrc\u001b[0m\u001b[0;34m,\u001b[0m \u001b[0msrc_lengths\u001b[0m\u001b[0;34m)\u001b[0m\u001b[0;34m\u001b[0m\u001b[0;34m\u001b[0m\u001b[0m\n\u001b[0m\u001b[1;32m     40\u001b[0m     \u001b[0minit_beam\u001b[0m \u001b[0;34m=\u001b[0m  \u001b[0mBeam\u001b[0m\u001b[0;34m(\u001b[0m\u001b[0mencoder_final_state\u001b[0m\u001b[0;34m,\u001b[0m \u001b[0mtorch\u001b[0m\u001b[0;34m.\u001b[0m\u001b[0mtensor\u001b[0m\u001b[0;34m(\u001b[0m\u001b[0;34m[\u001b[0m\u001b[0mself\u001b[0m\u001b[0;34m.\u001b[0m\u001b[0mmodel\u001b[0m\u001b[0;34m.\u001b[0m\u001b[0mbos_id\u001b[0m\u001b[0;34m]\u001b[0m\u001b[0;34m)\u001b[0m\u001b[0;34m,\u001b[0m \u001b[0;36m0\u001b[0m\u001b[0;34m)\u001b[0m\u001b[0;34m\u001b[0m\u001b[0;34m\u001b[0m\u001b[0m\n\u001b[1;32m     41\u001b[0m     \u001b[0mbeams\u001b[0m \u001b[0;34m=\u001b[0m \u001b[0;34m[\u001b[0m\u001b[0minit_beam\u001b[0m\u001b[0;34m]\u001b[0m\u001b[0;34m\u001b[0m\u001b[0;34m\u001b[0m\u001b[0m\n",
            "\u001b[0;32m<ipython-input-159-b02a22361608>\u001b[0m in \u001b[0;36mforward_encoder\u001b[0;34m(self, src, src_lengths)\u001b[0m\n\u001b[1;32m     88\u001b[0m     \u001b[0mh\u001b[0m \u001b[0;34m=\u001b[0m \u001b[0mh\u001b[0m\u001b[0;34m.\u001b[0m\u001b[0mcontiguous\u001b[0m\u001b[0;34m(\u001b[0m\u001b[0;34m)\u001b[0m\u001b[0;34m\u001b[0m\u001b[0;34m\u001b[0m\u001b[0m\n\u001b[1;32m     89\u001b[0m     \u001b[0mc\u001b[0m \u001b[0;34m=\u001b[0m \u001b[0mc\u001b[0m\u001b[0;34m.\u001b[0m\u001b[0mcontiguous\u001b[0m\u001b[0;34m(\u001b[0m\u001b[0;34m)\u001b[0m\u001b[0;34m\u001b[0m\u001b[0;34m\u001b[0m\u001b[0m\n\u001b[0;32m---> 90\u001b[0;31m     \u001b[0mmemory_bank\u001b[0m \u001b[0;34m=\u001b[0m \u001b[0munpack\u001b[0m\u001b[0;34m(\u001b[0m\u001b[0moutputs\u001b[0m\u001b[0;34m,\u001b[0m \u001b[0mbatch_first\u001b[0m\u001b[0;34m=\u001b[0m\u001b[0;32mTrue\u001b[0m\u001b[0;34m)\u001b[0m\u001b[0;34m[\u001b[0m\u001b[0;36m0\u001b[0m\u001b[0;34m]\u001b[0m\u001b[0;34m\u001b[0m\u001b[0;34m\u001b[0m\u001b[0m\n\u001b[0m\u001b[1;32m     91\u001b[0m \u001b[0;34m\u001b[0m\u001b[0m\n\u001b[1;32m     92\u001b[0m     \u001b[0mfinal_state\u001b[0m \u001b[0;34m=\u001b[0m \u001b[0;34m(\u001b[0m\u001b[0mh\u001b[0m\u001b[0;34m,\u001b[0m \u001b[0mc\u001b[0m\u001b[0;34m)\u001b[0m\u001b[0;34m\u001b[0m\u001b[0;34m\u001b[0m\u001b[0m\n",
            "\u001b[0;32m/usr/local/lib/python3.10/dist-packages/torch/nn/utils/rnn.py\u001b[0m in \u001b[0;36mpad_packed_sequence\u001b[0;34m(sequence, batch_first, padding_value, total_length)\u001b[0m\n\u001b[1;32m    330\u001b[0m                              .format(total_length, max_seq_length))\n\u001b[1;32m    331\u001b[0m         \u001b[0mmax_seq_length\u001b[0m \u001b[0;34m=\u001b[0m \u001b[0mtotal_length\u001b[0m\u001b[0;34m\u001b[0m\u001b[0;34m\u001b[0m\u001b[0m\n\u001b[0;32m--> 332\u001b[0;31m     padded_output, lengths = _VF._pad_packed_sequence(\n\u001b[0m\u001b[1;32m    333\u001b[0m         sequence.data, sequence.batch_sizes, batch_first, padding_value, max_seq_length)\n\u001b[1;32m    334\u001b[0m     \u001b[0munsorted_indices\u001b[0m \u001b[0;34m=\u001b[0m \u001b[0msequence\u001b[0m\u001b[0;34m.\u001b[0m\u001b[0munsorted_indices\u001b[0m\u001b[0;34m\u001b[0m\u001b[0;34m\u001b[0m\u001b[0m\n",
            "\u001b[0;31mRuntimeError\u001b[0m: shape '[5, 1, 1024]' is invalid for input of size 1024"
          ]
        }
      ],
      "source": [
        "seq2seq_trial(example_1, gold_sql_1)"
      ]
    },
    {
      "cell_type": "code",
      "execution_count": null,
      "id": "8c13fcf3",
      "metadata": {
        "id": "8c13fcf3"
      },
      "outputs": [],
      "source": [
        "seq2seq_trial(example_2, gold_sql_2)"
      ]
    },
    {
      "cell_type": "code",
      "execution_count": null,
      "id": "cabdfeae",
      "metadata": {
        "id": "cabdfeae"
      },
      "outputs": [],
      "source": [
        "seq2seq_trial(example_3, gold_sql_3)"
      ]
    },
    {
      "cell_type": "code",
      "execution_count": null,
      "id": "560b218c",
      "metadata": {
        "id": "560b218c"
      },
      "outputs": [],
      "source": [
        "seq2seq_trial(example_4, gold_sql_4)"
      ]
    },
    {
      "cell_type": "code",
      "execution_count": null,
      "id": "069d8ba3",
      "metadata": {
        "id": "069d8ba3"
      },
      "outputs": [],
      "source": [
        "seq2seq_trial(example_5, gold_sql_5)"
      ]
    },
    {
      "cell_type": "code",
      "execution_count": null,
      "id": "d042abfe",
      "metadata": {
        "id": "d042abfe"
      },
      "outputs": [],
      "source": [
        "seq2seq_trial(example_6, gold_sql_6b)"
      ]
    },
    {
      "cell_type": "code",
      "execution_count": null,
      "id": "3ef3fed0",
      "metadata": {
        "id": "3ef3fed0"
      },
      "outputs": [],
      "source": [
        "seq2seq_trial(example_7, gold_sql_7b)"
      ]
    },
    {
      "cell_type": "code",
      "execution_count": null,
      "id": "5f3719f9",
      "metadata": {
        "id": "5f3719f9"
      },
      "outputs": [],
      "source": [
        "seq2seq_trial(example_8, gold_sql_8)"
      ]
    },
    {
      "cell_type": "markdown",
      "id": "6a5ee90c",
      "metadata": {
        "id": "6a5ee90c"
      },
      "source": [
        "### Evaluation\n",
        "\n",
        "Now we are ready to run the full evaluation. A proper implementation should reach more than 35% precision/recall/F1."
      ]
    },
    {
      "cell_type": "code",
      "execution_count": null,
      "id": "2fb44bbf",
      "metadata": {
        "id": "2fb44bbf"
      },
      "outputs": [],
      "source": [
        "def seq2seq_predictor(tokens):\n",
        "  prediction = model.predict(tokens, K=1, max_T=400)\n",
        "  return prediction"
      ]
    },
    {
      "cell_type": "code",
      "execution_count": null,
      "id": "5e8a2323",
      "metadata": {
        "id": "5e8a2323"
      },
      "outputs": [],
      "source": [
        "precision, recall, f1 = evaluate(seq2seq_predictor, test_data, num_examples=0)\n",
        "print(f\"precision: {precision:3.2f}\")\n",
        "print(f\"recall:    {recall:3.2f}\")\n",
        "print(f\"F1:        {f1:3.2f}\")"
      ]
    },
    {
      "cell_type": "markdown",
      "id": "f59bab43",
      "metadata": {
        "id": "f59bab43"
      },
      "source": [
        "## Goal 3: Implement a seq2seq model (with cross attention and self attention)\n",
        "\n",
        "In the previous section, you have implemented a seq2seq model with attention. The attention mechanism used in that section is usually referred to as \"cross-attention\", as at each decoding step, the decoder attends to encoder outputs, enabling a dynamic view on the encoder side as decoding proceeds.\n",
        "\n",
        "Similarly, we can have a dynamic view on the decoder side as well as decoding proceeds, i.e., the decoder attends to decoder outputs at previous steps. This is called \"self attention\", and has been found very useful in modern neural architectures such as transformers.\n",
        "\n",
        "Augment the seq2seq model you implemented before with a decoder self-attention mechanism as class `AttnEncoderDecoder2`. A model diagram can be found below:\n",
        "\n",
        "\n",
        "<img src=\"https://github.com/nlp-236299/data/raw/master/img/encoderdecoder_attn_selfattn.png\" alt=\"encoder-decoder-attn-with-selfattn illustration\" />\n",
        "\n",
        "At each decoding step, the decoder LSTM first produces an output state $o_t$, then it attends to all previous output states $o_1, \\ldots, o_{t-1}$ (decoder self-attention). You need to special case the first decoding step to not perform self-attention, as there are no previous decoder states. The attention result is added to $o_t$ itself and the sum is used as $q_t$ to attend to the encoder side (encoder-decoder cross-attention). The rest of the model is the same as encoder-decoder with attention.\n"
      ]
    },
    {
      "cell_type": "code",
      "execution_count": null,
      "id": "65ec5d9d",
      "metadata": {
        "id": "65ec5d9d"
      },
      "outputs": [],
      "source": [
        "#TODO - implement the `AttnEncoderDecoder2` class.\n",
        "class AttnEncoderDecoder2(nn.Module):\n",
        "  ..."
      ]
    },
    {
      "cell_type": "code",
      "execution_count": null,
      "id": "a38ff080",
      "metadata": {
        "id": "a38ff080"
      },
      "outputs": [],
      "source": [
        "..."
      ]
    },
    {
      "cell_type": "code",
      "execution_count": null,
      "id": "b8fd7bb0",
      "metadata": {
        "id": "b8fd7bb0"
      },
      "outputs": [],
      "source": [
        "EPOCHS = 50 # epochs, we recommend starting with a smaller number like 1\n",
        "LEARNING_RATE = 1e-4 # learning rate\n",
        "\n",
        "# Instantiate and train classifier\n",
        "model2 = AttnEncoderDecoder2(hf_src_tokenizer, hf_tgt_tokenizer,\n",
        "  hidden_size    = 1024,\n",
        "  layers         = 1,\n",
        ").to(device)\n",
        "\n",
        "model2.train_all(train_iter, val_iter, epochs=EPOCHS, learning_rate=LEARNING_RATE)\n",
        "model2.load_state_dict(model2.best_model)\n",
        "\n",
        "# Evaluate model performance, the expected value should be < 1.2\n",
        "print (f'Validation perplexity: {model2.evaluate_ppl(val_iter):.3f}')"
      ]
    },
    {
      "cell_type": "markdown",
      "id": "c4e8d235",
      "metadata": {
        "id": "c4e8d235"
      },
      "source": [
        "### Evaluation\n",
        "\n",
        "Now we are ready to run the full evaluation. A proper implementation should reach more than 35% precision/recall/F1."
      ]
    },
    {
      "cell_type": "code",
      "execution_count": null,
      "id": "817f3005",
      "metadata": {
        "id": "817f3005"
      },
      "outputs": [],
      "source": [
        "def seq2seq_predictor2(tokens):\n",
        "  prediction = model2.predict(tokens, K=1, max_T=400)\n",
        "  return prediction"
      ]
    },
    {
      "cell_type": "code",
      "execution_count": null,
      "id": "76f6ee2a",
      "metadata": {
        "id": "76f6ee2a"
      },
      "outputs": [],
      "source": [
        "precision, recall, f1 = evaluate(seq2seq_predictor2, test_data, num_examples=0)\n",
        "print(f\"precision: {precision:3.2f}\")\n",
        "print(f\"recall:    {recall:3.2f}\")\n",
        "print(f\"F1:        {f1:3.2f}\")"
      ]
    },
    {
      "cell_type": "markdown",
      "id": "5779ee92",
      "metadata": {
        "id": "5779ee92"
      },
      "source": [
        "## Goal 4: Use state-of-the-art pretrained transformers\n",
        "\n",
        "\n",
        "The most recent breakthrough in natural-language processing stems from the use of pretrained transformer models. For example, you might have heard of pretrained transformers such as [GPT-3](https://arxiv.org/abs/2005.14165) and [BERT](https://arxiv.org/abs/1810.04805). (BERT is already used in [Google search](https://searchengineland.com/google-bert-used-on-almost-every-english-query-342193).) These models are usually trained on vast amounts of text data using variants of language modeling objectives, and researchers have found that finetuning them on downstream tasks usually results in better performance as compared to training a model from scratch.\n",
        "\n",
        "In the previous part, you implemented an LSTM-based sequence-to-sequence approach. To \"upgrade\" the model to be a state-of-the-art pretrained transformer only requires minor modifications.\n",
        "\n",
        "The pretrained model that we will use is [BART](https://arxiv.org/abs/1910.13461), which uses a bidirectional transformer encoder and a unidirectional transformer decoder, as illustrated in the below diagram (image courtesy https://arxiv.org/pdf/1910.13461):\n",
        "\n",
        "<img src=\"https://raw.githubusercontent.com/nlp-236299/data/master/img/bart_architecture.png\" alt=\"encoder-decoder illustration\" />\n",
        "\n",
        "We can see that this model is strikingly similar to the LSTM-based encoder-decoder model we've been using. The only difference is that they use transformers instead of LSTMs. Therefore, we only need to change the modeling parts of the code, as we will see later."
      ]
    },
    {
      "cell_type": "markdown",
      "id": "398e9d94",
      "metadata": {
        "id": "398e9d94"
      },
      "source": [
        "First, we download and load the pretrained BART model from the [transformers](https://github.com/huggingface/transformers) package by Huggingface. Note that we also need to use the \"tokenizer\" of BART, which is actually a combination of a tokenizer and a mapping from strings to word ids."
      ]
    },
    {
      "cell_type": "code",
      "execution_count": null,
      "id": "5b698532",
      "metadata": {
        "id": "5b698532"
      },
      "outputs": [],
      "source": [
        "pretrained_bart = BartForConditionalGeneration.from_pretrained('facebook/bart-base')\n",
        "bart_tokenizer = BartTokenizer.from_pretrained('facebook/bart-base')"
      ]
    },
    {
      "cell_type": "markdown",
      "id": "5f599aab",
      "metadata": {
        "id": "5f599aab"
      },
      "source": [
        "We need to reprocess the data using our new tokenizer. Note that we use the same tokenizer for both the source and target."
      ]
    },
    {
      "cell_type": "code",
      "execution_count": null,
      "id": "5271da7c",
      "metadata": {
        "id": "5271da7c"
      },
      "outputs": [],
      "source": [
        "def bart_encode(example):\n",
        "    example['src_ids'] = bart_tokenizer(example['src']).input_ids[:1024] # BART model can process at most 1024 tokens\n",
        "    example['tgt_ids'] = bart_tokenizer(example['tgt']).input_ids[:1024]\n",
        "    return example\n",
        "\n",
        "train_bart_data = dataset['train'].map(bart_encode)\n",
        "val_bart_data = dataset['val'].map(bart_encode)\n",
        "test_bart_data = dataset['test'].map(bart_encode)\n",
        "\n",
        "BATCH_SIZE = 1 # batch size for training/validation\n",
        "TEST_BATCH_SIZE = 1 # batch size for test, we use 1 to make beam search implementation easier\n",
        "\n",
        "# we use the same collate function as before\n",
        "train_iter_bart = torch.utils.data.DataLoader(train_bart_data,\n",
        "                                         batch_size=BATCH_SIZE,\n",
        "                                         shuffle=True,\n",
        "                                         collate_fn=collate_fn)\n",
        "val_iter_bart = torch.utils.data.DataLoader(val_bart_data,\n",
        "                                       batch_size=BATCH_SIZE,\n",
        "                                       shuffle=False,\n",
        "                                       collate_fn=collate_fn)\n",
        "test_iter_bart = torch.utils.data.DataLoader(test_bart_data,\n",
        "                                        batch_size=TEST_BATCH_SIZE,\n",
        "                                        shuffle=False,\n",
        "                                        collate_fn=collate_fn)"
      ]
    },
    {
      "cell_type": "markdown",
      "id": "5fae57a7",
      "metadata": {
        "id": "5fae57a7"
      },
      "source": [
        "Let's take a look at the batch."
      ]
    },
    {
      "cell_type": "code",
      "execution_count": null,
      "id": "b83fb1f1",
      "metadata": {
        "id": "b83fb1f1"
      },
      "outputs": [],
      "source": [
        "batch = next(iter(train_iter_bart))\n",
        "src_ids = batch['src_ids']\n",
        "src_example = src_ids[0]\n",
        "print (f\"Size of text batch: {src_ids.size()}\")\n",
        "print (f\"First sentence in batch: {src_example}\")\n",
        "print (f\"Length of the third sentence in batch: {len(src_example)}\")\n",
        "print (f\"Converted back to string: {bart_tokenizer.decode(src_example)}\")\n",
        "\n",
        "tgt_ids = batch['tgt_ids']\n",
        "tgt_example = tgt_ids[0]\n",
        "print (f\"Size of sql batch: {tgt_ids.size()}\")\n",
        "print (f\"First sql in batch: {tgt_example}\")\n",
        "print (f\"Converted back to string: {bart_tokenizer.decode(tgt_example)}\")"
      ]
    },
    {
      "cell_type": "markdown",
      "id": "36743d25",
      "metadata": {
        "id": "36743d25"
      },
      "source": [
        "Now we are ready to implement the BART-based approach for the text-to-SQL conversion problem. In the below `BART` class, we have provided the constructer `__init__`, the `forward` function, and the `predict` function. Your job is to implement the main optimization `train_all`, and `evaluate_ppl` for evaluating validation perplexity for model selection."
      ]
    },
    {
      "cell_type": "code",
      "execution_count": null,
      "id": "8bb56b85",
      "metadata": {
        "id": "8bb56b85"
      },
      "outputs": [],
      "source": [
        "#TODO - finish implementing the `BART` class.\n",
        "class BART(nn.Module):\n",
        "  def __init__(self, tokenizer, pretrained_bart):\n",
        "    \"\"\"\n",
        "    Initializer. Creates network modules and loss function.\n",
        "    Arguments:\n",
        "        tokenizer: BART tokenizer\n",
        "        pretrained_bart: pretrained BART\n",
        "    \"\"\"\n",
        "    super(BART, self).__init__()\n",
        "\n",
        "    self.tokenizer = tokenizer\n",
        "\n",
        "    self.V_tgt = len(tokenizer)\n",
        "\n",
        "    # Get special word ids\n",
        "    self.padding_id_tgt = tokenizer.pad_token_id\n",
        "\n",
        "    # Create essential modules\n",
        "    self.bart = pretrained_bart\n",
        "\n",
        "    # Create loss function\n",
        "    self.loss_function = nn.CrossEntropyLoss(reduction=\"sum\",\n",
        "                                             ignore_index=self.padding_id_tgt)\n",
        "\n",
        "  def forward(self, src, src_lengths, tgt_in):\n",
        "    \"\"\"\n",
        "    Performs forward computation, returns logits.\n",
        "    Arguments:\n",
        "        src: src batch of size (batch_size, max_src_len)\n",
        "        src_lengths: src lengths of size (batch_size)\n",
        "        tgt_in:  a tensor of size (batch_size, tgt_len)\n",
        "    \"\"\"\n",
        "    # BART assumes inputs to be batch-first\n",
        "    # This single function is forwarding both encoder and decoder (w/ cross attn),\n",
        "    # using `input_ids` as encoder inputs, and `decoder_input_ids`\n",
        "    # as decoder inputs.\n",
        "    logits = self.bart(input_ids=src,\n",
        "                       decoder_input_ids=tgt_in,\n",
        "                       use_cache=False\n",
        "                      ).logits\n",
        "    return logits\n",
        "\n",
        "  def evaluate_ppl(self, iterator):\n",
        "    \"\"\"Returns the model's perplexity on a given dataset `iterator`.\"\"\"\n",
        "    #TODO - implement this function\n",
        "    ...\n",
        "    ppl = ...\n",
        "    return ppl\n",
        "\n",
        "  def train_all(self, train_iter, val_iter, epochs=10, learning_rate=0.001):\n",
        "    \"\"\"Train the model.\"\"\"\n",
        "    #TODO - implement this function\n",
        "    ...\n",
        "\n",
        "  def predict(self, tokens, K=1, max_T=400):\n",
        "    \"\"\"\n",
        "    Generates the target sequence given the source sequence using beam search decoding.\n",
        "    Note that for simplicity, we only use batch size 1.\n",
        "    Arguments:\n",
        "        tokens: the source sentence.\n",
        "        max_T: at most proceed this many steps of decoding\n",
        "    Returns:\n",
        "        a string of the generated target sentence.\n",
        "    \"\"\"\n",
        "    # Tokenize and map to a list of word ids\n",
        "    inputs = torch.LongTensor(self.tokenizer([tokens])['input_ids'][:1024]).to(device)\n",
        "    # The `transformers` package provides built-in beam search support\n",
        "    prediction = self.bart.generate(inputs,\n",
        "                                    num_beams=K,\n",
        "                                    max_length=max_T,\n",
        "                                    early_stopping=True,\n",
        "                                    no_repeat_ngram_size=0,\n",
        "                                    decoder_start_token_id=0,\n",
        "                                    use_cache=True)[0]\n",
        "    return  self.tokenizer.decode(prediction, skip_special_tokens=True)"
      ]
    },
    {
      "cell_type": "markdown",
      "id": "70fbe888",
      "metadata": {
        "id": "70fbe888"
      },
      "source": [
        "The code below will kick off training, and evaluate the validation perplexity. You should expect to see a value very close to 1."
      ]
    },
    {
      "cell_type": "code",
      "execution_count": null,
      "id": "adc28ae6",
      "metadata": {
        "id": "adc28ae6"
      },
      "outputs": [],
      "source": [
        "EPOCHS = 5 # epochs, we recommend starting with a smaller number like 1\n",
        "LEARNING_RATE = 1e-5 # learning rate\n",
        "\n",
        "# Instantiate and train classifier\n",
        "bart_model = BART(bart_tokenizer,\n",
        "                 pretrained_bart\n",
        ").to(device)\n",
        "\n",
        "bart_model.train_all(train_iter_bart, val_iter_bart, epochs=EPOCHS, learning_rate=LEARNING_RATE)\n",
        "bart_model.load_state_dict(bart_model.best_model)\n",
        "\n",
        "# Evaluate model performance, the expected value should be < 1.2\n",
        "print (f'Validation perplexity: {bart_model.evaluate_ppl(val_iter_bart):.3f}')"
      ]
    },
    {
      "cell_type": "markdown",
      "id": "bf2f687c",
      "metadata": {
        "id": "bf2f687c"
      },
      "source": [
        "As before, make sure that your model is making reasonable predictions on a few examples before evaluating on the entire test set."
      ]
    },
    {
      "cell_type": "code",
      "execution_count": null,
      "id": "cd03a058",
      "metadata": {
        "id": "cd03a058"
      },
      "outputs": [],
      "source": [
        "def bart_trial(sentence, gold_sql):\n",
        "  predicted_sql = bart_model.predict(sentence, K=1, max_T=300)\n",
        "  print(\"Predicted SQL:\\n\\n\", predicted_sql, \"\\n\")\n",
        "\n",
        "  if verify(predicted_sql, gold_sql, silent=False):\n",
        "    print ('Correct!')\n",
        "  else:\n",
        "    print ('Incorrect!')"
      ]
    },
    {
      "cell_type": "code",
      "execution_count": null,
      "id": "f0904585",
      "metadata": {
        "id": "f0904585"
      },
      "outputs": [],
      "source": [
        "bart_trial(example_1, gold_sql_1)"
      ]
    },
    {
      "cell_type": "code",
      "execution_count": null,
      "id": "98226b84",
      "metadata": {
        "id": "98226b84"
      },
      "outputs": [],
      "source": [
        "bart_trial(example_2, gold_sql_2)"
      ]
    },
    {
      "cell_type": "code",
      "execution_count": null,
      "id": "1ebdfbab",
      "metadata": {
        "id": "1ebdfbab"
      },
      "outputs": [],
      "source": [
        "bart_trial(example_3, gold_sql_3)"
      ]
    },
    {
      "cell_type": "code",
      "execution_count": null,
      "id": "60969ae1",
      "metadata": {
        "id": "60969ae1"
      },
      "outputs": [],
      "source": [
        "bart_trial(example_4, gold_sql_4)"
      ]
    },
    {
      "cell_type": "code",
      "execution_count": null,
      "id": "6652a685",
      "metadata": {
        "id": "6652a685"
      },
      "outputs": [],
      "source": [
        "bart_trial(example_5, gold_sql_5)"
      ]
    },
    {
      "cell_type": "code",
      "execution_count": null,
      "id": "ab965fec",
      "metadata": {
        "id": "ab965fec"
      },
      "outputs": [],
      "source": [
        "bart_trial(example_6, gold_sql_6b)"
      ]
    },
    {
      "cell_type": "code",
      "execution_count": null,
      "id": "d3380769",
      "metadata": {
        "id": "d3380769"
      },
      "outputs": [],
      "source": [
        "bart_trial(example_7, gold_sql_7b)"
      ]
    },
    {
      "cell_type": "code",
      "execution_count": null,
      "id": "1578c156",
      "metadata": {
        "id": "1578c156"
      },
      "outputs": [],
      "source": [
        "bart_trial(example_8, gold_sql_8)"
      ]
    },
    {
      "cell_type": "markdown",
      "id": "2b834df3",
      "metadata": {
        "id": "2b834df3"
      },
      "source": [
        "### Evaluation"
      ]
    },
    {
      "cell_type": "markdown",
      "id": "d30379f2",
      "metadata": {
        "id": "d30379f2"
      },
      "source": [
        "The code below will evaluate on the entire test set. You should expect to see precision/recall/F1 greater than 40%."
      ]
    },
    {
      "cell_type": "code",
      "execution_count": null,
      "id": "e5899692",
      "metadata": {
        "id": "e5899692"
      },
      "outputs": [],
      "source": [
        "def seq2seq_predictor_bart(tokens):\n",
        "  prediction = bart_model.predict(tokens, K=4, max_T=400)\n",
        "  return prediction"
      ]
    },
    {
      "cell_type": "code",
      "execution_count": null,
      "id": "c7fd28e5",
      "metadata": {
        "id": "c7fd28e5"
      },
      "outputs": [],
      "source": [
        "precision, recall, f1 = evaluate(seq2seq_predictor_bart, test_bart_data, num_examples=0)\n",
        "print(f\"precision: {precision:3.2f}\")\n",
        "print(f\"recall:    {recall:3.2f}\")\n",
        "print(f\"F1:        {f1:3.2f}\")"
      ]
    },
    {
      "cell_type": "markdown",
      "id": "49ba0a4b",
      "metadata": {
        "id": "49ba0a4b"
      },
      "source": [
        "# Discussion"
      ]
    },
    {
      "cell_type": "markdown",
      "id": "0039ef57",
      "metadata": {
        "deletable": false,
        "editable": false,
        "id": "0039ef57"
      },
      "source": [
        "<!-- BEGIN QUESTION -->\n",
        "\n",
        "## Goal 5: Compare the pros and cons of rule-based and neural approaches.\n",
        "\n",
        "Compare the pros and cons of the rule-based approach and the neural approaches with relevant examples from your experiments above. Concerning the accuracy, which approach would you choose to be used in a product? Explain.\n",
        "<!--\n",
        "BEGIN QUESTION\n",
        "name: open_response_comp\n",
        "manual: true\n",
        "-->"
      ]
    },
    {
      "cell_type": "markdown",
      "id": "ab154d2f",
      "metadata": {
        "id": "ab154d2f"
      },
      "source": [
        "_Type your answer here, replacing this text._"
      ]
    },
    {
      "cell_type": "markdown",
      "id": "7b69db02",
      "metadata": {
        "deletable": false,
        "editable": false,
        "id": "7b69db02"
      },
      "source": [
        "<!-- END QUESTION -->\n",
        "\n",
        "<!-- BEGIN QUESTION -->\n",
        "\n",
        "# Debrief\n",
        "\n",
        "**Question:** We're interested in any thoughts you have about this project segment so that we can improve it for later years, and to inform later segments for this year. Please list any issues that arose or comments you have to improve the project segment. Useful things to comment on might include the following:\n",
        "\n",
        "* Was the project segment clear or unclear? Which portions?\n",
        "* Were the readings appropriate background for the project segment?\n",
        "* Are there additions or changes you think would make the project segment better?\n",
        "\n",
        "<!--\n",
        "BEGIN QUESTION\n",
        "name: open_response_debrief\n",
        "manual: true\n",
        "-->\n",
        "\n",
        "but you should comment on whatever aspects you found especially positive or negative."
      ]
    },
    {
      "cell_type": "markdown",
      "id": "f646c439",
      "metadata": {
        "id": "f646c439"
      },
      "source": [
        "_Type your answer here, replacing this text._"
      ]
    },
    {
      "cell_type": "markdown",
      "id": "6ed02a6a",
      "metadata": {
        "id": "6ed02a6a"
      },
      "source": [
        "<!-- END QUESTION -->\n",
        "\n",
        "\n",
        "\n",
        "# Instructions for submission of the project segment\n",
        "\n",
        "This project segment should be submitted to Gradescope at <https://rebrand.ly/project4-submit-code> and <https://rebrand.ly/project4-submit-pdf>, which will be made available some time before the due date.\n",
        "\n",
        "Project segment notebooks are manually graded, not autograded using otter as labs are. (Otter is used within project segment notebooks to synchronize distribution and solution code however.) **We will not run your notebook before grading it.** Instead, we ask that you submit the already freshly run notebook. The best method is to \"restart kernel and run all cells\", allowing time for all cells to be run to completion. You should submit your code to Gradescope at the code submission assignment at <https://rebrand.ly/project4-submit-code>. Make sure that you are also submitting your `data/grammar` file as part of your solution code as well.\n",
        "\n",
        "We also request that you **submit a PDF of the freshly run notebook**. The simplest method is to use \"Export notebook to PDF\", which will render the notebook to PDF via LaTeX. If that doesn't work, the method that seems to be most reliable is to export the notebook as HTML (if you are using Jupyter Notebook, you can do so using `File -> Print Preview`), open the HTML in a browser, and print it to a file. Then make sure to add the file to your git commit. Please name the file the same name as this notebook, but with a `.pdf` extension. (Conveniently, the methods just described will use that name by default.) You can then perform a git commit and push and submit the commit to Gradescope at <https://rebrand.ly/project4-submit-pdf>."
      ]
    },
    {
      "cell_type": "markdown",
      "id": "3f0d9f46",
      "metadata": {
        "id": "3f0d9f46"
      },
      "source": [
        "# End of project segment 4"
      ]
    }
  ],
  "metadata": {
    "accelerator": "GPU",
    "celltoolbar": "Tags",
    "colab": {
      "name": "project4_semantics.ipynb",
      "provenance": []
    },
    "kernelspec": {
      "display_name": "otter-latest",
      "language": "python",
      "name": "python3"
    },
    "language_info": {
      "codemirror_mode": {
        "name": "ipython",
        "version": 3
      },
      "file_extension": ".py",
      "mimetype": "text/x-python",
      "name": "python",
      "nbconvert_exporter": "python",
      "pygments_lexer": "ipython3",
      "version": "3.8.13"
    },
    "title": "CS236299 Project Segment 4: Semantic Interpretation – Question Answering",
    "vscode": {
      "interpreter": {
        "hash": "4fba83c08fc02185bb2310bd24d0cd81fb04529c933f82aa81c61aab9d5528dc"
      }
    },
    "widgets": {
      "application/vnd.jupyter.widget-state+json": {
        "a77943d419604d2a8f2b220d6cf027de": {
          "model_module": "@jupyter-widgets/controls",
          "model_name": "HBoxModel",
          "model_module_version": "1.5.0",
          "state": {
            "_dom_classes": [],
            "_model_module": "@jupyter-widgets/controls",
            "_model_module_version": "1.5.0",
            "_model_name": "HBoxModel",
            "_view_count": null,
            "_view_module": "@jupyter-widgets/controls",
            "_view_module_version": "1.5.0",
            "_view_name": "HBoxView",
            "box_style": "",
            "children": [
              "IPY_MODEL_30bc6be9e325473bb68618c219bdbe11",
              "IPY_MODEL_647f22e34c5a4ede8e2df9a5a25cfafd",
              "IPY_MODEL_5f222004097b481a91c288a0a466066a"
            ],
            "layout": "IPY_MODEL_1d51327d746a4973bd1be90198f7394b"
          }
        },
        "30bc6be9e325473bb68618c219bdbe11": {
          "model_module": "@jupyter-widgets/controls",
          "model_name": "HTMLModel",
          "model_module_version": "1.5.0",
          "state": {
            "_dom_classes": [],
            "_model_module": "@jupyter-widgets/controls",
            "_model_module_version": "1.5.0",
            "_model_name": "HTMLModel",
            "_view_count": null,
            "_view_module": "@jupyter-widgets/controls",
            "_view_module_version": "1.5.0",
            "_view_name": "HTMLView",
            "description": "",
            "description_tooltip": null,
            "layout": "IPY_MODEL_e6f69eaa044c4180b7a7eb1ee9281709",
            "placeholder": "​",
            "style": "IPY_MODEL_cf45e8602ead428f9d1bbb12442da99b",
            "value": "Downloading data files: 100%"
          }
        },
        "647f22e34c5a4ede8e2df9a5a25cfafd": {
          "model_module": "@jupyter-widgets/controls",
          "model_name": "FloatProgressModel",
          "model_module_version": "1.5.0",
          "state": {
            "_dom_classes": [],
            "_model_module": "@jupyter-widgets/controls",
            "_model_module_version": "1.5.0",
            "_model_name": "FloatProgressModel",
            "_view_count": null,
            "_view_module": "@jupyter-widgets/controls",
            "_view_module_version": "1.5.0",
            "_view_name": "ProgressView",
            "bar_style": "success",
            "description": "",
            "description_tooltip": null,
            "layout": "IPY_MODEL_0b4e46a654ba4e6d8add5149446a47bc",
            "max": 3,
            "min": 0,
            "orientation": "horizontal",
            "style": "IPY_MODEL_6bc945c3135c4ba397713fe1db4be904",
            "value": 3
          }
        },
        "5f222004097b481a91c288a0a466066a": {
          "model_module": "@jupyter-widgets/controls",
          "model_name": "HTMLModel",
          "model_module_version": "1.5.0",
          "state": {
            "_dom_classes": [],
            "_model_module": "@jupyter-widgets/controls",
            "_model_module_version": "1.5.0",
            "_model_name": "HTMLModel",
            "_view_count": null,
            "_view_module": "@jupyter-widgets/controls",
            "_view_module_version": "1.5.0",
            "_view_name": "HTMLView",
            "description": "",
            "description_tooltip": null,
            "layout": "IPY_MODEL_7ef6b3cb40234e5e99dd736bcd06d739",
            "placeholder": "​",
            "style": "IPY_MODEL_6764a3db694d407ba738ddd517dce7f0",
            "value": " 3/3 [00:00&lt;00:00, 93.85it/s]"
          }
        },
        "1d51327d746a4973bd1be90198f7394b": {
          "model_module": "@jupyter-widgets/base",
          "model_name": "LayoutModel",
          "model_module_version": "1.2.0",
          "state": {
            "_model_module": "@jupyter-widgets/base",
            "_model_module_version": "1.2.0",
            "_model_name": "LayoutModel",
            "_view_count": null,
            "_view_module": "@jupyter-widgets/base",
            "_view_module_version": "1.2.0",
            "_view_name": "LayoutView",
            "align_content": null,
            "align_items": null,
            "align_self": null,
            "border": null,
            "bottom": null,
            "display": null,
            "flex": null,
            "flex_flow": null,
            "grid_area": null,
            "grid_auto_columns": null,
            "grid_auto_flow": null,
            "grid_auto_rows": null,
            "grid_column": null,
            "grid_gap": null,
            "grid_row": null,
            "grid_template_areas": null,
            "grid_template_columns": null,
            "grid_template_rows": null,
            "height": null,
            "justify_content": null,
            "justify_items": null,
            "left": null,
            "margin": null,
            "max_height": null,
            "max_width": null,
            "min_height": null,
            "min_width": null,
            "object_fit": null,
            "object_position": null,
            "order": null,
            "overflow": null,
            "overflow_x": null,
            "overflow_y": null,
            "padding": null,
            "right": null,
            "top": null,
            "visibility": null,
            "width": null
          }
        },
        "e6f69eaa044c4180b7a7eb1ee9281709": {
          "model_module": "@jupyter-widgets/base",
          "model_name": "LayoutModel",
          "model_module_version": "1.2.0",
          "state": {
            "_model_module": "@jupyter-widgets/base",
            "_model_module_version": "1.2.0",
            "_model_name": "LayoutModel",
            "_view_count": null,
            "_view_module": "@jupyter-widgets/base",
            "_view_module_version": "1.2.0",
            "_view_name": "LayoutView",
            "align_content": null,
            "align_items": null,
            "align_self": null,
            "border": null,
            "bottom": null,
            "display": null,
            "flex": null,
            "flex_flow": null,
            "grid_area": null,
            "grid_auto_columns": null,
            "grid_auto_flow": null,
            "grid_auto_rows": null,
            "grid_column": null,
            "grid_gap": null,
            "grid_row": null,
            "grid_template_areas": null,
            "grid_template_columns": null,
            "grid_template_rows": null,
            "height": null,
            "justify_content": null,
            "justify_items": null,
            "left": null,
            "margin": null,
            "max_height": null,
            "max_width": null,
            "min_height": null,
            "min_width": null,
            "object_fit": null,
            "object_position": null,
            "order": null,
            "overflow": null,
            "overflow_x": null,
            "overflow_y": null,
            "padding": null,
            "right": null,
            "top": null,
            "visibility": null,
            "width": null
          }
        },
        "cf45e8602ead428f9d1bbb12442da99b": {
          "model_module": "@jupyter-widgets/controls",
          "model_name": "DescriptionStyleModel",
          "model_module_version": "1.5.0",
          "state": {
            "_model_module": "@jupyter-widgets/controls",
            "_model_module_version": "1.5.0",
            "_model_name": "DescriptionStyleModel",
            "_view_count": null,
            "_view_module": "@jupyter-widgets/base",
            "_view_module_version": "1.2.0",
            "_view_name": "StyleView",
            "description_width": ""
          }
        },
        "0b4e46a654ba4e6d8add5149446a47bc": {
          "model_module": "@jupyter-widgets/base",
          "model_name": "LayoutModel",
          "model_module_version": "1.2.0",
          "state": {
            "_model_module": "@jupyter-widgets/base",
            "_model_module_version": "1.2.0",
            "_model_name": "LayoutModel",
            "_view_count": null,
            "_view_module": "@jupyter-widgets/base",
            "_view_module_version": "1.2.0",
            "_view_name": "LayoutView",
            "align_content": null,
            "align_items": null,
            "align_self": null,
            "border": null,
            "bottom": null,
            "display": null,
            "flex": null,
            "flex_flow": null,
            "grid_area": null,
            "grid_auto_columns": null,
            "grid_auto_flow": null,
            "grid_auto_rows": null,
            "grid_column": null,
            "grid_gap": null,
            "grid_row": null,
            "grid_template_areas": null,
            "grid_template_columns": null,
            "grid_template_rows": null,
            "height": null,
            "justify_content": null,
            "justify_items": null,
            "left": null,
            "margin": null,
            "max_height": null,
            "max_width": null,
            "min_height": null,
            "min_width": null,
            "object_fit": null,
            "object_position": null,
            "order": null,
            "overflow": null,
            "overflow_x": null,
            "overflow_y": null,
            "padding": null,
            "right": null,
            "top": null,
            "visibility": null,
            "width": null
          }
        },
        "6bc945c3135c4ba397713fe1db4be904": {
          "model_module": "@jupyter-widgets/controls",
          "model_name": "ProgressStyleModel",
          "model_module_version": "1.5.0",
          "state": {
            "_model_module": "@jupyter-widgets/controls",
            "_model_module_version": "1.5.0",
            "_model_name": "ProgressStyleModel",
            "_view_count": null,
            "_view_module": "@jupyter-widgets/base",
            "_view_module_version": "1.2.0",
            "_view_name": "StyleView",
            "bar_color": null,
            "description_width": ""
          }
        },
        "7ef6b3cb40234e5e99dd736bcd06d739": {
          "model_module": "@jupyter-widgets/base",
          "model_name": "LayoutModel",
          "model_module_version": "1.2.0",
          "state": {
            "_model_module": "@jupyter-widgets/base",
            "_model_module_version": "1.2.0",
            "_model_name": "LayoutModel",
            "_view_count": null,
            "_view_module": "@jupyter-widgets/base",
            "_view_module_version": "1.2.0",
            "_view_name": "LayoutView",
            "align_content": null,
            "align_items": null,
            "align_self": null,
            "border": null,
            "bottom": null,
            "display": null,
            "flex": null,
            "flex_flow": null,
            "grid_area": null,
            "grid_auto_columns": null,
            "grid_auto_flow": null,
            "grid_auto_rows": null,
            "grid_column": null,
            "grid_gap": null,
            "grid_row": null,
            "grid_template_areas": null,
            "grid_template_columns": null,
            "grid_template_rows": null,
            "height": null,
            "justify_content": null,
            "justify_items": null,
            "left": null,
            "margin": null,
            "max_height": null,
            "max_width": null,
            "min_height": null,
            "min_width": null,
            "object_fit": null,
            "object_position": null,
            "order": null,
            "overflow": null,
            "overflow_x": null,
            "overflow_y": null,
            "padding": null,
            "right": null,
            "top": null,
            "visibility": null,
            "width": null
          }
        },
        "6764a3db694d407ba738ddd517dce7f0": {
          "model_module": "@jupyter-widgets/controls",
          "model_name": "DescriptionStyleModel",
          "model_module_version": "1.5.0",
          "state": {
            "_model_module": "@jupyter-widgets/controls",
            "_model_module_version": "1.5.0",
            "_model_name": "DescriptionStyleModel",
            "_view_count": null,
            "_view_module": "@jupyter-widgets/base",
            "_view_module_version": "1.2.0",
            "_view_name": "StyleView",
            "description_width": ""
          }
        },
        "e5d02a2af9f14e72a3996501a7acc264": {
          "model_module": "@jupyter-widgets/controls",
          "model_name": "HBoxModel",
          "model_module_version": "1.5.0",
          "state": {
            "_dom_classes": [],
            "_model_module": "@jupyter-widgets/controls",
            "_model_module_version": "1.5.0",
            "_model_name": "HBoxModel",
            "_view_count": null,
            "_view_module": "@jupyter-widgets/controls",
            "_view_module_version": "1.5.0",
            "_view_name": "HBoxView",
            "box_style": "",
            "children": [
              "IPY_MODEL_b34000c18c124c03b6dc8d84b5d925c6",
              "IPY_MODEL_d55e0a9cdd2c4177a020d32463ab52de",
              "IPY_MODEL_ef00ecd71cbc422e96d138b885cb31ba"
            ],
            "layout": "IPY_MODEL_859d1e6f9a6b4d969992efa06733558f"
          }
        },
        "b34000c18c124c03b6dc8d84b5d925c6": {
          "model_module": "@jupyter-widgets/controls",
          "model_name": "HTMLModel",
          "model_module_version": "1.5.0",
          "state": {
            "_dom_classes": [],
            "_model_module": "@jupyter-widgets/controls",
            "_model_module_version": "1.5.0",
            "_model_name": "HTMLModel",
            "_view_count": null,
            "_view_module": "@jupyter-widgets/controls",
            "_view_module_version": "1.5.0",
            "_view_name": "HTMLView",
            "description": "",
            "description_tooltip": null,
            "layout": "IPY_MODEL_c7bd4184206c479f9493f8a3a1351715",
            "placeholder": "​",
            "style": "IPY_MODEL_1eca0eda6a8547f8abba8733bd351e6e",
            "value": "Extracting data files: 100%"
          }
        },
        "d55e0a9cdd2c4177a020d32463ab52de": {
          "model_module": "@jupyter-widgets/controls",
          "model_name": "FloatProgressModel",
          "model_module_version": "1.5.0",
          "state": {
            "_dom_classes": [],
            "_model_module": "@jupyter-widgets/controls",
            "_model_module_version": "1.5.0",
            "_model_name": "FloatProgressModel",
            "_view_count": null,
            "_view_module": "@jupyter-widgets/controls",
            "_view_module_version": "1.5.0",
            "_view_name": "ProgressView",
            "bar_style": "success",
            "description": "",
            "description_tooltip": null,
            "layout": "IPY_MODEL_fc2c79aaa5f44cb5a868da667a46b3eb",
            "max": 3,
            "min": 0,
            "orientation": "horizontal",
            "style": "IPY_MODEL_665ed907e23b4d62849b79f7d1327e6c",
            "value": 3
          }
        },
        "ef00ecd71cbc422e96d138b885cb31ba": {
          "model_module": "@jupyter-widgets/controls",
          "model_name": "HTMLModel",
          "model_module_version": "1.5.0",
          "state": {
            "_dom_classes": [],
            "_model_module": "@jupyter-widgets/controls",
            "_model_module_version": "1.5.0",
            "_model_name": "HTMLModel",
            "_view_count": null,
            "_view_module": "@jupyter-widgets/controls",
            "_view_module_version": "1.5.0",
            "_view_name": "HTMLView",
            "description": "",
            "description_tooltip": null,
            "layout": "IPY_MODEL_5104b061152641f3af7b53b737b11195",
            "placeholder": "​",
            "style": "IPY_MODEL_607d33acf1af4871a6eae8340e633f12",
            "value": " 3/3 [00:00&lt;00:00, 108.42it/s]"
          }
        },
        "859d1e6f9a6b4d969992efa06733558f": {
          "model_module": "@jupyter-widgets/base",
          "model_name": "LayoutModel",
          "model_module_version": "1.2.0",
          "state": {
            "_model_module": "@jupyter-widgets/base",
            "_model_module_version": "1.2.0",
            "_model_name": "LayoutModel",
            "_view_count": null,
            "_view_module": "@jupyter-widgets/base",
            "_view_module_version": "1.2.0",
            "_view_name": "LayoutView",
            "align_content": null,
            "align_items": null,
            "align_self": null,
            "border": null,
            "bottom": null,
            "display": null,
            "flex": null,
            "flex_flow": null,
            "grid_area": null,
            "grid_auto_columns": null,
            "grid_auto_flow": null,
            "grid_auto_rows": null,
            "grid_column": null,
            "grid_gap": null,
            "grid_row": null,
            "grid_template_areas": null,
            "grid_template_columns": null,
            "grid_template_rows": null,
            "height": null,
            "justify_content": null,
            "justify_items": null,
            "left": null,
            "margin": null,
            "max_height": null,
            "max_width": null,
            "min_height": null,
            "min_width": null,
            "object_fit": null,
            "object_position": null,
            "order": null,
            "overflow": null,
            "overflow_x": null,
            "overflow_y": null,
            "padding": null,
            "right": null,
            "top": null,
            "visibility": null,
            "width": null
          }
        },
        "c7bd4184206c479f9493f8a3a1351715": {
          "model_module": "@jupyter-widgets/base",
          "model_name": "LayoutModel",
          "model_module_version": "1.2.0",
          "state": {
            "_model_module": "@jupyter-widgets/base",
            "_model_module_version": "1.2.0",
            "_model_name": "LayoutModel",
            "_view_count": null,
            "_view_module": "@jupyter-widgets/base",
            "_view_module_version": "1.2.0",
            "_view_name": "LayoutView",
            "align_content": null,
            "align_items": null,
            "align_self": null,
            "border": null,
            "bottom": null,
            "display": null,
            "flex": null,
            "flex_flow": null,
            "grid_area": null,
            "grid_auto_columns": null,
            "grid_auto_flow": null,
            "grid_auto_rows": null,
            "grid_column": null,
            "grid_gap": null,
            "grid_row": null,
            "grid_template_areas": null,
            "grid_template_columns": null,
            "grid_template_rows": null,
            "height": null,
            "justify_content": null,
            "justify_items": null,
            "left": null,
            "margin": null,
            "max_height": null,
            "max_width": null,
            "min_height": null,
            "min_width": null,
            "object_fit": null,
            "object_position": null,
            "order": null,
            "overflow": null,
            "overflow_x": null,
            "overflow_y": null,
            "padding": null,
            "right": null,
            "top": null,
            "visibility": null,
            "width": null
          }
        },
        "1eca0eda6a8547f8abba8733bd351e6e": {
          "model_module": "@jupyter-widgets/controls",
          "model_name": "DescriptionStyleModel",
          "model_module_version": "1.5.0",
          "state": {
            "_model_module": "@jupyter-widgets/controls",
            "_model_module_version": "1.5.0",
            "_model_name": "DescriptionStyleModel",
            "_view_count": null,
            "_view_module": "@jupyter-widgets/base",
            "_view_module_version": "1.2.0",
            "_view_name": "StyleView",
            "description_width": ""
          }
        },
        "fc2c79aaa5f44cb5a868da667a46b3eb": {
          "model_module": "@jupyter-widgets/base",
          "model_name": "LayoutModel",
          "model_module_version": "1.2.0",
          "state": {
            "_model_module": "@jupyter-widgets/base",
            "_model_module_version": "1.2.0",
            "_model_name": "LayoutModel",
            "_view_count": null,
            "_view_module": "@jupyter-widgets/base",
            "_view_module_version": "1.2.0",
            "_view_name": "LayoutView",
            "align_content": null,
            "align_items": null,
            "align_self": null,
            "border": null,
            "bottom": null,
            "display": null,
            "flex": null,
            "flex_flow": null,
            "grid_area": null,
            "grid_auto_columns": null,
            "grid_auto_flow": null,
            "grid_auto_rows": null,
            "grid_column": null,
            "grid_gap": null,
            "grid_row": null,
            "grid_template_areas": null,
            "grid_template_columns": null,
            "grid_template_rows": null,
            "height": null,
            "justify_content": null,
            "justify_items": null,
            "left": null,
            "margin": null,
            "max_height": null,
            "max_width": null,
            "min_height": null,
            "min_width": null,
            "object_fit": null,
            "object_position": null,
            "order": null,
            "overflow": null,
            "overflow_x": null,
            "overflow_y": null,
            "padding": null,
            "right": null,
            "top": null,
            "visibility": null,
            "width": null
          }
        },
        "665ed907e23b4d62849b79f7d1327e6c": {
          "model_module": "@jupyter-widgets/controls",
          "model_name": "ProgressStyleModel",
          "model_module_version": "1.5.0",
          "state": {
            "_model_module": "@jupyter-widgets/controls",
            "_model_module_version": "1.5.0",
            "_model_name": "ProgressStyleModel",
            "_view_count": null,
            "_view_module": "@jupyter-widgets/base",
            "_view_module_version": "1.2.0",
            "_view_name": "StyleView",
            "bar_color": null,
            "description_width": ""
          }
        },
        "5104b061152641f3af7b53b737b11195": {
          "model_module": "@jupyter-widgets/base",
          "model_name": "LayoutModel",
          "model_module_version": "1.2.0",
          "state": {
            "_model_module": "@jupyter-widgets/base",
            "_model_module_version": "1.2.0",
            "_model_name": "LayoutModel",
            "_view_count": null,
            "_view_module": "@jupyter-widgets/base",
            "_view_module_version": "1.2.0",
            "_view_name": "LayoutView",
            "align_content": null,
            "align_items": null,
            "align_self": null,
            "border": null,
            "bottom": null,
            "display": null,
            "flex": null,
            "flex_flow": null,
            "grid_area": null,
            "grid_auto_columns": null,
            "grid_auto_flow": null,
            "grid_auto_rows": null,
            "grid_column": null,
            "grid_gap": null,
            "grid_row": null,
            "grid_template_areas": null,
            "grid_template_columns": null,
            "grid_template_rows": null,
            "height": null,
            "justify_content": null,
            "justify_items": null,
            "left": null,
            "margin": null,
            "max_height": null,
            "max_width": null,
            "min_height": null,
            "min_width": null,
            "object_fit": null,
            "object_position": null,
            "order": null,
            "overflow": null,
            "overflow_x": null,
            "overflow_y": null,
            "padding": null,
            "right": null,
            "top": null,
            "visibility": null,
            "width": null
          }
        },
        "607d33acf1af4871a6eae8340e633f12": {
          "model_module": "@jupyter-widgets/controls",
          "model_name": "DescriptionStyleModel",
          "model_module_version": "1.5.0",
          "state": {
            "_model_module": "@jupyter-widgets/controls",
            "_model_module_version": "1.5.0",
            "_model_name": "DescriptionStyleModel",
            "_view_count": null,
            "_view_module": "@jupyter-widgets/base",
            "_view_module_version": "1.2.0",
            "_view_name": "StyleView",
            "description_width": ""
          }
        },
        "d1bc3bcc861c42c7b9555f5b8a4bd964": {
          "model_module": "@jupyter-widgets/controls",
          "model_name": "HBoxModel",
          "model_module_version": "1.5.0",
          "state": {
            "_dom_classes": [],
            "_model_module": "@jupyter-widgets/controls",
            "_model_module_version": "1.5.0",
            "_model_name": "HBoxModel",
            "_view_count": null,
            "_view_module": "@jupyter-widgets/controls",
            "_view_module_version": "1.5.0",
            "_view_name": "HBoxView",
            "box_style": "",
            "children": [
              "IPY_MODEL_b77820050b994d4b99e2c32ed58d0f4c",
              "IPY_MODEL_dee6531eb022460fa4f4a0eeb15ca332",
              "IPY_MODEL_2204f2a75bd541b99c9d58550bbd65f3"
            ],
            "layout": "IPY_MODEL_827c40322f284afdb18403da12cf3548"
          }
        },
        "b77820050b994d4b99e2c32ed58d0f4c": {
          "model_module": "@jupyter-widgets/controls",
          "model_name": "HTMLModel",
          "model_module_version": "1.5.0",
          "state": {
            "_dom_classes": [],
            "_model_module": "@jupyter-widgets/controls",
            "_model_module_version": "1.5.0",
            "_model_name": "HTMLModel",
            "_view_count": null,
            "_view_module": "@jupyter-widgets/controls",
            "_view_module_version": "1.5.0",
            "_view_name": "HTMLView",
            "description": "",
            "description_tooltip": null,
            "layout": "IPY_MODEL_6e316efdd13f40bba27fa29fed7e9aa8",
            "placeholder": "​",
            "style": "IPY_MODEL_cbd241fb97aa4796b528ff3df5374ada",
            "value": "Generating train split: "
          }
        },
        "dee6531eb022460fa4f4a0eeb15ca332": {
          "model_module": "@jupyter-widgets/controls",
          "model_name": "FloatProgressModel",
          "model_module_version": "1.5.0",
          "state": {
            "_dom_classes": [],
            "_model_module": "@jupyter-widgets/controls",
            "_model_module_version": "1.5.0",
            "_model_name": "FloatProgressModel",
            "_view_count": null,
            "_view_module": "@jupyter-widgets/controls",
            "_view_module_version": "1.5.0",
            "_view_name": "ProgressView",
            "bar_style": "info",
            "description": "",
            "description_tooltip": null,
            "layout": "IPY_MODEL_cad30994cf9f4d15ad752d922f59cc3a",
            "max": 1,
            "min": 0,
            "orientation": "horizontal",
            "style": "IPY_MODEL_57a0c69d5b564e6a8ee3286bd91e9af2",
            "value": 1
          }
        },
        "2204f2a75bd541b99c9d58550bbd65f3": {
          "model_module": "@jupyter-widgets/controls",
          "model_name": "HTMLModel",
          "model_module_version": "1.5.0",
          "state": {
            "_dom_classes": [],
            "_model_module": "@jupyter-widgets/controls",
            "_model_module_version": "1.5.0",
            "_model_name": "HTMLModel",
            "_view_count": null,
            "_view_module": "@jupyter-widgets/controls",
            "_view_module_version": "1.5.0",
            "_view_name": "HTMLView",
            "description": "",
            "description_tooltip": null,
            "layout": "IPY_MODEL_4b3b821279d34b4c8043f9d934602d5f",
            "placeholder": "​",
            "style": "IPY_MODEL_25c5c4c619a0429189ea0af643cec605",
            "value": " 3651/0 [00:00&lt;00:00, 32754.47 examples/s]"
          }
        },
        "827c40322f284afdb18403da12cf3548": {
          "model_module": "@jupyter-widgets/base",
          "model_name": "LayoutModel",
          "model_module_version": "1.2.0",
          "state": {
            "_model_module": "@jupyter-widgets/base",
            "_model_module_version": "1.2.0",
            "_model_name": "LayoutModel",
            "_view_count": null,
            "_view_module": "@jupyter-widgets/base",
            "_view_module_version": "1.2.0",
            "_view_name": "LayoutView",
            "align_content": null,
            "align_items": null,
            "align_self": null,
            "border": null,
            "bottom": null,
            "display": null,
            "flex": null,
            "flex_flow": null,
            "grid_area": null,
            "grid_auto_columns": null,
            "grid_auto_flow": null,
            "grid_auto_rows": null,
            "grid_column": null,
            "grid_gap": null,
            "grid_row": null,
            "grid_template_areas": null,
            "grid_template_columns": null,
            "grid_template_rows": null,
            "height": null,
            "justify_content": null,
            "justify_items": null,
            "left": null,
            "margin": null,
            "max_height": null,
            "max_width": null,
            "min_height": null,
            "min_width": null,
            "object_fit": null,
            "object_position": null,
            "order": null,
            "overflow": null,
            "overflow_x": null,
            "overflow_y": null,
            "padding": null,
            "right": null,
            "top": null,
            "visibility": "hidden",
            "width": null
          }
        },
        "6e316efdd13f40bba27fa29fed7e9aa8": {
          "model_module": "@jupyter-widgets/base",
          "model_name": "LayoutModel",
          "model_module_version": "1.2.0",
          "state": {
            "_model_module": "@jupyter-widgets/base",
            "_model_module_version": "1.2.0",
            "_model_name": "LayoutModel",
            "_view_count": null,
            "_view_module": "@jupyter-widgets/base",
            "_view_module_version": "1.2.0",
            "_view_name": "LayoutView",
            "align_content": null,
            "align_items": null,
            "align_self": null,
            "border": null,
            "bottom": null,
            "display": null,
            "flex": null,
            "flex_flow": null,
            "grid_area": null,
            "grid_auto_columns": null,
            "grid_auto_flow": null,
            "grid_auto_rows": null,
            "grid_column": null,
            "grid_gap": null,
            "grid_row": null,
            "grid_template_areas": null,
            "grid_template_columns": null,
            "grid_template_rows": null,
            "height": null,
            "justify_content": null,
            "justify_items": null,
            "left": null,
            "margin": null,
            "max_height": null,
            "max_width": null,
            "min_height": null,
            "min_width": null,
            "object_fit": null,
            "object_position": null,
            "order": null,
            "overflow": null,
            "overflow_x": null,
            "overflow_y": null,
            "padding": null,
            "right": null,
            "top": null,
            "visibility": null,
            "width": null
          }
        },
        "cbd241fb97aa4796b528ff3df5374ada": {
          "model_module": "@jupyter-widgets/controls",
          "model_name": "DescriptionStyleModel",
          "model_module_version": "1.5.0",
          "state": {
            "_model_module": "@jupyter-widgets/controls",
            "_model_module_version": "1.5.0",
            "_model_name": "DescriptionStyleModel",
            "_view_count": null,
            "_view_module": "@jupyter-widgets/base",
            "_view_module_version": "1.2.0",
            "_view_name": "StyleView",
            "description_width": ""
          }
        },
        "cad30994cf9f4d15ad752d922f59cc3a": {
          "model_module": "@jupyter-widgets/base",
          "model_name": "LayoutModel",
          "model_module_version": "1.2.0",
          "state": {
            "_model_module": "@jupyter-widgets/base",
            "_model_module_version": "1.2.0",
            "_model_name": "LayoutModel",
            "_view_count": null,
            "_view_module": "@jupyter-widgets/base",
            "_view_module_version": "1.2.0",
            "_view_name": "LayoutView",
            "align_content": null,
            "align_items": null,
            "align_self": null,
            "border": null,
            "bottom": null,
            "display": null,
            "flex": null,
            "flex_flow": null,
            "grid_area": null,
            "grid_auto_columns": null,
            "grid_auto_flow": null,
            "grid_auto_rows": null,
            "grid_column": null,
            "grid_gap": null,
            "grid_row": null,
            "grid_template_areas": null,
            "grid_template_columns": null,
            "grid_template_rows": null,
            "height": null,
            "justify_content": null,
            "justify_items": null,
            "left": null,
            "margin": null,
            "max_height": null,
            "max_width": null,
            "min_height": null,
            "min_width": null,
            "object_fit": null,
            "object_position": null,
            "order": null,
            "overflow": null,
            "overflow_x": null,
            "overflow_y": null,
            "padding": null,
            "right": null,
            "top": null,
            "visibility": null,
            "width": "20px"
          }
        },
        "57a0c69d5b564e6a8ee3286bd91e9af2": {
          "model_module": "@jupyter-widgets/controls",
          "model_name": "ProgressStyleModel",
          "model_module_version": "1.5.0",
          "state": {
            "_model_module": "@jupyter-widgets/controls",
            "_model_module_version": "1.5.0",
            "_model_name": "ProgressStyleModel",
            "_view_count": null,
            "_view_module": "@jupyter-widgets/base",
            "_view_module_version": "1.2.0",
            "_view_name": "StyleView",
            "bar_color": null,
            "description_width": ""
          }
        },
        "4b3b821279d34b4c8043f9d934602d5f": {
          "model_module": "@jupyter-widgets/base",
          "model_name": "LayoutModel",
          "model_module_version": "1.2.0",
          "state": {
            "_model_module": "@jupyter-widgets/base",
            "_model_module_version": "1.2.0",
            "_model_name": "LayoutModel",
            "_view_count": null,
            "_view_module": "@jupyter-widgets/base",
            "_view_module_version": "1.2.0",
            "_view_name": "LayoutView",
            "align_content": null,
            "align_items": null,
            "align_self": null,
            "border": null,
            "bottom": null,
            "display": null,
            "flex": null,
            "flex_flow": null,
            "grid_area": null,
            "grid_auto_columns": null,
            "grid_auto_flow": null,
            "grid_auto_rows": null,
            "grid_column": null,
            "grid_gap": null,
            "grid_row": null,
            "grid_template_areas": null,
            "grid_template_columns": null,
            "grid_template_rows": null,
            "height": null,
            "justify_content": null,
            "justify_items": null,
            "left": null,
            "margin": null,
            "max_height": null,
            "max_width": null,
            "min_height": null,
            "min_width": null,
            "object_fit": null,
            "object_position": null,
            "order": null,
            "overflow": null,
            "overflow_x": null,
            "overflow_y": null,
            "padding": null,
            "right": null,
            "top": null,
            "visibility": null,
            "width": null
          }
        },
        "25c5c4c619a0429189ea0af643cec605": {
          "model_module": "@jupyter-widgets/controls",
          "model_name": "DescriptionStyleModel",
          "model_module_version": "1.5.0",
          "state": {
            "_model_module": "@jupyter-widgets/controls",
            "_model_module_version": "1.5.0",
            "_model_name": "DescriptionStyleModel",
            "_view_count": null,
            "_view_module": "@jupyter-widgets/base",
            "_view_module_version": "1.2.0",
            "_view_name": "StyleView",
            "description_width": ""
          }
        },
        "acade59188904815bde83b0db068beba": {
          "model_module": "@jupyter-widgets/controls",
          "model_name": "HBoxModel",
          "model_module_version": "1.5.0",
          "state": {
            "_dom_classes": [],
            "_model_module": "@jupyter-widgets/controls",
            "_model_module_version": "1.5.0",
            "_model_name": "HBoxModel",
            "_view_count": null,
            "_view_module": "@jupyter-widgets/controls",
            "_view_module_version": "1.5.0",
            "_view_name": "HBoxView",
            "box_style": "",
            "children": [
              "IPY_MODEL_124a20f6aeaf42779cf1fe678ba6e9c6",
              "IPY_MODEL_e5ebfcb306ff4256abc0973b20485513",
              "IPY_MODEL_62c2f2f7a5f44353ae0c099eff9d4188"
            ],
            "layout": "IPY_MODEL_9b876f4c6c384b7fa618e7c070a5b988"
          }
        },
        "124a20f6aeaf42779cf1fe678ba6e9c6": {
          "model_module": "@jupyter-widgets/controls",
          "model_name": "HTMLModel",
          "model_module_version": "1.5.0",
          "state": {
            "_dom_classes": [],
            "_model_module": "@jupyter-widgets/controls",
            "_model_module_version": "1.5.0",
            "_model_name": "HTMLModel",
            "_view_count": null,
            "_view_module": "@jupyter-widgets/controls",
            "_view_module_version": "1.5.0",
            "_view_name": "HTMLView",
            "description": "",
            "description_tooltip": null,
            "layout": "IPY_MODEL_177c8eeaf72d43d19d0d782484030cba",
            "placeholder": "​",
            "style": "IPY_MODEL_22eac04d15c84016b8cd241074dc3794",
            "value": "Generating val split: "
          }
        },
        "e5ebfcb306ff4256abc0973b20485513": {
          "model_module": "@jupyter-widgets/controls",
          "model_name": "FloatProgressModel",
          "model_module_version": "1.5.0",
          "state": {
            "_dom_classes": [],
            "_model_module": "@jupyter-widgets/controls",
            "_model_module_version": "1.5.0",
            "_model_name": "FloatProgressModel",
            "_view_count": null,
            "_view_module": "@jupyter-widgets/controls",
            "_view_module_version": "1.5.0",
            "_view_name": "ProgressView",
            "bar_style": "info",
            "description": "",
            "description_tooltip": null,
            "layout": "IPY_MODEL_9d26441e193049bb8a3350bb798856b3",
            "max": 1,
            "min": 0,
            "orientation": "horizontal",
            "style": "IPY_MODEL_34cfa03e4e164255a5fa9592b0ca3eba",
            "value": 1
          }
        },
        "62c2f2f7a5f44353ae0c099eff9d4188": {
          "model_module": "@jupyter-widgets/controls",
          "model_name": "HTMLModel",
          "model_module_version": "1.5.0",
          "state": {
            "_dom_classes": [],
            "_model_module": "@jupyter-widgets/controls",
            "_model_module_version": "1.5.0",
            "_model_name": "HTMLModel",
            "_view_count": null,
            "_view_module": "@jupyter-widgets/controls",
            "_view_module_version": "1.5.0",
            "_view_name": "HTMLView",
            "description": "",
            "description_tooltip": null,
            "layout": "IPY_MODEL_8e01756a56954889ac5445d668f049e9",
            "placeholder": "​",
            "style": "IPY_MODEL_b1781d90ff864ba189e9fbbb0e1633b7",
            "value": " 0/0 [00:00&lt;?, ? examples/s]"
          }
        },
        "9b876f4c6c384b7fa618e7c070a5b988": {
          "model_module": "@jupyter-widgets/base",
          "model_name": "LayoutModel",
          "model_module_version": "1.2.0",
          "state": {
            "_model_module": "@jupyter-widgets/base",
            "_model_module_version": "1.2.0",
            "_model_name": "LayoutModel",
            "_view_count": null,
            "_view_module": "@jupyter-widgets/base",
            "_view_module_version": "1.2.0",
            "_view_name": "LayoutView",
            "align_content": null,
            "align_items": null,
            "align_self": null,
            "border": null,
            "bottom": null,
            "display": null,
            "flex": null,
            "flex_flow": null,
            "grid_area": null,
            "grid_auto_columns": null,
            "grid_auto_flow": null,
            "grid_auto_rows": null,
            "grid_column": null,
            "grid_gap": null,
            "grid_row": null,
            "grid_template_areas": null,
            "grid_template_columns": null,
            "grid_template_rows": null,
            "height": null,
            "justify_content": null,
            "justify_items": null,
            "left": null,
            "margin": null,
            "max_height": null,
            "max_width": null,
            "min_height": null,
            "min_width": null,
            "object_fit": null,
            "object_position": null,
            "order": null,
            "overflow": null,
            "overflow_x": null,
            "overflow_y": null,
            "padding": null,
            "right": null,
            "top": null,
            "visibility": "hidden",
            "width": null
          }
        },
        "177c8eeaf72d43d19d0d782484030cba": {
          "model_module": "@jupyter-widgets/base",
          "model_name": "LayoutModel",
          "model_module_version": "1.2.0",
          "state": {
            "_model_module": "@jupyter-widgets/base",
            "_model_module_version": "1.2.0",
            "_model_name": "LayoutModel",
            "_view_count": null,
            "_view_module": "@jupyter-widgets/base",
            "_view_module_version": "1.2.0",
            "_view_name": "LayoutView",
            "align_content": null,
            "align_items": null,
            "align_self": null,
            "border": null,
            "bottom": null,
            "display": null,
            "flex": null,
            "flex_flow": null,
            "grid_area": null,
            "grid_auto_columns": null,
            "grid_auto_flow": null,
            "grid_auto_rows": null,
            "grid_column": null,
            "grid_gap": null,
            "grid_row": null,
            "grid_template_areas": null,
            "grid_template_columns": null,
            "grid_template_rows": null,
            "height": null,
            "justify_content": null,
            "justify_items": null,
            "left": null,
            "margin": null,
            "max_height": null,
            "max_width": null,
            "min_height": null,
            "min_width": null,
            "object_fit": null,
            "object_position": null,
            "order": null,
            "overflow": null,
            "overflow_x": null,
            "overflow_y": null,
            "padding": null,
            "right": null,
            "top": null,
            "visibility": null,
            "width": null
          }
        },
        "22eac04d15c84016b8cd241074dc3794": {
          "model_module": "@jupyter-widgets/controls",
          "model_name": "DescriptionStyleModel",
          "model_module_version": "1.5.0",
          "state": {
            "_model_module": "@jupyter-widgets/controls",
            "_model_module_version": "1.5.0",
            "_model_name": "DescriptionStyleModel",
            "_view_count": null,
            "_view_module": "@jupyter-widgets/base",
            "_view_module_version": "1.2.0",
            "_view_name": "StyleView",
            "description_width": ""
          }
        },
        "9d26441e193049bb8a3350bb798856b3": {
          "model_module": "@jupyter-widgets/base",
          "model_name": "LayoutModel",
          "model_module_version": "1.2.0",
          "state": {
            "_model_module": "@jupyter-widgets/base",
            "_model_module_version": "1.2.0",
            "_model_name": "LayoutModel",
            "_view_count": null,
            "_view_module": "@jupyter-widgets/base",
            "_view_module_version": "1.2.0",
            "_view_name": "LayoutView",
            "align_content": null,
            "align_items": null,
            "align_self": null,
            "border": null,
            "bottom": null,
            "display": null,
            "flex": null,
            "flex_flow": null,
            "grid_area": null,
            "grid_auto_columns": null,
            "grid_auto_flow": null,
            "grid_auto_rows": null,
            "grid_column": null,
            "grid_gap": null,
            "grid_row": null,
            "grid_template_areas": null,
            "grid_template_columns": null,
            "grid_template_rows": null,
            "height": null,
            "justify_content": null,
            "justify_items": null,
            "left": null,
            "margin": null,
            "max_height": null,
            "max_width": null,
            "min_height": null,
            "min_width": null,
            "object_fit": null,
            "object_position": null,
            "order": null,
            "overflow": null,
            "overflow_x": null,
            "overflow_y": null,
            "padding": null,
            "right": null,
            "top": null,
            "visibility": null,
            "width": "20px"
          }
        },
        "34cfa03e4e164255a5fa9592b0ca3eba": {
          "model_module": "@jupyter-widgets/controls",
          "model_name": "ProgressStyleModel",
          "model_module_version": "1.5.0",
          "state": {
            "_model_module": "@jupyter-widgets/controls",
            "_model_module_version": "1.5.0",
            "_model_name": "ProgressStyleModel",
            "_view_count": null,
            "_view_module": "@jupyter-widgets/base",
            "_view_module_version": "1.2.0",
            "_view_name": "StyleView",
            "bar_color": null,
            "description_width": ""
          }
        },
        "8e01756a56954889ac5445d668f049e9": {
          "model_module": "@jupyter-widgets/base",
          "model_name": "LayoutModel",
          "model_module_version": "1.2.0",
          "state": {
            "_model_module": "@jupyter-widgets/base",
            "_model_module_version": "1.2.0",
            "_model_name": "LayoutModel",
            "_view_count": null,
            "_view_module": "@jupyter-widgets/base",
            "_view_module_version": "1.2.0",
            "_view_name": "LayoutView",
            "align_content": null,
            "align_items": null,
            "align_self": null,
            "border": null,
            "bottom": null,
            "display": null,
            "flex": null,
            "flex_flow": null,
            "grid_area": null,
            "grid_auto_columns": null,
            "grid_auto_flow": null,
            "grid_auto_rows": null,
            "grid_column": null,
            "grid_gap": null,
            "grid_row": null,
            "grid_template_areas": null,
            "grid_template_columns": null,
            "grid_template_rows": null,
            "height": null,
            "justify_content": null,
            "justify_items": null,
            "left": null,
            "margin": null,
            "max_height": null,
            "max_width": null,
            "min_height": null,
            "min_width": null,
            "object_fit": null,
            "object_position": null,
            "order": null,
            "overflow": null,
            "overflow_x": null,
            "overflow_y": null,
            "padding": null,
            "right": null,
            "top": null,
            "visibility": null,
            "width": null
          }
        },
        "b1781d90ff864ba189e9fbbb0e1633b7": {
          "model_module": "@jupyter-widgets/controls",
          "model_name": "DescriptionStyleModel",
          "model_module_version": "1.5.0",
          "state": {
            "_model_module": "@jupyter-widgets/controls",
            "_model_module_version": "1.5.0",
            "_model_name": "DescriptionStyleModel",
            "_view_count": null,
            "_view_module": "@jupyter-widgets/base",
            "_view_module_version": "1.2.0",
            "_view_name": "StyleView",
            "description_width": ""
          }
        },
        "3e622aa6d6dc49ee9dcb29710f5b468f": {
          "model_module": "@jupyter-widgets/controls",
          "model_name": "HBoxModel",
          "model_module_version": "1.5.0",
          "state": {
            "_dom_classes": [],
            "_model_module": "@jupyter-widgets/controls",
            "_model_module_version": "1.5.0",
            "_model_name": "HBoxModel",
            "_view_count": null,
            "_view_module": "@jupyter-widgets/controls",
            "_view_module_version": "1.5.0",
            "_view_name": "HBoxView",
            "box_style": "",
            "children": [
              "IPY_MODEL_ab40d3e81b26450f97058a4237cd265a",
              "IPY_MODEL_6d5e9eaded5c49f5ba735d4c11bd4247",
              "IPY_MODEL_e34319cea12f4bd1b1318973c65088d7"
            ],
            "layout": "IPY_MODEL_cdf21287760647ac965d5173fadaf198"
          }
        },
        "ab40d3e81b26450f97058a4237cd265a": {
          "model_module": "@jupyter-widgets/controls",
          "model_name": "HTMLModel",
          "model_module_version": "1.5.0",
          "state": {
            "_dom_classes": [],
            "_model_module": "@jupyter-widgets/controls",
            "_model_module_version": "1.5.0",
            "_model_name": "HTMLModel",
            "_view_count": null,
            "_view_module": "@jupyter-widgets/controls",
            "_view_module_version": "1.5.0",
            "_view_name": "HTMLView",
            "description": "",
            "description_tooltip": null,
            "layout": "IPY_MODEL_812ba3e80983472b9f228ef30f30f9fe",
            "placeholder": "​",
            "style": "IPY_MODEL_cde66c43a7e24d7cb74644e183afd9ba",
            "value": "Generating test split: "
          }
        },
        "6d5e9eaded5c49f5ba735d4c11bd4247": {
          "model_module": "@jupyter-widgets/controls",
          "model_name": "FloatProgressModel",
          "model_module_version": "1.5.0",
          "state": {
            "_dom_classes": [],
            "_model_module": "@jupyter-widgets/controls",
            "_model_module_version": "1.5.0",
            "_model_name": "FloatProgressModel",
            "_view_count": null,
            "_view_module": "@jupyter-widgets/controls",
            "_view_module_version": "1.5.0",
            "_view_name": "ProgressView",
            "bar_style": "info",
            "description": "",
            "description_tooltip": null,
            "layout": "IPY_MODEL_793cc761269d40b09b8328171fca8b81",
            "max": 1,
            "min": 0,
            "orientation": "horizontal",
            "style": "IPY_MODEL_3ec8fb36762949dfac4ade8702be1203",
            "value": 1
          }
        },
        "e34319cea12f4bd1b1318973c65088d7": {
          "model_module": "@jupyter-widgets/controls",
          "model_name": "HTMLModel",
          "model_module_version": "1.5.0",
          "state": {
            "_dom_classes": [],
            "_model_module": "@jupyter-widgets/controls",
            "_model_module_version": "1.5.0",
            "_model_name": "HTMLModel",
            "_view_count": null,
            "_view_module": "@jupyter-widgets/controls",
            "_view_module_version": "1.5.0",
            "_view_name": "HTMLView",
            "description": "",
            "description_tooltip": null,
            "layout": "IPY_MODEL_730bd6bf538b4ebc81cfe60490573650",
            "placeholder": "​",
            "style": "IPY_MODEL_9075490d5d1e4685bb74116433e0fa27",
            "value": " 0/0 [00:00&lt;?, ? examples/s]"
          }
        },
        "cdf21287760647ac965d5173fadaf198": {
          "model_module": "@jupyter-widgets/base",
          "model_name": "LayoutModel",
          "model_module_version": "1.2.0",
          "state": {
            "_model_module": "@jupyter-widgets/base",
            "_model_module_version": "1.2.0",
            "_model_name": "LayoutModel",
            "_view_count": null,
            "_view_module": "@jupyter-widgets/base",
            "_view_module_version": "1.2.0",
            "_view_name": "LayoutView",
            "align_content": null,
            "align_items": null,
            "align_self": null,
            "border": null,
            "bottom": null,
            "display": null,
            "flex": null,
            "flex_flow": null,
            "grid_area": null,
            "grid_auto_columns": null,
            "grid_auto_flow": null,
            "grid_auto_rows": null,
            "grid_column": null,
            "grid_gap": null,
            "grid_row": null,
            "grid_template_areas": null,
            "grid_template_columns": null,
            "grid_template_rows": null,
            "height": null,
            "justify_content": null,
            "justify_items": null,
            "left": null,
            "margin": null,
            "max_height": null,
            "max_width": null,
            "min_height": null,
            "min_width": null,
            "object_fit": null,
            "object_position": null,
            "order": null,
            "overflow": null,
            "overflow_x": null,
            "overflow_y": null,
            "padding": null,
            "right": null,
            "top": null,
            "visibility": "hidden",
            "width": null
          }
        },
        "812ba3e80983472b9f228ef30f30f9fe": {
          "model_module": "@jupyter-widgets/base",
          "model_name": "LayoutModel",
          "model_module_version": "1.2.0",
          "state": {
            "_model_module": "@jupyter-widgets/base",
            "_model_module_version": "1.2.0",
            "_model_name": "LayoutModel",
            "_view_count": null,
            "_view_module": "@jupyter-widgets/base",
            "_view_module_version": "1.2.0",
            "_view_name": "LayoutView",
            "align_content": null,
            "align_items": null,
            "align_self": null,
            "border": null,
            "bottom": null,
            "display": null,
            "flex": null,
            "flex_flow": null,
            "grid_area": null,
            "grid_auto_columns": null,
            "grid_auto_flow": null,
            "grid_auto_rows": null,
            "grid_column": null,
            "grid_gap": null,
            "grid_row": null,
            "grid_template_areas": null,
            "grid_template_columns": null,
            "grid_template_rows": null,
            "height": null,
            "justify_content": null,
            "justify_items": null,
            "left": null,
            "margin": null,
            "max_height": null,
            "max_width": null,
            "min_height": null,
            "min_width": null,
            "object_fit": null,
            "object_position": null,
            "order": null,
            "overflow": null,
            "overflow_x": null,
            "overflow_y": null,
            "padding": null,
            "right": null,
            "top": null,
            "visibility": null,
            "width": null
          }
        },
        "cde66c43a7e24d7cb74644e183afd9ba": {
          "model_module": "@jupyter-widgets/controls",
          "model_name": "DescriptionStyleModel",
          "model_module_version": "1.5.0",
          "state": {
            "_model_module": "@jupyter-widgets/controls",
            "_model_module_version": "1.5.0",
            "_model_name": "DescriptionStyleModel",
            "_view_count": null,
            "_view_module": "@jupyter-widgets/base",
            "_view_module_version": "1.2.0",
            "_view_name": "StyleView",
            "description_width": ""
          }
        },
        "793cc761269d40b09b8328171fca8b81": {
          "model_module": "@jupyter-widgets/base",
          "model_name": "LayoutModel",
          "model_module_version": "1.2.0",
          "state": {
            "_model_module": "@jupyter-widgets/base",
            "_model_module_version": "1.2.0",
            "_model_name": "LayoutModel",
            "_view_count": null,
            "_view_module": "@jupyter-widgets/base",
            "_view_module_version": "1.2.0",
            "_view_name": "LayoutView",
            "align_content": null,
            "align_items": null,
            "align_self": null,
            "border": null,
            "bottom": null,
            "display": null,
            "flex": null,
            "flex_flow": null,
            "grid_area": null,
            "grid_auto_columns": null,
            "grid_auto_flow": null,
            "grid_auto_rows": null,
            "grid_column": null,
            "grid_gap": null,
            "grid_row": null,
            "grid_template_areas": null,
            "grid_template_columns": null,
            "grid_template_rows": null,
            "height": null,
            "justify_content": null,
            "justify_items": null,
            "left": null,
            "margin": null,
            "max_height": null,
            "max_width": null,
            "min_height": null,
            "min_width": null,
            "object_fit": null,
            "object_position": null,
            "order": null,
            "overflow": null,
            "overflow_x": null,
            "overflow_y": null,
            "padding": null,
            "right": null,
            "top": null,
            "visibility": null,
            "width": "20px"
          }
        },
        "3ec8fb36762949dfac4ade8702be1203": {
          "model_module": "@jupyter-widgets/controls",
          "model_name": "ProgressStyleModel",
          "model_module_version": "1.5.0",
          "state": {
            "_model_module": "@jupyter-widgets/controls",
            "_model_module_version": "1.5.0",
            "_model_name": "ProgressStyleModel",
            "_view_count": null,
            "_view_module": "@jupyter-widgets/base",
            "_view_module_version": "1.2.0",
            "_view_name": "StyleView",
            "bar_color": null,
            "description_width": ""
          }
        },
        "730bd6bf538b4ebc81cfe60490573650": {
          "model_module": "@jupyter-widgets/base",
          "model_name": "LayoutModel",
          "model_module_version": "1.2.0",
          "state": {
            "_model_module": "@jupyter-widgets/base",
            "_model_module_version": "1.2.0",
            "_model_name": "LayoutModel",
            "_view_count": null,
            "_view_module": "@jupyter-widgets/base",
            "_view_module_version": "1.2.0",
            "_view_name": "LayoutView",
            "align_content": null,
            "align_items": null,
            "align_self": null,
            "border": null,
            "bottom": null,
            "display": null,
            "flex": null,
            "flex_flow": null,
            "grid_area": null,
            "grid_auto_columns": null,
            "grid_auto_flow": null,
            "grid_auto_rows": null,
            "grid_column": null,
            "grid_gap": null,
            "grid_row": null,
            "grid_template_areas": null,
            "grid_template_columns": null,
            "grid_template_rows": null,
            "height": null,
            "justify_content": null,
            "justify_items": null,
            "left": null,
            "margin": null,
            "max_height": null,
            "max_width": null,
            "min_height": null,
            "min_width": null,
            "object_fit": null,
            "object_position": null,
            "order": null,
            "overflow": null,
            "overflow_x": null,
            "overflow_y": null,
            "padding": null,
            "right": null,
            "top": null,
            "visibility": null,
            "width": null
          }
        },
        "9075490d5d1e4685bb74116433e0fa27": {
          "model_module": "@jupyter-widgets/controls",
          "model_name": "DescriptionStyleModel",
          "model_module_version": "1.5.0",
          "state": {
            "_model_module": "@jupyter-widgets/controls",
            "_model_module_version": "1.5.0",
            "_model_name": "DescriptionStyleModel",
            "_view_count": null,
            "_view_module": "@jupyter-widgets/base",
            "_view_module_version": "1.2.0",
            "_view_name": "StyleView",
            "description_width": ""
          }
        },
        "f42420a314df44c9bd6327366d9dc35e": {
          "model_module": "@jupyter-widgets/controls",
          "model_name": "HBoxModel",
          "model_module_version": "1.5.0",
          "state": {
            "_dom_classes": [],
            "_model_module": "@jupyter-widgets/controls",
            "_model_module_version": "1.5.0",
            "_model_name": "HBoxModel",
            "_view_count": null,
            "_view_module": "@jupyter-widgets/controls",
            "_view_module_version": "1.5.0",
            "_view_name": "HBoxView",
            "box_style": "",
            "children": [
              "IPY_MODEL_1f760595ba814f4d9d65dda29aecdcd8",
              "IPY_MODEL_b2625bcadbbc4d0fa3cab8136bcd3eac",
              "IPY_MODEL_c1797d99e74b43c693f2d1a3d1c28381"
            ],
            "layout": "IPY_MODEL_f56ca79a4b224863acd984724e41ac48"
          }
        },
        "1f760595ba814f4d9d65dda29aecdcd8": {
          "model_module": "@jupyter-widgets/controls",
          "model_name": "HTMLModel",
          "model_module_version": "1.5.0",
          "state": {
            "_dom_classes": [],
            "_model_module": "@jupyter-widgets/controls",
            "_model_module_version": "1.5.0",
            "_model_name": "HTMLModel",
            "_view_count": null,
            "_view_module": "@jupyter-widgets/controls",
            "_view_module_version": "1.5.0",
            "_view_name": "HTMLView",
            "description": "",
            "description_tooltip": null,
            "layout": "IPY_MODEL_bf7d83bfbc0e40b39519b3429201d42a",
            "placeholder": "​",
            "style": "IPY_MODEL_7f173cac0fe343ce990abafad7a313be",
            "value": "100%"
          }
        },
        "b2625bcadbbc4d0fa3cab8136bcd3eac": {
          "model_module": "@jupyter-widgets/controls",
          "model_name": "FloatProgressModel",
          "model_module_version": "1.5.0",
          "state": {
            "_dom_classes": [],
            "_model_module": "@jupyter-widgets/controls",
            "_model_module_version": "1.5.0",
            "_model_name": "FloatProgressModel",
            "_view_count": null,
            "_view_module": "@jupyter-widgets/controls",
            "_view_module_version": "1.5.0",
            "_view_name": "ProgressView",
            "bar_style": "success",
            "description": "",
            "description_tooltip": null,
            "layout": "IPY_MODEL_1bc74daa50c64754aa371ff6cd2257df",
            "max": 3,
            "min": 0,
            "orientation": "horizontal",
            "style": "IPY_MODEL_1b207de5bf0c472781c47ccfcbbc7166",
            "value": 3
          }
        },
        "c1797d99e74b43c693f2d1a3d1c28381": {
          "model_module": "@jupyter-widgets/controls",
          "model_name": "HTMLModel",
          "model_module_version": "1.5.0",
          "state": {
            "_dom_classes": [],
            "_model_module": "@jupyter-widgets/controls",
            "_model_module_version": "1.5.0",
            "_model_name": "HTMLModel",
            "_view_count": null,
            "_view_module": "@jupyter-widgets/controls",
            "_view_module_version": "1.5.0",
            "_view_name": "HTMLView",
            "description": "",
            "description_tooltip": null,
            "layout": "IPY_MODEL_8ec504de256646cca43fd5fcb9771465",
            "placeholder": "​",
            "style": "IPY_MODEL_d7676a8d154d40f49f8cb389323150b9",
            "value": " 3/3 [00:00&lt;00:00, 91.17it/s]"
          }
        },
        "f56ca79a4b224863acd984724e41ac48": {
          "model_module": "@jupyter-widgets/base",
          "model_name": "LayoutModel",
          "model_module_version": "1.2.0",
          "state": {
            "_model_module": "@jupyter-widgets/base",
            "_model_module_version": "1.2.0",
            "_model_name": "LayoutModel",
            "_view_count": null,
            "_view_module": "@jupyter-widgets/base",
            "_view_module_version": "1.2.0",
            "_view_name": "LayoutView",
            "align_content": null,
            "align_items": null,
            "align_self": null,
            "border": null,
            "bottom": null,
            "display": null,
            "flex": null,
            "flex_flow": null,
            "grid_area": null,
            "grid_auto_columns": null,
            "grid_auto_flow": null,
            "grid_auto_rows": null,
            "grid_column": null,
            "grid_gap": null,
            "grid_row": null,
            "grid_template_areas": null,
            "grid_template_columns": null,
            "grid_template_rows": null,
            "height": null,
            "justify_content": null,
            "justify_items": null,
            "left": null,
            "margin": null,
            "max_height": null,
            "max_width": null,
            "min_height": null,
            "min_width": null,
            "object_fit": null,
            "object_position": null,
            "order": null,
            "overflow": null,
            "overflow_x": null,
            "overflow_y": null,
            "padding": null,
            "right": null,
            "top": null,
            "visibility": null,
            "width": null
          }
        },
        "bf7d83bfbc0e40b39519b3429201d42a": {
          "model_module": "@jupyter-widgets/base",
          "model_name": "LayoutModel",
          "model_module_version": "1.2.0",
          "state": {
            "_model_module": "@jupyter-widgets/base",
            "_model_module_version": "1.2.0",
            "_model_name": "LayoutModel",
            "_view_count": null,
            "_view_module": "@jupyter-widgets/base",
            "_view_module_version": "1.2.0",
            "_view_name": "LayoutView",
            "align_content": null,
            "align_items": null,
            "align_self": null,
            "border": null,
            "bottom": null,
            "display": null,
            "flex": null,
            "flex_flow": null,
            "grid_area": null,
            "grid_auto_columns": null,
            "grid_auto_flow": null,
            "grid_auto_rows": null,
            "grid_column": null,
            "grid_gap": null,
            "grid_row": null,
            "grid_template_areas": null,
            "grid_template_columns": null,
            "grid_template_rows": null,
            "height": null,
            "justify_content": null,
            "justify_items": null,
            "left": null,
            "margin": null,
            "max_height": null,
            "max_width": null,
            "min_height": null,
            "min_width": null,
            "object_fit": null,
            "object_position": null,
            "order": null,
            "overflow": null,
            "overflow_x": null,
            "overflow_y": null,
            "padding": null,
            "right": null,
            "top": null,
            "visibility": null,
            "width": null
          }
        },
        "7f173cac0fe343ce990abafad7a313be": {
          "model_module": "@jupyter-widgets/controls",
          "model_name": "DescriptionStyleModel",
          "model_module_version": "1.5.0",
          "state": {
            "_model_module": "@jupyter-widgets/controls",
            "_model_module_version": "1.5.0",
            "_model_name": "DescriptionStyleModel",
            "_view_count": null,
            "_view_module": "@jupyter-widgets/base",
            "_view_module_version": "1.2.0",
            "_view_name": "StyleView",
            "description_width": ""
          }
        },
        "1bc74daa50c64754aa371ff6cd2257df": {
          "model_module": "@jupyter-widgets/base",
          "model_name": "LayoutModel",
          "model_module_version": "1.2.0",
          "state": {
            "_model_module": "@jupyter-widgets/base",
            "_model_module_version": "1.2.0",
            "_model_name": "LayoutModel",
            "_view_count": null,
            "_view_module": "@jupyter-widgets/base",
            "_view_module_version": "1.2.0",
            "_view_name": "LayoutView",
            "align_content": null,
            "align_items": null,
            "align_self": null,
            "border": null,
            "bottom": null,
            "display": null,
            "flex": null,
            "flex_flow": null,
            "grid_area": null,
            "grid_auto_columns": null,
            "grid_auto_flow": null,
            "grid_auto_rows": null,
            "grid_column": null,
            "grid_gap": null,
            "grid_row": null,
            "grid_template_areas": null,
            "grid_template_columns": null,
            "grid_template_rows": null,
            "height": null,
            "justify_content": null,
            "justify_items": null,
            "left": null,
            "margin": null,
            "max_height": null,
            "max_width": null,
            "min_height": null,
            "min_width": null,
            "object_fit": null,
            "object_position": null,
            "order": null,
            "overflow": null,
            "overflow_x": null,
            "overflow_y": null,
            "padding": null,
            "right": null,
            "top": null,
            "visibility": null,
            "width": null
          }
        },
        "1b207de5bf0c472781c47ccfcbbc7166": {
          "model_module": "@jupyter-widgets/controls",
          "model_name": "ProgressStyleModel",
          "model_module_version": "1.5.0",
          "state": {
            "_model_module": "@jupyter-widgets/controls",
            "_model_module_version": "1.5.0",
            "_model_name": "ProgressStyleModel",
            "_view_count": null,
            "_view_module": "@jupyter-widgets/base",
            "_view_module_version": "1.2.0",
            "_view_name": "StyleView",
            "bar_color": null,
            "description_width": ""
          }
        },
        "8ec504de256646cca43fd5fcb9771465": {
          "model_module": "@jupyter-widgets/base",
          "model_name": "LayoutModel",
          "model_module_version": "1.2.0",
          "state": {
            "_model_module": "@jupyter-widgets/base",
            "_model_module_version": "1.2.0",
            "_model_name": "LayoutModel",
            "_view_count": null,
            "_view_module": "@jupyter-widgets/base",
            "_view_module_version": "1.2.0",
            "_view_name": "LayoutView",
            "align_content": null,
            "align_items": null,
            "align_self": null,
            "border": null,
            "bottom": null,
            "display": null,
            "flex": null,
            "flex_flow": null,
            "grid_area": null,
            "grid_auto_columns": null,
            "grid_auto_flow": null,
            "grid_auto_rows": null,
            "grid_column": null,
            "grid_gap": null,
            "grid_row": null,
            "grid_template_areas": null,
            "grid_template_columns": null,
            "grid_template_rows": null,
            "height": null,
            "justify_content": null,
            "justify_items": null,
            "left": null,
            "margin": null,
            "max_height": null,
            "max_width": null,
            "min_height": null,
            "min_width": null,
            "object_fit": null,
            "object_position": null,
            "order": null,
            "overflow": null,
            "overflow_x": null,
            "overflow_y": null,
            "padding": null,
            "right": null,
            "top": null,
            "visibility": null,
            "width": null
          }
        },
        "d7676a8d154d40f49f8cb389323150b9": {
          "model_module": "@jupyter-widgets/controls",
          "model_name": "DescriptionStyleModel",
          "model_module_version": "1.5.0",
          "state": {
            "_model_module": "@jupyter-widgets/controls",
            "_model_module_version": "1.5.0",
            "_model_name": "DescriptionStyleModel",
            "_view_count": null,
            "_view_module": "@jupyter-widgets/base",
            "_view_module_version": "1.2.0",
            "_view_name": "StyleView",
            "description_width": ""
          }
        },
        "48e3cf3259fa4c5e8d1c0785caa0e840": {
          "model_module": "@jupyter-widgets/controls",
          "model_name": "HBoxModel",
          "model_module_version": "1.5.0",
          "state": {
            "_dom_classes": [],
            "_model_module": "@jupyter-widgets/controls",
            "_model_module_version": "1.5.0",
            "_model_name": "HBoxModel",
            "_view_count": null,
            "_view_module": "@jupyter-widgets/controls",
            "_view_module_version": "1.5.0",
            "_view_name": "HBoxView",
            "box_style": "",
            "children": [
              "IPY_MODEL_93dfd98b45d14ef19006cef1942a1359",
              "IPY_MODEL_ec3f9989a5814c64b4e37089042b7d5c",
              "IPY_MODEL_8faff77823764e6bb6e11f6d3b4f7751"
            ],
            "layout": "IPY_MODEL_99cb7f9c2233471b9fc731c468eb7056"
          }
        },
        "93dfd98b45d14ef19006cef1942a1359": {
          "model_module": "@jupyter-widgets/controls",
          "model_name": "HTMLModel",
          "model_module_version": "1.5.0",
          "state": {
            "_dom_classes": [],
            "_model_module": "@jupyter-widgets/controls",
            "_model_module_version": "1.5.0",
            "_model_name": "HTMLModel",
            "_view_count": null,
            "_view_module": "@jupyter-widgets/controls",
            "_view_module_version": "1.5.0",
            "_view_name": "HTMLView",
            "description": "",
            "description_tooltip": null,
            "layout": "IPY_MODEL_775486f8a24e405aab39ed8393df0343",
            "placeholder": "​",
            "style": "IPY_MODEL_23c8519054bb4729a65775795dff5dd9",
            "value": "100%"
          }
        },
        "ec3f9989a5814c64b4e37089042b7d5c": {
          "model_module": "@jupyter-widgets/controls",
          "model_name": "FloatProgressModel",
          "model_module_version": "1.5.0",
          "state": {
            "_dom_classes": [],
            "_model_module": "@jupyter-widgets/controls",
            "_model_module_version": "1.5.0",
            "_model_name": "FloatProgressModel",
            "_view_count": null,
            "_view_module": "@jupyter-widgets/controls",
            "_view_module_version": "1.5.0",
            "_view_name": "ProgressView",
            "bar_style": "success",
            "description": "",
            "description_tooltip": null,
            "layout": "IPY_MODEL_be32e5db3f36499e88c2c88d16278408",
            "max": 3651,
            "min": 0,
            "orientation": "horizontal",
            "style": "IPY_MODEL_1dbb42e83b974e25aebce046e9d0c21a",
            "value": 3651
          }
        },
        "8faff77823764e6bb6e11f6d3b4f7751": {
          "model_module": "@jupyter-widgets/controls",
          "model_name": "HTMLModel",
          "model_module_version": "1.5.0",
          "state": {
            "_dom_classes": [],
            "_model_module": "@jupyter-widgets/controls",
            "_model_module_version": "1.5.0",
            "_model_name": "HTMLModel",
            "_view_count": null,
            "_view_module": "@jupyter-widgets/controls",
            "_view_module_version": "1.5.0",
            "_view_name": "HTMLView",
            "description": "",
            "description_tooltip": null,
            "layout": "IPY_MODEL_ece87d3dc7aa44b89f618d30a0b43afe",
            "placeholder": "​",
            "style": "IPY_MODEL_ce193295de114544a499b64414ba294b",
            "value": " 3651/3651 [00:03&lt;00:00, 1232.50ex/s]"
          }
        },
        "99cb7f9c2233471b9fc731c468eb7056": {
          "model_module": "@jupyter-widgets/base",
          "model_name": "LayoutModel",
          "model_module_version": "1.2.0",
          "state": {
            "_model_module": "@jupyter-widgets/base",
            "_model_module_version": "1.2.0",
            "_model_name": "LayoutModel",
            "_view_count": null,
            "_view_module": "@jupyter-widgets/base",
            "_view_module_version": "1.2.0",
            "_view_name": "LayoutView",
            "align_content": null,
            "align_items": null,
            "align_self": null,
            "border": null,
            "bottom": null,
            "display": null,
            "flex": null,
            "flex_flow": null,
            "grid_area": null,
            "grid_auto_columns": null,
            "grid_auto_flow": null,
            "grid_auto_rows": null,
            "grid_column": null,
            "grid_gap": null,
            "grid_row": null,
            "grid_template_areas": null,
            "grid_template_columns": null,
            "grid_template_rows": null,
            "height": null,
            "justify_content": null,
            "justify_items": null,
            "left": null,
            "margin": null,
            "max_height": null,
            "max_width": null,
            "min_height": null,
            "min_width": null,
            "object_fit": null,
            "object_position": null,
            "order": null,
            "overflow": null,
            "overflow_x": null,
            "overflow_y": null,
            "padding": null,
            "right": null,
            "top": null,
            "visibility": null,
            "width": null
          }
        },
        "775486f8a24e405aab39ed8393df0343": {
          "model_module": "@jupyter-widgets/base",
          "model_name": "LayoutModel",
          "model_module_version": "1.2.0",
          "state": {
            "_model_module": "@jupyter-widgets/base",
            "_model_module_version": "1.2.0",
            "_model_name": "LayoutModel",
            "_view_count": null,
            "_view_module": "@jupyter-widgets/base",
            "_view_module_version": "1.2.0",
            "_view_name": "LayoutView",
            "align_content": null,
            "align_items": null,
            "align_self": null,
            "border": null,
            "bottom": null,
            "display": null,
            "flex": null,
            "flex_flow": null,
            "grid_area": null,
            "grid_auto_columns": null,
            "grid_auto_flow": null,
            "grid_auto_rows": null,
            "grid_column": null,
            "grid_gap": null,
            "grid_row": null,
            "grid_template_areas": null,
            "grid_template_columns": null,
            "grid_template_rows": null,
            "height": null,
            "justify_content": null,
            "justify_items": null,
            "left": null,
            "margin": null,
            "max_height": null,
            "max_width": null,
            "min_height": null,
            "min_width": null,
            "object_fit": null,
            "object_position": null,
            "order": null,
            "overflow": null,
            "overflow_x": null,
            "overflow_y": null,
            "padding": null,
            "right": null,
            "top": null,
            "visibility": null,
            "width": null
          }
        },
        "23c8519054bb4729a65775795dff5dd9": {
          "model_module": "@jupyter-widgets/controls",
          "model_name": "DescriptionStyleModel",
          "model_module_version": "1.5.0",
          "state": {
            "_model_module": "@jupyter-widgets/controls",
            "_model_module_version": "1.5.0",
            "_model_name": "DescriptionStyleModel",
            "_view_count": null,
            "_view_module": "@jupyter-widgets/base",
            "_view_module_version": "1.2.0",
            "_view_name": "StyleView",
            "description_width": ""
          }
        },
        "be32e5db3f36499e88c2c88d16278408": {
          "model_module": "@jupyter-widgets/base",
          "model_name": "LayoutModel",
          "model_module_version": "1.2.0",
          "state": {
            "_model_module": "@jupyter-widgets/base",
            "_model_module_version": "1.2.0",
            "_model_name": "LayoutModel",
            "_view_count": null,
            "_view_module": "@jupyter-widgets/base",
            "_view_module_version": "1.2.0",
            "_view_name": "LayoutView",
            "align_content": null,
            "align_items": null,
            "align_self": null,
            "border": null,
            "bottom": null,
            "display": null,
            "flex": null,
            "flex_flow": null,
            "grid_area": null,
            "grid_auto_columns": null,
            "grid_auto_flow": null,
            "grid_auto_rows": null,
            "grid_column": null,
            "grid_gap": null,
            "grid_row": null,
            "grid_template_areas": null,
            "grid_template_columns": null,
            "grid_template_rows": null,
            "height": null,
            "justify_content": null,
            "justify_items": null,
            "left": null,
            "margin": null,
            "max_height": null,
            "max_width": null,
            "min_height": null,
            "min_width": null,
            "object_fit": null,
            "object_position": null,
            "order": null,
            "overflow": null,
            "overflow_x": null,
            "overflow_y": null,
            "padding": null,
            "right": null,
            "top": null,
            "visibility": null,
            "width": null
          }
        },
        "1dbb42e83b974e25aebce046e9d0c21a": {
          "model_module": "@jupyter-widgets/controls",
          "model_name": "ProgressStyleModel",
          "model_module_version": "1.5.0",
          "state": {
            "_model_module": "@jupyter-widgets/controls",
            "_model_module_version": "1.5.0",
            "_model_name": "ProgressStyleModel",
            "_view_count": null,
            "_view_module": "@jupyter-widgets/base",
            "_view_module_version": "1.2.0",
            "_view_name": "StyleView",
            "bar_color": null,
            "description_width": ""
          }
        },
        "ece87d3dc7aa44b89f618d30a0b43afe": {
          "model_module": "@jupyter-widgets/base",
          "model_name": "LayoutModel",
          "model_module_version": "1.2.0",
          "state": {
            "_model_module": "@jupyter-widgets/base",
            "_model_module_version": "1.2.0",
            "_model_name": "LayoutModel",
            "_view_count": null,
            "_view_module": "@jupyter-widgets/base",
            "_view_module_version": "1.2.0",
            "_view_name": "LayoutView",
            "align_content": null,
            "align_items": null,
            "align_self": null,
            "border": null,
            "bottom": null,
            "display": null,
            "flex": null,
            "flex_flow": null,
            "grid_area": null,
            "grid_auto_columns": null,
            "grid_auto_flow": null,
            "grid_auto_rows": null,
            "grid_column": null,
            "grid_gap": null,
            "grid_row": null,
            "grid_template_areas": null,
            "grid_template_columns": null,
            "grid_template_rows": null,
            "height": null,
            "justify_content": null,
            "justify_items": null,
            "left": null,
            "margin": null,
            "max_height": null,
            "max_width": null,
            "min_height": null,
            "min_width": null,
            "object_fit": null,
            "object_position": null,
            "order": null,
            "overflow": null,
            "overflow_x": null,
            "overflow_y": null,
            "padding": null,
            "right": null,
            "top": null,
            "visibility": null,
            "width": null
          }
        },
        "ce193295de114544a499b64414ba294b": {
          "model_module": "@jupyter-widgets/controls",
          "model_name": "DescriptionStyleModel",
          "model_module_version": "1.5.0",
          "state": {
            "_model_module": "@jupyter-widgets/controls",
            "_model_module_version": "1.5.0",
            "_model_name": "DescriptionStyleModel",
            "_view_count": null,
            "_view_module": "@jupyter-widgets/base",
            "_view_module_version": "1.2.0",
            "_view_name": "StyleView",
            "description_width": ""
          }
        },
        "98413d903d89438daefccb840f40125d": {
          "model_module": "@jupyter-widgets/controls",
          "model_name": "HBoxModel",
          "model_module_version": "1.5.0",
          "state": {
            "_dom_classes": [],
            "_model_module": "@jupyter-widgets/controls",
            "_model_module_version": "1.5.0",
            "_model_name": "HBoxModel",
            "_view_count": null,
            "_view_module": "@jupyter-widgets/controls",
            "_view_module_version": "1.5.0",
            "_view_name": "HBoxView",
            "box_style": "",
            "children": [
              "IPY_MODEL_2c37cb30f63143f4a3a833c017fe4466",
              "IPY_MODEL_48abae1340c84bc3a0017f9d7bd748f1",
              "IPY_MODEL_285cd945d2dc49398484ce0b2c2d684d"
            ],
            "layout": "IPY_MODEL_da7a8aa379ef456a834c445f9d96894e"
          }
        },
        "2c37cb30f63143f4a3a833c017fe4466": {
          "model_module": "@jupyter-widgets/controls",
          "model_name": "HTMLModel",
          "model_module_version": "1.5.0",
          "state": {
            "_dom_classes": [],
            "_model_module": "@jupyter-widgets/controls",
            "_model_module_version": "1.5.0",
            "_model_name": "HTMLModel",
            "_view_count": null,
            "_view_module": "@jupyter-widgets/controls",
            "_view_module_version": "1.5.0",
            "_view_name": "HTMLView",
            "description": "",
            "description_tooltip": null,
            "layout": "IPY_MODEL_fc5582866a7446aca7d36e82ffb596bb",
            "placeholder": "​",
            "style": "IPY_MODEL_19493013ac3c4893930cf250d77cbed8",
            "value": "100%"
          }
        },
        "48abae1340c84bc3a0017f9d7bd748f1": {
          "model_module": "@jupyter-widgets/controls",
          "model_name": "FloatProgressModel",
          "model_module_version": "1.5.0",
          "state": {
            "_dom_classes": [],
            "_model_module": "@jupyter-widgets/controls",
            "_model_module_version": "1.5.0",
            "_model_name": "FloatProgressModel",
            "_view_count": null,
            "_view_module": "@jupyter-widgets/controls",
            "_view_module_version": "1.5.0",
            "_view_name": "ProgressView",
            "bar_style": "success",
            "description": "",
            "description_tooltip": null,
            "layout": "IPY_MODEL_9c02010a045349da975de5f7b9f89319",
            "max": 398,
            "min": 0,
            "orientation": "horizontal",
            "style": "IPY_MODEL_a9ff006ae221427f89864a4520bf85e7",
            "value": 398
          }
        },
        "285cd945d2dc49398484ce0b2c2d684d": {
          "model_module": "@jupyter-widgets/controls",
          "model_name": "HTMLModel",
          "model_module_version": "1.5.0",
          "state": {
            "_dom_classes": [],
            "_model_module": "@jupyter-widgets/controls",
            "_model_module_version": "1.5.0",
            "_model_name": "HTMLModel",
            "_view_count": null,
            "_view_module": "@jupyter-widgets/controls",
            "_view_module_version": "1.5.0",
            "_view_name": "HTMLView",
            "description": "",
            "description_tooltip": null,
            "layout": "IPY_MODEL_82ebd60bbdcf416998e8e0a258c3d0f0",
            "placeholder": "​",
            "style": "IPY_MODEL_307c1b66a93948c1990bdd2cb49108de",
            "value": " 398/398 [00:00&lt;00:00, 875.57ex/s]"
          }
        },
        "da7a8aa379ef456a834c445f9d96894e": {
          "model_module": "@jupyter-widgets/base",
          "model_name": "LayoutModel",
          "model_module_version": "1.2.0",
          "state": {
            "_model_module": "@jupyter-widgets/base",
            "_model_module_version": "1.2.0",
            "_model_name": "LayoutModel",
            "_view_count": null,
            "_view_module": "@jupyter-widgets/base",
            "_view_module_version": "1.2.0",
            "_view_name": "LayoutView",
            "align_content": null,
            "align_items": null,
            "align_self": null,
            "border": null,
            "bottom": null,
            "display": null,
            "flex": null,
            "flex_flow": null,
            "grid_area": null,
            "grid_auto_columns": null,
            "grid_auto_flow": null,
            "grid_auto_rows": null,
            "grid_column": null,
            "grid_gap": null,
            "grid_row": null,
            "grid_template_areas": null,
            "grid_template_columns": null,
            "grid_template_rows": null,
            "height": null,
            "justify_content": null,
            "justify_items": null,
            "left": null,
            "margin": null,
            "max_height": null,
            "max_width": null,
            "min_height": null,
            "min_width": null,
            "object_fit": null,
            "object_position": null,
            "order": null,
            "overflow": null,
            "overflow_x": null,
            "overflow_y": null,
            "padding": null,
            "right": null,
            "top": null,
            "visibility": null,
            "width": null
          }
        },
        "fc5582866a7446aca7d36e82ffb596bb": {
          "model_module": "@jupyter-widgets/base",
          "model_name": "LayoutModel",
          "model_module_version": "1.2.0",
          "state": {
            "_model_module": "@jupyter-widgets/base",
            "_model_module_version": "1.2.0",
            "_model_name": "LayoutModel",
            "_view_count": null,
            "_view_module": "@jupyter-widgets/base",
            "_view_module_version": "1.2.0",
            "_view_name": "LayoutView",
            "align_content": null,
            "align_items": null,
            "align_self": null,
            "border": null,
            "bottom": null,
            "display": null,
            "flex": null,
            "flex_flow": null,
            "grid_area": null,
            "grid_auto_columns": null,
            "grid_auto_flow": null,
            "grid_auto_rows": null,
            "grid_column": null,
            "grid_gap": null,
            "grid_row": null,
            "grid_template_areas": null,
            "grid_template_columns": null,
            "grid_template_rows": null,
            "height": null,
            "justify_content": null,
            "justify_items": null,
            "left": null,
            "margin": null,
            "max_height": null,
            "max_width": null,
            "min_height": null,
            "min_width": null,
            "object_fit": null,
            "object_position": null,
            "order": null,
            "overflow": null,
            "overflow_x": null,
            "overflow_y": null,
            "padding": null,
            "right": null,
            "top": null,
            "visibility": null,
            "width": null
          }
        },
        "19493013ac3c4893930cf250d77cbed8": {
          "model_module": "@jupyter-widgets/controls",
          "model_name": "DescriptionStyleModel",
          "model_module_version": "1.5.0",
          "state": {
            "_model_module": "@jupyter-widgets/controls",
            "_model_module_version": "1.5.0",
            "_model_name": "DescriptionStyleModel",
            "_view_count": null,
            "_view_module": "@jupyter-widgets/base",
            "_view_module_version": "1.2.0",
            "_view_name": "StyleView",
            "description_width": ""
          }
        },
        "9c02010a045349da975de5f7b9f89319": {
          "model_module": "@jupyter-widgets/base",
          "model_name": "LayoutModel",
          "model_module_version": "1.2.0",
          "state": {
            "_model_module": "@jupyter-widgets/base",
            "_model_module_version": "1.2.0",
            "_model_name": "LayoutModel",
            "_view_count": null,
            "_view_module": "@jupyter-widgets/base",
            "_view_module_version": "1.2.0",
            "_view_name": "LayoutView",
            "align_content": null,
            "align_items": null,
            "align_self": null,
            "border": null,
            "bottom": null,
            "display": null,
            "flex": null,
            "flex_flow": null,
            "grid_area": null,
            "grid_auto_columns": null,
            "grid_auto_flow": null,
            "grid_auto_rows": null,
            "grid_column": null,
            "grid_gap": null,
            "grid_row": null,
            "grid_template_areas": null,
            "grid_template_columns": null,
            "grid_template_rows": null,
            "height": null,
            "justify_content": null,
            "justify_items": null,
            "left": null,
            "margin": null,
            "max_height": null,
            "max_width": null,
            "min_height": null,
            "min_width": null,
            "object_fit": null,
            "object_position": null,
            "order": null,
            "overflow": null,
            "overflow_x": null,
            "overflow_y": null,
            "padding": null,
            "right": null,
            "top": null,
            "visibility": null,
            "width": null
          }
        },
        "a9ff006ae221427f89864a4520bf85e7": {
          "model_module": "@jupyter-widgets/controls",
          "model_name": "ProgressStyleModel",
          "model_module_version": "1.5.0",
          "state": {
            "_model_module": "@jupyter-widgets/controls",
            "_model_module_version": "1.5.0",
            "_model_name": "ProgressStyleModel",
            "_view_count": null,
            "_view_module": "@jupyter-widgets/base",
            "_view_module_version": "1.2.0",
            "_view_name": "StyleView",
            "bar_color": null,
            "description_width": ""
          }
        },
        "82ebd60bbdcf416998e8e0a258c3d0f0": {
          "model_module": "@jupyter-widgets/base",
          "model_name": "LayoutModel",
          "model_module_version": "1.2.0",
          "state": {
            "_model_module": "@jupyter-widgets/base",
            "_model_module_version": "1.2.0",
            "_model_name": "LayoutModel",
            "_view_count": null,
            "_view_module": "@jupyter-widgets/base",
            "_view_module_version": "1.2.0",
            "_view_name": "LayoutView",
            "align_content": null,
            "align_items": null,
            "align_self": null,
            "border": null,
            "bottom": null,
            "display": null,
            "flex": null,
            "flex_flow": null,
            "grid_area": null,
            "grid_auto_columns": null,
            "grid_auto_flow": null,
            "grid_auto_rows": null,
            "grid_column": null,
            "grid_gap": null,
            "grid_row": null,
            "grid_template_areas": null,
            "grid_template_columns": null,
            "grid_template_rows": null,
            "height": null,
            "justify_content": null,
            "justify_items": null,
            "left": null,
            "margin": null,
            "max_height": null,
            "max_width": null,
            "min_height": null,
            "min_width": null,
            "object_fit": null,
            "object_position": null,
            "order": null,
            "overflow": null,
            "overflow_x": null,
            "overflow_y": null,
            "padding": null,
            "right": null,
            "top": null,
            "visibility": null,
            "width": null
          }
        },
        "307c1b66a93948c1990bdd2cb49108de": {
          "model_module": "@jupyter-widgets/controls",
          "model_name": "DescriptionStyleModel",
          "model_module_version": "1.5.0",
          "state": {
            "_model_module": "@jupyter-widgets/controls",
            "_model_module_version": "1.5.0",
            "_model_name": "DescriptionStyleModel",
            "_view_count": null,
            "_view_module": "@jupyter-widgets/base",
            "_view_module_version": "1.2.0",
            "_view_name": "StyleView",
            "description_width": ""
          }
        },
        "707388d0addd41a3a62d31dfbe98b1d2": {
          "model_module": "@jupyter-widgets/controls",
          "model_name": "HBoxModel",
          "model_module_version": "1.5.0",
          "state": {
            "_dom_classes": [],
            "_model_module": "@jupyter-widgets/controls",
            "_model_module_version": "1.5.0",
            "_model_name": "HBoxModel",
            "_view_count": null,
            "_view_module": "@jupyter-widgets/controls",
            "_view_module_version": "1.5.0",
            "_view_name": "HBoxView",
            "box_style": "",
            "children": [
              "IPY_MODEL_07341d36f04a40b1951f42f91f1bd3ba",
              "IPY_MODEL_afa99c8d32bd40c58da0f72871611a21",
              "IPY_MODEL_77dcb005e31145b3873d57792ecf98c7"
            ],
            "layout": "IPY_MODEL_92cddc2d3fd542b5b35bbbf1c3343746"
          }
        },
        "07341d36f04a40b1951f42f91f1bd3ba": {
          "model_module": "@jupyter-widgets/controls",
          "model_name": "HTMLModel",
          "model_module_version": "1.5.0",
          "state": {
            "_dom_classes": [],
            "_model_module": "@jupyter-widgets/controls",
            "_model_module_version": "1.5.0",
            "_model_name": "HTMLModel",
            "_view_count": null,
            "_view_module": "@jupyter-widgets/controls",
            "_view_module_version": "1.5.0",
            "_view_name": "HTMLView",
            "description": "",
            "description_tooltip": null,
            "layout": "IPY_MODEL_5f09323188d64b948304946b24d4f844",
            "placeholder": "​",
            "style": "IPY_MODEL_f2d8b8ef13f443b6a94c0b7e1b202791",
            "value": "100%"
          }
        },
        "afa99c8d32bd40c58da0f72871611a21": {
          "model_module": "@jupyter-widgets/controls",
          "model_name": "FloatProgressModel",
          "model_module_version": "1.5.0",
          "state": {
            "_dom_classes": [],
            "_model_module": "@jupyter-widgets/controls",
            "_model_module_version": "1.5.0",
            "_model_name": "FloatProgressModel",
            "_view_count": null,
            "_view_module": "@jupyter-widgets/controls",
            "_view_module_version": "1.5.0",
            "_view_name": "ProgressView",
            "bar_style": "success",
            "description": "",
            "description_tooltip": null,
            "layout": "IPY_MODEL_9c567914955e4067b9aceed884e89a7b",
            "max": 332,
            "min": 0,
            "orientation": "horizontal",
            "style": "IPY_MODEL_e38d98aab3964bfdac519535037ff5b4",
            "value": 332
          }
        },
        "77dcb005e31145b3873d57792ecf98c7": {
          "model_module": "@jupyter-widgets/controls",
          "model_name": "HTMLModel",
          "model_module_version": "1.5.0",
          "state": {
            "_dom_classes": [],
            "_model_module": "@jupyter-widgets/controls",
            "_model_module_version": "1.5.0",
            "_model_name": "HTMLModel",
            "_view_count": null,
            "_view_module": "@jupyter-widgets/controls",
            "_view_module_version": "1.5.0",
            "_view_name": "HTMLView",
            "description": "",
            "description_tooltip": null,
            "layout": "IPY_MODEL_eced651186114120ac1130f2bb8207a4",
            "placeholder": "​",
            "style": "IPY_MODEL_fe99257b4f184c11be2ee2b7ad327e08",
            "value": " 332/332 [00:00&lt;00:00, 1172.06ex/s]"
          }
        },
        "92cddc2d3fd542b5b35bbbf1c3343746": {
          "model_module": "@jupyter-widgets/base",
          "model_name": "LayoutModel",
          "model_module_version": "1.2.0",
          "state": {
            "_model_module": "@jupyter-widgets/base",
            "_model_module_version": "1.2.0",
            "_model_name": "LayoutModel",
            "_view_count": null,
            "_view_module": "@jupyter-widgets/base",
            "_view_module_version": "1.2.0",
            "_view_name": "LayoutView",
            "align_content": null,
            "align_items": null,
            "align_self": null,
            "border": null,
            "bottom": null,
            "display": null,
            "flex": null,
            "flex_flow": null,
            "grid_area": null,
            "grid_auto_columns": null,
            "grid_auto_flow": null,
            "grid_auto_rows": null,
            "grid_column": null,
            "grid_gap": null,
            "grid_row": null,
            "grid_template_areas": null,
            "grid_template_columns": null,
            "grid_template_rows": null,
            "height": null,
            "justify_content": null,
            "justify_items": null,
            "left": null,
            "margin": null,
            "max_height": null,
            "max_width": null,
            "min_height": null,
            "min_width": null,
            "object_fit": null,
            "object_position": null,
            "order": null,
            "overflow": null,
            "overflow_x": null,
            "overflow_y": null,
            "padding": null,
            "right": null,
            "top": null,
            "visibility": null,
            "width": null
          }
        },
        "5f09323188d64b948304946b24d4f844": {
          "model_module": "@jupyter-widgets/base",
          "model_name": "LayoutModel",
          "model_module_version": "1.2.0",
          "state": {
            "_model_module": "@jupyter-widgets/base",
            "_model_module_version": "1.2.0",
            "_model_name": "LayoutModel",
            "_view_count": null,
            "_view_module": "@jupyter-widgets/base",
            "_view_module_version": "1.2.0",
            "_view_name": "LayoutView",
            "align_content": null,
            "align_items": null,
            "align_self": null,
            "border": null,
            "bottom": null,
            "display": null,
            "flex": null,
            "flex_flow": null,
            "grid_area": null,
            "grid_auto_columns": null,
            "grid_auto_flow": null,
            "grid_auto_rows": null,
            "grid_column": null,
            "grid_gap": null,
            "grid_row": null,
            "grid_template_areas": null,
            "grid_template_columns": null,
            "grid_template_rows": null,
            "height": null,
            "justify_content": null,
            "justify_items": null,
            "left": null,
            "margin": null,
            "max_height": null,
            "max_width": null,
            "min_height": null,
            "min_width": null,
            "object_fit": null,
            "object_position": null,
            "order": null,
            "overflow": null,
            "overflow_x": null,
            "overflow_y": null,
            "padding": null,
            "right": null,
            "top": null,
            "visibility": null,
            "width": null
          }
        },
        "f2d8b8ef13f443b6a94c0b7e1b202791": {
          "model_module": "@jupyter-widgets/controls",
          "model_name": "DescriptionStyleModel",
          "model_module_version": "1.5.0",
          "state": {
            "_model_module": "@jupyter-widgets/controls",
            "_model_module_version": "1.5.0",
            "_model_name": "DescriptionStyleModel",
            "_view_count": null,
            "_view_module": "@jupyter-widgets/base",
            "_view_module_version": "1.2.0",
            "_view_name": "StyleView",
            "description_width": ""
          }
        },
        "9c567914955e4067b9aceed884e89a7b": {
          "model_module": "@jupyter-widgets/base",
          "model_name": "LayoutModel",
          "model_module_version": "1.2.0",
          "state": {
            "_model_module": "@jupyter-widgets/base",
            "_model_module_version": "1.2.0",
            "_model_name": "LayoutModel",
            "_view_count": null,
            "_view_module": "@jupyter-widgets/base",
            "_view_module_version": "1.2.0",
            "_view_name": "LayoutView",
            "align_content": null,
            "align_items": null,
            "align_self": null,
            "border": null,
            "bottom": null,
            "display": null,
            "flex": null,
            "flex_flow": null,
            "grid_area": null,
            "grid_auto_columns": null,
            "grid_auto_flow": null,
            "grid_auto_rows": null,
            "grid_column": null,
            "grid_gap": null,
            "grid_row": null,
            "grid_template_areas": null,
            "grid_template_columns": null,
            "grid_template_rows": null,
            "height": null,
            "justify_content": null,
            "justify_items": null,
            "left": null,
            "margin": null,
            "max_height": null,
            "max_width": null,
            "min_height": null,
            "min_width": null,
            "object_fit": null,
            "object_position": null,
            "order": null,
            "overflow": null,
            "overflow_x": null,
            "overflow_y": null,
            "padding": null,
            "right": null,
            "top": null,
            "visibility": null,
            "width": null
          }
        },
        "e38d98aab3964bfdac519535037ff5b4": {
          "model_module": "@jupyter-widgets/controls",
          "model_name": "ProgressStyleModel",
          "model_module_version": "1.5.0",
          "state": {
            "_model_module": "@jupyter-widgets/controls",
            "_model_module_version": "1.5.0",
            "_model_name": "ProgressStyleModel",
            "_view_count": null,
            "_view_module": "@jupyter-widgets/base",
            "_view_module_version": "1.2.0",
            "_view_name": "StyleView",
            "bar_color": null,
            "description_width": ""
          }
        },
        "eced651186114120ac1130f2bb8207a4": {
          "model_module": "@jupyter-widgets/base",
          "model_name": "LayoutModel",
          "model_module_version": "1.2.0",
          "state": {
            "_model_module": "@jupyter-widgets/base",
            "_model_module_version": "1.2.0",
            "_model_name": "LayoutModel",
            "_view_count": null,
            "_view_module": "@jupyter-widgets/base",
            "_view_module_version": "1.2.0",
            "_view_name": "LayoutView",
            "align_content": null,
            "align_items": null,
            "align_self": null,
            "border": null,
            "bottom": null,
            "display": null,
            "flex": null,
            "flex_flow": null,
            "grid_area": null,
            "grid_auto_columns": null,
            "grid_auto_flow": null,
            "grid_auto_rows": null,
            "grid_column": null,
            "grid_gap": null,
            "grid_row": null,
            "grid_template_areas": null,
            "grid_template_columns": null,
            "grid_template_rows": null,
            "height": null,
            "justify_content": null,
            "justify_items": null,
            "left": null,
            "margin": null,
            "max_height": null,
            "max_width": null,
            "min_height": null,
            "min_width": null,
            "object_fit": null,
            "object_position": null,
            "order": null,
            "overflow": null,
            "overflow_x": null,
            "overflow_y": null,
            "padding": null,
            "right": null,
            "top": null,
            "visibility": null,
            "width": null
          }
        },
        "fe99257b4f184c11be2ee2b7ad327e08": {
          "model_module": "@jupyter-widgets/controls",
          "model_name": "DescriptionStyleModel",
          "model_module_version": "1.5.0",
          "state": {
            "_model_module": "@jupyter-widgets/controls",
            "_model_module_version": "1.5.0",
            "_model_name": "DescriptionStyleModel",
            "_view_count": null,
            "_view_module": "@jupyter-widgets/base",
            "_view_module_version": "1.2.0",
            "_view_name": "StyleView",
            "description_width": ""
          }
        }
      }
    }
  },
  "nbformat": 4,
  "nbformat_minor": 5
}